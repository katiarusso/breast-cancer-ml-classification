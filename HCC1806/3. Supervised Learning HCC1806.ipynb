{
 "cells": [
  {
   "cell_type": "markdown",
   "id": "83df3e41",
   "metadata": {},
   "source": [
    "# **Supervised Learning**\n",
    "\n",
    "---"
   ]
  },
  {
   "cell_type": "markdown",
   "id": "bac7eaa5",
   "metadata": {},
   "source": [
    "This notebook implements the full supervised learning pipeline for the **HCC1806 cell line**. The aim is to build high-performance binary classifiers that predict the oxygenation condition (normoxia vs hypoxia) of each cell based on gene expression."
   ]
  },
  {
   "cell_type": "markdown",
   "id": "eb2e5500",
   "metadata": {},
   "source": [
    "\n",
    "For each combination of cell line and technology, we:\n",
    "\n",
    "- Align metadata and create binary labels from the known condition\n",
    "- Standardize the expression values (scaling)\n",
    "- Perform different feature selection strategies tailored to each technology and compare model performance\n",
    "- Save the best models for test prediction"
   ]
  },
  {
   "cell_type": "markdown",
   "id": "6ee987ee",
   "metadata": {},
   "source": [
    "> We now work with the instructor-provided **filtered and normalized training datasets**. "
   ]
  },
  {
   "cell_type": "markdown",
   "id": "ef68eb25",
   "metadata": {},
   "source": [
    "> Each step is repeated for both **Smart-seq** and **Drop-seq** datasets, maintaining the same methodology for consistent comparison and integration."
   ]
  },
  {
   "cell_type": "markdown",
   "id": "3c675b1b",
   "metadata": {},
   "source": [
    "## Index\n",
    "\n",
    "1. [Load Datasets](#1-load-datasets)  \n",
    "2. [Align Labels](#2-align-labels)\n",
    "3. [Preprocessing](#3-preprocessing) \n",
    "4. [Feature Selection](#4-feature-selection)  \n",
    "   - [4.1 SmartSeq](#41-smartseq)\n",
    "      - [4.1.1 Elastic Net Logistic Regression](#411-elastic-net-logistic-regression)  \n",
    "      - [4.1.2 Random Forest Importance](#412-random-forest-importance)  \n",
    "      - [4.1.3 Stability Across Seeds](#413-stability-across-seeds)\n",
    "   - [4.2 DropSeq](#42-dropseq)\n",
    "      - [4.2.1 Elastic Net Logistic Regression](#421-elastic-net-logistic-regression) \n",
    "      - [4.2.2 Random Forest Importance](#422-random-forest-importance)  \n",
    "      - [4.2.3 Stability Across Seeds](#423-stability-across-seeds)\n",
    "5. [Biological Enrichment](#5-biological-enrichment)\n",
    "   - [5.1 SmartSeq](#51-smartseq)\n",
    "      - [5.1.1 Over-Representation Analysis (ORA)](#511-over---representation-analysis-ora)\n",
    "      - [5.1.2 Comparison with Buffa's signature](#512-comparison-with-Buffas-signature)\n",
    "      - [5.1.3 Expression Patterns of Top Stable Genes](#513-expression-patterns-of-top-stable-genes)\n",
    "   - [5.2 DropSeq](#52-dropseq)\n",
    "      - [5.2.1 Over-Representation Analysis](#521-over---representation-analysis)\n",
    "      - [5.2.2 Comparison with Buffa's signature](#522-comparison-with-Buffas-signature)\n",
    "      - [5.2.3 Expression Patterns of Top Stable Genes](#523-expression-patterns-of-top-stable-genes)\n",
    "6. [Model Training and Evaluation](#6-model-training-and-evaluation) \n"
   ]
  },
  {
   "cell_type": "code",
   "execution_count": 1,
   "id": "dc070b07",
   "metadata": {},
   "outputs": [],
   "source": [
    "import os\n",
    "import sys\n",
    "import sklearn\n",
    "import pandas as pd\n",
    "import numpy as np\n",
    "import matplotlib.pyplot as plt\n",
    "import seaborn as sns\n",
    "import umap\n",
    "import pickle\n",
    "import joblib\n",
    "from scipy.stats import skew, kurtosis, mannwhitneyu\n",
    "from sklearn.preprocessing import StandardScaler\n",
    "from sklearn.model_selection import train_test_split, StratifiedKFold, cross_val_predict\n",
    "from sklearn.linear_model import LogisticRegressionCV, LogisticRegression\n",
    "from sklearn.feature_selection import SelectFromModel\n",
    "from sklearn.ensemble import RandomForestClassifier\n",
    "import gseapy as gp\n",
    "from gseapy.plot import barplot, dotplot\n",
    "from sklearn.svm import SVC\n",
    "from sklearn.neural_network import MLPClassifier\n",
    "from sklearn.metrics import (roc_auc_score, f1_score, accuracy_score, precision_score, recall_score, confusion_matrix, roc_curve)\n",
    "from sklearn.pipeline import Pipeline\n",
    "from sklearn.neighbors import KNeighborsClassifier\n",
    "from xgboost import XGBClassifier\n",
    "from sklearn.model_selection import GridSearchCV\n",
    "from collections import defaultdict\n",
    "from collections import Counter\n",
    "from sklearn.utils import shuffle\n",
    "from sklearn.feature_selection import SelectKBest, mutual_info_classif\n",
    "from matplotlib_venn import venn2\n",
    "from pathlib import Path"
   ]
  },
  {
   "cell_type": "markdown",
   "id": "536cc70d",
   "metadata": {},
   "source": [
    "## **1.** Load Datasets\n",
    "\n",
    "---"
   ]
  },
  {
   "cell_type": "markdown",
   "id": "376d50d9",
   "metadata": {},
   "source": [
    "### ***SmartSeq***"
   ]
  },
  {
   "cell_type": "markdown",
   "id": "4611e63f",
   "metadata": {},
   "source": [
    "We are going to transpose the dataset so that it matches sklearn’s expected input format (n_samples × n_features)."
   ]
  },
  {
   "cell_type": "code",
   "execution_count": 2,
   "id": "2d7bdad2",
   "metadata": {},
   "outputs": [
    {
     "data": {
      "text/html": [
       "<div>\n",
       "<style scoped>\n",
       "    .dataframe tbody tr th:only-of-type {\n",
       "        vertical-align: middle;\n",
       "    }\n",
       "\n",
       "    .dataframe tbody tr th {\n",
       "        vertical-align: top;\n",
       "    }\n",
       "\n",
       "    .dataframe thead th {\n",
       "        text-align: right;\n",
       "    }\n",
       "</style>\n",
       "<table border=\"1\" class=\"dataframe\">\n",
       "  <thead>\n",
       "    <tr style=\"text-align: right;\">\n",
       "      <th></th>\n",
       "      <th>DDIT4</th>\n",
       "      <th>ANGPTL4</th>\n",
       "      <th>CALML5</th>\n",
       "      <th>KRT14</th>\n",
       "      <th>CCNB1</th>\n",
       "      <th>IGFBP3</th>\n",
       "      <th>AKR1C2</th>\n",
       "      <th>KRT6A</th>\n",
       "      <th>NDRG1</th>\n",
       "      <th>KRT4</th>\n",
       "      <th>...</th>\n",
       "      <th>MST1R</th>\n",
       "      <th>ZYG11A</th>\n",
       "      <th>NRG1</th>\n",
       "      <th>RBMS3</th>\n",
       "      <th>VCPIP1</th>\n",
       "      <th>LINC02693</th>\n",
       "      <th>OR8B9P</th>\n",
       "      <th>NEAT1</th>\n",
       "      <th>ZDHHC23</th>\n",
       "      <th>ODAD2</th>\n",
       "    </tr>\n",
       "  </thead>\n",
       "  <tbody>\n",
       "    <tr>\n",
       "      <th>output.STAR.PCRPlate1G12_Normoxia_S32_Aligned.sortedByCoord.out.bam</th>\n",
       "      <td>0</td>\n",
       "      <td>48</td>\n",
       "      <td>0</td>\n",
       "      <td>321</td>\n",
       "      <td>298</td>\n",
       "      <td>82</td>\n",
       "      <td>6250</td>\n",
       "      <td>634</td>\n",
       "      <td>0</td>\n",
       "      <td>0</td>\n",
       "      <td>...</td>\n",
       "      <td>78</td>\n",
       "      <td>10</td>\n",
       "      <td>136</td>\n",
       "      <td>0</td>\n",
       "      <td>0</td>\n",
       "      <td>29</td>\n",
       "      <td>0</td>\n",
       "      <td>29</td>\n",
       "      <td>0</td>\n",
       "      <td>0</td>\n",
       "    </tr>\n",
       "    <tr>\n",
       "      <th>output.STAR.PCRPlate1G1_Hypoxia_S102_Aligned.sortedByCoord.out.bam</th>\n",
       "      <td>8739</td>\n",
       "      <td>2101</td>\n",
       "      <td>55</td>\n",
       "      <td>96</td>\n",
       "      <td>1824</td>\n",
       "      <td>1938</td>\n",
       "      <td>62</td>\n",
       "      <td>0</td>\n",
       "      <td>522</td>\n",
       "      <td>413</td>\n",
       "      <td>...</td>\n",
       "      <td>279</td>\n",
       "      <td>0</td>\n",
       "      <td>264</td>\n",
       "      <td>0</td>\n",
       "      <td>134</td>\n",
       "      <td>68</td>\n",
       "      <td>0</td>\n",
       "      <td>213</td>\n",
       "      <td>0</td>\n",
       "      <td>0</td>\n",
       "    </tr>\n",
       "    <tr>\n",
       "      <th>output.STAR.PCRPlate1G2_Hypoxia_S2_Aligned.sortedByCoord.out.bam</th>\n",
       "      <td>13098</td>\n",
       "      <td>14032</td>\n",
       "      <td>0</td>\n",
       "      <td>0</td>\n",
       "      <td>1616</td>\n",
       "      <td>247</td>\n",
       "      <td>430</td>\n",
       "      <td>907</td>\n",
       "      <td>348</td>\n",
       "      <td>0</td>\n",
       "      <td>...</td>\n",
       "      <td>311</td>\n",
       "      <td>0</td>\n",
       "      <td>38</td>\n",
       "      <td>0</td>\n",
       "      <td>0</td>\n",
       "      <td>0</td>\n",
       "      <td>0</td>\n",
       "      <td>92</td>\n",
       "      <td>0</td>\n",
       "      <td>0</td>\n",
       "    </tr>\n",
       "    <tr>\n",
       "      <th>output.STAR.PCRPlate1G3_Hypoxia_S7_Aligned.sortedByCoord.out.bam</th>\n",
       "      <td>2880</td>\n",
       "      <td>356</td>\n",
       "      <td>0</td>\n",
       "      <td>6211</td>\n",
       "      <td>3</td>\n",
       "      <td>3430</td>\n",
       "      <td>79</td>\n",
       "      <td>1953</td>\n",
       "      <td>592</td>\n",
       "      <td>176</td>\n",
       "      <td>...</td>\n",
       "      <td>125</td>\n",
       "      <td>0</td>\n",
       "      <td>16</td>\n",
       "      <td>0</td>\n",
       "      <td>4</td>\n",
       "      <td>1</td>\n",
       "      <td>0</td>\n",
       "      <td>1</td>\n",
       "      <td>0</td>\n",
       "      <td>0</td>\n",
       "    </tr>\n",
       "    <tr>\n",
       "      <th>output.STAR.PCRPlate1G4_Hypoxia_S107_Aligned.sortedByCoord.out.bam</th>\n",
       "      <td>7777</td>\n",
       "      <td>5661</td>\n",
       "      <td>4383</td>\n",
       "      <td>0</td>\n",
       "      <td>145</td>\n",
       "      <td>4618</td>\n",
       "      <td>246</td>\n",
       "      <td>85</td>\n",
       "      <td>206</td>\n",
       "      <td>0</td>\n",
       "      <td>...</td>\n",
       "      <td>268</td>\n",
       "      <td>1</td>\n",
       "      <td>25</td>\n",
       "      <td>0</td>\n",
       "      <td>0</td>\n",
       "      <td>0</td>\n",
       "      <td>0</td>\n",
       "      <td>128</td>\n",
       "      <td>0</td>\n",
       "      <td>0</td>\n",
       "    </tr>\n",
       "  </tbody>\n",
       "</table>\n",
       "<p>5 rows × 3000 columns</p>\n",
       "</div>"
      ],
      "text/plain": [
       "                                                    DDIT4  ANGPTL4  CALML5  \\\n",
       "output.STAR.PCRPlate1G12_Normoxia_S32_Aligned.s...      0       48       0   \n",
       "output.STAR.PCRPlate1G1_Hypoxia_S102_Aligned.so...   8739     2101      55   \n",
       "output.STAR.PCRPlate1G2_Hypoxia_S2_Aligned.sort...  13098    14032       0   \n",
       "output.STAR.PCRPlate1G3_Hypoxia_S7_Aligned.sort...   2880      356       0   \n",
       "output.STAR.PCRPlate1G4_Hypoxia_S107_Aligned.so...   7777     5661    4383   \n",
       "\n",
       "                                                    KRT14  CCNB1  IGFBP3  \\\n",
       "output.STAR.PCRPlate1G12_Normoxia_S32_Aligned.s...    321    298      82   \n",
       "output.STAR.PCRPlate1G1_Hypoxia_S102_Aligned.so...     96   1824    1938   \n",
       "output.STAR.PCRPlate1G2_Hypoxia_S2_Aligned.sort...      0   1616     247   \n",
       "output.STAR.PCRPlate1G3_Hypoxia_S7_Aligned.sort...   6211      3    3430   \n",
       "output.STAR.PCRPlate1G4_Hypoxia_S107_Aligned.so...      0    145    4618   \n",
       "\n",
       "                                                    AKR1C2  KRT6A  NDRG1  \\\n",
       "output.STAR.PCRPlate1G12_Normoxia_S32_Aligned.s...    6250    634      0   \n",
       "output.STAR.PCRPlate1G1_Hypoxia_S102_Aligned.so...      62      0    522   \n",
       "output.STAR.PCRPlate1G2_Hypoxia_S2_Aligned.sort...     430    907    348   \n",
       "output.STAR.PCRPlate1G3_Hypoxia_S7_Aligned.sort...      79   1953    592   \n",
       "output.STAR.PCRPlate1G4_Hypoxia_S107_Aligned.so...     246     85    206   \n",
       "\n",
       "                                                    KRT4  ...  MST1R  ZYG11A  \\\n",
       "output.STAR.PCRPlate1G12_Normoxia_S32_Aligned.s...     0  ...     78      10   \n",
       "output.STAR.PCRPlate1G1_Hypoxia_S102_Aligned.so...   413  ...    279       0   \n",
       "output.STAR.PCRPlate1G2_Hypoxia_S2_Aligned.sort...     0  ...    311       0   \n",
       "output.STAR.PCRPlate1G3_Hypoxia_S7_Aligned.sort...   176  ...    125       0   \n",
       "output.STAR.PCRPlate1G4_Hypoxia_S107_Aligned.so...     0  ...    268       1   \n",
       "\n",
       "                                                    NRG1  RBMS3  VCPIP1  \\\n",
       "output.STAR.PCRPlate1G12_Normoxia_S32_Aligned.s...   136      0       0   \n",
       "output.STAR.PCRPlate1G1_Hypoxia_S102_Aligned.so...   264      0     134   \n",
       "output.STAR.PCRPlate1G2_Hypoxia_S2_Aligned.sort...    38      0       0   \n",
       "output.STAR.PCRPlate1G3_Hypoxia_S7_Aligned.sort...    16      0       4   \n",
       "output.STAR.PCRPlate1G4_Hypoxia_S107_Aligned.so...    25      0       0   \n",
       "\n",
       "                                                    LINC02693  OR8B9P  NEAT1  \\\n",
       "output.STAR.PCRPlate1G12_Normoxia_S32_Aligned.s...         29       0     29   \n",
       "output.STAR.PCRPlate1G1_Hypoxia_S102_Aligned.so...         68       0    213   \n",
       "output.STAR.PCRPlate1G2_Hypoxia_S2_Aligned.sort...          0       0     92   \n",
       "output.STAR.PCRPlate1G3_Hypoxia_S7_Aligned.sort...          1       0      1   \n",
       "output.STAR.PCRPlate1G4_Hypoxia_S107_Aligned.so...          0       0    128   \n",
       "\n",
       "                                                    ZDHHC23  ODAD2  \n",
       "output.STAR.PCRPlate1G12_Normoxia_S32_Aligned.s...        0      0  \n",
       "output.STAR.PCRPlate1G1_Hypoxia_S102_Aligned.so...        0      0  \n",
       "output.STAR.PCRPlate1G2_Hypoxia_S2_Aligned.sort...        0      0  \n",
       "output.STAR.PCRPlate1G3_Hypoxia_S7_Aligned.sort...        0      0  \n",
       "output.STAR.PCRPlate1G4_Hypoxia_S107_Aligned.so...        0      0  \n",
       "\n",
       "[5 rows x 3000 columns]"
      ]
     },
     "execution_count": 2,
     "metadata": {},
     "output_type": "execute_result"
    }
   ],
   "source": [
    "hcc_meta = pd.read_csv(\"../Data/SmartSeq/HCC1806_SmartS_MetaData.tsv\", sep=\"\\t\", engine= \"python\", index_col=0)\n",
    "dfs_hcc_train = pd.read_csv(\"../Data/SmartSeq/HCC1806_SmartS_Filtered_Normalised_3000_Data_train.txt\", sep=r\"\\s+\", engine= \"python\", index_col=0).rename(index=lambda x: x.strip('\"')).rename(columns=lambda x: x.strip('\"')).T\n",
    "dfs_hcc_train.head()"
   ]
  },
  {
   "cell_type": "code",
   "execution_count": 3,
   "id": "036818de",
   "metadata": {},
   "outputs": [
    {
     "name": "stdout",
     "output_type": "stream",
     "text": [
      "DDIT4        0\n",
      "ANGPTL4      0\n",
      "CALML5       0\n",
      "KRT14        0\n",
      "CCNB1        0\n",
      "            ..\n",
      "LINC02693    0\n",
      "OR8B9P       0\n",
      "NEAT1        0\n",
      "ZDHHC23      0\n",
      "ODAD2        0\n",
      "Length: 3000, dtype: int64\n"
     ]
    }
   ],
   "source": [
    "print(dfs_hcc_train.isnull().sum())"
   ]
  },
  {
   "cell_type": "code",
   "execution_count": 4,
   "id": "15405ae1",
   "metadata": {},
   "outputs": [
    {
     "name": "stdout",
     "output_type": "stream",
     "text": [
      "<class 'pandas.core.frame.DataFrame'>\n",
      "Index: 182 entries, output.STAR.PCRPlate1G12_Normoxia_S32_Aligned.sortedByCoord.out.bam to output.STAR.PCRPlate4H9_Normoxia_S236_Aligned.sortedByCoord.out.bam\n",
      "Columns: 3000 entries, DDIT4 to ODAD2\n",
      "dtypes: int64(3000)\n",
      "memory usage: 4.2+ MB\n"
     ]
    }
   ],
   "source": [
    "dfs_hcc_train.info()"
   ]
  },
  {
   "cell_type": "markdown",
   "id": "d7f07955",
   "metadata": {},
   "source": [
    "#### - *Check Duplicates*"
   ]
  },
  {
   "cell_type": "code",
   "execution_count": 5,
   "id": "52659648",
   "metadata": {},
   "outputs": [],
   "source": [
    "def find_duplicates(dataframe):\n",
    "    dupes = []\n",
    "    columns = dataframe.columns\n",
    "    for i in range(len(columns)):\n",
    "        for j in range(i + 1, len(columns)):\n",
    "            if dataframe[columns[i]].equals(dataframe[columns[j]]):\n",
    "                dupes.append((columns[i], columns[j]))\n",
    "    return dupes"
   ]
  },
  {
   "cell_type": "code",
   "execution_count": 70,
   "id": "35af3606",
   "metadata": {},
   "outputs": [
    {
     "name": "stdout",
     "output_type": "stream",
     "text": [
      "Duplicated genes (identical content):\n",
      "None found\n"
     ]
    }
   ],
   "source": [
    "duplicate_genes = find_duplicates(dfs_hcc_train)\n",
    "print(\"Duplicated genes (identical content):\")\n",
    "print(duplicate_genes if duplicate_genes else \"None found\")"
   ]
  },
  {
   "cell_type": "code",
   "execution_count": 7,
   "id": "0f6663ec",
   "metadata": {},
   "outputs": [
    {
     "name": "stdout",
     "output_type": "stream",
     "text": [
      "Duplicated cells (identical content):\n",
      "None found\n"
     ]
    }
   ],
   "source": [
    "duplicate_cells = find_duplicates(dfs_hcc_train.T)\n",
    "print(\"Duplicated cells (identical content):\")\n",
    "print(duplicate_cells if duplicate_cells else \"None found\")"
   ]
  },
  {
   "cell_type": "code",
   "execution_count": 8,
   "id": "4ff01ac8",
   "metadata": {},
   "outputs": [],
   "source": [
    "dfs_hcc_train = dfs_hcc_train.drop(\"MIR374C\", axis=1)"
   ]
  },
  {
   "cell_type": "markdown",
   "id": "30147f37",
   "metadata": {},
   "source": [
    "#### - *Check Distribution*"
   ]
  },
  {
   "cell_type": "code",
   "execution_count": 9,
   "id": "1ab0acc2",
   "metadata": {},
   "outputs": [
    {
     "name": "stdout",
     "output_type": "stream",
     "text": [
      "Summary statistics:\n"
     ]
    },
    {
     "data": {
      "text/html": [
       "<div>\n",
       "<style scoped>\n",
       "    .dataframe tbody tr th:only-of-type {\n",
       "        vertical-align: middle;\n",
       "    }\n",
       "\n",
       "    .dataframe tbody tr th {\n",
       "        vertical-align: top;\n",
       "    }\n",
       "\n",
       "    .dataframe thead th {\n",
       "        text-align: right;\n",
       "    }\n",
       "</style>\n",
       "<table border=\"1\" class=\"dataframe\">\n",
       "  <thead>\n",
       "    <tr style=\"text-align: right;\">\n",
       "      <th></th>\n",
       "      <th>DDIT4</th>\n",
       "      <th>ANGPTL4</th>\n",
       "      <th>CALML5</th>\n",
       "      <th>KRT14</th>\n",
       "      <th>CCNB1</th>\n",
       "      <th>IGFBP3</th>\n",
       "      <th>AKR1C2</th>\n",
       "      <th>KRT6A</th>\n",
       "      <th>NDRG1</th>\n",
       "      <th>KRT4</th>\n",
       "      <th>...</th>\n",
       "      <th>MST1R</th>\n",
       "      <th>ZYG11A</th>\n",
       "      <th>NRG1</th>\n",
       "      <th>RBMS3</th>\n",
       "      <th>VCPIP1</th>\n",
       "      <th>LINC02693</th>\n",
       "      <th>OR8B9P</th>\n",
       "      <th>NEAT1</th>\n",
       "      <th>ZDHHC23</th>\n",
       "      <th>ODAD2</th>\n",
       "    </tr>\n",
       "  </thead>\n",
       "  <tbody>\n",
       "    <tr>\n",
       "      <th>count</th>\n",
       "      <td>182.000000</td>\n",
       "      <td>182.000000</td>\n",
       "      <td>182.000000</td>\n",
       "      <td>182.000000</td>\n",
       "      <td>182.000000</td>\n",
       "      <td>182.00000</td>\n",
       "      <td>182.000000</td>\n",
       "      <td>182.000000</td>\n",
       "      <td>182.000000</td>\n",
       "      <td>182.000000</td>\n",
       "      <td>...</td>\n",
       "      <td>182.000000</td>\n",
       "      <td>182.000000</td>\n",
       "      <td>182.000000</td>\n",
       "      <td>182.000000</td>\n",
       "      <td>182.000000</td>\n",
       "      <td>182.000000</td>\n",
       "      <td>182.000000</td>\n",
       "      <td>182.000000</td>\n",
       "      <td>182.000000</td>\n",
       "      <td>182.000000</td>\n",
       "    </tr>\n",
       "    <tr>\n",
       "      <th>mean</th>\n",
       "      <td>4038.736264</td>\n",
       "      <td>1227.164835</td>\n",
       "      <td>398.175824</td>\n",
       "      <td>921.307692</td>\n",
       "      <td>867.087912</td>\n",
       "      <td>1271.28022</td>\n",
       "      <td>1407.873626</td>\n",
       "      <td>1729.543956</td>\n",
       "      <td>457.895604</td>\n",
       "      <td>396.637363</td>\n",
       "      <td>...</td>\n",
       "      <td>123.302198</td>\n",
       "      <td>4.291209</td>\n",
       "      <td>138.868132</td>\n",
       "      <td>7.192308</td>\n",
       "      <td>56.675824</td>\n",
       "      <td>57.098901</td>\n",
       "      <td>0.153846</td>\n",
       "      <td>102.076923</td>\n",
       "      <td>12.236264</td>\n",
       "      <td>2.175824</td>\n",
       "    </tr>\n",
       "    <tr>\n",
       "      <th>std</th>\n",
       "      <td>4165.241080</td>\n",
       "      <td>1949.430648</td>\n",
       "      <td>886.985647</td>\n",
       "      <td>2387.091444</td>\n",
       "      <td>1268.359981</td>\n",
       "      <td>2810.10746</td>\n",
       "      <td>2582.400094</td>\n",
       "      <td>3709.250440</td>\n",
       "      <td>627.115448</td>\n",
       "      <td>1541.330938</td>\n",
       "      <td>...</td>\n",
       "      <td>119.297816</td>\n",
       "      <td>11.790896</td>\n",
       "      <td>147.116950</td>\n",
       "      <td>21.864761</td>\n",
       "      <td>123.906663</td>\n",
       "      <td>86.519829</td>\n",
       "      <td>1.060835</td>\n",
       "      <td>140.866555</td>\n",
       "      <td>28.353222</td>\n",
       "      <td>8.754596</td>\n",
       "    </tr>\n",
       "    <tr>\n",
       "      <th>min</th>\n",
       "      <td>0.000000</td>\n",
       "      <td>0.000000</td>\n",
       "      <td>0.000000</td>\n",
       "      <td>0.000000</td>\n",
       "      <td>0.000000</td>\n",
       "      <td>0.00000</td>\n",
       "      <td>0.000000</td>\n",
       "      <td>0.000000</td>\n",
       "      <td>0.000000</td>\n",
       "      <td>0.000000</td>\n",
       "      <td>...</td>\n",
       "      <td>0.000000</td>\n",
       "      <td>0.000000</td>\n",
       "      <td>0.000000</td>\n",
       "      <td>0.000000</td>\n",
       "      <td>0.000000</td>\n",
       "      <td>0.000000</td>\n",
       "      <td>0.000000</td>\n",
       "      <td>1.000000</td>\n",
       "      <td>0.000000</td>\n",
       "      <td>0.000000</td>\n",
       "    </tr>\n",
       "    <tr>\n",
       "      <th>25%</th>\n",
       "      <td>295.000000</td>\n",
       "      <td>4.250000</td>\n",
       "      <td>0.000000</td>\n",
       "      <td>13.750000</td>\n",
       "      <td>61.250000</td>\n",
       "      <td>83.00000</td>\n",
       "      <td>140.250000</td>\n",
       "      <td>313.500000</td>\n",
       "      <td>4.000000</td>\n",
       "      <td>0.000000</td>\n",
       "      <td>...</td>\n",
       "      <td>27.500000</td>\n",
       "      <td>0.000000</td>\n",
       "      <td>36.250000</td>\n",
       "      <td>0.000000</td>\n",
       "      <td>0.000000</td>\n",
       "      <td>0.250000</td>\n",
       "      <td>0.000000</td>\n",
       "      <td>25.000000</td>\n",
       "      <td>0.000000</td>\n",
       "      <td>0.000000</td>\n",
       "    </tr>\n",
       "    <tr>\n",
       "      <th>50%</th>\n",
       "      <td>2729.500000</td>\n",
       "      <td>290.000000</td>\n",
       "      <td>0.000000</td>\n",
       "      <td>320.500000</td>\n",
       "      <td>299.500000</td>\n",
       "      <td>270.50000</td>\n",
       "      <td>484.000000</td>\n",
       "      <td>737.000000</td>\n",
       "      <td>143.500000</td>\n",
       "      <td>0.000000</td>\n",
       "      <td>...</td>\n",
       "      <td>98.500000</td>\n",
       "      <td>0.000000</td>\n",
       "      <td>97.000000</td>\n",
       "      <td>0.000000</td>\n",
       "      <td>36.000000</td>\n",
       "      <td>34.000000</td>\n",
       "      <td>0.000000</td>\n",
       "      <td>57.000000</td>\n",
       "      <td>0.000000</td>\n",
       "      <td>0.000000</td>\n",
       "    </tr>\n",
       "    <tr>\n",
       "      <th>75%</th>\n",
       "      <td>6933.500000</td>\n",
       "      <td>1857.750000</td>\n",
       "      <td>465.750000</td>\n",
       "      <td>1029.000000</td>\n",
       "      <td>988.500000</td>\n",
       "      <td>1163.50000</td>\n",
       "      <td>1472.000000</td>\n",
       "      <td>1774.000000</td>\n",
       "      <td>688.750000</td>\n",
       "      <td>0.000000</td>\n",
       "      <td>...</td>\n",
       "      <td>185.750000</td>\n",
       "      <td>0.000000</td>\n",
       "      <td>191.000000</td>\n",
       "      <td>6.000000</td>\n",
       "      <td>74.250000</td>\n",
       "      <td>68.000000</td>\n",
       "      <td>0.000000</td>\n",
       "      <td>117.500000</td>\n",
       "      <td>11.500000</td>\n",
       "      <td>0.000000</td>\n",
       "    </tr>\n",
       "    <tr>\n",
       "      <th>max</th>\n",
       "      <td>16700.000000</td>\n",
       "      <td>14032.000000</td>\n",
       "      <td>5482.000000</td>\n",
       "      <td>28680.000000</td>\n",
       "      <td>6914.000000</td>\n",
       "      <td>21554.00000</td>\n",
       "      <td>20195.000000</td>\n",
       "      <td>41946.000000</td>\n",
       "      <td>3356.000000</td>\n",
       "      <td>9902.000000</td>\n",
       "      <td>...</td>\n",
       "      <td>751.000000</td>\n",
       "      <td>68.000000</td>\n",
       "      <td>852.000000</td>\n",
       "      <td>246.000000</td>\n",
       "      <td>1545.000000</td>\n",
       "      <td>615.000000</td>\n",
       "      <td>11.000000</td>\n",
       "      <td>966.000000</td>\n",
       "      <td>222.000000</td>\n",
       "      <td>67.000000</td>\n",
       "    </tr>\n",
       "  </tbody>\n",
       "</table>\n",
       "<p>8 rows × 2999 columns</p>\n",
       "</div>"
      ],
      "text/plain": [
       "              DDIT4       ANGPTL4       CALML5         KRT14        CCNB1  \\\n",
       "count    182.000000    182.000000   182.000000    182.000000   182.000000   \n",
       "mean    4038.736264   1227.164835   398.175824    921.307692   867.087912   \n",
       "std     4165.241080   1949.430648   886.985647   2387.091444  1268.359981   \n",
       "min        0.000000      0.000000     0.000000      0.000000     0.000000   \n",
       "25%      295.000000      4.250000     0.000000     13.750000    61.250000   \n",
       "50%     2729.500000    290.000000     0.000000    320.500000   299.500000   \n",
       "75%     6933.500000   1857.750000   465.750000   1029.000000   988.500000   \n",
       "max    16700.000000  14032.000000  5482.000000  28680.000000  6914.000000   \n",
       "\n",
       "            IGFBP3        AKR1C2         KRT6A        NDRG1         KRT4  ...  \\\n",
       "count    182.00000    182.000000    182.000000   182.000000   182.000000  ...   \n",
       "mean    1271.28022   1407.873626   1729.543956   457.895604   396.637363  ...   \n",
       "std     2810.10746   2582.400094   3709.250440   627.115448  1541.330938  ...   \n",
       "min        0.00000      0.000000      0.000000     0.000000     0.000000  ...   \n",
       "25%       83.00000    140.250000    313.500000     4.000000     0.000000  ...   \n",
       "50%      270.50000    484.000000    737.000000   143.500000     0.000000  ...   \n",
       "75%     1163.50000   1472.000000   1774.000000   688.750000     0.000000  ...   \n",
       "max    21554.00000  20195.000000  41946.000000  3356.000000  9902.000000  ...   \n",
       "\n",
       "            MST1R      ZYG11A        NRG1       RBMS3       VCPIP1  \\\n",
       "count  182.000000  182.000000  182.000000  182.000000   182.000000   \n",
       "mean   123.302198    4.291209  138.868132    7.192308    56.675824   \n",
       "std    119.297816   11.790896  147.116950   21.864761   123.906663   \n",
       "min      0.000000    0.000000    0.000000    0.000000     0.000000   \n",
       "25%     27.500000    0.000000   36.250000    0.000000     0.000000   \n",
       "50%     98.500000    0.000000   97.000000    0.000000    36.000000   \n",
       "75%    185.750000    0.000000  191.000000    6.000000    74.250000   \n",
       "max    751.000000   68.000000  852.000000  246.000000  1545.000000   \n",
       "\n",
       "        LINC02693      OR8B9P       NEAT1     ZDHHC23       ODAD2  \n",
       "count  182.000000  182.000000  182.000000  182.000000  182.000000  \n",
       "mean    57.098901    0.153846  102.076923   12.236264    2.175824  \n",
       "std     86.519829    1.060835  140.866555   28.353222    8.754596  \n",
       "min      0.000000    0.000000    1.000000    0.000000    0.000000  \n",
       "25%      0.250000    0.000000   25.000000    0.000000    0.000000  \n",
       "50%     34.000000    0.000000   57.000000    0.000000    0.000000  \n",
       "75%     68.000000    0.000000  117.500000   11.500000    0.000000  \n",
       "max    615.000000   11.000000  966.000000  222.000000   67.000000  \n",
       "\n",
       "[8 rows x 2999 columns]"
      ]
     },
     "metadata": {},
     "output_type": "display_data"
    }
   ],
   "source": [
    "print(\"Summary statistics:\")\n",
    "display(dfs_hcc_train.describe())"
   ]
  },
  {
   "cell_type": "markdown",
   "id": "84c9c712",
   "metadata": {},
   "source": [
    "### ***DropSeq***"
   ]
  },
  {
   "cell_type": "code",
   "execution_count": 10,
   "id": "19e3f1a3",
   "metadata": {},
   "outputs": [
    {
     "name": "stdout",
     "output_type": "stream",
     "text": [
      "(14682, 3000)\n"
     ]
    }
   ],
   "source": [
    "dfd_hcc_train = pd.read_csv(\"../Data/DropSeq/HCC1806_Filtered_Normalised_3000_Data_train.txt\", sep=r\"\\s+\", engine= \"python\", index_col=0).rename(index=lambda x: x.strip('\"')).rename(columns=lambda x: x.strip('\"')).T\n",
    "print(dfd_hcc_train.shape)"
   ]
  },
  {
   "cell_type": "code",
   "execution_count": 11,
   "id": "44cd7eec",
   "metadata": {},
   "outputs": [
    {
     "name": "stdout",
     "output_type": "stream",
     "text": [
      "H1-5       0\n",
      "MALAT1     0\n",
      "MT-RNR2    0\n",
      "ARVCF      0\n",
      "BCYRN1     0\n",
      "          ..\n",
      "SCCPDH     0\n",
      "NTAN1      0\n",
      "CLIP2      0\n",
      "DUSP23     0\n",
      "ZNF682     0\n",
      "Length: 3000, dtype: int64\n"
     ]
    }
   ],
   "source": [
    "print(dfd_hcc_train.isnull().sum())"
   ]
  },
  {
   "cell_type": "code",
   "execution_count": 12,
   "id": "409f7b0e",
   "metadata": {},
   "outputs": [
    {
     "name": "stdout",
     "output_type": "stream",
     "text": [
      "<class 'pandas.core.frame.DataFrame'>\n",
      "Index: 14682 entries, AAAAAACCCGGC_Normoxia to TTTTTTTGAATC_Hypoxia\n",
      "Columns: 3000 entries, H1-5 to ZNF682\n",
      "dtypes: int64(3000)\n",
      "memory usage: 336.2+ MB\n"
     ]
    }
   ],
   "source": [
    "dfd_hcc_train.info()"
   ]
  },
  {
   "cell_type": "markdown",
   "id": "b1c9091a",
   "metadata": {},
   "source": [
    "#### - *Check Duplicates*"
   ]
  },
  {
   "cell_type": "code",
   "execution_count": 71,
   "id": "4223988d",
   "metadata": {},
   "outputs": [
    {
     "name": "stdout",
     "output_type": "stream",
     "text": [
      "Duplicated genes (identical content):\n",
      "None found\n"
     ]
    }
   ],
   "source": [
    "duplicate_genes = find_duplicates(dfd_hcc_train)\n",
    "print(\"Duplicated genes (identical content):\")\n",
    "print(duplicate_genes if duplicate_genes else \"None found\")"
   ]
  },
  {
   "cell_type": "code",
   "execution_count": 14,
   "id": "430daeaf",
   "metadata": {},
   "outputs": [
    {
     "name": "stdout",
     "output_type": "stream",
     "text": [
      "Duplicated cells (identical content):\n",
      "None found\n"
     ]
    }
   ],
   "source": [
    "duplicate_cells = find_duplicates(dfs_hcc_train.T)\n",
    "print(\"Duplicated cells (identical content):\")\n",
    "print(duplicate_cells if duplicate_cells else \"None found\")"
   ]
  },
  {
   "cell_type": "markdown",
   "id": "e0c5e902",
   "metadata": {},
   "source": [
    "#### - *Check Distribution*"
   ]
  },
  {
   "cell_type": "code",
   "execution_count": 15,
   "id": "a83cbf23",
   "metadata": {},
   "outputs": [
    {
     "name": "stdout",
     "output_type": "stream",
     "text": [
      "Summary statistics:\n"
     ]
    },
    {
     "data": {
      "text/html": [
       "<div>\n",
       "<style scoped>\n",
       "    .dataframe tbody tr th:only-of-type {\n",
       "        vertical-align: middle;\n",
       "    }\n",
       "\n",
       "    .dataframe tbody tr th {\n",
       "        vertical-align: top;\n",
       "    }\n",
       "\n",
       "    .dataframe thead th {\n",
       "        text-align: right;\n",
       "    }\n",
       "</style>\n",
       "<table border=\"1\" class=\"dataframe\">\n",
       "  <thead>\n",
       "    <tr style=\"text-align: right;\">\n",
       "      <th></th>\n",
       "      <th>DDIT4</th>\n",
       "      <th>ANGPTL4</th>\n",
       "      <th>CALML5</th>\n",
       "      <th>KRT14</th>\n",
       "      <th>CCNB1</th>\n",
       "      <th>IGFBP3</th>\n",
       "      <th>AKR1C2</th>\n",
       "      <th>KRT6A</th>\n",
       "      <th>NDRG1</th>\n",
       "      <th>KRT4</th>\n",
       "      <th>...</th>\n",
       "      <th>MST1R</th>\n",
       "      <th>ZYG11A</th>\n",
       "      <th>NRG1</th>\n",
       "      <th>RBMS3</th>\n",
       "      <th>VCPIP1</th>\n",
       "      <th>LINC02693</th>\n",
       "      <th>OR8B9P</th>\n",
       "      <th>NEAT1</th>\n",
       "      <th>ZDHHC23</th>\n",
       "      <th>ODAD2</th>\n",
       "    </tr>\n",
       "  </thead>\n",
       "  <tbody>\n",
       "    <tr>\n",
       "      <th>count</th>\n",
       "      <td>182.000000</td>\n",
       "      <td>182.000000</td>\n",
       "      <td>182.000000</td>\n",
       "      <td>182.000000</td>\n",
       "      <td>182.000000</td>\n",
       "      <td>182.00000</td>\n",
       "      <td>182.000000</td>\n",
       "      <td>182.000000</td>\n",
       "      <td>182.000000</td>\n",
       "      <td>182.000000</td>\n",
       "      <td>...</td>\n",
       "      <td>182.000000</td>\n",
       "      <td>182.000000</td>\n",
       "      <td>182.000000</td>\n",
       "      <td>182.000000</td>\n",
       "      <td>182.000000</td>\n",
       "      <td>182.000000</td>\n",
       "      <td>182.000000</td>\n",
       "      <td>182.000000</td>\n",
       "      <td>182.000000</td>\n",
       "      <td>182.000000</td>\n",
       "    </tr>\n",
       "    <tr>\n",
       "      <th>mean</th>\n",
       "      <td>4038.736264</td>\n",
       "      <td>1227.164835</td>\n",
       "      <td>398.175824</td>\n",
       "      <td>921.307692</td>\n",
       "      <td>867.087912</td>\n",
       "      <td>1271.28022</td>\n",
       "      <td>1407.873626</td>\n",
       "      <td>1729.543956</td>\n",
       "      <td>457.895604</td>\n",
       "      <td>396.637363</td>\n",
       "      <td>...</td>\n",
       "      <td>123.302198</td>\n",
       "      <td>4.291209</td>\n",
       "      <td>138.868132</td>\n",
       "      <td>7.192308</td>\n",
       "      <td>56.675824</td>\n",
       "      <td>57.098901</td>\n",
       "      <td>0.153846</td>\n",
       "      <td>102.076923</td>\n",
       "      <td>12.236264</td>\n",
       "      <td>2.175824</td>\n",
       "    </tr>\n",
       "    <tr>\n",
       "      <th>std</th>\n",
       "      <td>4165.241080</td>\n",
       "      <td>1949.430648</td>\n",
       "      <td>886.985647</td>\n",
       "      <td>2387.091444</td>\n",
       "      <td>1268.359981</td>\n",
       "      <td>2810.10746</td>\n",
       "      <td>2582.400094</td>\n",
       "      <td>3709.250440</td>\n",
       "      <td>627.115448</td>\n",
       "      <td>1541.330938</td>\n",
       "      <td>...</td>\n",
       "      <td>119.297816</td>\n",
       "      <td>11.790896</td>\n",
       "      <td>147.116950</td>\n",
       "      <td>21.864761</td>\n",
       "      <td>123.906663</td>\n",
       "      <td>86.519829</td>\n",
       "      <td>1.060835</td>\n",
       "      <td>140.866555</td>\n",
       "      <td>28.353222</td>\n",
       "      <td>8.754596</td>\n",
       "    </tr>\n",
       "    <tr>\n",
       "      <th>min</th>\n",
       "      <td>0.000000</td>\n",
       "      <td>0.000000</td>\n",
       "      <td>0.000000</td>\n",
       "      <td>0.000000</td>\n",
       "      <td>0.000000</td>\n",
       "      <td>0.00000</td>\n",
       "      <td>0.000000</td>\n",
       "      <td>0.000000</td>\n",
       "      <td>0.000000</td>\n",
       "      <td>0.000000</td>\n",
       "      <td>...</td>\n",
       "      <td>0.000000</td>\n",
       "      <td>0.000000</td>\n",
       "      <td>0.000000</td>\n",
       "      <td>0.000000</td>\n",
       "      <td>0.000000</td>\n",
       "      <td>0.000000</td>\n",
       "      <td>0.000000</td>\n",
       "      <td>1.000000</td>\n",
       "      <td>0.000000</td>\n",
       "      <td>0.000000</td>\n",
       "    </tr>\n",
       "    <tr>\n",
       "      <th>25%</th>\n",
       "      <td>295.000000</td>\n",
       "      <td>4.250000</td>\n",
       "      <td>0.000000</td>\n",
       "      <td>13.750000</td>\n",
       "      <td>61.250000</td>\n",
       "      <td>83.00000</td>\n",
       "      <td>140.250000</td>\n",
       "      <td>313.500000</td>\n",
       "      <td>4.000000</td>\n",
       "      <td>0.000000</td>\n",
       "      <td>...</td>\n",
       "      <td>27.500000</td>\n",
       "      <td>0.000000</td>\n",
       "      <td>36.250000</td>\n",
       "      <td>0.000000</td>\n",
       "      <td>0.000000</td>\n",
       "      <td>0.250000</td>\n",
       "      <td>0.000000</td>\n",
       "      <td>25.000000</td>\n",
       "      <td>0.000000</td>\n",
       "      <td>0.000000</td>\n",
       "    </tr>\n",
       "    <tr>\n",
       "      <th>50%</th>\n",
       "      <td>2729.500000</td>\n",
       "      <td>290.000000</td>\n",
       "      <td>0.000000</td>\n",
       "      <td>320.500000</td>\n",
       "      <td>299.500000</td>\n",
       "      <td>270.50000</td>\n",
       "      <td>484.000000</td>\n",
       "      <td>737.000000</td>\n",
       "      <td>143.500000</td>\n",
       "      <td>0.000000</td>\n",
       "      <td>...</td>\n",
       "      <td>98.500000</td>\n",
       "      <td>0.000000</td>\n",
       "      <td>97.000000</td>\n",
       "      <td>0.000000</td>\n",
       "      <td>36.000000</td>\n",
       "      <td>34.000000</td>\n",
       "      <td>0.000000</td>\n",
       "      <td>57.000000</td>\n",
       "      <td>0.000000</td>\n",
       "      <td>0.000000</td>\n",
       "    </tr>\n",
       "    <tr>\n",
       "      <th>75%</th>\n",
       "      <td>6933.500000</td>\n",
       "      <td>1857.750000</td>\n",
       "      <td>465.750000</td>\n",
       "      <td>1029.000000</td>\n",
       "      <td>988.500000</td>\n",
       "      <td>1163.50000</td>\n",
       "      <td>1472.000000</td>\n",
       "      <td>1774.000000</td>\n",
       "      <td>688.750000</td>\n",
       "      <td>0.000000</td>\n",
       "      <td>...</td>\n",
       "      <td>185.750000</td>\n",
       "      <td>0.000000</td>\n",
       "      <td>191.000000</td>\n",
       "      <td>6.000000</td>\n",
       "      <td>74.250000</td>\n",
       "      <td>68.000000</td>\n",
       "      <td>0.000000</td>\n",
       "      <td>117.500000</td>\n",
       "      <td>11.500000</td>\n",
       "      <td>0.000000</td>\n",
       "    </tr>\n",
       "    <tr>\n",
       "      <th>max</th>\n",
       "      <td>16700.000000</td>\n",
       "      <td>14032.000000</td>\n",
       "      <td>5482.000000</td>\n",
       "      <td>28680.000000</td>\n",
       "      <td>6914.000000</td>\n",
       "      <td>21554.00000</td>\n",
       "      <td>20195.000000</td>\n",
       "      <td>41946.000000</td>\n",
       "      <td>3356.000000</td>\n",
       "      <td>9902.000000</td>\n",
       "      <td>...</td>\n",
       "      <td>751.000000</td>\n",
       "      <td>68.000000</td>\n",
       "      <td>852.000000</td>\n",
       "      <td>246.000000</td>\n",
       "      <td>1545.000000</td>\n",
       "      <td>615.000000</td>\n",
       "      <td>11.000000</td>\n",
       "      <td>966.000000</td>\n",
       "      <td>222.000000</td>\n",
       "      <td>67.000000</td>\n",
       "    </tr>\n",
       "  </tbody>\n",
       "</table>\n",
       "<p>8 rows × 2999 columns</p>\n",
       "</div>"
      ],
      "text/plain": [
       "              DDIT4       ANGPTL4       CALML5         KRT14        CCNB1  \\\n",
       "count    182.000000    182.000000   182.000000    182.000000   182.000000   \n",
       "mean    4038.736264   1227.164835   398.175824    921.307692   867.087912   \n",
       "std     4165.241080   1949.430648   886.985647   2387.091444  1268.359981   \n",
       "min        0.000000      0.000000     0.000000      0.000000     0.000000   \n",
       "25%      295.000000      4.250000     0.000000     13.750000    61.250000   \n",
       "50%     2729.500000    290.000000     0.000000    320.500000   299.500000   \n",
       "75%     6933.500000   1857.750000   465.750000   1029.000000   988.500000   \n",
       "max    16700.000000  14032.000000  5482.000000  28680.000000  6914.000000   \n",
       "\n",
       "            IGFBP3        AKR1C2         KRT6A        NDRG1         KRT4  ...  \\\n",
       "count    182.00000    182.000000    182.000000   182.000000   182.000000  ...   \n",
       "mean    1271.28022   1407.873626   1729.543956   457.895604   396.637363  ...   \n",
       "std     2810.10746   2582.400094   3709.250440   627.115448  1541.330938  ...   \n",
       "min        0.00000      0.000000      0.000000     0.000000     0.000000  ...   \n",
       "25%       83.00000    140.250000    313.500000     4.000000     0.000000  ...   \n",
       "50%      270.50000    484.000000    737.000000   143.500000     0.000000  ...   \n",
       "75%     1163.50000   1472.000000   1774.000000   688.750000     0.000000  ...   \n",
       "max    21554.00000  20195.000000  41946.000000  3356.000000  9902.000000  ...   \n",
       "\n",
       "            MST1R      ZYG11A        NRG1       RBMS3       VCPIP1  \\\n",
       "count  182.000000  182.000000  182.000000  182.000000   182.000000   \n",
       "mean   123.302198    4.291209  138.868132    7.192308    56.675824   \n",
       "std    119.297816   11.790896  147.116950   21.864761   123.906663   \n",
       "min      0.000000    0.000000    0.000000    0.000000     0.000000   \n",
       "25%     27.500000    0.000000   36.250000    0.000000     0.000000   \n",
       "50%     98.500000    0.000000   97.000000    0.000000    36.000000   \n",
       "75%    185.750000    0.000000  191.000000    6.000000    74.250000   \n",
       "max    751.000000   68.000000  852.000000  246.000000  1545.000000   \n",
       "\n",
       "        LINC02693      OR8B9P       NEAT1     ZDHHC23       ODAD2  \n",
       "count  182.000000  182.000000  182.000000  182.000000  182.000000  \n",
       "mean    57.098901    0.153846  102.076923   12.236264    2.175824  \n",
       "std     86.519829    1.060835  140.866555   28.353222    8.754596  \n",
       "min      0.000000    0.000000    1.000000    0.000000    0.000000  \n",
       "25%      0.250000    0.000000   25.000000    0.000000    0.000000  \n",
       "50%     34.000000    0.000000   57.000000    0.000000    0.000000  \n",
       "75%     68.000000    0.000000  117.500000   11.500000    0.000000  \n",
       "max    615.000000   11.000000  966.000000  222.000000   67.000000  \n",
       "\n",
       "[8 rows x 2999 columns]"
      ]
     },
     "metadata": {},
     "output_type": "display_data"
    }
   ],
   "source": [
    "print(\"Summary statistics:\")\n",
    "display(dfs_hcc_train.describe())"
   ]
  },
  {
   "cell_type": "markdown",
   "id": "e9a77d0f",
   "metadata": {},
   "source": [
    "## **2.** Align Labels\n",
    "\n",
    "---"
   ]
  },
  {
   "cell_type": "markdown",
   "id": "c98f1f1d",
   "metadata": {},
   "source": [
    "### ***SmartSeq***"
   ]
  },
  {
   "cell_type": "code",
   "execution_count": 16,
   "id": "0aa18b8d",
   "metadata": {},
   "outputs": [
    {
     "data": {
      "text/html": [
       "<div>\n",
       "<style scoped>\n",
       "    .dataframe tbody tr th:only-of-type {\n",
       "        vertical-align: middle;\n",
       "    }\n",
       "\n",
       "    .dataframe tbody tr th {\n",
       "        vertical-align: top;\n",
       "    }\n",
       "\n",
       "    .dataframe thead th {\n",
       "        text-align: right;\n",
       "    }\n",
       "</style>\n",
       "<table border=\"1\" class=\"dataframe\">\n",
       "  <thead>\n",
       "    <tr style=\"text-align: right;\">\n",
       "      <th></th>\n",
       "      <th>DDIT4</th>\n",
       "      <th>ANGPTL4</th>\n",
       "      <th>CALML5</th>\n",
       "      <th>KRT14</th>\n",
       "      <th>CCNB1</th>\n",
       "      <th>IGFBP3</th>\n",
       "      <th>AKR1C2</th>\n",
       "      <th>KRT6A</th>\n",
       "      <th>NDRG1</th>\n",
       "      <th>KRT4</th>\n",
       "      <th>...</th>\n",
       "      <th>MST1R</th>\n",
       "      <th>ZYG11A</th>\n",
       "      <th>NRG1</th>\n",
       "      <th>RBMS3</th>\n",
       "      <th>VCPIP1</th>\n",
       "      <th>LINC02693</th>\n",
       "      <th>OR8B9P</th>\n",
       "      <th>NEAT1</th>\n",
       "      <th>ZDHHC23</th>\n",
       "      <th>ODAD2</th>\n",
       "    </tr>\n",
       "  </thead>\n",
       "  <tbody>\n",
       "    <tr>\n",
       "      <th>output.STAR.PCRPlate1G12_Normoxia_S32_Aligned.sortedByCoord.out.bam</th>\n",
       "      <td>0</td>\n",
       "      <td>48</td>\n",
       "      <td>0</td>\n",
       "      <td>321</td>\n",
       "      <td>298</td>\n",
       "      <td>82</td>\n",
       "      <td>6250</td>\n",
       "      <td>634</td>\n",
       "      <td>0</td>\n",
       "      <td>0</td>\n",
       "      <td>...</td>\n",
       "      <td>78</td>\n",
       "      <td>10</td>\n",
       "      <td>136</td>\n",
       "      <td>0</td>\n",
       "      <td>0</td>\n",
       "      <td>29</td>\n",
       "      <td>0</td>\n",
       "      <td>29</td>\n",
       "      <td>0</td>\n",
       "      <td>0</td>\n",
       "    </tr>\n",
       "    <tr>\n",
       "      <th>output.STAR.PCRPlate1G1_Hypoxia_S102_Aligned.sortedByCoord.out.bam</th>\n",
       "      <td>8739</td>\n",
       "      <td>2101</td>\n",
       "      <td>55</td>\n",
       "      <td>96</td>\n",
       "      <td>1824</td>\n",
       "      <td>1938</td>\n",
       "      <td>62</td>\n",
       "      <td>0</td>\n",
       "      <td>522</td>\n",
       "      <td>413</td>\n",
       "      <td>...</td>\n",
       "      <td>279</td>\n",
       "      <td>0</td>\n",
       "      <td>264</td>\n",
       "      <td>0</td>\n",
       "      <td>134</td>\n",
       "      <td>68</td>\n",
       "      <td>0</td>\n",
       "      <td>213</td>\n",
       "      <td>0</td>\n",
       "      <td>0</td>\n",
       "    </tr>\n",
       "    <tr>\n",
       "      <th>output.STAR.PCRPlate1G2_Hypoxia_S2_Aligned.sortedByCoord.out.bam</th>\n",
       "      <td>13098</td>\n",
       "      <td>14032</td>\n",
       "      <td>0</td>\n",
       "      <td>0</td>\n",
       "      <td>1616</td>\n",
       "      <td>247</td>\n",
       "      <td>430</td>\n",
       "      <td>907</td>\n",
       "      <td>348</td>\n",
       "      <td>0</td>\n",
       "      <td>...</td>\n",
       "      <td>311</td>\n",
       "      <td>0</td>\n",
       "      <td>38</td>\n",
       "      <td>0</td>\n",
       "      <td>0</td>\n",
       "      <td>0</td>\n",
       "      <td>0</td>\n",
       "      <td>92</td>\n",
       "      <td>0</td>\n",
       "      <td>0</td>\n",
       "    </tr>\n",
       "    <tr>\n",
       "      <th>output.STAR.PCRPlate1G3_Hypoxia_S7_Aligned.sortedByCoord.out.bam</th>\n",
       "      <td>2880</td>\n",
       "      <td>356</td>\n",
       "      <td>0</td>\n",
       "      <td>6211</td>\n",
       "      <td>3</td>\n",
       "      <td>3430</td>\n",
       "      <td>79</td>\n",
       "      <td>1953</td>\n",
       "      <td>592</td>\n",
       "      <td>176</td>\n",
       "      <td>...</td>\n",
       "      <td>125</td>\n",
       "      <td>0</td>\n",
       "      <td>16</td>\n",
       "      <td>0</td>\n",
       "      <td>4</td>\n",
       "      <td>1</td>\n",
       "      <td>0</td>\n",
       "      <td>1</td>\n",
       "      <td>0</td>\n",
       "      <td>0</td>\n",
       "    </tr>\n",
       "    <tr>\n",
       "      <th>output.STAR.PCRPlate1G4_Hypoxia_S107_Aligned.sortedByCoord.out.bam</th>\n",
       "      <td>7777</td>\n",
       "      <td>5661</td>\n",
       "      <td>4383</td>\n",
       "      <td>0</td>\n",
       "      <td>145</td>\n",
       "      <td>4618</td>\n",
       "      <td>246</td>\n",
       "      <td>85</td>\n",
       "      <td>206</td>\n",
       "      <td>0</td>\n",
       "      <td>...</td>\n",
       "      <td>268</td>\n",
       "      <td>1</td>\n",
       "      <td>25</td>\n",
       "      <td>0</td>\n",
       "      <td>0</td>\n",
       "      <td>0</td>\n",
       "      <td>0</td>\n",
       "      <td>128</td>\n",
       "      <td>0</td>\n",
       "      <td>0</td>\n",
       "    </tr>\n",
       "  </tbody>\n",
       "</table>\n",
       "<p>5 rows × 2999 columns</p>\n",
       "</div>"
      ],
      "text/plain": [
       "                                                    DDIT4  ANGPTL4  CALML5  \\\n",
       "output.STAR.PCRPlate1G12_Normoxia_S32_Aligned.s...      0       48       0   \n",
       "output.STAR.PCRPlate1G1_Hypoxia_S102_Aligned.so...   8739     2101      55   \n",
       "output.STAR.PCRPlate1G2_Hypoxia_S2_Aligned.sort...  13098    14032       0   \n",
       "output.STAR.PCRPlate1G3_Hypoxia_S7_Aligned.sort...   2880      356       0   \n",
       "output.STAR.PCRPlate1G4_Hypoxia_S107_Aligned.so...   7777     5661    4383   \n",
       "\n",
       "                                                    KRT14  CCNB1  IGFBP3  \\\n",
       "output.STAR.PCRPlate1G12_Normoxia_S32_Aligned.s...    321    298      82   \n",
       "output.STAR.PCRPlate1G1_Hypoxia_S102_Aligned.so...     96   1824    1938   \n",
       "output.STAR.PCRPlate1G2_Hypoxia_S2_Aligned.sort...      0   1616     247   \n",
       "output.STAR.PCRPlate1G3_Hypoxia_S7_Aligned.sort...   6211      3    3430   \n",
       "output.STAR.PCRPlate1G4_Hypoxia_S107_Aligned.so...      0    145    4618   \n",
       "\n",
       "                                                    AKR1C2  KRT6A  NDRG1  \\\n",
       "output.STAR.PCRPlate1G12_Normoxia_S32_Aligned.s...    6250    634      0   \n",
       "output.STAR.PCRPlate1G1_Hypoxia_S102_Aligned.so...      62      0    522   \n",
       "output.STAR.PCRPlate1G2_Hypoxia_S2_Aligned.sort...     430    907    348   \n",
       "output.STAR.PCRPlate1G3_Hypoxia_S7_Aligned.sort...      79   1953    592   \n",
       "output.STAR.PCRPlate1G4_Hypoxia_S107_Aligned.so...     246     85    206   \n",
       "\n",
       "                                                    KRT4  ...  MST1R  ZYG11A  \\\n",
       "output.STAR.PCRPlate1G12_Normoxia_S32_Aligned.s...     0  ...     78      10   \n",
       "output.STAR.PCRPlate1G1_Hypoxia_S102_Aligned.so...   413  ...    279       0   \n",
       "output.STAR.PCRPlate1G2_Hypoxia_S2_Aligned.sort...     0  ...    311       0   \n",
       "output.STAR.PCRPlate1G3_Hypoxia_S7_Aligned.sort...   176  ...    125       0   \n",
       "output.STAR.PCRPlate1G4_Hypoxia_S107_Aligned.so...     0  ...    268       1   \n",
       "\n",
       "                                                    NRG1  RBMS3  VCPIP1  \\\n",
       "output.STAR.PCRPlate1G12_Normoxia_S32_Aligned.s...   136      0       0   \n",
       "output.STAR.PCRPlate1G1_Hypoxia_S102_Aligned.so...   264      0     134   \n",
       "output.STAR.PCRPlate1G2_Hypoxia_S2_Aligned.sort...    38      0       0   \n",
       "output.STAR.PCRPlate1G3_Hypoxia_S7_Aligned.sort...    16      0       4   \n",
       "output.STAR.PCRPlate1G4_Hypoxia_S107_Aligned.so...    25      0       0   \n",
       "\n",
       "                                                    LINC02693  OR8B9P  NEAT1  \\\n",
       "output.STAR.PCRPlate1G12_Normoxia_S32_Aligned.s...         29       0     29   \n",
       "output.STAR.PCRPlate1G1_Hypoxia_S102_Aligned.so...         68       0    213   \n",
       "output.STAR.PCRPlate1G2_Hypoxia_S2_Aligned.sort...          0       0     92   \n",
       "output.STAR.PCRPlate1G3_Hypoxia_S7_Aligned.sort...          1       0      1   \n",
       "output.STAR.PCRPlate1G4_Hypoxia_S107_Aligned.so...          0       0    128   \n",
       "\n",
       "                                                    ZDHHC23  ODAD2  \n",
       "output.STAR.PCRPlate1G12_Normoxia_S32_Aligned.s...        0      0  \n",
       "output.STAR.PCRPlate1G1_Hypoxia_S102_Aligned.so...        0      0  \n",
       "output.STAR.PCRPlate1G2_Hypoxia_S2_Aligned.sort...        0      0  \n",
       "output.STAR.PCRPlate1G3_Hypoxia_S7_Aligned.sort...        0      0  \n",
       "output.STAR.PCRPlate1G4_Hypoxia_S107_Aligned.so...        0      0  \n",
       "\n",
       "[5 rows x 2999 columns]"
      ]
     },
     "execution_count": 16,
     "metadata": {},
     "output_type": "execute_result"
    }
   ],
   "source": [
    "X_hcc_smart = dfs_hcc_train\n",
    "X_hcc_smart.head()"
   ]
  },
  {
   "cell_type": "code",
   "execution_count": 17,
   "id": "f4e9635f",
   "metadata": {},
   "outputs": [
    {
     "name": "stdout",
     "output_type": "stream",
     "text": [
      "Condition\n",
      "Hypo     126\n",
      "Normo    117\n",
      "Name: count, dtype: int64\n"
     ]
    }
   ],
   "source": [
    "print(hcc_meta[\"Condition\"].value_counts())"
   ]
  },
  {
   "cell_type": "code",
   "execution_count": 18,
   "id": "3cfd2957",
   "metadata": {},
   "outputs": [
    {
     "name": "stdout",
     "output_type": "stream",
     "text": [
      "Label\n",
      "1    126\n",
      "0    117\n",
      "Name: count, dtype: int64\n"
     ]
    }
   ],
   "source": [
    "hcc_meta[\"Label\"] = hcc_meta[\"Condition\"].map({\"Normo\": 0, \"Hypo\": 1})\n",
    "print(hcc_meta[\"Label\"].value_counts())"
   ]
  },
  {
   "cell_type": "code",
   "execution_count": 19,
   "id": "f30e6f93",
   "metadata": {},
   "outputs": [],
   "source": [
    "hcc_meta = hcc_meta.loc[X_hcc_smart.index]\n",
    "assert all(X_hcc_smart.index == hcc_meta.index), \"Index mismatch!\"\n",
    "\n",
    "X_hccs_merged = X_hcc_smart.copy()\n",
    "X_hccs_merged[\"Label\"] = hcc_meta[\"Label\"]\n",
    "\n",
    "y_hcc_smart = hcc_meta[\"Label\"].values"
   ]
  },
  {
   "cell_type": "code",
   "execution_count": 20,
   "id": "99520d39",
   "metadata": {},
   "outputs": [
    {
     "name": "stdout",
     "output_type": "stream",
     "text": [
      "(182, 2999)\n",
      "(182,)\n",
      "Normoxic: 85\n",
      "Hypoxic : 97\n"
     ]
    }
   ],
   "source": [
    "print(X_hcc_smart.shape)\n",
    "print(y_hcc_smart.shape)\n",
    "print(\"Normoxic:\", sum(y_hcc_smart == 0))\n",
    "print(\"Hypoxic :\", sum(y_hcc_smart == 1))"
   ]
  },
  {
   "cell_type": "markdown",
   "id": "1b127a8b",
   "metadata": {},
   "source": [
    "### ***DropSeq***"
   ]
  },
  {
   "cell_type": "code",
   "execution_count": 21,
   "id": "784b06d3",
   "metadata": {},
   "outputs": [
    {
     "data": {
      "text/html": [
       "<div>\n",
       "<style scoped>\n",
       "    .dataframe tbody tr th:only-of-type {\n",
       "        vertical-align: middle;\n",
       "    }\n",
       "\n",
       "    .dataframe tbody tr th {\n",
       "        vertical-align: top;\n",
       "    }\n",
       "\n",
       "    .dataframe thead th {\n",
       "        text-align: right;\n",
       "    }\n",
       "</style>\n",
       "<table border=\"1\" class=\"dataframe\">\n",
       "  <thead>\n",
       "    <tr style=\"text-align: right;\">\n",
       "      <th></th>\n",
       "      <th>H1-5</th>\n",
       "      <th>MALAT1</th>\n",
       "      <th>MT-RNR2</th>\n",
       "      <th>ARVCF</th>\n",
       "      <th>BCYRN1</th>\n",
       "      <th>ATXN7L2</th>\n",
       "      <th>IGFBP3</th>\n",
       "      <th>H1-3</th>\n",
       "      <th>CTIF</th>\n",
       "      <th>RNF123</th>\n",
       "      <th>...</th>\n",
       "      <th>BATF3</th>\n",
       "      <th>CDKN3</th>\n",
       "      <th>DLD</th>\n",
       "      <th>PMPCA</th>\n",
       "      <th>ZNF165</th>\n",
       "      <th>SCCPDH</th>\n",
       "      <th>NTAN1</th>\n",
       "      <th>CLIP2</th>\n",
       "      <th>DUSP23</th>\n",
       "      <th>ZNF682</th>\n",
       "    </tr>\n",
       "  </thead>\n",
       "  <tbody>\n",
       "    <tr>\n",
       "      <th>AAAAAACCCGGC_Normoxia</th>\n",
       "      <td>2</td>\n",
       "      <td>3</td>\n",
       "      <td>0</td>\n",
       "      <td>0</td>\n",
       "      <td>0</td>\n",
       "      <td>0</td>\n",
       "      <td>0</td>\n",
       "      <td>2</td>\n",
       "      <td>0</td>\n",
       "      <td>0</td>\n",
       "      <td>...</td>\n",
       "      <td>0</td>\n",
       "      <td>0</td>\n",
       "      <td>0</td>\n",
       "      <td>0</td>\n",
       "      <td>0</td>\n",
       "      <td>0</td>\n",
       "      <td>0</td>\n",
       "      <td>0</td>\n",
       "      <td>0</td>\n",
       "      <td>0</td>\n",
       "    </tr>\n",
       "    <tr>\n",
       "      <th>AAAACCGGATGC_Normoxia</th>\n",
       "      <td>2</td>\n",
       "      <td>3</td>\n",
       "      <td>0</td>\n",
       "      <td>0</td>\n",
       "      <td>1</td>\n",
       "      <td>0</td>\n",
       "      <td>0</td>\n",
       "      <td>0</td>\n",
       "      <td>0</td>\n",
       "      <td>0</td>\n",
       "      <td>...</td>\n",
       "      <td>0</td>\n",
       "      <td>0</td>\n",
       "      <td>0</td>\n",
       "      <td>0</td>\n",
       "      <td>0</td>\n",
       "      <td>0</td>\n",
       "      <td>0</td>\n",
       "      <td>0</td>\n",
       "      <td>0</td>\n",
       "      <td>0</td>\n",
       "    </tr>\n",
       "    <tr>\n",
       "      <th>AAAACGAGCTAG_Normoxia</th>\n",
       "      <td>5</td>\n",
       "      <td>2</td>\n",
       "      <td>0</td>\n",
       "      <td>0</td>\n",
       "      <td>1</td>\n",
       "      <td>0</td>\n",
       "      <td>1</td>\n",
       "      <td>3</td>\n",
       "      <td>0</td>\n",
       "      <td>0</td>\n",
       "      <td>...</td>\n",
       "      <td>0</td>\n",
       "      <td>0</td>\n",
       "      <td>0</td>\n",
       "      <td>0</td>\n",
       "      <td>0</td>\n",
       "      <td>0</td>\n",
       "      <td>0</td>\n",
       "      <td>0</td>\n",
       "      <td>0</td>\n",
       "      <td>0</td>\n",
       "    </tr>\n",
       "    <tr>\n",
       "      <th>AAAACTTCCCCG_Normoxia</th>\n",
       "      <td>1</td>\n",
       "      <td>3</td>\n",
       "      <td>0</td>\n",
       "      <td>0</td>\n",
       "      <td>0</td>\n",
       "      <td>0</td>\n",
       "      <td>0</td>\n",
       "      <td>0</td>\n",
       "      <td>0</td>\n",
       "      <td>0</td>\n",
       "      <td>...</td>\n",
       "      <td>0</td>\n",
       "      <td>0</td>\n",
       "      <td>0</td>\n",
       "      <td>0</td>\n",
       "      <td>0</td>\n",
       "      <td>0</td>\n",
       "      <td>0</td>\n",
       "      <td>0</td>\n",
       "      <td>0</td>\n",
       "      <td>0</td>\n",
       "    </tr>\n",
       "    <tr>\n",
       "      <th>AAAAGCCTACCC_Normoxia</th>\n",
       "      <td>0</td>\n",
       "      <td>12</td>\n",
       "      <td>0</td>\n",
       "      <td>0</td>\n",
       "      <td>0</td>\n",
       "      <td>0</td>\n",
       "      <td>0</td>\n",
       "      <td>0</td>\n",
       "      <td>0</td>\n",
       "      <td>0</td>\n",
       "      <td>...</td>\n",
       "      <td>0</td>\n",
       "      <td>0</td>\n",
       "      <td>0</td>\n",
       "      <td>0</td>\n",
       "      <td>0</td>\n",
       "      <td>0</td>\n",
       "      <td>0</td>\n",
       "      <td>0</td>\n",
       "      <td>0</td>\n",
       "      <td>0</td>\n",
       "    </tr>\n",
       "  </tbody>\n",
       "</table>\n",
       "<p>5 rows × 3000 columns</p>\n",
       "</div>"
      ],
      "text/plain": [
       "                       H1-5  MALAT1  MT-RNR2  ARVCF  BCYRN1  ATXN7L2  IGFBP3  \\\n",
       "AAAAAACCCGGC_Normoxia     2       3        0      0       0        0       0   \n",
       "AAAACCGGATGC_Normoxia     2       3        0      0       1        0       0   \n",
       "AAAACGAGCTAG_Normoxia     5       2        0      0       1        0       1   \n",
       "AAAACTTCCCCG_Normoxia     1       3        0      0       0        0       0   \n",
       "AAAAGCCTACCC_Normoxia     0      12        0      0       0        0       0   \n",
       "\n",
       "                       H1-3  CTIF  RNF123  ...  BATF3  CDKN3  DLD  PMPCA  \\\n",
       "AAAAAACCCGGC_Normoxia     2     0       0  ...      0      0    0      0   \n",
       "AAAACCGGATGC_Normoxia     0     0       0  ...      0      0    0      0   \n",
       "AAAACGAGCTAG_Normoxia     3     0       0  ...      0      0    0      0   \n",
       "AAAACTTCCCCG_Normoxia     0     0       0  ...      0      0    0      0   \n",
       "AAAAGCCTACCC_Normoxia     0     0       0  ...      0      0    0      0   \n",
       "\n",
       "                       ZNF165  SCCPDH  NTAN1  CLIP2  DUSP23  ZNF682  \n",
       "AAAAAACCCGGC_Normoxia       0       0      0      0       0       0  \n",
       "AAAACCGGATGC_Normoxia       0       0      0      0       0       0  \n",
       "AAAACGAGCTAG_Normoxia       0       0      0      0       0       0  \n",
       "AAAACTTCCCCG_Normoxia       0       0      0      0       0       0  \n",
       "AAAAGCCTACCC_Normoxia       0       0      0      0       0       0  \n",
       "\n",
       "[5 rows x 3000 columns]"
      ]
     },
     "execution_count": 21,
     "metadata": {},
     "output_type": "execute_result"
    }
   ],
   "source": [
    "X_hcc_drop = dfd_hcc_train\n",
    "X_hcc_drop.head()"
   ]
  },
  {
   "cell_type": "code",
   "execution_count": 22,
   "id": "ada6afd3",
   "metadata": {},
   "outputs": [],
   "source": [
    "labels = X_hcc_drop.index.str.split(\"_\").str[-1]"
   ]
  },
  {
   "cell_type": "code",
   "execution_count": 23,
   "id": "1e58a112",
   "metadata": {},
   "outputs": [],
   "source": [
    "labels = labels.map({'Normoxia': 0, 'Hypoxia': 1})"
   ]
  },
  {
   "cell_type": "code",
   "execution_count": 24,
   "id": "51b006ed",
   "metadata": {},
   "outputs": [
    {
     "name": "stdout",
     "output_type": "stream",
     "text": [
      "Label distribution:\n",
      "1    8899\n",
      "0    5783\n",
      "Name: count, dtype: int64\n"
     ]
    }
   ],
   "source": [
    "print(\"Label distribution:\")\n",
    "print(labels.value_counts(dropna=False))"
   ]
  },
  {
   "cell_type": "code",
   "execution_count": 25,
   "id": "aef7796a",
   "metadata": {},
   "outputs": [],
   "source": [
    "X_hccd_merged = X_hcc_drop.copy()\n",
    "X_hccd_merged[\"Label\"] = labels\n",
    "y_hcc_drop = labels.values"
   ]
  },
  {
   "cell_type": "code",
   "execution_count": 26,
   "id": "3f77367d",
   "metadata": {},
   "outputs": [
    {
     "name": "stdout",
     "output_type": "stream",
     "text": [
      "(14682, 3000)\n",
      "(14682,)\n",
      "Normoxic: 5783\n",
      "Hypoxic : 8899\n"
     ]
    }
   ],
   "source": [
    "print(X_hcc_drop.shape)\n",
    "print(y_hcc_drop.shape)\n",
    "print(\"Normoxic:\", sum(y_hcc_drop == 0))\n",
    "print(\"Hypoxic :\", sum(y_hcc_drop == 1))"
   ]
  },
  {
   "cell_type": "markdown",
   "id": "f2434101",
   "metadata": {},
   "source": [
    "## **3.** Preprocessing\n",
    "---"
   ]
  },
  {
   "cell_type": "markdown",
   "id": "a20a3ad8",
   "metadata": {},
   "source": [
    "### ***SmartSeq***"
   ]
  },
  {
   "cell_type": "markdown",
   "id": "8585c54a",
   "metadata": {},
   "source": [
    "The first step is a train-validation split using stratified sampling to preserve the proportion of hypoxic and normoxic cells in both subsets. The held out testing subset will be used only for evaluation purposes."
   ]
  },
  {
   "cell_type": "code",
   "execution_count": 27,
   "id": "fe1de6e3",
   "metadata": {},
   "outputs": [],
   "source": [
    "# Splitting with stratification\n",
    "Xs_train, Xs_val, ys_train, ys_val = train_test_split(\n",
    "    X_hcc_smart, y_hcc_smart, test_size=0.2, stratify=y_hcc_smart, random_state=42\n",
    ")"
   ]
  },
  {
   "cell_type": "markdown",
   "id": "f2d65216",
   "metadata": {},
   "source": [
    "Then we apply a log-transformation which compress the right‐hand tail of the distribution. It is a $ \\log(1p) $ transformation which converts each raw value $x$ into $\\log(1+x)$, preserving 0s."
   ]
  },
  {
   "cell_type": "code",
   "execution_count": 28,
   "id": "01604ffa",
   "metadata": {},
   "outputs": [],
   "source": [
    "Xs_train_log = np.log1p(Xs_train)\n",
    "Xs_val_log = np.log1p(Xs_val)"
   ]
  },
  {
   "cell_type": "markdown",
   "id": "99d68358",
   "metadata": {},
   "source": [
    "Then we create a standardized (Z-Score) version of the data, that will be needed for distance-based classifiers, which are sensible to scale."
   ]
  },
  {
   "cell_type": "code",
   "execution_count": 29,
   "id": "112f2213",
   "metadata": {},
   "outputs": [],
   "source": [
    "# Standardize on the log-transformed data\n",
    "scaler = StandardScaler()\n",
    "Xs_train_scaled = scaler.fit_transform(Xs_train_log)\n",
    "Xs_val_scaled = scaler.transform(Xs_val_log)"
   ]
  },
  {
   "cell_type": "code",
   "execution_count": 30,
   "id": "fd156602",
   "metadata": {},
   "outputs": [],
   "source": [
    "Xs_train_scaled_df = pd.DataFrame(Xs_train_scaled, columns=Xs_train.columns, index=Xs_train.index)\n",
    "Xs_val_scaled_df = pd.DataFrame(Xs_val_scaled, columns=Xs_val.columns, index=Xs_val.index)"
   ]
  },
  {
   "cell_type": "markdown",
   "id": "8d78bacd",
   "metadata": {},
   "source": [
    "### ***DropSeq***"
   ]
  },
  {
   "cell_type": "code",
   "execution_count": 31,
   "id": "4d6e6f75",
   "metadata": {},
   "outputs": [],
   "source": [
    "Xd_train, Xd_val, yd_train, yd_val = train_test_split(\n",
    "    X_hcc_drop, y_hcc_drop, test_size=0.2, stratify=y_hcc_drop, random_state=42\n",
    ")"
   ]
  },
  {
   "cell_type": "markdown",
   "id": "bf347b1b",
   "metadata": {},
   "source": [
    "Since the DropSeq dataset is way larger than SmartSeq's one, we apply a pre-filter startegy to reduce dimensionality from 3000 genes to 300 by **Mutual Information**.  \n",
    "This allows us to identify genes that are most informative about the target labels."
   ]
  },
  {
   "cell_type": "code",
   "execution_count": 32,
   "id": "ac1dabaf",
   "metadata": {},
   "outputs": [
    {
     "name": "stdout",
     "output_type": "stream",
     "text": [
      "Shape after filtering: (11745, 300)\n"
     ]
    }
   ],
   "source": [
    "#Mutual Information (only on train set)\n",
    "k_top_genes = 300\n",
    "mi_selector = SelectKBest(score_func=mutual_info_classif, k=k_top_genes)\n",
    "X_train_mi = mi_selector.fit_transform(Xd_train, yd_train)\n",
    "\n",
    "selected_mi_genes = Xd_train.columns[mi_selector.get_support()]\n",
    "print(\"Shape after filtering:\", X_train_mi.shape)"
   ]
  },
  {
   "cell_type": "code",
   "execution_count": 33,
   "id": "9f411cb3",
   "metadata": {},
   "outputs": [],
   "source": [
    "# Extract only the 300 MI-selected genes\n",
    "Xd_train_mi = Xd_train[selected_mi_genes]\n",
    "Xd_val_mi   = Xd_val[selected_mi_genes]"
   ]
  },
  {
   "cell_type": "markdown",
   "id": "6b53896f",
   "metadata": {},
   "source": [
    "Now we can proceed with the log-stransformation and the standardization (Z-score)."
   ]
  },
  {
   "cell_type": "code",
   "execution_count": 34,
   "id": "14fed858",
   "metadata": {},
   "outputs": [],
   "source": [
    "# Log-transform\n",
    "Xd_train_log = np.log1p(Xd_train_mi)\n",
    "Xd_val_log   = np.log1p(Xd_val_mi)"
   ]
  },
  {
   "cell_type": "code",
   "execution_count": 35,
   "id": "e1d3a263",
   "metadata": {},
   "outputs": [],
   "source": [
    "# Standardization\n",
    "scaler = StandardScaler()\n",
    "Xd_train_scaled = scaler.fit_transform(Xd_train_log)\n",
    "Xd_val_scaled   = scaler.transform(Xd_val_log)"
   ]
  },
  {
   "cell_type": "markdown",
   "id": "a95c8d8a",
   "metadata": {},
   "source": [
    "## **4.** Feature Selection\n",
    "\n",
    "---"
   ]
  },
  {
   "cell_type": "markdown",
   "id": "596bcb6a",
   "metadata": {},
   "source": [
    "This section aims to reduce the number of genes to mitigate overfitting, enhance interpretability, and improve generalization performance.\n",
    "\n",
    "We leverage **embedded methods** that exploit the learning algorithm to automatically rank and select features. The pipeline consists of:\n",
    "\n",
    "1. **Elastic Net logistic regression**  \n",
    "   - Perform an inner 5-fold `GridSearchCV` over the regularization strength (`C`) and mixing parameter (`l1_ratio`) using the `saga` solver.  \n",
    "   - Fit the best model on each training split and select genes with non-zero coefficients.\n",
    "\n",
    "2. **Random Forest ranking**  \n",
    "   - Tune `n_estimators`, `max_depth`, and `min_samples_leaf` via grid search on the same training splits.  \n",
    "   - Rank genes by `feature_importances_` and retain the top 20 per seed.\n",
    "\n",
    "3. **Stability analysis across seeds**  \n",
    "   - Repeat steps 1–2 over 5 different random seeds.  \n",
    "   - Define a gene as **stable** if it appears in all Elastic Net selections **and** in ≥ 2/5 RF top-20 lists.\n",
    "\n",
    "4. **Final signature**  \n",
    "   - Take the intersection of the stable Elastic Net and RF gene sets to form the robust, predictive signature."
   ]
  },
  {
   "cell_type": "markdown",
   "id": "0bc9cf18",
   "metadata": {},
   "source": [
    "### **4.1.** ***SmartSeq***\n",
    "In this section, we perform feature selection on the Smart-seq dataset, which consists of 3000 pre-filtered genes measured across 250 single cells."
   ]
  },
  {
   "cell_type": "markdown",
   "id": "86d67fd9",
   "metadata": {},
   "source": [
    "### **4.1.1.** Elastic Net Logistic Regression\n",
    "To reduce dimensionality and improve both predictive performance and interpretability, we use **Elastic Net**–regularized logistic regression. Elastic Net combines L₁ (Lasso) and L₂ (Ridge) penalties, which\n",
    "\n",
    "- **Promotes sparsity** through the L₁ term, zeroing out uninformative gene coefficients  \n",
    "- **Groups correlated features** via the L₂ term, yielding more stable and biologically coherent signatures   \n",
    "\n",
    "**Implementation details**  \n",
    "1. **Pipeline**  \n",
    "   - `StandardScaler()` → `LogisticRegression(penalty='elasticnet', solver='saga')`  \n",
    "2. **Hyperparameter tuning**  \n",
    "   - Wrap the pipeline in `GridSearchCV` with 5-fold CV (scoring=`roc_auc`)  \n",
    "   - Tune  \n",
    "     - **`clf__C`** ∈ [0.01, 0.1, 1, 10] (inverse regularization strength)  \n",
    "     - **`clf__l1_ratio`** ∈ [0.1, 0.5, 0.9] (L₁ vs. L₂ mix)  \n",
    "3. **Feature selection**  \n",
    "   - After grid search, fit the best model on each training fold  \n",
    "   - **Select genes** whose coefficients `coef_` ≠ 0  \n",
    "\n",
    "This embedded selection step yields a sparse, interpretable set of genes that capture the strongest signals distinguishing normoxia from hypoxia, while mitigating instability in the presence of co-expressed gene modules.\n"
   ]
  },
  {
   "cell_type": "code",
   "execution_count": 36,
   "id": "8b2afe82",
   "metadata": {},
   "outputs": [
    {
     "name": "stdout",
     "output_type": "stream",
     "text": [
      "Best C: 0.0127\n",
      "Best l1_ratio: 0.50\n",
      "Selected 9 genes from full training set using Elastic Net.\n"
     ]
    }
   ],
   "source": [
    "# Train LASSO with internal CV\n",
    "elastic_net = LogisticRegressionCV(\n",
    "    Cs=20,                   # 20 inverse‐regularization values\n",
    "    cv=5,                    # 5‐fold internal CV\n",
    "    penalty='elasticnet',    \n",
    "    solver='saga',            \n",
    "    l1_ratios=[0.1, 0.5, 0.9], # sweep over α = 0.1, 0.5, 0.9\n",
    "    scoring='roc_auc',        # use AUC for model selection\n",
    "    max_iter=10000,\n",
    "    random_state=42,\n",
    "    n_jobs=-1\n",
    ")\n",
    "elastic_net.fit(Xs_train_scaled, ys_train)\n",
    "\n",
    "best_C = elastic_net.C_[0]\n",
    "best_l1 = elastic_net.l1_ratio_[0]\n",
    "print(f\"Best C: {best_C:.4f}\")\n",
    "print(f\"Best l1_ratio: {best_l1:.2f}\")\n",
    "\n",
    "# Extract selected genes\n",
    "selector = SelectFromModel(elastic_net, prefit=True)\n",
    "selected_mask = selector.get_support()\n",
    "elastic_net_genes = Xs_train.columns[selected_mask]\n",
    "\n",
    "print(f\"Selected {len(elastic_net_genes)} genes from full training set using Elastic Net.\")"
   ]
  },
  {
   "cell_type": "code",
   "execution_count": 37,
   "id": "870a4159",
   "metadata": {},
   "outputs": [
    {
     "data": {
      "image/png": "[encoded data removed]",
      "text/plain": [
       "<Figure size 1200x400 with 1 Axes>"
      ]
     },
     "metadata": {},
     "output_type": "display_data"
    }
   ],
   "source": [
    "plt.figure(figsize=(12, 4))\n",
    "sns.histplot(elastic_net.coef_.flatten(), bins=50, color='navy', kde=True)\n",
    "plt.title(\"Coefficient Distribution (HCC1806)\")\n",
    "plt.xlabel(\"Coefficient Value\")\n",
    "plt.ylabel(\"Frequency\")\n",
    "plt.show()"
   ]
  },
  {
   "cell_type": "code",
   "execution_count": 38,
   "id": "796a9da4",
   "metadata": {},
   "outputs": [
    {
     "name": "stdout",
     "output_type": "stream",
     "text": [
      "Selected genes: ['DDIT4', 'ANGPTL4', 'NDRG1', 'EGLN3', 'CA9', 'BNIP3', 'LDHA', 'P4HA1', 'ALDOA']\n"
     ]
    }
   ],
   "source": [
    "selected_genes = Xs_train.columns[selected_mask]\n",
    "print(\"Selected genes:\", selected_genes.tolist())"
   ]
  },
  {
   "cell_type": "markdown",
   "id": "1b6f7942",
   "metadata": {},
   "source": [
    "### **4.1.2.** Random Forest Importance\n",
    "\n",
    "To capture non-linear gene–gene interactions and complement the linear Elastic Net selection, we apply a **Random Forest** classifier:\n",
    "\n",
    "1. **Pipeline**  \n",
    "   - Use `RandomForestClassifier()` (trees handle unscaled features directly).\n",
    "\n",
    "2. **Hyperparameter tuning**  \n",
    "   - Wrap the pipeline in `GridSearchCV` with 5-fold CV (scoring=`roc_auc`).  \n",
    "   - Tune key parameters:  \n",
    "     - **`n_estimators`** ∈ [100, 400, 600, 1000]  \n",
    "     - **`max_depth`** ∈ [None, 10, 20]  \n",
    "     - **`min_samples_leaf`** ∈ [1, 5]  \n",
    "\n",
    "3. **Feature importance**  \n",
    "   - Fit the best estimator on each training fold.  \n",
    "   - Rank genes by `feature_importances_`.  \n",
    "   - **Select the top 20 genes** per seed for downstream stability analysis.\n",
    "\n",
    "This non-linear ranking allows us to:\n",
    "- Verify which genes are important beyond the Elastic Net selection  \n",
    "- Ensure that high cross-validated performance is not driven solely by linear effects  \n",
    "- Provide a complementary perspective on gene relevance in the hypoxia vs. normoxia classification task  \n"
   ]
  },
  {
   "cell_type": "code",
   "execution_count": 39,
   "id": "c91c23e7",
   "metadata": {},
   "outputs": [
    {
     "name": "stdout",
     "output_type": "stream",
     "text": [
      "Fitting 3 folds for each of 24 candidates, totalling 72 fits\n"
     ]
    },
    {
     "name": "stdout",
     "output_type": "stream",
     "text": [
      "Best RF params: {'max_depth': None, 'min_samples_leaf': 1, 'n_estimators': 400}\n",
      "CV AUC: 0.9988344988344989\n",
      "RF ROC AUC on val (full genes): 1.0000\n",
      "Top 20 RF genes:\n",
      "EGLN3\n",
      "SLC2A1\n",
      "P4HA1\n",
      "CA9\n",
      "BNIP3L\n",
      "SLC6A8\n",
      "FAM162A\n",
      "ALDOA\n",
      "ANGPTL4\n",
      "DDIT4\n",
      "FUT11\n",
      "C4orf3\n",
      "PLIN2\n",
      "PGK1\n",
      "EGLN1\n",
      "BNIP3\n",
      "HK2\n",
      "LDHA\n",
      "ALDOC\n",
      "PFKFB3\n"
     ]
    }
   ],
   "source": [
    "param_grid = {\n",
    "  'n_estimators': [100, 400, 600, 1000],\n",
    "  'max_depth': [None, 10, 20],\n",
    "  'min_samples_leaf': [1, 5]\n",
    "}\n",
    "rf = RandomForestClassifier(random_state=0)\n",
    "\n",
    "grid = GridSearchCV(\n",
    "    rf,\n",
    "    param_grid,\n",
    "    cv=3,                    # small inner CV on the training split\n",
    "    scoring='roc_auc',\n",
    "    n_jobs=-1,\n",
    "    verbose=1\n",
    ")\n",
    "grid.fit(Xs_train_log, ys_train)\n",
    "\n",
    "print(\"Best RF params:\", grid.best_params_)\n",
    "print(\"CV AUC:\", grid.best_score_)\n",
    "\n",
    "rf.fit(Xs_train_log, ys_train)\n",
    "\n",
    "# Evaluate AUC on val\n",
    "ys_val_proba_rf = rf.predict_proba(Xs_val_log)[:, 1]\n",
    "auc_rf = roc_auc_score(ys_val, ys_val_proba_rf)\n",
    "print(f\"RF ROC AUC on val (full genes): {auc_rf:.4f}\")\n",
    "\n",
    "# Compute importances only for LASSO-selected genes\n",
    "importances = rf.feature_importances_\n",
    "gene_names = np.array(Xs_train.columns)\n",
    "top_indices = np.argsort(importances)[::-1][:20]\n",
    "top_rf_genes = gene_names[top_indices]\n",
    "\n",
    "print(\"Top 20 RF genes:\")\n",
    "for g in top_rf_genes[:20]:\n",
    "    print(g)"
   ]
  },
  {
   "cell_type": "markdown",
   "id": "43546fd1",
   "metadata": {},
   "source": [
    "### **4.1.3.** Stability Across Seeds\n",
    "Embedded selection methods can be sensitive to random initialization and the particular train–validation split. To ensure our final gene signature is **robust** and **reproducible**, we repeat the Elastic Net + Random Forest pipeline over multiple random seeds.  \n",
    "\n",
    "For each `seed`:\n",
    "   - **Train–validation split**: stratified 80/20 split with `random_state=seed`.  \n",
    "   - **Elastic Net**: fit the tuned model (`C=best_C`, `l1_ratio=best_l1_ratio`) on the scaled train fold → select non-zero genes.  \n",
    "   - **Random Forest**: fit the tuned RF (`n_estimators`, `max_depth`, `min_samples_leaf` from grid search) on the log-transformed train fold → pick top 20 genes by `feature_importances_`.\n",
    "\n",
    "This approach filters out genes that appear spuriously due to a particular split or random seed, enhancing reproducibility and ensuring that our downstream biological interpretations rest on a stable foundation."
   ]
  },
  {
   "cell_type": "code",
   "execution_count": 40,
   "id": "f786eb3f",
   "metadata": {},
   "outputs": [
    {
     "name": "stdout",
     "output_type": "stream",
     "text": [
      "\n",
      " Seed 7\n",
      "Top RF genes (sample): ['LOXL2', 'ALDOA', 'PLOD2', 'C4orf3', 'NDRG1']\n",
      "\n",
      " Seed 21\n",
      "Top RF genes (sample): ['BHLHE40', 'ALDOC', 'P4HA1', 'LDHA', 'PLIN2']\n",
      "\n",
      " Seed 42\n",
      "Top RF genes (sample): ['HILPDA', 'NDRG1', 'LOXL2', 'ALDOC', 'BHLHE40']\n",
      "\n",
      " Seed 123\n",
      "Top RF genes (sample): ['ALDOA', 'EGLN1', 'BHLHE40', 'SLC6A8', 'ERO1A']\n",
      "\n",
      " Seed 999\n",
      "Top RF genes (sample): ['PFKFB3', 'SLC6A8', 'PLIN2', 'EGLN1', 'P4HA1']\n"
     ]
    }
   ],
   "source": [
    "best_C = elastic_net.C_[0]\n",
    "best_l1_ratio = elastic_net.l1_ratio_[0]\n",
    "rf_params = grid.best_params_\n",
    "seeds = [7, 21, 42, 123, 999]\n",
    "\n",
    "en_sets = []\n",
    "rf_sets = []\n",
    "\n",
    "for seed in seeds:\n",
    "    print(f\"\\n Seed {seed}\")\n",
    "\n",
    "    # Stratified train/val split\n",
    "    X_train, _, y_train, _ = train_test_split(\n",
    "        Xs_train, ys_train, test_size=0.2,\n",
    "        stratify=ys_train, random_state=seed\n",
    "    )\n",
    "    #Normalize\n",
    "    X_train_log = np.log1p(X_train)\n",
    "\n",
    "    # Scaling on training set only\n",
    "    scaler = StandardScaler()\n",
    "    X_train_scaled = scaler.fit_transform(X_train_log)\n",
    "    X_train_scaled_df = pd.DataFrame(X_train_scaled, columns=X_train.columns)\n",
    "\n",
    "    # Elastic Net\n",
    "    en = LogisticRegression(\n",
    "        penalty='elasticnet', solver='saga',\n",
    "        C=best_C, l1_ratio=best_l1_ratio,\n",
    "        max_iter=10000, random_state=seed, n_jobs=-1\n",
    "    )\n",
    "    en.fit(X_train_scaled, y_train)\n",
    "\n",
    "    # Select non-zero genes\n",
    "    selector = SelectFromModel(en, prefit=True)\n",
    "    selected_en = X_train.columns[selector.get_support()]\n",
    "    en_sets.append(set(selected_en))\n",
    "\n",
    "    # RF for nonlinear ranking (Log Only)\n",
    "    rf = RandomForestClassifier(\n",
    "        n_estimators=rf_params['n_estimators'],\n",
    "        max_depth=rf_params['max_depth'],\n",
    "        min_samples_leaf=rf_params['min_samples_leaf'],\n",
    "        random_state=seed, n_jobs=-1\n",
    "    )\n",
    "    rf.fit(X_train_log, y_train)\n",
    "    importances = rf.feature_importances_\n",
    "    top_rf_genes_smart = X_train.columns[np.argsort(importances)[-20:]]\n",
    "    rf_sets.append(set(top_rf_genes_smart))\n",
    "    print(f\"Top RF genes (sample): {list(top_rf_genes_smart)[:5]}\")"
   ]
  },
  {
   "cell_type": "code",
   "execution_count": 41,
   "id": "1322751a",
   "metadata": {},
   "outputs": [
    {
     "name": "stdout",
     "output_type": "stream",
     "text": [
      "\n",
      "Final stable genes (5):\n",
      "['ALDOA', 'NDRG1', 'ANGPTL4', 'CA9', 'EGLN3']\n"
     ]
    }
   ],
   "source": [
    "en_counter_smart = Counter(g for s in en_sets for g in s)\n",
    "rf_counter_smart = Counter(g for s in rf_sets for g in s)\n",
    "\n",
    "stable_genes_smart = [g for g,c in en_counter_smart.items() if c >= 5 and rf_counter_smart[g] >= 2]\n",
    "print(f\"\\nFinal stable genes ({len(stable_genes_smart)}):\\n{stable_genes_smart}\")"
   ]
  },
  {
   "cell_type": "code",
   "execution_count": 42,
   "id": "14482017",
   "metadata": {},
   "outputs": [],
   "source": [
    "# Save as txt file\n",
    "with open(\"stable_genes_hcc_smart.txt\", \"w\") as f:\n",
    "    for g in stable_genes_smart:\n",
    "        f.write(g + \"\\n\")"
   ]
  },
  {
   "cell_type": "markdown",
   "id": "85e66025",
   "metadata": {},
   "source": [
    "### **4.2.** ***DropSeq***  \n",
    "This section performs feature selection on the Drop-seq dataset, which consists of the 300 pre-filtered genes and about $\\sim$ 14000 cells.\n"
   ]
  },
  {
   "cell_type": "markdown",
   "id": "b941ff20",
   "metadata": {},
   "source": [
    "### **4.2.1.** Elastic Net Logistic Regression  \n",
    "After MI filtering, we\n",
    "1. **Apply Elastic Net logistic regression** (embedded selection)  \n",
    "2. **Tune** both the inverse‐regularization strength `C` and the elastic‐net mix `l1_ratio` via 5-fold `GridSearchCV` (scoring=`roc_auc`)  \n",
    "3. **Extract** top genes  \n",
    "\n",
    "This combination of sparsity (L₁) and grouping (L₂) penalties helps guard against noisy, correlated predictors while ensuring we capture the strongest, most reproducible signals."
   ]
  },
  {
   "cell_type": "code",
   "execution_count": 43,
   "id": "4d38c172",
   "metadata": {},
   "outputs": [
    {
     "name": "stdout",
     "output_type": "stream",
     "text": [
      "Fitting 5 folds for each of 15 candidates, totalling 75 fits\n",
      "Best hyperparameters: {'clf__C': 0.005, 'clf__l1_ratio': 0.1}\n",
      "Number of genes retained by Elastic Net: 208\n",
      "Shape of selected feature matrix: (11745, 208)\n",
      "Selected genes: ['MALAT1', 'BCYRN1', 'IGFBP3', 'DDIT4', 'MT-TV', 'MIR320A', 'HSP90B1', 'NDRG1', 'MIR210HG', 'MT-TQ', 'BTBD9', 'DLX2', 'GDPGP1', 'ENO1', 'ZADH2', 'GPM6A', 'HNRNPA2B1', 'TRMT2A', 'MT-ND1', 'H2AC12', 'FGF23', 'DANT1', 'AKR1C2', 'PKMYT1', 'TMSB10', 'RPS28', 'LDHA', 'CTDP1', 'H4C5', 'GABRE', 'SCN7A', 'RPS5', 'PGAM1', 'NCL', 'RHOQP3', 'FOXP4', 'UNC13D', 'NCALD', 'EGLN3', 'LIMD2', 'SQOR', 'BNIP3', 'COMMD6', 'B4GALT1', 'GPI', 'P4HA1', 'RPL41', 'COX8A', 'PROSER1', 'PGK1', 'HEPACAM', 'AHNAK2', 'TMEM79', 'RPL35', 'SHOX', 'S100A10', 'SERF2', 'ZNF117', 'HSP90AB1', 'AIP', 'RPL12', 'CXCL8', 'TMSB4X', 'NPM1P40', 'RPL39', 'PAQR7', 'H3C2', 'HLA-DPB1', 'PDLIM4', 'HBM', 'IVL', 'SOX21-AS1', 'CHTF18', 'KCNJ3', 'BNIP3L', 'S100A11', 'HNRNPU', 'LINC01637', 'B3GAT2', 'PPP1R3G', 'WWC1', 'CSTB', 'NCK1', 'CPEB1', 'MLLT3', 'ATP5PDP3', 'WNT4', 'ZFP36L1', 'RPLP1', 'KRT19', 'FOXP1', 'TPI1', 'TPT1', 'ARID4A', 'TMEM52B', 'PCIF1', 'FAM111A-DT', 'FGFBP3', 'ZNF324', 'NAALADL2', 'CACNA1A', 'TTC19', 'BAP1', 'HSPD1', 'MOGS', 'RPL28', 'RAD54L2', 'PPP1R21', 'RCCD1-AS1', 'SENP7', 'ZNF302', 'EEF2', 'CCDC9B', 'RPL21P34', 'MFSD5', 'PRRG3', 'CENPBD1', 'P2RY2', 'C19orf81', 'CAST', 'S100A6', 'AKR1C1', 'KAT7', 'ADORA2B', 'LINC00911', 'PLOD2', 'ATP6V1B2', 'C19orf54', 'ESR1', 'MED18', 'CMAS', 'TOP2A', 'RPS8', 'GADD45B', 'MT1X', 'CBX3', 'KRT10', 'MED29', 'KCNJ2', 'RPL21', 'HSP90AA1', 'PGPEP1', 'TRAPPC14', 'FAM83A', 'WDR43', 'SNAP47', 'RPS3', 'TRIM44', 'CLASRP', 'CALM2', 'BRMS1', 'PFKP', 'FOSL1', 'DBT', 'TAF1A', 'RPL8', 'NUP93', 'KMT5B', 'UQCRQ', 'PSMA7', 'ERO1A', 'TRPV4', 'RPL18', 'MICAL2', 'SNURF', 'SNORD3B-1', 'SCNM1', 'YWHAZ', 'ARID5B', 'ZC3H15', 'CDCA4', 'EIF3J', 'CASC9', 'TEX30', 'RBBP8NL', 'UPF3B', 'CHCHD7', 'RTF1', 'ZHX1', 'ATP5MG', 'DHX40', 'FRY', 'PCBP1', 'CDK19', 'DNMT1', 'POLR2F', 'RPL13', 'HEY1', 'SIX3', 'PDLIM3', 'ZDHHC12', 'SLC25A48', 'HMGN3', 'DYSF', 'PPIG', 'TAF15', 'MARCKS', 'MYO1C', 'RHPN1', 'HSPB1', 'ATP5F1E', 'UBC', 'SART1', 'CAP1', 'RAC1', 'ZFAS1', 'CDKN3', 'DLD']\n"
     ]
    }
   ],
   "source": [
    "pipe_en = Pipeline([\n",
    "    ('scaler', StandardScaler()),\n",
    "    ('clf', LogisticRegression(\n",
    "        penalty='elasticnet',\n",
    "        solver='saga',\n",
    "        max_iter=10000,\n",
    "        random_state=42\n",
    "    ))\n",
    "])\n",
    "\n",
    "# 2) Define hyperparameter grid\n",
    "param_grid = {\n",
    "    'clf__C':        [0.0005, 0.001, 0.005, 0.01, 0.05],\n",
    "    'clf__l1_ratio': [0.1, 0.5, 0.9]\n",
    "}\n",
    "\n",
    "# 3) GridSearchCV on Drop-seq training data\n",
    "search = GridSearchCV(\n",
    "    pipe_en,\n",
    "    param_grid,\n",
    "    cv=5,\n",
    "    scoring='roc_auc',\n",
    "    n_jobs=-1,\n",
    "    verbose=1\n",
    ")\n",
    "search.fit(Xd_train_log, yd_train)   # Xd_train: cells×300 genes, yd_train: labels\n",
    "\n",
    "best_model = search.best_estimator_\n",
    "# Extract scaled training data (pipeline includes StandardScaler)\n",
    "X_scaled = best_model.named_steps['scaler'].transform(Xd_train_log)\n",
    "\n",
    "# Get coefficient array from the LogisticRegression step\n",
    "coefs = best_model.named_steps['clf'].coef_.ravel()\n",
    "\n",
    "# Build a boolean mask of which coefficients are nonzero\n",
    "selected_mask = np.abs(coefs) > 1e-8\n",
    "\n",
    "# Subset the gene names and the data\n",
    "selected_genes = list(Xd_train_log.columns[selected_mask])\n",
    "X_selected = Xd_train_log.loc[:, selected_mask]\n",
    "\n",
    "# Output results\n",
    "print(\"Best hyperparameters:\", search.best_params_)\n",
    "print(f\"Number of genes retained by Elastic Net: {len(selected_genes)}\")\n",
    "print(\"Shape of selected feature matrix:\", X_selected.shape)\n",
    "print(\"Selected genes:\", selected_genes)"
   ]
  },
  {
   "cell_type": "markdown",
   "id": "862d2581",
   "metadata": {},
   "source": [
    "### **4.2.2** Random Forest Validation  \n",
    "To validate the informativeness of the selected genes, we train a **Random Forest classifier** on the top MI-filtered genes.\n",
    "\n",
    "This non-linear ensemble method provides an alternative perspective on gene importance, complementary to Elastic Net.  \n",
    "We extract the top genes by importance score.\n",
    "\n",
    "This step ensures that the selected features are not only sparse but also robust across model types.\n"
   ]
  },
  {
   "cell_type": "code",
   "execution_count": 44,
   "id": "1040a7ab",
   "metadata": {},
   "outputs": [
    {
     "name": "stdout",
     "output_type": "stream",
     "text": [
      "Fitting 5 folds for each of 24 candidates, totalling 120 fits\n"
     ]
    },
    {
     "name": "stderr",
     "output_type": "stream",
     "text": [
      "/opt/anaconda3/envs/ai_lab/lib/python3.12/site-packages/joblib/externals/loky/process_executor.py:752: UserWarning: A worker stopped while some jobs were given to the executor. This can be caused by a too short worker timeout or by a memory leak.\n",
      "  warnings.warn(\n"
     ]
    },
    {
     "name": "stdout",
     "output_type": "stream",
     "text": [
      "Best RF params: {'clf__max_depth': None, 'clf__min_samples_leaf': 1, 'clf__n_estimators': 1000}\n",
      "Top 20 genes by RF importance:\n",
      "NDRG1: 0.04771\n",
      "AKR1C2: 0.03631\n",
      "IGFBP3: 0.03478\n",
      "FGF23: 0.03331\n",
      "BCYRN1: 0.03170\n",
      "HSP90AA1: 0.03004\n",
      "AKR1C1: 0.02940\n",
      "WDR43: 0.02753\n",
      "HSPD1: 0.02689\n",
      "LDHA: 0.02637\n",
      "GPM6A: 0.02323\n",
      "NCL: 0.02169\n",
      "EIF3J: 0.01958\n",
      "RPL41: 0.01848\n",
      "MALAT1: 0.01750\n",
      "HSP90AB1: 0.01719\n",
      "ENO1: 0.01635\n",
      "TMSB10: 0.01599\n",
      "RPS28: 0.01472\n",
      "P4HA1: 0.01471\n"
     ]
    }
   ],
   "source": [
    "# Random Forest validation on selected genes\n",
    "pipe_rf = Pipeline([\n",
    "    ('clf', RandomForestClassifier(random_state=42))\n",
    "])\n",
    "\n",
    "param_grid_rf = {\n",
    "    'clf__n_estimators':    [100, 400, 600, 1000],\n",
    "    'clf__max_depth':       [None, 10, 20],\n",
    "    'clf__min_samples_leaf':[1, 5]\n",
    "}\n",
    "search_rf = GridSearchCV(\n",
    "    pipe_rf,\n",
    "    param_grid_rf,\n",
    "    cv=5,\n",
    "    scoring='roc_auc',\n",
    "    n_jobs=-1,\n",
    "    verbose=1\n",
    ")\n",
    "search_rf.fit(Xd_train_log, yd_train)\n",
    "\n",
    "best_rf = search_rf.best_estimator_\n",
    "print(\"Best RF params:\", search_rf.best_params_)\n",
    "\n",
    "# Feature importances\n",
    "importances = best_rf.named_steps['clf'].feature_importances_\n",
    "gene_names = np.array(selected_mi_genes)\n",
    "top_rf_indices = np.argsort(importances)[::-1][:20]\n",
    "\n",
    "print(\"Top 20 genes by RF importance:\")\n",
    "for i in top_rf_indices:\n",
    "    print(f\"{gene_names[i]}: {importances[i]:.5f}\")"
   ]
  },
  {
   "cell_type": "markdown",
   "id": "05c92461",
   "metadata": {},
   "source": [
    "### **4.2.3.** Stability Analysis Across Seeds  \n",
    "To ensure robustness, we repeat Elastic Net and Random Forest selection across multiple random seeds.  \n",
    "\n",
    "For each seed, we extract the top genes selected by each method. Then, we count how often each gene is selected across runs.  \n",
    "This allows us to identify **stable genes** that consistently appear regardless of random initialization — a proxy for reliability.\n"
   ]
  },
  {
   "cell_type": "code",
   "execution_count": 45,
   "id": "9b0f0459",
   "metadata": {},
   "outputs": [],
   "source": [
    "X_train_mi_df = pd.DataFrame(Xd_train_scaled, columns=selected_mi_genes, index=Xd_train.index)\n",
    "\n",
    "seeds = [7, 21, 42, 123, 999]\n",
    "drop_en_sets = []\n",
    "drop_rf_sets = []\n",
    "\n",
    "for seed in seeds:\n",
    "    # 1) Stratified split on MI-filtered features\n",
    "    X_tr_mi, _, y_tr, _ = train_test_split(\n",
    "        X_train_mi_df, yd_train, \n",
    "        test_size=0.2, stratify=yd_train, random_state=seed\n",
    "    )\n",
    "    # Corresponding log data for RF (same train indices)\n",
    "    train_idx = X_tr_mi.index\n",
    "    X_tr_log = Xd_train_log.loc[train_idx, selected_mi_genes]\n",
    "    \n",
    "    # 2) Elastic Net selection\n",
    "    en = LogisticRegression(\n",
    "        penalty='elasticnet', solver='saga',\n",
    "        C=best_C, l1_ratio=best_l1_ratio,\n",
    "        max_iter=10000, random_state=seed, n_jobs=-1\n",
    "    )\n",
    "    en.fit(X_tr_mi, y_tr)\n",
    "    selector_en = SelectFromModel(en, threshold=1e-8, prefit=True)\n",
    "    en_genes = X_tr_mi.columns[selector_en.get_support()]\n",
    "    drop_en_sets.append(set(en_genes))\n",
    "    \n",
    "    # 3) Random Forest ranking\n",
    "    rf = RandomForestClassifier(\n",
    "        n_estimators=rf_params['n_estimators'],\n",
    "        max_depth=rf_params['max_depth'],\n",
    "        min_samples_leaf=rf_params['min_samples_leaf'],\n",
    "        random_state=seed, n_jobs=-1\n",
    "    )\n",
    "    rf.fit(X_tr_log, y_tr)\n",
    "    importances = rf.feature_importances_\n",
    "    top20 = X_tr_mi.columns[np.argsort(importances)[-20:]]\n",
    "    drop_rf_sets.append(set(top20))\n"
   ]
  },
  {
   "cell_type": "code",
   "execution_count": 46,
   "id": "fe5e40f6",
   "metadata": {},
   "outputs": [
    {
     "name": "stdout",
     "output_type": "stream",
     "text": [
      "Stable Drop-seq Genes (20):\n",
      "['ENO1', 'EIF3J', 'LDHA', 'P4HA1', 'WDR43', 'BCYRN1', 'GPM6A', 'FGF23', 'NCL', 'AKR1C2', 'NDRG1', 'AKR1C1', 'IGFBP3', 'HSPD1', 'RPS28', 'TMSB10', 'HSP90AA1', 'HSP90AB1', 'MALAT1', 'RPL41']\n"
     ]
    }
   ],
   "source": [
    "en_counter = Counter(g for s in drop_en_sets for g in s)\n",
    "rf_counter = Counter(g for s in drop_rf_sets for g in s)\n",
    "\n",
    "stable_genes_drop = [\n",
    "    g for g, c in en_counter.items()\n",
    "    if c >= 5 and rf_counter[g] >= 2\n",
    "]\n",
    "\n",
    "print(f\"Stable Drop-seq Genes ({len(stable_genes_drop)}):\")\n",
    "print(stable_genes_drop)"
   ]
  },
  {
   "cell_type": "code",
   "execution_count": 47,
   "id": "a9e33aba",
   "metadata": {},
   "outputs": [],
   "source": [
    "# Save stable genes for Drop-seq\n",
    "with open(\"stable_genes_hcc_drop.txt\", \"w\") as f:\n",
    "    for g in stable_genes_drop:\n",
    "        f.write(g + \"\\n\")"
   ]
  },
  {
   "cell_type": "markdown",
   "id": "7c9858b0",
   "metadata": {},
   "source": [
    "## **5.** Biological Enrichment\n",
    "---"
   ]
  },
  {
   "cell_type": "markdown",
   "id": "9feb525b",
   "metadata": {},
   "source": [
    "To provide a clear biological interpretation of the selected gene set (`stable_genes_smart`), we performed a **Gene Set Over-Representation Analysis** (ORA). It tests whether our selected list of genes significantly overlaps predefined curated gene sets related to biological processes.  \n",
    "\n",
    "We specifically focused on two distinct curated gene set resources to better interpret our results:\n",
    " - **MSigDB Hallmark**:  \n",
    "    Hallmark gene sets are high-quality, curated gene signatures clearly associated with specific biological states or conditions—in this case, hypoxia (low oxygen levels).\n",
    "\n",
    "- **Gene Ontology (GO) Biological Process (BP)**:  \n",
    "    GO provides a broad, structured vocabulary describing biological processes. Using GO BP gene sets, we can more comprehensively understand the general biological processes linked with hypoxia.\n",
    "\n",
    "We tested our selected genes against these two hypoxia-specific gene sets using the `gseapy` Python library. "
   ]
  },
  {
   "cell_type": "markdown",
   "id": "c82a8a5b",
   "metadata": {},
   "source": [
    "> **Note:** We’re not experts in biology, so we’ll keep this to the key takeaways without over‐interpreting."
   ]
  },
  {
   "cell_type": "markdown",
   "id": "d2b64d42",
   "metadata": {},
   "source": [
    "### **5.1.** ***SmartSeq***"
   ]
  },
  {
   "cell_type": "markdown",
   "id": "63f01a10",
   "metadata": {},
   "source": [
    "#### **5.1.1.** Over - Representation Analysis (ORA)"
   ]
  },
  {
   "cell_type": "markdown",
   "id": "1647ac32",
   "metadata": {},
   "source": [
    "We are asking: “Of the pathways or GO terms in that gene set database, which ones contain more of my genes than you’d expect by random chance?”"
   ]
  },
  {
   "cell_type": "code",
   "execution_count": 48,
   "id": "266dc3c2",
   "metadata": {},
   "outputs": [
    {
     "name": "stdout",
     "output_type": "stream",
     "text": [
      "\n",
      "=== MSigDB_Hallmark ===\n"
     ]
    },
    {
     "data": {
      "text/html": [
       "<div>\n",
       "<style scoped>\n",
       "    .dataframe tbody tr th:only-of-type {\n",
       "        vertical-align: middle;\n",
       "    }\n",
       "\n",
       "    .dataframe tbody tr th {\n",
       "        vertical-align: top;\n",
       "    }\n",
       "\n",
       "    .dataframe thead th {\n",
       "        text-align: right;\n",
       "    }\n",
       "</style>\n",
       "<table border=\"1\" class=\"dataframe\">\n",
       "  <thead>\n",
       "    <tr style=\"text-align: right;\">\n",
       "      <th></th>\n",
       "      <th>Term</th>\n",
       "      <th>Overlap</th>\n",
       "      <th>Adjusted P-value</th>\n",
       "      <th>Genes</th>\n",
       "    </tr>\n",
       "  </thead>\n",
       "  <tbody>\n",
       "    <tr>\n",
       "      <th>3</th>\n",
       "      <td>HALLMARK_GLYCOLYSIS</td>\n",
       "      <td>3/200</td>\n",
       "      <td>0.001809</td>\n",
       "      <td>ALDOA;ANGPTL4;EGLN3</td>\n",
       "    </tr>\n",
       "    <tr>\n",
       "      <th>4</th>\n",
       "      <td>HALLMARK_HYPOXIA</td>\n",
       "      <td>3/200</td>\n",
       "      <td>0.001809</td>\n",
       "      <td>ALDOA;ANGPTL4;NDRG1</td>\n",
       "    </tr>\n",
       "    <tr>\n",
       "      <th>0</th>\n",
       "      <td>HALLMARK_ADIPOGENESIS</td>\n",
       "      <td>2/200</td>\n",
       "      <td>0.029229</td>\n",
       "      <td>ALDOA;ANGPTL4</td>\n",
       "    </tr>\n",
       "    <tr>\n",
       "      <th>7</th>\n",
       "      <td>HALLMARK_MTORC1_SIGNALING</td>\n",
       "      <td>2/200</td>\n",
       "      <td>0.029229</td>\n",
       "      <td>ALDOA;EGLN3</td>\n",
       "    </tr>\n",
       "    <tr>\n",
       "      <th>1</th>\n",
       "      <td>HALLMARK_ANDROGEN_RESPONSE</td>\n",
       "      <td>1/101</td>\n",
       "      <td>0.170424</td>\n",
       "      <td>NDRG1</td>\n",
       "    </tr>\n",
       "  </tbody>\n",
       "</table>\n",
       "</div>"
      ],
      "text/plain": [
       "                         Term Overlap  Adjusted P-value                Genes\n",
       "3         HALLMARK_GLYCOLYSIS   3/200          0.001809  ALDOA;ANGPTL4;EGLN3\n",
       "4            HALLMARK_HYPOXIA   3/200          0.001809  ALDOA;ANGPTL4;NDRG1\n",
       "0       HALLMARK_ADIPOGENESIS   2/200          0.029229        ALDOA;ANGPTL4\n",
       "7   HALLMARK_MTORC1_SIGNALING   2/200          0.029229          ALDOA;EGLN3\n",
       "1  HALLMARK_ANDROGEN_RESPONSE   1/101          0.170424                NDRG1"
      ]
     },
     "metadata": {},
     "output_type": "display_data"
    },
    {
     "name": "stdout",
     "output_type": "stream",
     "text": [
      "\n",
      "=== GO_BP ===\n"
     ]
    },
    {
     "data": {
      "text/html": [
       "<div>\n",
       "<style scoped>\n",
       "    .dataframe tbody tr th:only-of-type {\n",
       "        vertical-align: middle;\n",
       "    }\n",
       "\n",
       "    .dataframe tbody tr th {\n",
       "        vertical-align: top;\n",
       "    }\n",
       "\n",
       "    .dataframe thead th {\n",
       "        text-align: right;\n",
       "    }\n",
       "</style>\n",
       "<table border=\"1\" class=\"dataframe\">\n",
       "  <thead>\n",
       "    <tr style=\"text-align: right;\">\n",
       "      <th></th>\n",
       "      <th>Term</th>\n",
       "      <th>Overlap</th>\n",
       "      <th>Adjusted P-value</th>\n",
       "      <th>Genes</th>\n",
       "    </tr>\n",
       "  </thead>\n",
       "  <tbody>\n",
       "    <tr>\n",
       "      <th>133</th>\n",
       "      <td>GOBP_RESPONSE_TO_OXYGEN_LEVELS</td>\n",
       "      <td>4/357</td>\n",
       "      <td>0.000117</td>\n",
       "      <td>ANGPTL4;EGLN3;NDRG1;CA9</td>\n",
       "    </tr>\n",
       "    <tr>\n",
       "      <th>128</th>\n",
       "      <td>GOBP_RESPONSE_TO_ABIOTIC_STIMULUS</td>\n",
       "      <td>4/1185</td>\n",
       "      <td>0.006908</td>\n",
       "      <td>ANGPTL4;EGLN3;NDRG1;CA9</td>\n",
       "    </tr>\n",
       "    <tr>\n",
       "      <th>34</th>\n",
       "      <td>GOBP_FRUCTOSE_1_6_BISPHOSPHATE_METABOLIC_PROCESS</td>\n",
       "      <td>1/9</td>\n",
       "      <td>0.043295</td>\n",
       "      <td>ALDOA</td>\n",
       "    </tr>\n",
       "    <tr>\n",
       "      <th>101</th>\n",
       "      <td>GOBP_PROTEIN_UNFOLDING</td>\n",
       "      <td>1/5</td>\n",
       "      <td>0.043295</td>\n",
       "      <td>ANGPTL4</td>\n",
       "    </tr>\n",
       "    <tr>\n",
       "      <th>22</th>\n",
       "      <td>GOBP_CHYLOMICRON_REMODELING</td>\n",
       "      <td>1/7</td>\n",
       "      <td>0.043295</td>\n",
       "      <td>ANGPTL4</td>\n",
       "    </tr>\n",
       "  </tbody>\n",
       "</table>\n",
       "</div>"
      ],
      "text/plain": [
       "                                                 Term Overlap  \\\n",
       "133                    GOBP_RESPONSE_TO_OXYGEN_LEVELS   4/357   \n",
       "128                 GOBP_RESPONSE_TO_ABIOTIC_STIMULUS  4/1185   \n",
       "34   GOBP_FRUCTOSE_1_6_BISPHOSPHATE_METABOLIC_PROCESS     1/9   \n",
       "101                            GOBP_PROTEIN_UNFOLDING     1/5   \n",
       "22                        GOBP_CHYLOMICRON_REMODELING     1/7   \n",
       "\n",
       "     Adjusted P-value                    Genes  \n",
       "133          0.000117  ANGPTL4;EGLN3;NDRG1;CA9  \n",
       "128          0.006908  ANGPTL4;EGLN3;NDRG1;CA9  \n",
       "34           0.043295                    ALDOA  \n",
       "101          0.043295                  ANGPTL4  \n",
       "22           0.043295                  ANGPTL4  "
      ]
     },
     "metadata": {},
     "output_type": "display_data"
    }
   ],
   "source": [
    "paths = {\n",
    "    \"MSigDB_Hallmark\": \"../Data/MSigDB_Hallmark.gmt\",\n",
    "    \"GO_BP\":  \"../Data/GO_BP.gmt\",\n",
    "}\n",
    "\n",
    "for name, p in paths.items():\n",
    "    enr = gp.enrichr(\n",
    "        gene_list=stable_genes_smart,\n",
    "        gene_sets=p,          # point to one local GMT file\n",
    "        organism='Human',\n",
    "        outdir=None,\n",
    "        cutoff=0.05\n",
    "    )\n",
    "    df_smart = enr.results.sort_values(\"Adjusted P-value\")\n",
    "    print(f\"\\n=== {name} ===\")\n",
    "    display(df_smart[['Term','Overlap','Adjusted P-value','Genes']].head(5))"
   ]
  },
  {
   "cell_type": "markdown",
   "id": "ef807e8f",
   "metadata": {},
   "source": [
    "##### Hallmark Gene Sets\n",
    "\n",
    "- **HALLMARK_HYPOXIA (p ≈ 1.81 × 10⁻³)**  \n",
    "  - **Overlap:** 3 of our 200 genes (*NDRG1, ALDOA, ANGPTL4*) are part of this hallmark set.  \n",
    "  - **Interpretation:** These genes are strongly linked to the cellular response to oxygen deprivation—a key signature of hypoxia, which is the biological state we're trying to identify.\n",
    "\n",
    "- **HALLMARK_GLYCOLYSIS (p ≈ 1.81 × 10⁻³)**  \n",
    "  - **Overlap:** 3 of 200 genes (*ANGPTL4, ALDOA, EGLN3*) are included.  \n",
    "  - **Takeaway:** Glycolysis is the anaerobic pathway activated under low-oxygen conditions. This enrichment underscores the metabolic reprogramming typical of hypoxic cells.\n",
    "\n",
    "##### GO Biological Processes\n",
    "\n",
    "- **Response to Oxygen Levels (p ≈ 1.17 × 10⁻⁴)**  \n",
    "  - **Overlap:** 4 genes (*NDRG1, CA9, ANGPTL4, EGLN3*).  \n",
    "  - **Why it matters:** This highly enriched term directly aligns with the hypoxia signature, confirming that your gene set is significantly involved in oxygen-level sensing and adaptation.\n",
    "\n",
    "- **Response to Abiotic Stimulus (p ≈ 6.91 × 10⁻³)**  \n",
    "  - **Overlap:** Same 4 genes as above.  \n",
    "  - **Takeaway:** Reinforces that these genes are not random—they respond to harsh environmental changes like oxygen deprivation.\n",
    "\n",
    "The enrichment landscape offers a coherent biological narrative: your selected genes (from `stable_genes_smart`) are significantly associated with **hypoxia**, **glycolysis**, and **oxygen-level responses**. Core genes such as *ALDOA, ANGPTL4, EGLN3,* and *NDRG1* appear repeatedly across pathways, reinforcing their importance in the oxygen-deprived state. This biological coherence supports the robustness and functional relevance of your identified gene set.\n"
   ]
  },
  {
   "cell_type": "markdown",
   "id": "7931d489",
   "metadata": {},
   "source": [
    "#### **5.1.2.** Comparison with Buffa's signature"
   ]
  },
  {
   "cell_type": "markdown",
   "id": "7cde6446",
   "metadata": {},
   "source": [
    "To provide external validation, we compared our 12‐gene core list against the published Buffa signature of hypoxia."
   ]
  },
  {
   "cell_type": "code",
   "execution_count": 49,
   "id": "c81c8eff",
   "metadata": {},
   "outputs": [
    {
     "name": "stdout",
     "output_type": "stream",
     "text": [
      "Extracted 50 BUFFA genes.\n",
      "['ACOT7', 'ADM', 'AK4', 'ANKRD37', 'ANLN', 'BNIP3', 'CA9', 'CDKN3', 'CHCHD2', 'CORO1C', 'CTSV', 'DDIT4', 'ENO1', 'ESRP1', 'GAPDH', 'GPI', 'HILPDA', 'HK2', 'KIF20A', 'KIF4A', 'LDHA', 'LRRC42', 'MAD2L2', 'MAP7D1', 'MCTS1', 'MIF', 'MRGBP', 'MRPL13', 'MRPL15', 'MRPS17', 'NDRG1', 'P4HA1', 'PFKP', 'PGAM1', 'PGK1', 'PNP', 'PSMA7', 'PSRC1', 'SEC61G', 'SHCBP1', 'SLC16A1', 'SLC25A32', 'SLC2A1', 'TPI1', 'TUBA1A', 'TUBA1C', 'TUBB6', 'UTP11', 'VEGFA', 'YKT6']\n"
     ]
    }
   ],
   "source": [
    "# Load the BUFFA GMT file\n",
    "with open(\"../Data/buffa_hypoxia.gmt\", \"r\") as f:\n",
    "    lines = f.readlines()\n",
    "\n",
    "# Parse the first (and only) line: format is [name, description, gene1, gene2, ...]\n",
    "buffa_line = lines[0].strip().split(\"\\t\")\n",
    "buffa_genes = buffa_line[2:]  # skip 'name' and 'description'\n",
    "\n",
    "print(f\"Extracted {len(buffa_genes)} BUFFA genes.\")\n",
    "print(buffa_genes)  # View them"
   ]
  },
  {
   "cell_type": "code",
   "execution_count": 50,
   "id": "cc3de839",
   "metadata": {},
   "outputs": [
    {
     "name": "stdout",
     "output_type": "stream",
     "text": [
      "Overlap of 2 genes between our selected genes and Buffa genes:\n",
      "['CA9', 'NDRG1']\n"
     ]
    }
   ],
   "source": [
    "gene_names_in_dataset = set(stable_genes_smart)\n",
    "\n",
    "# Convert BUFFA gene list to a set\n",
    "buffa_set = set(buffa_genes)\n",
    "\n",
    "# Compute intersection with your dataset\n",
    "found_genes = list(buffa_set & gene_names_in_dataset)\n",
    "\n",
    "\n",
    "print(f\"Overlap of {len(found_genes)} genes between our selected genes and Buffa genes:\")\n",
    "print(sorted(found_genes))"
   ]
  },
  {
   "cell_type": "markdown",
   "id": "fcca1388",
   "metadata": {},
   "source": [
    "#### **5.1.3.** Expression Patterns of Top Stable Genes\n",
    "To evaluate the biological interpretability of the features selected for classification, we visualized the expression distribution of the top 6 stable genes. "
   ]
  },
  {
   "cell_type": "code",
   "execution_count": 51,
   "id": "83ecbd38",
   "metadata": {},
   "outputs": [
    {
     "data": {
      "image/png": "[encoded data removed]",
      "text/plain": [
       "<Figure size 1500x800 with 5 Axes>"
      ]
     },
     "metadata": {},
     "output_type": "display_data"
    }
   ],
   "source": [
    "# Prepare merged DataFrame\n",
    "Xs_vis = X_hcc_smart[stable_genes_smart].copy()\n",
    "Xs_vis[\"Label\"] = y_hcc_smart\n",
    "\n",
    "# Choose top N genes to visualize\n",
    "top_genes_smart = stable_genes_smart[:6]  # or sort by RF importance\n",
    "\n",
    "# Plot\n",
    "fig, axes = plt.subplots(nrows=2, ncols=3, figsize=(15, 8))\n",
    "for i, gene in enumerate(top_genes_smart):\n",
    "    ax = axes.flat[i]\n",
    "    sns.violinplot(x=\"Label\", y=gene, hue=\"Label\", data=Xs_vis, ax=ax,\n",
    "                   inner=\"box\", palette=\"coolwarm\", legend=False)\n",
    "    ax.set_title(gene)\n",
    "    ax.set_xlabel(\"Condition\")\n",
    "    ax.set_ylabel(\"Expression\")\n",
    "\n",
    "# Remove unused subplots if any\n",
    "for j in range(i + 1, len(axes.flat)):\n",
    "    fig.delaxes(axes.flat[j])\n",
    "\n",
    "fig.suptitle(\"Expression of Top Stable Genes by Condition (Smart-seq)\", fontsize=14, y=1.02)\n",
    "plt.tight_layout()\n",
    "plt.show()"
   ]
  },
  {
   "cell_type": "markdown",
   "id": "b5c37ef1",
   "metadata": {},
   "source": [
    "Each violin plot shows the expression of a gene across the two conditions: **Normoxia (0)** and **Hypoxia (1)**. The inner boxplot indicates the interquartile range and median.\n",
    "\n",
    "Several genes exhibit strong differential expression between the two conditions — for instance, some genes display clear shifts in expression levels, supporting their discriminative power. This validates their inclusion in the model and highlights their potential biological relevance in hypoxia response mechanisms.\n",
    "\n",
    "The consistency of these patterns reinforces confidence in the robustness of the supervised model and the biological validity of the selected features."
   ]
  },
  {
   "cell_type": "markdown",
   "id": "c1ee8721",
   "metadata": {},
   "source": [
    "### **5.2.** ***DropSeq***"
   ]
  },
  {
   "cell_type": "markdown",
   "id": "5a7a567a",
   "metadata": {},
   "source": [
    "#### **5.2.1.** Over - Representation Analysis"
   ]
  },
  {
   "cell_type": "code",
   "execution_count": 52,
   "id": "1f9f397b",
   "metadata": {},
   "outputs": [
    {
     "name": "stdout",
     "output_type": "stream",
     "text": [
      "\n",
      "=== MSigDB_Hallmark ===\n"
     ]
    },
    {
     "data": {
      "text/html": [
       "<div>\n",
       "<style scoped>\n",
       "    .dataframe tbody tr th:only-of-type {\n",
       "        vertical-align: middle;\n",
       "    }\n",
       "\n",
       "    .dataframe tbody tr th {\n",
       "        vertical-align: top;\n",
       "    }\n",
       "\n",
       "    .dataframe thead th {\n",
       "        text-align: right;\n",
       "    }\n",
       "</style>\n",
       "<table border=\"1\" class=\"dataframe\">\n",
       "  <thead>\n",
       "    <tr style=\"text-align: right;\">\n",
       "      <th></th>\n",
       "      <th>Term</th>\n",
       "      <th>Overlap</th>\n",
       "      <th>Adjusted P-value</th>\n",
       "      <th>Genes</th>\n",
       "    </tr>\n",
       "  </thead>\n",
       "  <tbody>\n",
       "    <tr>\n",
       "      <th>6</th>\n",
       "      <td>HALLMARK_HYPOXIA</td>\n",
       "      <td>5/200</td>\n",
       "      <td>0.001833</td>\n",
       "      <td>NDRG1;IGFBP3;P4HA1;LDHA;ENO1</td>\n",
       "    </tr>\n",
       "    <tr>\n",
       "      <th>5</th>\n",
       "      <td>HALLMARK_GLYCOLYSIS</td>\n",
       "      <td>4/200</td>\n",
       "      <td>0.006234</td>\n",
       "      <td>IGFBP3;LDHA;ENO1;P4HA1</td>\n",
       "    </tr>\n",
       "    <tr>\n",
       "      <th>9</th>\n",
       "      <td>HALLMARK_MTORC1_SIGNALING</td>\n",
       "      <td>4/200</td>\n",
       "      <td>0.006234</td>\n",
       "      <td>HSPD1;LDHA;ENO1;P4HA1</td>\n",
       "    </tr>\n",
       "    <tr>\n",
       "      <th>10</th>\n",
       "      <td>HALLMARK_MYC_TARGETS_V1</td>\n",
       "      <td>4/200</td>\n",
       "      <td>0.006234</td>\n",
       "      <td>HSPD1;LDHA;HSP90AB1;EIF3J</td>\n",
       "    </tr>\n",
       "    <tr>\n",
       "      <th>11</th>\n",
       "      <td>HALLMARK_MYC_TARGETS_V2</td>\n",
       "      <td>2/58</td>\n",
       "      <td>0.033369</td>\n",
       "      <td>HSPD1;WDR43</td>\n",
       "    </tr>\n",
       "  </tbody>\n",
       "</table>\n",
       "</div>"
      ],
      "text/plain": [
       "                         Term Overlap  Adjusted P-value  \\\n",
       "6            HALLMARK_HYPOXIA   5/200          0.001833   \n",
       "5         HALLMARK_GLYCOLYSIS   4/200          0.006234   \n",
       "9   HALLMARK_MTORC1_SIGNALING   4/200          0.006234   \n",
       "10    HALLMARK_MYC_TARGETS_V1   4/200          0.006234   \n",
       "11    HALLMARK_MYC_TARGETS_V2    2/58          0.033369   \n",
       "\n",
       "                           Genes  \n",
       "6   NDRG1;IGFBP3;P4HA1;LDHA;ENO1  \n",
       "5         IGFBP3;LDHA;ENO1;P4HA1  \n",
       "9          HSPD1;LDHA;ENO1;P4HA1  \n",
       "10     HSPD1;LDHA;HSP90AB1;EIF3J  \n",
       "11                   HSPD1;WDR43  "
      ]
     },
     "metadata": {},
     "output_type": "display_data"
    },
    {
     "name": "stdout",
     "output_type": "stream",
     "text": [
      "\n",
      "=== GO_BP ===\n"
     ]
    },
    {
     "data": {
      "text/html": [
       "<div>\n",
       "<style scoped>\n",
       "    .dataframe tbody tr th:only-of-type {\n",
       "        vertical-align: middle;\n",
       "    }\n",
       "\n",
       "    .dataframe tbody tr th {\n",
       "        vertical-align: top;\n",
       "    }\n",
       "\n",
       "    .dataframe thead th {\n",
       "        text-align: right;\n",
       "    }\n",
       "</style>\n",
       "<table border=\"1\" class=\"dataframe\">\n",
       "  <thead>\n",
       "    <tr style=\"text-align: right;\">\n",
       "      <th></th>\n",
       "      <th>Term</th>\n",
       "      <th>Overlap</th>\n",
       "      <th>Adjusted P-value</th>\n",
       "      <th>Genes</th>\n",
       "    </tr>\n",
       "  </thead>\n",
       "  <tbody>\n",
       "    <tr>\n",
       "      <th>85</th>\n",
       "      <td>GOBP_CHAPERONE_MEDIATED_PROTEIN_COMPLEX_ASSEMBLY</td>\n",
       "      <td>3/24</td>\n",
       "      <td>0.001417</td>\n",
       "      <td>HSPD1;HSP90AB1;HSP90AA1</td>\n",
       "    </tr>\n",
       "    <tr>\n",
       "      <th>684</th>\n",
       "      <td>GOBP_TELOMERASE_HOLOENZYME_COMPLEX_ASSEMBLY</td>\n",
       "      <td>2/8</td>\n",
       "      <td>0.008413</td>\n",
       "      <td>HSP90AB1;HSP90AA1</td>\n",
       "    </tr>\n",
       "    <tr>\n",
       "      <th>324</th>\n",
       "      <td>GOBP_POLYKETIDE_METABOLIC_PROCESS</td>\n",
       "      <td>2/10</td>\n",
       "      <td>0.008413</td>\n",
       "      <td>AKR1C2;AKR1C1</td>\n",
       "    </tr>\n",
       "    <tr>\n",
       "      <th>10</th>\n",
       "      <td>GOBP_AMINOGLYCOSIDE_ANTIBIOTIC_METABOLIC_PROCESS</td>\n",
       "      <td>2/10</td>\n",
       "      <td>0.008413</td>\n",
       "      <td>AKR1C2;AKR1C1</td>\n",
       "    </tr>\n",
       "    <tr>\n",
       "      <th>430</th>\n",
       "      <td>GOBP_PROGESTERONE_METABOLIC_PROCESS</td>\n",
       "      <td>2/17</td>\n",
       "      <td>0.012649</td>\n",
       "      <td>AKR1C2;AKR1C1</td>\n",
       "    </tr>\n",
       "  </tbody>\n",
       "</table>\n",
       "</div>"
      ],
      "text/plain": [
       "                                                 Term Overlap  \\\n",
       "85   GOBP_CHAPERONE_MEDIATED_PROTEIN_COMPLEX_ASSEMBLY    3/24   \n",
       "684       GOBP_TELOMERASE_HOLOENZYME_COMPLEX_ASSEMBLY     2/8   \n",
       "324                 GOBP_POLYKETIDE_METABOLIC_PROCESS    2/10   \n",
       "10   GOBP_AMINOGLYCOSIDE_ANTIBIOTIC_METABOLIC_PROCESS    2/10   \n",
       "430               GOBP_PROGESTERONE_METABOLIC_PROCESS    2/17   \n",
       "\n",
       "     Adjusted P-value                    Genes  \n",
       "85           0.001417  HSPD1;HSP90AB1;HSP90AA1  \n",
       "684          0.008413        HSP90AB1;HSP90AA1  \n",
       "324          0.008413            AKR1C2;AKR1C1  \n",
       "10           0.008413            AKR1C2;AKR1C1  \n",
       "430          0.012649            AKR1C2;AKR1C1  "
      ]
     },
     "metadata": {},
     "output_type": "display_data"
    }
   ],
   "source": [
    "paths = {\n",
    "    \"MSigDB_Hallmark\": \"../Data/MSigDB_Hallmark.gmt\",\n",
    "    \"GO_BP\":  \"../Data/GO_BP.gmt\",\n",
    "}\n",
    "\n",
    "for name, p in paths.items():\n",
    "    enr = gp.enrichr(\n",
    "        gene_list=stable_genes_drop,\n",
    "        gene_sets=p,          # point to one local GMT file\n",
    "        organism='Human',\n",
    "        outdir=None,\n",
    "        cutoff=0.05\n",
    "    )\n",
    "    df_drop = enr.results.sort_values(\"Adjusted P-value\")\n",
    "    print(f\"\\n=== {name} ===\")\n",
    "    display(df_drop[['Term','Overlap','Adjusted P-value','Genes']].head(5))"
   ]
  },
  {
   "cell_type": "markdown",
   "id": "61a255bf",
   "metadata": {},
   "source": [
    "The enrichment results revealed a **strong and coherent biological signal**, with the most significant terms involving **glycolysis and related metabolic pathways**, all highly relevant to cellular adaptation to hypoxia.\n",
    "\n",
    "These results validate that the genes identified through statistical and machine learning-based selection:\n",
    "\n",
    "- Are **biologically coherent** and not arbitrarily selected.\n",
    "- Reflect **hypoxia-driven metabolic rewiring**, consistent with the cell line context.\n",
    "- Overlap meaningfully with key metabolic and stress-response pathways, just like in the Smart-seq dataset.\n"
   ]
  },
  {
   "cell_type": "markdown",
   "id": "ff3fc686",
   "metadata": {},
   "source": [
    "#### **5.2.2.** Comparison with Buffa's Signature"
   ]
  },
  {
   "cell_type": "code",
   "execution_count": 53,
   "id": "4b35b042",
   "metadata": {},
   "outputs": [
    {
     "name": "stdout",
     "output_type": "stream",
     "text": [
      "Overlap of 4 genes between our selected genes and Buffa genes:\n",
      "['ENO1', 'LDHA', 'NDRG1', 'P4HA1']\n"
     ]
    }
   ],
   "source": [
    "gene_names_in_dataset = set(stable_genes_drop)\n",
    "\n",
    "# Convert BUFFA gene list to a set\n",
    "buffa_set = set(buffa_genes)\n",
    "\n",
    "# Compute intersection with your dataset\n",
    "found_genes = list(buffa_set & gene_names_in_dataset)\n",
    "\n",
    "print(f\"Overlap of {len(found_genes)} genes between our selected genes and Buffa genes:\")\n",
    "print(sorted(found_genes))"
   ]
  },
  {
   "cell_type": "markdown",
   "id": "1e6e1fef",
   "metadata": {},
   "source": [
    "#### **5.2.3.** Expression Patterns of Top Stable Genes\n",
    "The violin plots below show the expression of the top 6 genes selected by the Drop-seq feature selection pipeline."
   ]
  },
  {
   "cell_type": "code",
   "execution_count": 54,
   "id": "5e7333f9",
   "metadata": {},
   "outputs": [
    {
     "data": {
      "image/png": "[encoded data removed]",
      "text/plain": [
       "<Figure size 1200x800 with 6 Axes>"
      ]
     },
     "metadata": {},
     "output_type": "display_data"
    }
   ],
   "source": [
    "# Prepare merged DataFrame\n",
    "Xd_vis = X_hcc_drop[stable_genes_drop].copy()\n",
    "Xd_vis[\"Label\"] = y_hcc_drop\n",
    "\n",
    "# Choose top N genes to visualize\n",
    "top_genes_drop = stable_genes_drop[:6]  # or sort by RF importance\n",
    "\n",
    "# Plot\n",
    "ncols = 3\n",
    "nrows = -(-len(top_genes_drop) // ncols)  # ceiling division\n",
    "fig, axes = plt.subplots(nrows=nrows, ncols=ncols, figsize=(4*ncols, 4*nrows))\n",
    "\n",
    "for i, gene in enumerate(top_genes_drop):\n",
    "    ax = axes.flat[i]\n",
    "    sns.violinplot(x=\"Label\", y=gene, hue=\"Label\", data=Xd_vis,\n",
    "                   ax=ax, inner=\"box\", palette=\"Set2\", legend=False)\n",
    "    ax.set_title(gene)\n",
    "    ax.set_xlabel(\"Condition\")\n",
    "    ax.set_ylabel(\"Expression\")\n",
    "\n",
    "# Remove any unused subplots\n",
    "for j in range(i + 1, len(axes.flat)):\n",
    "    fig.delaxes(axes.flat[j])\n",
    "\n",
    "fig.suptitle(\"Expression of Top Stable Genes by Condition (Drop-seq)\", fontsize=14, y=1.02)\n",
    "plt.tight_layout()\n",
    "plt.show()"
   ]
  },
  {
   "cell_type": "markdown",
   "id": "34b1e0de",
   "metadata": {},
   "source": [
    "Each violin plot visualizes the expression distribution of a top stable gene across the two conditions: **Normoxia (0)** and **Hypoxia (1)**. The shaded violins illustrate density, while the inner boxplots capture median and interquartile range.\n",
    "\n",
    "These patterns align with the model’s feature selection and support the stability-based strategy used, highlighting genes with consistent and biologically interpretable shifts between conditions.\n"
   ]
  },
  {
   "cell_type": "markdown",
   "id": "334e3b75",
   "metadata": {},
   "source": [
    "## **6.** Model Training and Evaluation\n",
    "\n",
    "---"
   ]
  },
  {
   "cell_type": "markdown",
   "id": "0bbfacce",
   "metadata": {},
   "source": [
    "We benchmark five supervised classifiers on our final gene signature:\n",
    "\n",
    "- **Logistic Regression**  \n",
    "- **Support Vector Machine (SVM)**  \n",
    "- **K‐Nearest Neighbors (KNN)**  \n",
    "- **Multi‐Layer Perceptron (MLP)**  \n",
    "- **XGBoost**\n",
    "\n",
    "Each model is evaluated with **5-fold stratified cross-validation** on the training set, then assessed once on the held-out validation set.  Our evaluation criteria include:\n",
    "\n",
    "- **ROC AUC** (discrimination capacity)  \n",
    "  - ROC AUC remains valuable because it is threshold-independent and robust to class imbalance.  \n",
    "- **Accuracy, Precision, Recall, F1 Score**  \n",
    "  - Provide complementary views on overall correctness (Accuracy), positive-class focus (Precision), sensitivity (Recall), and their harmonic mean (F1).  \n",
    "- **Confusion Matrix**  \n",
    "  - Illustrates class-specific error patterns for deeper error analysis.\n",
    "\n",
    "**Implementation details**  \n",
    "- Models that are sensitive to feature scale (Logistic, SVM, KNN, MLP) are wrapped in a `Pipeline` with `StandardScaler()`.  \n",
    "- Hyperparameters for each model are tuned via inner 5-fold `GridSearchCV` (scoring=`roc_auc`).  \n",
    "- After cross-validation, the best hyperparameter setting is used to retrain each model on the full training set and then saved for downstream application.\n",
    "\n",
    "This unified framework ensures a fair comparison across linear, distance-based, neural, and tree-based models, allowing us to select the classifier with the strongest and most reliable performance.  \n"
   ]
  },
  {
   "cell_type": "markdown",
   "id": "fe7c7c81",
   "metadata": {},
   "source": [
    "### **6.1.** ***SmartSeq***"
   ]
  },
  {
   "cell_type": "code",
   "execution_count": 55,
   "id": "cb497161",
   "metadata": {},
   "outputs": [],
   "source": [
    "\n",
    "def evaluate_model(model, param_grid, X, y, name=\"Model\", scale=False,\n",
    "                   save=False, refit=True, save_path=\"Models_smart\", cv_folds=5):\n",
    "\n",
    "    print(f\"\\n Evaluating: {name}\")\n",
    "\n",
    "    # Build pipeline\n",
    "    steps = []\n",
    "    if scale:\n",
    "        steps.append((\"scaler\", StandardScaler()))\n",
    "    steps.append((\"clf\", model))\n",
    "    base_pipe = Pipeline(steps)\n",
    "\n",
    "    # Hyperparameter tuning on full CV folds\n",
    "    grid = GridSearchCV(base_pipe, param_grid, cv=cv_folds,\n",
    "                        scoring=\"roc_auc\", n_jobs=-1, verbose=1, refit=True)\n",
    "    grid.fit(X, y)\n",
    "    best_model = grid.best_estimator_\n",
    "    print(f\" Best params: {grid.best_params_}\")\n",
    "\n",
    "    # Nested CV: outer CV for metrics, inner CV for tuning\n",
    "    skf = StratifiedKFold(n_splits=cv_folds, shuffle=True, random_state=42)\n",
    "\n",
    "    # Cross-validated predictions\n",
    "    y_pred = cross_val_predict(best_model, X, y, cv=skf)\n",
    "    y_proba = cross_val_predict(best_model, X, y, cv=skf, method='predict_proba')[:, 1]\n",
    "\n",
    "    # Metrics\n",
    "    metrics = {\n",
    "        \"Model\": name,\n",
    "        \"Best Params\": grid.best_params_,\n",
    "        \"F1 Score\": f1_score(y, y_pred),\n",
    "        \"Accuracy\": accuracy_score(y, y_pred),\n",
    "        \"Precision\": precision_score(y, y_pred),\n",
    "        \"Recall\": recall_score(y, y_pred),\n",
    "        \"ROC AUC\": roc_auc_score(y, y_proba),\n",
    "        \"Confusion Matrix\": confusion_matrix(y, y_pred)\n",
    "    }\n",
    "\n",
    "    # Display results\n",
    "    for k, v in metrics.items():\n",
    "        if k != \"Confusion Matrix\":\n",
    "            if isinstance(v, (float, int)):\n",
    "                print(f\"{k:15}: {v:.4f}\")\n",
    "            else:\n",
    "                print(f\"{k:15}: {v}\")\n",
    "                \n",
    "    # Refit and save the model\n",
    "    suffix = \"HCC\"\n",
    "    if refit:\n",
    "        best_model.fit(X, y)\n",
    "        if save:\n",
    "            os.makedirs(save_path, exist_ok=True)\n",
    "            filename = f\"{name}.{suffix}.pkl\"\n",
    "            filepath = Path(save_path) / filename\n",
    "            with open(filepath, \"wb\") as f:\n",
    "                pickle.dump(best_model, f)\n",
    "            print(f\"Model saved to {filepath}\")\n",
    "\n",
    "    return best_model, metrics"
   ]
  },
  {
   "cell_type": "code",
   "execution_count": 56,
   "id": "0e2a6260",
   "metadata": {},
   "outputs": [
    {
     "name": "stdout",
     "output_type": "stream",
     "text": [
      "\n",
      " Evaluating: Logistic\n",
      "Fitting 5 folds for each of 4 candidates, totalling 20 fits\n",
      " Best params: {'clf__C': 0.01}\n",
      "Model          : Logistic\n",
      "Best Params    : {'clf__C': 0.01}\n",
      "F1 Score       : 0.9804\n",
      "Accuracy       : 0.9793\n",
      "Precision      : 0.9868\n",
      "Recall         : 0.9740\n",
      "ROC AUC        : 0.9987\n",
      "Model saved to Models_smart/Logistic.HCC.pkl\n",
      "\n",
      " Evaluating: SVM\n",
      "Fitting 5 folds for each of 6 candidates, totalling 30 fits\n",
      " Best params: {'clf__C': 0.1, 'clf__kernel': 'linear'}\n",
      "Model          : SVM\n",
      "Best Params    : {'clf__C': 0.1, 'clf__kernel': 'linear'}\n",
      "F1 Score       : 0.9804\n",
      "Accuracy       : 0.9793\n",
      "Precision      : 0.9868\n",
      "Recall         : 0.9740\n",
      "ROC AUC        : 0.9971\n",
      "Model saved to Models_smart/SVM.HCC.pkl\n",
      "\n",
      " Evaluating: KNN\n",
      "Fitting 5 folds for each of 4 candidates, totalling 20 fits\n",
      " Best params: {'clf__n_neighbors': 5}\n",
      "Model          : KNN\n",
      "Best Params    : {'clf__n_neighbors': 5}\n",
      "F1 Score       : 0.9804\n",
      "Accuracy       : 0.9793\n",
      "Precision      : 0.9868\n",
      "Recall         : 0.9740\n",
      "ROC AUC        : 0.9990\n",
      "Model saved to Models_smart/KNN.HCC.pkl\n",
      "\n",
      " Evaluating: MLP\n",
      "Fitting 5 folds for each of 6 candidates, totalling 30 fits\n",
      " Best params: {'clf__alpha': 0.0001, 'clf__hidden_layer_sizes': (64,)}\n",
      "Model          : MLP\n",
      "Best Params    : {'clf__alpha': 0.0001, 'clf__hidden_layer_sizes': (64,)}\n",
      "F1 Score       : 0.9804\n",
      "Accuracy       : 0.9793\n",
      "Precision      : 0.9868\n",
      "Recall         : 0.9740\n",
      "ROC AUC        : 0.9983\n",
      "Model saved to Models_smart/MLP.HCC.pkl\n",
      "\n",
      " Evaluating: XGBoost\n",
      "Fitting 5 folds for each of 9 candidates, totalling 45 fits\n",
      " Best params: {'clf__max_depth': 3, 'clf__n_estimators': 50}\n",
      "Model          : XGBoost\n",
      "Best Params    : {'clf__max_depth': 3, 'clf__n_estimators': 50}\n",
      "F1 Score       : 0.9673\n",
      "Accuracy       : 0.9655\n",
      "Precision      : 0.9737\n",
      "Recall         : 0.9610\n",
      "ROC AUC        : 0.9954\n",
      "Model saved to Models_smart/XGBoost.HCC.pkl\n",
      "\n",
      " Summary of All Model Results:\n"
     ]
    },
    {
     "data": {
      "text/html": [
       "<style type=\"text/css\">\n",
       "#T_d55f1_row0_col2, #T_d55f1_row0_col3, #T_d55f1_row0_col4, #T_d55f1_row0_col5, #T_d55f1_row2_col6 {\n",
       "  background-color: #7bc800;\n",
       "}\n",
       "</style>\n",
       "<table id=\"T_d55f1\">\n",
       "  <thead>\n",
       "    <tr>\n",
       "      <th class=\"blank level0\" >&nbsp;</th>\n",
       "      <th id=\"T_d55f1_level0_col0\" class=\"col_heading level0 col0\" >Model</th>\n",
       "      <th id=\"T_d55f1_level0_col1\" class=\"col_heading level0 col1\" >Best Params</th>\n",
       "      <th id=\"T_d55f1_level0_col2\" class=\"col_heading level0 col2\" >F1 Score</th>\n",
       "      <th id=\"T_d55f1_level0_col3\" class=\"col_heading level0 col3\" >Accuracy</th>\n",
       "      <th id=\"T_d55f1_level0_col4\" class=\"col_heading level0 col4\" >Precision</th>\n",
       "      <th id=\"T_d55f1_level0_col5\" class=\"col_heading level0 col5\" >Recall</th>\n",
       "      <th id=\"T_d55f1_level0_col6\" class=\"col_heading level0 col6\" >ROC AUC</th>\n",
       "    </tr>\n",
       "  </thead>\n",
       "  <tbody>\n",
       "    <tr>\n",
       "      <th id=\"T_d55f1_level0_row0\" class=\"row_heading level0 row0\" >0</th>\n",
       "      <td id=\"T_d55f1_row0_col0\" class=\"data row0 col0\" >Logistic</td>\n",
       "      <td id=\"T_d55f1_row0_col1\" class=\"data row0 col1\" >{'clf__C': 0.01}</td>\n",
       "      <td id=\"T_d55f1_row0_col2\" class=\"data row0 col2\" >0.980392</td>\n",
       "      <td id=\"T_d55f1_row0_col3\" class=\"data row0 col3\" >0.979310</td>\n",
       "      <td id=\"T_d55f1_row0_col4\" class=\"data row0 col4\" >0.986842</td>\n",
       "      <td id=\"T_d55f1_row0_col5\" class=\"data row0 col5\" >0.974026</td>\n",
       "      <td id=\"T_d55f1_row0_col6\" class=\"data row0 col6\" >0.998663</td>\n",
       "    </tr>\n",
       "    <tr>\n",
       "      <th id=\"T_d55f1_level0_row1\" class=\"row_heading level0 row1\" >1</th>\n",
       "      <td id=\"T_d55f1_row1_col0\" class=\"data row1 col0\" >SVM</td>\n",
       "      <td id=\"T_d55f1_row1_col1\" class=\"data row1 col1\" >{'clf__C': 0.1, 'clf__kernel': 'linear'}</td>\n",
       "      <td id=\"T_d55f1_row1_col2\" class=\"data row1 col2\" >0.980392</td>\n",
       "      <td id=\"T_d55f1_row1_col3\" class=\"data row1 col3\" >0.979310</td>\n",
       "      <td id=\"T_d55f1_row1_col4\" class=\"data row1 col4\" >0.986842</td>\n",
       "      <td id=\"T_d55f1_row1_col5\" class=\"data row1 col5\" >0.974026</td>\n",
       "      <td id=\"T_d55f1_row1_col6\" class=\"data row1 col6\" >0.997135</td>\n",
       "    </tr>\n",
       "    <tr>\n",
       "      <th id=\"T_d55f1_level0_row2\" class=\"row_heading level0 row2\" >2</th>\n",
       "      <td id=\"T_d55f1_row2_col0\" class=\"data row2 col0\" >KNN</td>\n",
       "      <td id=\"T_d55f1_row2_col1\" class=\"data row2 col1\" >{'clf__n_neighbors': 5}</td>\n",
       "      <td id=\"T_d55f1_row2_col2\" class=\"data row2 col2\" >0.980392</td>\n",
       "      <td id=\"T_d55f1_row2_col3\" class=\"data row2 col3\" >0.979310</td>\n",
       "      <td id=\"T_d55f1_row2_col4\" class=\"data row2 col4\" >0.986842</td>\n",
       "      <td id=\"T_d55f1_row2_col5\" class=\"data row2 col5\" >0.974026</td>\n",
       "      <td id=\"T_d55f1_row2_col6\" class=\"data row2 col6\" >0.999045</td>\n",
       "    </tr>\n",
       "    <tr>\n",
       "      <th id=\"T_d55f1_level0_row3\" class=\"row_heading level0 row3\" >3</th>\n",
       "      <td id=\"T_d55f1_row3_col0\" class=\"data row3 col0\" >MLP</td>\n",
       "      <td id=\"T_d55f1_row3_col1\" class=\"data row3 col1\" >{'clf__alpha': 0.0001, 'clf__hidden_layer_sizes': (64,)}</td>\n",
       "      <td id=\"T_d55f1_row3_col2\" class=\"data row3 col2\" >0.980392</td>\n",
       "      <td id=\"T_d55f1_row3_col3\" class=\"data row3 col3\" >0.979310</td>\n",
       "      <td id=\"T_d55f1_row3_col4\" class=\"data row3 col4\" >0.986842</td>\n",
       "      <td id=\"T_d55f1_row3_col5\" class=\"data row3 col5\" >0.974026</td>\n",
       "      <td id=\"T_d55f1_row3_col6\" class=\"data row3 col6\" >0.998281</td>\n",
       "    </tr>\n",
       "    <tr>\n",
       "      <th id=\"T_d55f1_level0_row4\" class=\"row_heading level0 row4\" >4</th>\n",
       "      <td id=\"T_d55f1_row4_col0\" class=\"data row4 col0\" >XGBoost</td>\n",
       "      <td id=\"T_d55f1_row4_col1\" class=\"data row4 col1\" >{'clf__max_depth': 3, 'clf__n_estimators': 50}</td>\n",
       "      <td id=\"T_d55f1_row4_col2\" class=\"data row4 col2\" >0.967320</td>\n",
       "      <td id=\"T_d55f1_row4_col3\" class=\"data row4 col3\" >0.965517</td>\n",
       "      <td id=\"T_d55f1_row4_col4\" class=\"data row4 col4\" >0.973684</td>\n",
       "      <td id=\"T_d55f1_row4_col5\" class=\"data row4 col5\" >0.961039</td>\n",
       "      <td id=\"T_d55f1_row4_col6\" class=\"data row4 col6\" >0.995416</td>\n",
       "    </tr>\n",
       "  </tbody>\n",
       "</table>\n"
      ],
      "text/plain": [
       "<pandas.io.formats.style.Styler at 0x14b23cb90>"
      ]
     },
     "metadata": {},
     "output_type": "display_data"
    }
   ],
   "source": [
    "# Define models and whether to scale\n",
    "models = {\n",
    "    \"Logistic\": LogisticRegression(solver=\"saga\", max_iter=5000),\n",
    "    \"SVM\": SVC(probability=True),\n",
    "    \"KNN\": KNeighborsClassifier(),\n",
    "    \"MLP\": MLPClassifier(max_iter=1000),\n",
    "    \"XGBoost\": XGBClassifier(eval_metric='logloss'),\n",
    "}\n",
    "\n",
    "param_grids = {\n",
    "    \"Logistic\": {\"clf__C\": [0.01, 0.1, 1, 10]},\n",
    "    \"SVM\":      {\"clf__C\": [0.1, 1, 10], \"clf__kernel\": [\"linear\", \"rbf\"]},\n",
    "    \"KNN\":      {\"clf__n_neighbors\": [3, 5, 7, 9]},\n",
    "    \"MLP\":      {\"clf__hidden_layer_sizes\": [(16,), (32,), (64,)], \"clf__alpha\": [1e-4, 1e-3]},\n",
    "    \"XGBoost\":  {\"clf__n_estimators\": [50, 100, 200], \"clf__max_depth\": [3, 5, 7]}\n",
    "}\n",
    "\n",
    "results_smart = []\n",
    "fitted_models = {}\n",
    "for name, model in models.items():\n",
    "    scale = name != \"XGBoost\"\n",
    "    best_clf, metrics = evaluate_model(\n",
    "        model=model,\n",
    "        param_grid=param_grids[name],\n",
    "        X=Xs_train_log[stable_genes_smart],  # or final_transferable_genes\n",
    "        y=ys_train,\n",
    "        name=name,\n",
    "        scale=scale,\n",
    "        save=True,\n",
    "        refit=True,\n",
    "        save_path=\"Models_smart\",\n",
    "        cv_folds=5\n",
    "    )\n",
    "    results_smart.append(metrics)\n",
    "    fitted_models[name] = best_clf\n",
    "\n",
    "# Display summary\n",
    "dfs_results = pd.DataFrame(results_smart).drop(columns=[\"Confusion Matrix\"])\n",
    "print(\"\\n Summary of All Model Results:\")\n",
    "def highlight_single_best(col):\n",
    "    max_idx = col.values.argmax()\n",
    "    return ['background-color: #7bc800' if i == max_idx else '' for i in range(len(col))]\n",
    "\n",
    "styled = dfs_results.style.apply(\n",
    "    highlight_single_best,\n",
    "    subset=[\"F1 Score\", \"Accuracy\", \"Precision\", \"Recall\", \"ROC AUC\"],\n",
    "    axis=0  # apply column-wise\n",
    ")\n",
    "\n",
    "display(styled)"
   ]
  },
  {
   "cell_type": "code",
   "execution_count": 57,
   "id": "670e1481",
   "metadata": {},
   "outputs": [
    {
     "name": "stdout",
     "output_type": "stream",
     "text": [
      "\n",
      "\n",
      "--- Final Evaluation on Held-Out Validation Set ---\n",
      "\n",
      "Logistic:\n",
      "F1 Score      : 1.0000\n",
      "Accuracy      : 1.0000\n",
      "Precision     : 1.0000\n",
      "Recall        : 1.0000\n",
      "ROC AUC       : 1.0000\n",
      "Confusion Mat :\n",
      "[[17  0]\n",
      " [ 0 20]]\n",
      "\n",
      "SVM:\n",
      "F1 Score      : 1.0000\n",
      "Accuracy      : 1.0000\n",
      "Precision     : 1.0000\n",
      "Recall        : 1.0000\n",
      "ROC AUC       : 1.0000\n",
      "Confusion Mat :\n",
      "[[17  0]\n",
      " [ 0 20]]\n",
      "\n",
      "KNN:\n",
      "F1 Score      : 1.0000\n",
      "Accuracy      : 1.0000\n",
      "Precision     : 1.0000\n",
      "Recall        : 1.0000\n",
      "ROC AUC       : 1.0000\n",
      "Confusion Mat :\n",
      "[[17  0]\n",
      " [ 0 20]]\n",
      "\n",
      "MLP:\n",
      "F1 Score      : 1.0000\n",
      "Accuracy      : 1.0000\n",
      "Precision     : 1.0000\n",
      "Recall        : 1.0000\n",
      "ROC AUC       : 1.0000\n",
      "Confusion Mat :\n",
      "[[17  0]\n",
      " [ 0 20]]\n",
      "\n",
      "XGBoost:\n",
      "F1 Score      : 0.9756\n",
      "Accuracy      : 0.9730\n",
      "Precision     : 0.9524\n",
      "Recall        : 1.0000\n",
      "ROC AUC       : 0.9971\n",
      "Confusion Mat :\n",
      "[[16  1]\n",
      " [ 0 20]]\n"
     ]
    }
   ],
   "source": [
    "print(\"\\n\\n--- Final Evaluation on Held-Out Validation Set ---\")\n",
    "for name, pipeline in fitted_models.items():\n",
    "    print(f\"\\n{name}:\")\n",
    "    # pipeline includes scaler if needed\n",
    "    X_val = Xs_val_log[stable_genes_smart]\n",
    "    y_pred = pipeline.predict(X_val)\n",
    "    y_proba = pipeline.predict_proba(X_val)[:, 1]\n",
    "\n",
    "    print(f\"F1 Score      : {f1_score(ys_val, y_pred):.4f}\")\n",
    "    print(f\"Accuracy      : {accuracy_score(ys_val, y_pred):.4f}\")\n",
    "    print(f\"Precision     : {precision_score(ys_val, y_pred):.4f}\")\n",
    "    print(f\"Recall        : {recall_score(ys_val, y_pred):.4f}\")\n",
    "    print(f\"ROC AUC       : {roc_auc_score(ys_val, y_proba):.4f}\")\n",
    "    print(f\"Confusion Mat :\\n{confusion_matrix(ys_val, y_pred)}\")"
   ]
  },
  {
   "cell_type": "code",
   "execution_count": 58,
   "id": "f6c9cf1f",
   "metadata": {},
   "outputs": [
    {
     "data": {
      "image/png": "[encoded data removed]",
      "text/plain": [
       "<Figure size 400x300 with 2 Axes>"
      ]
     },
     "metadata": {},
     "output_type": "display_data"
    },
    {
     "data": {
      "image/png": "[encoded data removed]",
      "text/plain": [
       "<Figure size 400x300 with 2 Axes>"
      ]
     },
     "metadata": {},
     "output_type": "display_data"
    },
    {
     "data": {
      "image/png": "[encoded data removed]",
      "text/plain": [
       "<Figure size 400x300 with 2 Axes>"
      ]
     },
     "metadata": {},
     "output_type": "display_data"
    },
    {
     "data": {
      "image/png": "[encoded data removed]",
      "text/plain": [
       "<Figure size 400x300 with 2 Axes>"
      ]
     },
     "metadata": {},
     "output_type": "display_data"
    },
    {
     "data": {
      "image/png": "[encoded data removed]",
      "text/plain": [
       "<Figure size 400x300 with 2 Axes>"
      ]
     },
     "metadata": {},
     "output_type": "display_data"
    }
   ],
   "source": [
    "# Show confusion matrices after evaluation\n",
    "for result in results_smart:\n",
    "    cm = result[\"Confusion Matrix\"]\n",
    "    model_name = result[\"Model\"]\n",
    "    \n",
    "    plt.figure(figsize=(4, 3))\n",
    "    sns.heatmap(cm, annot=True, fmt='d', cmap='Blues')\n",
    "    plt.title(f\"{model_name} - Confusion Matrix\")\n",
    "    plt.xlabel(\"Predicted\")\n",
    "    plt.ylabel(\"True\")\n",
    "    plt.tight_layout()\n",
    "    plt.show()"
   ]
  },
  {
   "cell_type": "markdown",
   "id": "322e5fa7",
   "metadata": {},
   "source": [
    "#### - *Further Checks*\n",
    "To ensure that this high accuracy did not result from overfitting or unintended data leakage, we performed two negative‐control experiments:"
   ]
  },
  {
   "cell_type": "markdown",
   "id": "a3bb3d5f",
   "metadata": {},
   "source": [
    " - **Full Label Shuffling (Permutation Test)**:\n",
    "  We permuted the training labels at random—i.e. replaced the true hypoxia/normoxia assignments with a randomly shuffled version—and reran 5-fold cross‐validation. If our model were simply memorizing idiosyncratic patterns in the features (rather than learning a genuine gene–label relationship), it would still achieve high AUC even on random labels."
   ]
  },
  {
   "cell_type": "code",
   "execution_count": 59,
   "id": "2801dfc1",
   "metadata": {},
   "outputs": [
    {
     "name": "stdout",
     "output_type": "stream",
     "text": [
      "\n",
      " Evaluating: Shuffled_Logistic\n",
      "Fitting 5 folds for each of 4 candidates, totalling 20 fits\n",
      " Best params: {'clf__C': 10}\n",
      "Model          : Shuffled_Logistic\n",
      "Best Params    : {'clf__C': 10}\n",
      "F1 Score       : 0.5761\n",
      "Accuracy       : 0.4621\n",
      "Precision      : 0.4953\n",
      "Recall         : 0.6883\n",
      "ROC AUC        : 0.4450\n"
     ]
    }
   ],
   "source": [
    "# 1. Shuffle the labels\n",
    "y_shuffled = np.random.permutation(ys_train)\n",
    "\n",
    "# 2. Evaluate on shuffled labels (no save, no refit)\n",
    "shuffled_clf, shuffled_metrics = evaluate_model(\n",
    "    model=LogisticRegression(solver=\"saga\", max_iter=5000),\n",
    "    param_grid=param_grids[\"Logistic\"],            # your Logistic grid\n",
    "    X=Xs_train_log[stable_genes_smart],\n",
    "    y=y_shuffled,\n",
    "    name=\"Shuffled_Logistic\",\n",
    "    scale=True,\n",
    "    refit=False,\n",
    "    save=False,\n",
    "    save_path=\"Models_smart\",\n",
    "    cv_folds=5\n",
    ")"
   ]
  },
  {
   "cell_type": "code",
   "execution_count": 60,
   "id": "b250a028",
   "metadata": {},
   "outputs": [
    {
     "name": "stdout",
     "output_type": "stream",
     "text": [
      "\n",
      "Performance with 10% label corruption:\n",
      "\n",
      " Evaluating: Logistic_Flipped\n",
      "Fitting 5 folds for each of 4 candidates, totalling 20 fits\n",
      " Best params: {'clf__C': 0.01}\n",
      "Model          : Logistic_Flipped\n",
      "Best Params    : {'clf__C': 0.01}\n",
      "F1 Score       : 0.8875\n",
      "Accuracy       : 0.8759\n",
      "Precision      : 0.8987\n",
      "Recall         : 0.8765\n",
      "ROC AUC        : 0.8860\n"
     ]
    }
   ],
   "source": [
    "def flip_labels(y, fraction=0.1, seed=42):\n",
    "    np.random.seed(seed)\n",
    "    y_flipped = y.copy()\n",
    "    n_flip = int(len(y) * fraction)\n",
    "    indices = np.random.choice(len(y), size=n_flip, replace=False)\n",
    "    y_flipped[indices] = 1 - y_flipped[indices]  \n",
    "    return y_flipped\n",
    "\n",
    "# Flip 10% of ys_train\n",
    "ys_train_flipped = flip_labels(ys_train, fraction=0.1)\n",
    "\n",
    "# Evaluate performance again with flipped labels\n",
    "model = LogisticRegression(max_iter=5000)\n",
    "\n",
    "print(\"\\nPerformance with 10% label corruption:\")\n",
    "clf_flipped, metrics_flipped = evaluate_model(\n",
    "    model=model,\n",
    "    param_grid=param_grids[\"Logistic\"],\n",
    "    X=Xs_train_log[stable_genes_smart],\n",
    "    y=ys_train_flipped,\n",
    "    name=\"Logistic_Flipped\",\n",
    "    scale=True,\n",
    "    save=False,\n",
    "    refit=False\n",
    ")"
   ]
  },
  {
   "cell_type": "code",
   "execution_count": 61,
   "id": "ac468e9a",
   "metadata": {},
   "outputs": [
    {
     "name": "stdout",
     "output_type": "stream",
     "text": [
      "\n",
      " Evaluating: Logistic_Flipped_30\n",
      "Fitting 5 folds for each of 4 candidates, totalling 20 fits\n",
      " Best params: {'clf__C': 1}\n",
      "Model          : Logistic_Flipped_30\n",
      "Best Params    : {'clf__C': 1}\n",
      "F1 Score       : 0.6623\n",
      "Accuracy       : 0.6414\n",
      "Precision      : 0.6711\n",
      "Recall         : 0.6538\n",
      "ROC AUC        : 0.6374\n"
     ]
    }
   ],
   "source": [
    "ys_train_flipped_30 = flip_labels(ys_train, fraction=0.3)\n",
    "clf30, metrics30 = evaluate_model(\n",
    "    model=LogisticRegression(max_iter=5000),\n",
    "    param_grid=param_grids[\"Logistic\"],\n",
    "    X=Xs_train_log[stable_genes_smart],\n",
    "    y=ys_train_flipped_30,\n",
    "    name=\"Logistic_Flipped_30\",\n",
    "    scale=True,\n",
    "    save=False,\n",
    "    refit=False\n",
    ")"
   ]
  },
  {
   "cell_type": "code",
   "execution_count": 62,
   "id": "6c7685f6",
   "metadata": {},
   "outputs": [],
   "source": [
    "del result  # avoid conflict with next loop"
   ]
  },
  {
   "cell_type": "markdown",
   "id": "65d6b0bb",
   "metadata": {},
   "source": [
    "### **6.2.** ***DropSeq***"
   ]
  },
  {
   "cell_type": "code",
   "execution_count": 63,
   "id": "e71997c5",
   "metadata": {},
   "outputs": [],
   "source": [
    "\n",
    "def evaluate_model_drop(model, param_grid, X, y, name=\"Model\", scale=False,\n",
    "                   save=False, refit=True, save_path=\"Models_drop\", cv_folds=5):\n",
    "\n",
    "    print(f\"\\n Evaluating: {name}\")\n",
    "\n",
    "    # Build pipeline\n",
    "    steps = []\n",
    "    if scale:\n",
    "        steps.append((\"scaler\", StandardScaler()))\n",
    "    steps.append((\"clf\", model))\n",
    "    base_pipe = Pipeline(steps)\n",
    "\n",
    "    # Hyperparameter tuning on full CV folds\n",
    "    grid = GridSearchCV(base_pipe, param_grid, cv=cv_folds,\n",
    "                        scoring=\"roc_auc\", n_jobs=-1, verbose=1, refit=True)\n",
    "    grid.fit(X, y)\n",
    "    best_model = grid.best_estimator_\n",
    "    print(f\" Best params: {grid.best_params_}\")\n",
    "\n",
    "    # Nested CV: outer CV for metrics, inner CV for tuning\n",
    "    skf = StratifiedKFold(n_splits=cv_folds, shuffle=True, random_state=42)\n",
    "\n",
    "    # Cross-validated predictions\n",
    "    y_pred = cross_val_predict(best_model, X, y, cv=skf)\n",
    "    y_proba = cross_val_predict(best_model, X, y, cv=skf, method='predict_proba')[:, 1]\n",
    "\n",
    "    # Metrics\n",
    "    metrics = {\n",
    "        \"Model\": name,\n",
    "        \"Best Params\": grid.best_params_,\n",
    "        \"F1 Score\": f1_score(y, y_pred),\n",
    "        \"Accuracy\": accuracy_score(y, y_pred),\n",
    "        \"Precision\": precision_score(y, y_pred),\n",
    "        \"Recall\": recall_score(y, y_pred),\n",
    "        \"ROC AUC\": roc_auc_score(y, y_proba),\n",
    "        \"Confusion Matrix\": confusion_matrix(y, y_pred)\n",
    "    }\n",
    "\n",
    "    # Display results\n",
    "    for k, v in metrics.items():\n",
    "        if k != \"Confusion Matrix\":\n",
    "            if isinstance(v, (float, int)):\n",
    "                print(f\"{k:15}: {v:.4f}\")\n",
    "            else:\n",
    "                print(f\"{k:15}: {v}\")\n",
    "                \n",
    "    # Refit and save the model\n",
    "    suffix = \"HCC\"\n",
    "    if refit:\n",
    "        best_model.fit(X, y)\n",
    "        if save:\n",
    "            os.makedirs(save_path, exist_ok=True)\n",
    "            filename = f\"{name}.{suffix}.pkl\"\n",
    "            filepath = Path(save_path) / filename\n",
    "            with open(filepath, \"wb\") as f:\n",
    "                pickle.dump(best_model, f)\n",
    "            print(f\"Model saved to {filepath}\")\n",
    "\n",
    "    return best_model, metrics"
   ]
  },
  {
   "cell_type": "code",
   "execution_count": 64,
   "id": "78ef5327",
   "metadata": {},
   "outputs": [
    {
     "name": "stdout",
     "output_type": "stream",
     "text": [
      "\n",
      " Evaluating: Logistic\n",
      "Fitting 5 folds for each of 4 candidates, totalling 20 fits\n",
      " Best params: {'clf__C': 1}\n",
      "Model          : Logistic\n",
      "Best Params    : {'clf__C': 1}\n",
      "F1 Score       : 0.9087\n",
      "Accuracy       : 0.8891\n",
      "Precision      : 0.9074\n",
      "Recall         : 0.9100\n",
      "ROC AUC        : 0.9575\n",
      "Model saved to Models_drop/Logistic.HCC.pkl\n",
      "\n",
      " Evaluating: SVM\n",
      "Fitting 5 folds for each of 6 candidates, totalling 30 fits\n",
      " Best params: {'clf__C': 1, 'clf__kernel': 'rbf'}\n",
      "Model          : SVM\n",
      "Best Params    : {'clf__C': 1, 'clf__kernel': 'rbf'}\n",
      "F1 Score       : 0.9174\n",
      "Accuracy       : 0.8994\n",
      "Precision      : 0.9130\n",
      "Recall         : 0.9218\n",
      "ROC AUC        : 0.9624\n",
      "Model saved to Models_drop/SVM.HCC.pkl\n",
      "\n",
      " Evaluating: KNN\n",
      "Fitting 5 folds for each of 4 candidates, totalling 20 fits\n",
      " Best params: {'clf__n_neighbors': 9}\n",
      "Model          : KNN\n",
      "Best Params    : {'clf__n_neighbors': 9}\n",
      "F1 Score       : 0.8990\n",
      "Accuracy       : 0.8803\n",
      "Precision      : 0.9196\n",
      "Recall         : 0.8793\n",
      "ROC AUC        : 0.9454\n",
      "Model saved to Models_drop/KNN.HCC.pkl\n",
      "\n",
      " Evaluating: MLP\n",
      "Fitting 5 folds for each of 6 candidates, totalling 30 fits\n",
      " Best params: {'clf__alpha': 0.001, 'clf__hidden_layer_sizes': (16,)}\n",
      "Model          : MLP\n",
      "Best Params    : {'clf__alpha': 0.001, 'clf__hidden_layer_sizes': (16,)}\n",
      "F1 Score       : 0.9123\n",
      "Accuracy       : 0.8937\n",
      "Precision      : 0.9128\n",
      "Recall         : 0.9118\n",
      "ROC AUC        : 0.9601\n",
      "Model saved to Models_drop/MLP.HCC.pkl\n",
      "\n",
      " Evaluating: XGBoost\n",
      "Fitting 5 folds for each of 9 candidates, totalling 45 fits\n",
      " Best params: {'clf__max_depth': 3, 'clf__n_estimators': 100}\n",
      "Model          : XGBoost\n",
      "Best Params    : {'clf__max_depth': 3, 'clf__n_estimators': 100}\n",
      "F1 Score       : 0.9170\n",
      "Accuracy       : 0.8992\n",
      "Precision      : 0.9153\n",
      "Recall         : 0.9187\n",
      "ROC AUC        : 0.9645\n",
      "Model saved to Models_drop/XGBoost.HCC.pkl\n",
      "\n",
      " Summary of All Model Results:\n"
     ]
    },
    {
     "data": {
      "text/html": [
       "<style type=\"text/css\">\n",
       "#T_b7a75_row1_col2, #T_b7a75_row1_col3, #T_b7a75_row1_col5, #T_b7a75_row2_col4, #T_b7a75_row4_col6 {\n",
       "  background-color: #7bc800;\n",
       "}\n",
       "</style>\n",
       "<table id=\"T_b7a75\">\n",
       "  <thead>\n",
       "    <tr>\n",
       "      <th class=\"blank level0\" >&nbsp;</th>\n",
       "      <th id=\"T_b7a75_level0_col0\" class=\"col_heading level0 col0\" >Model</th>\n",
       "      <th id=\"T_b7a75_level0_col1\" class=\"col_heading level0 col1\" >Best Params</th>\n",
       "      <th id=\"T_b7a75_level0_col2\" class=\"col_heading level0 col2\" >F1 Score</th>\n",
       "      <th id=\"T_b7a75_level0_col3\" class=\"col_heading level0 col3\" >Accuracy</th>\n",
       "      <th id=\"T_b7a75_level0_col4\" class=\"col_heading level0 col4\" >Precision</th>\n",
       "      <th id=\"T_b7a75_level0_col5\" class=\"col_heading level0 col5\" >Recall</th>\n",
       "      <th id=\"T_b7a75_level0_col6\" class=\"col_heading level0 col6\" >ROC AUC</th>\n",
       "    </tr>\n",
       "  </thead>\n",
       "  <tbody>\n",
       "    <tr>\n",
       "      <th id=\"T_b7a75_level0_row0\" class=\"row_heading level0 row0\" >0</th>\n",
       "      <td id=\"T_b7a75_row0_col0\" class=\"data row0 col0\" >Logistic</td>\n",
       "      <td id=\"T_b7a75_row0_col1\" class=\"data row0 col1\" >{'clf__C': 1}</td>\n",
       "      <td id=\"T_b7a75_row0_col2\" class=\"data row0 col2\" >0.908683</td>\n",
       "      <td id=\"T_b7a75_row0_col3\" class=\"data row0 col3\" >0.889144</td>\n",
       "      <td id=\"T_b7a75_row0_col4\" class=\"data row0 col4\" >0.907410</td>\n",
       "      <td id=\"T_b7a75_row0_col5\" class=\"data row0 col5\" >0.909959</td>\n",
       "      <td id=\"T_b7a75_row0_col6\" class=\"data row0 col6\" >0.957502</td>\n",
       "    </tr>\n",
       "    <tr>\n",
       "      <th id=\"T_b7a75_level0_row1\" class=\"row_heading level0 row1\" >1</th>\n",
       "      <td id=\"T_b7a75_row1_col0\" class=\"data row1 col0\" >SVM</td>\n",
       "      <td id=\"T_b7a75_row1_col1\" class=\"data row1 col1\" >{'clf__C': 1, 'clf__kernel': 'rbf'}</td>\n",
       "      <td id=\"T_b7a75_row1_col2\" class=\"data row1 col2\" >0.917377</td>\n",
       "      <td id=\"T_b7a75_row1_col3\" class=\"data row1 col3\" >0.899361</td>\n",
       "      <td id=\"T_b7a75_row1_col4\" class=\"data row1 col4\" >0.913037</td>\n",
       "      <td id=\"T_b7a75_row1_col5\" class=\"data row1 col5\" >0.921759</td>\n",
       "      <td id=\"T_b7a75_row1_col6\" class=\"data row1 col6\" >0.962427</td>\n",
       "    </tr>\n",
       "    <tr>\n",
       "      <th id=\"T_b7a75_level0_row2\" class=\"row_heading level0 row2\" >2</th>\n",
       "      <td id=\"T_b7a75_row2_col0\" class=\"data row2 col0\" >KNN</td>\n",
       "      <td id=\"T_b7a75_row2_col1\" class=\"data row2 col1\" >{'clf__n_neighbors': 9}</td>\n",
       "      <td id=\"T_b7a75_row2_col2\" class=\"data row2 col2\" >0.899038</td>\n",
       "      <td id=\"T_b7a75_row2_col3\" class=\"data row2 col3\" >0.880289</td>\n",
       "      <td id=\"T_b7a75_row2_col4\" class=\"data row2 col4\" >0.919642</td>\n",
       "      <td id=\"T_b7a75_row2_col5\" class=\"data row2 col5\" >0.879337</td>\n",
       "      <td id=\"T_b7a75_row2_col6\" class=\"data row2 col6\" >0.945392</td>\n",
       "    </tr>\n",
       "    <tr>\n",
       "      <th id=\"T_b7a75_level0_row3\" class=\"row_heading level0 row3\" >3</th>\n",
       "      <td id=\"T_b7a75_row3_col0\" class=\"data row3 col0\" >MLP</td>\n",
       "      <td id=\"T_b7a75_row3_col1\" class=\"data row3 col1\" >{'clf__alpha': 0.001, 'clf__hidden_layer_sizes': (16,)}</td>\n",
       "      <td id=\"T_b7a75_row3_col2\" class=\"data row3 col2\" >0.912298</td>\n",
       "      <td id=\"T_b7a75_row3_col3\" class=\"data row3 col3\" >0.893742</td>\n",
       "      <td id=\"T_b7a75_row3_col4\" class=\"data row3 col4\" >0.912811</td>\n",
       "      <td id=\"T_b7a75_row3_col5\" class=\"data row3 col5\" >0.911785</td>\n",
       "      <td id=\"T_b7a75_row3_col6\" class=\"data row3 col6\" >0.960147</td>\n",
       "    </tr>\n",
       "    <tr>\n",
       "      <th id=\"T_b7a75_level0_row4\" class=\"row_heading level0 row4\" >4</th>\n",
       "      <td id=\"T_b7a75_row4_col0\" class=\"data row4 col0\" >XGBoost</td>\n",
       "      <td id=\"T_b7a75_row4_col1\" class=\"data row4 col1\" >{'clf__max_depth': 3, 'clf__n_estimators': 100}</td>\n",
       "      <td id=\"T_b7a75_row4_col2\" class=\"data row4 col2\" >0.916994</td>\n",
       "      <td id=\"T_b7a75_row4_col3\" class=\"data row4 col3\" >0.899191</td>\n",
       "      <td id=\"T_b7a75_row4_col4\" class=\"data row4 col4\" >0.915325</td>\n",
       "      <td id=\"T_b7a75_row4_col5\" class=\"data row4 col5\" >0.918668</td>\n",
       "      <td id=\"T_b7a75_row4_col6\" class=\"data row4 col6\" >0.964483</td>\n",
       "    </tr>\n",
       "  </tbody>\n",
       "</table>\n"
      ],
      "text/plain": [
       "<pandas.io.formats.style.Styler at 0x1061d7800>"
      ]
     },
     "metadata": {},
     "output_type": "display_data"
    }
   ],
   "source": [
    "# Define models and whether to scale\n",
    "models = {\n",
    "    \"Logistic\": LogisticRegression(solver=\"saga\", max_iter=5000),\n",
    "    \"SVM\": SVC(probability=True),\n",
    "    \"KNN\": KNeighborsClassifier(),\n",
    "    \"MLP\": MLPClassifier(max_iter=1000),\n",
    "    \"XGBoost\": XGBClassifier(eval_metric='logloss'),\n",
    "}\n",
    "\n",
    "param_grids = {\n",
    "    \"Logistic\": {\"clf__C\": [0.01, 0.1, 1, 10]},\n",
    "    \"SVM\":      {\"clf__C\": [0.1, 1, 10], \"clf__kernel\": [\"linear\", \"rbf\"]},\n",
    "    \"KNN\":      {\"clf__n_neighbors\": [3, 5, 7, 9]},\n",
    "    \"MLP\":      {\"clf__hidden_layer_sizes\": [(16,), (32,), (64,)], \"clf__alpha\": [1e-4, 1e-3]},\n",
    "    \"XGBoost\":  {\"clf__n_estimators\": [50, 100, 200], \"clf__max_depth\": [3, 5, 7]}\n",
    "}\n",
    "\n",
    "results_drop = []\n",
    "fitted_models_drop = {}\n",
    "for name, model in models.items():\n",
    "    scale = name != \"XGBoost\"\n",
    "    best_clf, metrics = evaluate_model_drop(\n",
    "        model=model,\n",
    "        param_grid=param_grids[name],\n",
    "        X=Xd_train_log[stable_genes_drop],  # or final_transferable_genes\n",
    "        y=yd_train,\n",
    "        name=name,\n",
    "        scale=scale,\n",
    "        save=True,\n",
    "        refit=True,\n",
    "        save_path=\"Models_drop\",\n",
    "        cv_folds=5\n",
    "    )\n",
    "    results_drop.append(metrics)\n",
    "    fitted_models_drop[name] = best_clf\n",
    "\n",
    "# Display summary\n",
    "dfd_results = pd.DataFrame(results_drop).drop(columns=[\"Confusion Matrix\"])\n",
    "print(\"\\n Summary of All Model Results:\")\n",
    "\n",
    "styled = dfd_results.style.apply(\n",
    "    highlight_single_best,\n",
    "    subset=[\"F1 Score\", \"Accuracy\", \"Precision\", \"Recall\", \"ROC AUC\"],\n",
    "    axis=0  # apply column-wise\n",
    ")\n",
    "\n",
    "display(styled)"
   ]
  },
  {
   "cell_type": "code",
   "execution_count": 65,
   "id": "f8038b82",
   "metadata": {},
   "outputs": [
    {
     "name": "stdout",
     "output_type": "stream",
     "text": [
      "\n",
      "\n",
      "--- Final Evaluation on Held-Out Validation Set ---\n",
      "\n",
      "Logistic:\n",
      "F1 Score      : 0.9121\n",
      "Accuracy      : 0.8931\n",
      "Precision     : 0.9090\n",
      "Recall        : 0.9152\n",
      "ROC AUC       : 0.9565\n",
      "Confusion Mat :\n",
      "[[ 994  163]\n",
      " [ 151 1629]]\n",
      "\n",
      "SVM:\n",
      "F1 Score      : 0.9215\n",
      "Accuracy      : 0.9043\n",
      "Precision     : 0.9166\n",
      "Recall        : 0.9264\n",
      "ROC AUC       : 0.9629\n",
      "Confusion Mat :\n",
      "[[1007  150]\n",
      " [ 131 1649]]\n",
      "\n",
      "KNN:\n",
      "F1 Score      : 0.9005\n",
      "Accuracy      : 0.8825\n",
      "Precision     : 0.9253\n",
      "Recall        : 0.8770\n",
      "ROC AUC       : 0.9504\n",
      "Confusion Mat :\n",
      "[[1031  126]\n",
      " [ 219 1561]]\n",
      "\n",
      "MLP:\n",
      "F1 Score      : 0.9176\n",
      "Accuracy      : 0.9002\n",
      "Precision     : 0.9189\n",
      "Recall        : 0.9163\n",
      "ROC AUC       : 0.9609\n",
      "Confusion Mat :\n",
      "[[1013  144]\n",
      " [ 149 1631]]\n",
      "\n",
      "XGBoost:\n",
      "F1 Score      : 0.9238\n",
      "Accuracy      : 0.9077\n",
      "Precision     : 0.9251\n",
      "Recall        : 0.9225\n",
      "ROC AUC       : 0.9653\n",
      "Confusion Mat :\n",
      "[[1024  133]\n",
      " [ 138 1642]]\n"
     ]
    }
   ],
   "source": [
    "print(\"\\n\\n--- Final Evaluation on Held-Out Validation Set ---\")\n",
    "for name, pipeline in fitted_models_drop.items():\n",
    "    print(f\"\\n{name}:\")\n",
    "    # pipeline includes scaler if needed\n",
    "    X_val = Xd_val_log[stable_genes_drop]\n",
    "    y_pred = pipeline.predict(X_val)\n",
    "    y_proba = pipeline.predict_proba(X_val)[:, 1]\n",
    "\n",
    "    print(f\"F1 Score      : {f1_score(yd_val, y_pred):.4f}\")\n",
    "    print(f\"Accuracy      : {accuracy_score(yd_val, y_pred):.4f}\")\n",
    "    print(f\"Precision     : {precision_score(yd_val, y_pred):.4f}\")\n",
    "    print(f\"Recall        : {recall_score(yd_val, y_pred):.4f}\")\n",
    "    print(f\"ROC AUC       : {roc_auc_score(yd_val, y_proba):.4f}\")\n",
    "    print(f\"Confusion Mat :\\n{confusion_matrix(yd_val, y_pred)}\")"
   ]
  },
  {
   "cell_type": "code",
   "execution_count": 66,
   "id": "13d2261c",
   "metadata": {},
   "outputs": [
    {
     "data": {
      "image/png": "[encoded data removed]",
      "text/plain": [
       "<Figure size 400x300 with 2 Axes>"
      ]
     },
     "metadata": {},
     "output_type": "display_data"
    },
    {
     "data": {
      "image/png": "[encoded data removed]",
      "text/plain": [
       "<Figure size 400x300 with 2 Axes>"
      ]
     },
     "metadata": {},
     "output_type": "display_data"
    },
    {
     "data": {
      "image/png": "[encoded data removed]",
      "text/plain": [
       "<Figure size 400x300 with 2 Axes>"
      ]
     },
     "metadata": {},
     "output_type": "display_data"
    },
    {
     "data": {
      "image/png": "[encoded data removed]",
      "text/plain": [
       "<Figure size 400x300 with 2 Axes>"
      ]
     },
     "metadata": {},
     "output_type": "display_data"
    },
    {
     "data": {
      "image/png": "[encoded data removed]",
      "text/plain": [
       "<Figure size 400x300 with 2 Axes>"
      ]
     },
     "metadata": {},
     "output_type": "display_data"
    }
   ],
   "source": [
    "# Show confusion matrices after evaluation\n",
    "for result in results_drop:\n",
    "    cm = result[\"Confusion Matrix\"]\n",
    "    model_name = result[\"Model\"]\n",
    "    \n",
    "    plt.figure(figsize=(4, 3))\n",
    "    sns.heatmap(cm, annot=True, fmt='d', cmap='Blues')\n",
    "    plt.title(f\"{model_name} - Confusion Matrix\")\n",
    "    plt.xlabel(\"Predicted\")\n",
    "    plt.ylabel(\"True\")\n",
    "    plt.tight_layout()\n",
    "    plt.show()"
   ]
  },
  {
   "cell_type": "code",
   "execution_count": 67,
   "id": "d17594b9",
   "metadata": {},
   "outputs": [
    {
     "name": "stdout",
     "output_type": "stream",
     "text": [
      "\n",
      " Evaluating: Shuffled_XGBoost\n",
      "Fitting 5 folds for each of 9 candidates, totalling 45 fits\n",
      " Best params: {'clf__max_depth': 5, 'clf__n_estimators': 50}\n",
      "Model          : Shuffled_XGBoost\n",
      "Best Params    : {'clf__max_depth': 5, 'clf__n_estimators': 50}\n",
      "F1 Score       : 0.7340\n",
      "Accuracy       : 0.5941\n",
      "Precision      : 0.6089\n",
      "Recall         : 0.9237\n",
      "ROC AUC        : 0.5115\n"
     ]
    }
   ],
   "source": [
    "# 1. Shuffle the labels\n",
    "yd_shuffled = np.random.permutation(yd_train)\n",
    "\n",
    "# 2. Evaluate on shuffled labels (no save, no refit)\n",
    "shuffled_clf, shuffled_metrics = evaluate_model_drop(\n",
    "    model=XGBClassifier(eval_metric='logloss'),\n",
    "    param_grid=param_grids[\"XGBoost\"],            \n",
    "    X=Xd_train_log[stable_genes_drop],\n",
    "    y=yd_shuffled,\n",
    "    name=\"Shuffled_XGBoost\",\n",
    "    scale=True,\n",
    "    refit=False,\n",
    "    save=False,\n",
    "    save_path=\"Models_drop\",\n",
    "    cv_folds=5\n",
    ")"
   ]
  },
  {
   "cell_type": "code",
   "execution_count": 68,
   "id": "a00abf60",
   "metadata": {},
   "outputs": [
    {
     "name": "stdout",
     "output_type": "stream",
     "text": [
      "\n",
      "Performance with 10% label corruption:\n",
      "\n",
      " Evaluating: XGB_Flipped\n",
      "Fitting 5 folds for each of 9 candidates, totalling 45 fits\n",
      " Best params: {'clf__max_depth': 3, 'clf__n_estimators': 50}\n",
      "Model          : XGB_Flipped\n",
      "Best Params    : {'clf__max_depth': 3, 'clf__n_estimators': 50}\n",
      "F1 Score       : 0.8435\n",
      "Accuracy       : 0.8123\n",
      "Precision      : 0.8214\n",
      "Recall         : 0.8669\n",
      "ROC AUC        : 0.8584\n"
     ]
    }
   ],
   "source": [
    "# Flip 10% of yd_train\n",
    "yd_train_flipped = flip_labels(yd_train, fraction=0.1)\n",
    "\n",
    "# Evaluate performance again with flipped labels\n",
    "model = XGBClassifier(eval_metric='logloss')\n",
    "\n",
    "print(\"\\nPerformance with 10% label corruption:\")\n",
    "clf_flipped, metrics_flipped = evaluate_model_drop(\n",
    "    model=model,\n",
    "    param_grid=param_grids[\"XGBoost\"],\n",
    "    X=Xd_train_log[stable_genes_drop],\n",
    "    y=yd_train_flipped,\n",
    "    name=\"XGB_Flipped\",\n",
    "    scale=True,\n",
    "    save=False,\n",
    "    refit=False\n",
    ")"
   ]
  },
  {
   "cell_type": "code",
   "execution_count": 69,
   "id": "2af5a71b",
   "metadata": {},
   "outputs": [
    {
     "name": "stdout",
     "output_type": "stream",
     "text": [
      "\n",
      " Evaluating: XGB_Flipped_30\n",
      "Fitting 5 folds for each of 9 candidates, totalling 45 fits\n",
      " Best params: {'clf__max_depth': 3, 'clf__n_estimators': 50}\n",
      "Model          : XGB_Flipped_30\n",
      "Best Params    : {'clf__max_depth': 3, 'clf__n_estimators': 50}\n",
      "F1 Score       : 0.6933\n",
      "Accuracy       : 0.6463\n",
      "Precision      : 0.6517\n",
      "Recall         : 0.7405\n",
      "ROC AUC        : 0.6666\n"
     ]
    }
   ],
   "source": [
    "yd_train_flipped_30 = flip_labels(yd_train, fraction=0.3)\n",
    "clf30, metrics30 = evaluate_model_drop(\n",
    "    model=XGBClassifier(eval_metric='logloss'),\n",
    "    param_grid=param_grids[\"XGBoost\"],\n",
    "    X=Xd_train_log[stable_genes_drop],\n",
    "    y=yd_train_flipped_30,\n",
    "    name=\"XGB_Flipped_30\",\n",
    "    scale=True,\n",
    "    save=False,\n",
    "    refit=False\n",
    ")"
   ]
  }
 ],
 "metadata": {
  "kernelspec": {
   "display_name": "ai_lab",
   "language": "python",
   "name": "python3"
  },
  "language_info": {
   "codemirror_mode": {
    "name": "ipython",
    "version": 3
   },
   "file_extension": ".py",
   "mimetype": "text/x-python",
   "name": "python",
   "nbconvert_exporter": "python",
   "pygments_lexer": "ipython3",
   "version": "3.12.2"
  }
 },
 "nbformat": 4,
 "nbformat_minor": 5
}
