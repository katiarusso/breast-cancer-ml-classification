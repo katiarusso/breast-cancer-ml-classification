{
 "cells": [
  {
   "cell_type": "markdown",
   "id": "d38ed306",
   "metadata": {},
   "source": [
    "# **Supervised Learning**\n",
    "---"
   ]
  },
  {
   "cell_type": "markdown",
   "id": "d37a5b96",
   "metadata": {},
   "source": [
    "This notebook implements the full supervised learning pipeline for the **MCF7 cell line**. The aim is to build high-performance binary classifiers that predict the oxygenation condition (normoxia vs hypoxia) of each cell based on gene expression."
   ]
  },
  {
   "cell_type": "markdown",
   "id": "aa9c72c4",
   "metadata": {},
   "source": [
    "\n",
    "For each combination of cell line and technology, we:\n",
    "\n",
    "- Align metadata and create binary labels from the known condition\n",
    "- Standardize the expression values (scaling)\n",
    "- Perform different feature selection strategies tailored to each technology and compare model performance\n",
    "- Save the best models for test prediction"
   ]
  },
  {
   "cell_type": "markdown",
   "id": "df9b01cf",
   "metadata": {},
   "source": [
    "> We now work with the instructor-provided **filtered and normalized training datasets**. "
   ]
  },
  {
   "cell_type": "markdown",
   "id": "01693ec3",
   "metadata": {},
   "source": [
    "> Each step is repeated for both **Smart-seq** and **Drop-seq** datasets, maintaining the same methodology for consistent comparison and integration."
   ]
  },
  {
   "cell_type": "markdown",
   "id": "a85b1859",
   "metadata": {},
   "source": [
    "## Index\n",
    "\n",
    "1. [Load Datasets](#1-load-datasets)  \n",
    "2. [Align Labels](#2-align-labels)\n",
    "3. [Preprocessing](#3-preprocessing) \n",
    "4. [Feature Selection](#4-feature-selection)  \n",
    "   - [4.1 SmartSeq](#41-smartseq)\n",
    "      - [4.1.1 Elastic Net Logistic Regression](#411-elastic-net-logistic-regression)  \n",
    "      - [4.1.2 Random Forest Importance](#412-random-forest-importance)  \n",
    "      - [4.1.3 Stability Across Seeds](#413-stability-across-seeds)\n",
    "   - [4.2 DropSeq](#42-dropseq)\n",
    "      - [4.2.1 Elastic Net Logistic Regression](#421-elastic-net-logistic-regression) \n",
    "      - [4.2.2 Random Forest Importance](#422-random-forest-importance)  \n",
    "      - [4.2.3 Stability Across Seeds](#423-stability-across-seeds)\n",
    "5. [Biological Enrichment](#5-biological-enrichment)\n",
    "   - [5.1 SmartSeq](#51-smartseq)\n",
    "      - [5.1.1 Over-Representation Analysis (ORA)](#511-over---representation-analysis-ora)\n",
    "      - [5.1.2 Comparison with Buffa's signature](#512-comparison-with-Buffas-signature)\n",
    "      - [5.1.3 Expression Patterns of Top Stable Genes](#513-expression-patterns-of-top-stable-genes)\n",
    "   - [5.2 DropSeq](#52-dropseq)\n",
    "      - [5.2.1 Over-Representation Analysis](#521-over---representation-analysis)\n",
    "      - [5.2.2 Comparison with Buffa's signature](#522-comparison-with-Buffas-signature)\n",
    "      - [5.2.3 Expression Patterns of Top Stable Genes](#523-expression-patterns-of-top-stable-genes)\n",
    "6. [Model Training and Evaluation](#6-model-training-and-evaluation) \n"
   ]
  },
  {
   "cell_type": "code",
   "execution_count": 1,
   "id": "66611acf",
   "metadata": {},
   "outputs": [],
   "source": [
    "import os\n",
    "import sys\n",
    "import sklearn\n",
    "import pandas as pd\n",
    "import numpy as np\n",
    "import matplotlib.pyplot as plt\n",
    "import seaborn as sns\n",
    "import umap\n",
    "import pickle\n",
    "import joblib\n",
    "from scipy.stats import skew, kurtosis, mannwhitneyu\n",
    "from sklearn.preprocessing import StandardScaler\n",
    "from sklearn.model_selection import train_test_split, StratifiedKFold, cross_val_predict\n",
    "from sklearn.linear_model import LogisticRegressionCV, LogisticRegression\n",
    "from sklearn.feature_selection import SelectFromModel\n",
    "from sklearn.ensemble import RandomForestClassifier\n",
    "import gseapy as gp\n",
    "from gseapy.plot import barplot, dotplot\n",
    "from sklearn.svm import SVC\n",
    "from sklearn.neural_network import MLPClassifier\n",
    "from sklearn.metrics import (roc_auc_score, f1_score, accuracy_score, precision_score, recall_score, confusion_matrix, roc_curve)\n",
    "from sklearn.pipeline import Pipeline\n",
    "from sklearn.neighbors import KNeighborsClassifier\n",
    "from xgboost import XGBClassifier\n",
    "from sklearn.model_selection import GridSearchCV\n",
    "from collections import defaultdict\n",
    "from collections import Counter\n",
    "from sklearn.feature_selection import SelectKBest, mutual_info_classif\n",
    "from matplotlib_venn import venn2\n",
    "from pathlib import Path"
   ]
  },
  {
   "cell_type": "markdown",
   "id": "04ad82c3",
   "metadata": {},
   "source": [
    "## **1.** Load Datasets\n",
    "---"
   ]
  },
  {
   "cell_type": "markdown",
   "id": "d293a00d",
   "metadata": {},
   "source": [
    "### ***SmartSeq***"
   ]
  },
  {
   "cell_type": "markdown",
   "id": "e1ffe028",
   "metadata": {},
   "source": [
    "We are going to transpose the dataset so that it matches sklearn’s expected input format (n_samples × n_features)."
   ]
  },
  {
   "cell_type": "code",
   "execution_count": 2,
   "id": "f6f28517",
   "metadata": {},
   "outputs": [
    {
     "data": {
      "text/html": [
       "<div>\n",
       "<style scoped>\n",
       "    .dataframe tbody tr th:only-of-type {\n",
       "        vertical-align: middle;\n",
       "    }\n",
       "\n",
       "    .dataframe tbody tr th {\n",
       "        vertical-align: top;\n",
       "    }\n",
       "\n",
       "    .dataframe thead th {\n",
       "        text-align: right;\n",
       "    }\n",
       "</style>\n",
       "<table border=\"1\" class=\"dataframe\">\n",
       "  <thead>\n",
       "    <tr style=\"text-align: right;\">\n",
       "      <th></th>\n",
       "      <th>CYP1B1</th>\n",
       "      <th>CYP1B1-AS1</th>\n",
       "      <th>CYP1A1</th>\n",
       "      <th>NDRG1</th>\n",
       "      <th>DDIT4</th>\n",
       "      <th>PFKFB3</th>\n",
       "      <th>HK2</th>\n",
       "      <th>AREG</th>\n",
       "      <th>MYBL2</th>\n",
       "      <th>ADM</th>\n",
       "      <th>...</th>\n",
       "      <th>CD27-AS1</th>\n",
       "      <th>DNAI7</th>\n",
       "      <th>MAFG</th>\n",
       "      <th>LZTR1</th>\n",
       "      <th>BCO2</th>\n",
       "      <th>GRIK5</th>\n",
       "      <th>SLC25A27</th>\n",
       "      <th>DENND5A</th>\n",
       "      <th>CDK5R1</th>\n",
       "      <th>FAM13A-AS1</th>\n",
       "    </tr>\n",
       "  </thead>\n",
       "  <tbody>\n",
       "    <tr>\n",
       "      <th>output.STAR.2_B3_Norm_S57_Aligned.sortedByCoord.out.bam</th>\n",
       "      <td>343</td>\n",
       "      <td>140</td>\n",
       "      <td>0</td>\n",
       "      <td>0</td>\n",
       "      <td>386</td>\n",
       "      <td>75</td>\n",
       "      <td>0</td>\n",
       "      <td>0</td>\n",
       "      <td>476</td>\n",
       "      <td>0</td>\n",
       "      <td>...</td>\n",
       "      <td>63</td>\n",
       "      <td>0</td>\n",
       "      <td>17</td>\n",
       "      <td>59</td>\n",
       "      <td>0</td>\n",
       "      <td>0</td>\n",
       "      <td>0</td>\n",
       "      <td>51</td>\n",
       "      <td>0</td>\n",
       "      <td>0</td>\n",
       "    </tr>\n",
       "    <tr>\n",
       "      <th>output.STAR.2_B4_Norm_S58_Aligned.sortedByCoord.out.bam</th>\n",
       "      <td>131</td>\n",
       "      <td>59</td>\n",
       "      <td>0</td>\n",
       "      <td>1</td>\n",
       "      <td>289</td>\n",
       "      <td>42</td>\n",
       "      <td>0</td>\n",
       "      <td>856</td>\n",
       "      <td>1586</td>\n",
       "      <td>0</td>\n",
       "      <td>...</td>\n",
       "      <td>0</td>\n",
       "      <td>0</td>\n",
       "      <td>1</td>\n",
       "      <td>25</td>\n",
       "      <td>0</td>\n",
       "      <td>0</td>\n",
       "      <td>0</td>\n",
       "      <td>34</td>\n",
       "      <td>0</td>\n",
       "      <td>0</td>\n",
       "    </tr>\n",
       "    <tr>\n",
       "      <th>output.STAR.2_B5_Norm_S59_Aligned.sortedByCoord.out.bam</th>\n",
       "      <td>452</td>\n",
       "      <td>203</td>\n",
       "      <td>0</td>\n",
       "      <td>0</td>\n",
       "      <td>0</td>\n",
       "      <td>0</td>\n",
       "      <td>0</td>\n",
       "      <td>0</td>\n",
       "      <td>775</td>\n",
       "      <td>0</td>\n",
       "      <td>...</td>\n",
       "      <td>15</td>\n",
       "      <td>0</td>\n",
       "      <td>23</td>\n",
       "      <td>0</td>\n",
       "      <td>0</td>\n",
       "      <td>0</td>\n",
       "      <td>0</td>\n",
       "      <td>0</td>\n",
       "      <td>0</td>\n",
       "      <td>0</td>\n",
       "    </tr>\n",
       "    <tr>\n",
       "      <th>output.STAR.2_B6_Norm_S60_Aligned.sortedByCoord.out.bam</th>\n",
       "      <td>27</td>\n",
       "      <td>7</td>\n",
       "      <td>0</td>\n",
       "      <td>0</td>\n",
       "      <td>288</td>\n",
       "      <td>214</td>\n",
       "      <td>15</td>\n",
       "      <td>242</td>\n",
       "      <td>1191</td>\n",
       "      <td>0</td>\n",
       "      <td>...</td>\n",
       "      <td>1</td>\n",
       "      <td>0</td>\n",
       "      <td>3</td>\n",
       "      <td>10</td>\n",
       "      <td>0</td>\n",
       "      <td>0</td>\n",
       "      <td>0</td>\n",
       "      <td>4</td>\n",
       "      <td>0</td>\n",
       "      <td>0</td>\n",
       "    </tr>\n",
       "    <tr>\n",
       "      <th>output.STAR.2_B7_Hypo_S79_Aligned.sortedByCoord.out.bam</th>\n",
       "      <td>5817</td>\n",
       "      <td>2669</td>\n",
       "      <td>0</td>\n",
       "      <td>654</td>\n",
       "      <td>2484</td>\n",
       "      <td>1603</td>\n",
       "      <td>748</td>\n",
       "      <td>436</td>\n",
       "      <td>0</td>\n",
       "      <td>0</td>\n",
       "      <td>...</td>\n",
       "      <td>0</td>\n",
       "      <td>0</td>\n",
       "      <td>63</td>\n",
       "      <td>0</td>\n",
       "      <td>0</td>\n",
       "      <td>0</td>\n",
       "      <td>0</td>\n",
       "      <td>60</td>\n",
       "      <td>0</td>\n",
       "      <td>0</td>\n",
       "    </tr>\n",
       "  </tbody>\n",
       "</table>\n",
       "<p>5 rows × 3000 columns</p>\n",
       "</div>"
      ],
      "text/plain": [
       "                                                    CYP1B1  CYP1B1-AS1  \\\n",
       "output.STAR.2_B3_Norm_S57_Aligned.sortedByCoord...     343         140   \n",
       "output.STAR.2_B4_Norm_S58_Aligned.sortedByCoord...     131          59   \n",
       "output.STAR.2_B5_Norm_S59_Aligned.sortedByCoord...     452         203   \n",
       "output.STAR.2_B6_Norm_S60_Aligned.sortedByCoord...      27           7   \n",
       "output.STAR.2_B7_Hypo_S79_Aligned.sortedByCoord...    5817        2669   \n",
       "\n",
       "                                                    CYP1A1  NDRG1  DDIT4  \\\n",
       "output.STAR.2_B3_Norm_S57_Aligned.sortedByCoord...       0      0    386   \n",
       "output.STAR.2_B4_Norm_S58_Aligned.sortedByCoord...       0      1    289   \n",
       "output.STAR.2_B5_Norm_S59_Aligned.sortedByCoord...       0      0      0   \n",
       "output.STAR.2_B6_Norm_S60_Aligned.sortedByCoord...       0      0    288   \n",
       "output.STAR.2_B7_Hypo_S79_Aligned.sortedByCoord...       0    654   2484   \n",
       "\n",
       "                                                    PFKFB3  HK2  AREG  MYBL2  \\\n",
       "output.STAR.2_B3_Norm_S57_Aligned.sortedByCoord...      75    0     0    476   \n",
       "output.STAR.2_B4_Norm_S58_Aligned.sortedByCoord...      42    0   856   1586   \n",
       "output.STAR.2_B5_Norm_S59_Aligned.sortedByCoord...       0    0     0    775   \n",
       "output.STAR.2_B6_Norm_S60_Aligned.sortedByCoord...     214   15   242   1191   \n",
       "output.STAR.2_B7_Hypo_S79_Aligned.sortedByCoord...    1603  748   436      0   \n",
       "\n",
       "                                                    ADM  ...  CD27-AS1  DNAI7  \\\n",
       "output.STAR.2_B3_Norm_S57_Aligned.sortedByCoord...    0  ...        63      0   \n",
       "output.STAR.2_B4_Norm_S58_Aligned.sortedByCoord...    0  ...         0      0   \n",
       "output.STAR.2_B5_Norm_S59_Aligned.sortedByCoord...    0  ...        15      0   \n",
       "output.STAR.2_B6_Norm_S60_Aligned.sortedByCoord...    0  ...         1      0   \n",
       "output.STAR.2_B7_Hypo_S79_Aligned.sortedByCoord...    0  ...         0      0   \n",
       "\n",
       "                                                    MAFG  LZTR1  BCO2  GRIK5  \\\n",
       "output.STAR.2_B3_Norm_S57_Aligned.sortedByCoord...    17     59     0      0   \n",
       "output.STAR.2_B4_Norm_S58_Aligned.sortedByCoord...     1     25     0      0   \n",
       "output.STAR.2_B5_Norm_S59_Aligned.sortedByCoord...    23      0     0      0   \n",
       "output.STAR.2_B6_Norm_S60_Aligned.sortedByCoord...     3     10     0      0   \n",
       "output.STAR.2_B7_Hypo_S79_Aligned.sortedByCoord...    63      0     0      0   \n",
       "\n",
       "                                                    SLC25A27  DENND5A  CDK5R1  \\\n",
       "output.STAR.2_B3_Norm_S57_Aligned.sortedByCoord...         0       51       0   \n",
       "output.STAR.2_B4_Norm_S58_Aligned.sortedByCoord...         0       34       0   \n",
       "output.STAR.2_B5_Norm_S59_Aligned.sortedByCoord...         0        0       0   \n",
       "output.STAR.2_B6_Norm_S60_Aligned.sortedByCoord...         0        4       0   \n",
       "output.STAR.2_B7_Hypo_S79_Aligned.sortedByCoord...         0       60       0   \n",
       "\n",
       "                                                    FAM13A-AS1  \n",
       "output.STAR.2_B3_Norm_S57_Aligned.sortedByCoord...           0  \n",
       "output.STAR.2_B4_Norm_S58_Aligned.sortedByCoord...           0  \n",
       "output.STAR.2_B5_Norm_S59_Aligned.sortedByCoord...           0  \n",
       "output.STAR.2_B6_Norm_S60_Aligned.sortedByCoord...           0  \n",
       "output.STAR.2_B7_Hypo_S79_Aligned.sortedByCoord...           0  \n",
       "\n",
       "[5 rows x 3000 columns]"
      ]
     },
     "execution_count": 2,
     "metadata": {},
     "output_type": "execute_result"
    }
   ],
   "source": [
    "mcf_meta = pd.read_csv(\"../Data/SmartSeq/MCF7_SmartS_MetaData.tsv\", sep=\"\\t\", engine= \"python\", index_col=0)\n",
    "dfs_mcf_train = pd.read_csv(\"../Data/SmartSeq/MCF7_SmartS_Filtered_Normalised_3000_Data_train.txt\", sep=r\"\\s+\", engine= \"python\", index_col=0).rename(index=lambda x: x.strip('\"')).rename(columns=lambda x: x.strip('\"')).T\n",
    "dfs_mcf_train.head()"
   ]
  },
  {
   "cell_type": "code",
   "execution_count": 3,
   "id": "1b865490",
   "metadata": {},
   "outputs": [
    {
     "name": "stdout",
     "output_type": "stream",
     "text": [
      "CYP1B1        0\n",
      "CYP1B1-AS1    0\n",
      "CYP1A1        0\n",
      "NDRG1         0\n",
      "DDIT4         0\n",
      "             ..\n",
      "GRIK5         0\n",
      "SLC25A27      0\n",
      "DENND5A       0\n",
      "CDK5R1        0\n",
      "FAM13A-AS1    0\n",
      "Length: 3000, dtype: int64\n"
     ]
    }
   ],
   "source": [
    "print(dfs_mcf_train.isnull().sum())"
   ]
  },
  {
   "cell_type": "code",
   "execution_count": 4,
   "id": "94ae4f7a",
   "metadata": {},
   "outputs": [
    {
     "name": "stdout",
     "output_type": "stream",
     "text": [
      "<class 'pandas.core.frame.DataFrame'>\n",
      "Index: 250 entries, output.STAR.2_B3_Norm_S57_Aligned.sortedByCoord.out.bam to output.STAR.4_H9_Hypo_S381_Aligned.sortedByCoord.out.bam\n",
      "Columns: 3000 entries, CYP1B1 to FAM13A-AS1\n",
      "dtypes: int64(3000)\n",
      "memory usage: 5.7+ MB\n"
     ]
    }
   ],
   "source": [
    "dfs_mcf_train.info()"
   ]
  },
  {
   "cell_type": "markdown",
   "id": "be73e97e",
   "metadata": {},
   "source": [
    "#### - *Check Duplicates*"
   ]
  },
  {
   "cell_type": "code",
   "execution_count": 5,
   "id": "84884e1d",
   "metadata": {},
   "outputs": [],
   "source": [
    "def find_duplicates(dataframe):\n",
    "    dupes = []\n",
    "    columns = dataframe.columns\n",
    "    for i in range(len(columns)):\n",
    "        for j in range(i + 1, len(columns)):\n",
    "            if dataframe[columns[i]].equals(dataframe[columns[j]]):\n",
    "                dupes.append((columns[i], columns[j]))\n",
    "    return dupes"
   ]
  },
  {
   "cell_type": "code",
   "execution_count": 6,
   "id": "c06bb672",
   "metadata": {},
   "outputs": [
    {
     "name": "stdout",
     "output_type": "stream",
     "text": [
      "Duplicated genes (identical content):\n",
      "[('UGT1A8', 'UGT1A9')]\n"
     ]
    }
   ],
   "source": [
    "duplicate_genes = find_duplicates(dfs_mcf_train)\n",
    "print(\"Duplicated genes (identical content):\")\n",
    "print(duplicate_genes if duplicate_genes else \"None found\")"
   ]
  },
  {
   "cell_type": "code",
   "execution_count": 7,
   "id": "9cf6caa3",
   "metadata": {},
   "outputs": [
    {
     "name": "stdout",
     "output_type": "stream",
     "text": [
      "Duplicated cells (identical content):\n",
      "None found\n"
     ]
    }
   ],
   "source": [
    "duplicate_cells = find_duplicates(dfs_mcf_train.T)\n",
    "print(\"Duplicated cells (identical content):\")\n",
    "print(duplicate_cells if duplicate_cells else \"None found\")"
   ]
  },
  {
   "cell_type": "code",
   "execution_count": 8,
   "id": "7f19247b",
   "metadata": {},
   "outputs": [],
   "source": [
    "dfs_mcf_train = dfs_mcf_train.drop(\"UGT1A9\", axis=1)"
   ]
  },
  {
   "cell_type": "markdown",
   "id": "599ec301",
   "metadata": {},
   "source": [
    "#### - *Check Distribution*"
   ]
  },
  {
   "cell_type": "code",
   "execution_count": 9,
   "id": "f8df3a9d",
   "metadata": {},
   "outputs": [
    {
     "name": "stdout",
     "output_type": "stream",
     "text": [
      "Summary statistics:\n"
     ]
    },
    {
     "data": {
      "text/html": [
       "<div>\n",
       "<style scoped>\n",
       "    .dataframe tbody tr th:only-of-type {\n",
       "        vertical-align: middle;\n",
       "    }\n",
       "\n",
       "    .dataframe tbody tr th {\n",
       "        vertical-align: top;\n",
       "    }\n",
       "\n",
       "    .dataframe thead th {\n",
       "        text-align: right;\n",
       "    }\n",
       "</style>\n",
       "<table border=\"1\" class=\"dataframe\">\n",
       "  <thead>\n",
       "    <tr style=\"text-align: right;\">\n",
       "      <th></th>\n",
       "      <th>CYP1B1</th>\n",
       "      <th>CYP1B1-AS1</th>\n",
       "      <th>CYP1A1</th>\n",
       "      <th>NDRG1</th>\n",
       "      <th>DDIT4</th>\n",
       "      <th>PFKFB3</th>\n",
       "      <th>HK2</th>\n",
       "      <th>AREG</th>\n",
       "      <th>MYBL2</th>\n",
       "      <th>ADM</th>\n",
       "      <th>...</th>\n",
       "      <th>CD27-AS1</th>\n",
       "      <th>DNAI7</th>\n",
       "      <th>MAFG</th>\n",
       "      <th>LZTR1</th>\n",
       "      <th>BCO2</th>\n",
       "      <th>GRIK5</th>\n",
       "      <th>SLC25A27</th>\n",
       "      <th>DENND5A</th>\n",
       "      <th>CDK5R1</th>\n",
       "      <th>FAM13A-AS1</th>\n",
       "    </tr>\n",
       "  </thead>\n",
       "  <tbody>\n",
       "    <tr>\n",
       "      <th>count</th>\n",
       "      <td>250.000000</td>\n",
       "      <td>250.000000</td>\n",
       "      <td>250.000000</td>\n",
       "      <td>250.000000</td>\n",
       "      <td>250.000000</td>\n",
       "      <td>250.000000</td>\n",
       "      <td>250.000000</td>\n",
       "      <td>250.000000</td>\n",
       "      <td>250.000000</td>\n",
       "      <td>250.000000</td>\n",
       "      <td>...</td>\n",
       "      <td>250.000000</td>\n",
       "      <td>250.000000</td>\n",
       "      <td>250.000000</td>\n",
       "      <td>250.000000</td>\n",
       "      <td>250.000000</td>\n",
       "      <td>250.000000</td>\n",
       "      <td>250.000000</td>\n",
       "      <td>250.000000</td>\n",
       "      <td>250.000000</td>\n",
       "      <td>250.000000</td>\n",
       "    </tr>\n",
       "    <tr>\n",
       "      <th>mean</th>\n",
       "      <td>5454.536000</td>\n",
       "      <td>2258.572000</td>\n",
       "      <td>1604.580000</td>\n",
       "      <td>606.380000</td>\n",
       "      <td>2487.000000</td>\n",
       "      <td>1495.920000</td>\n",
       "      <td>868.424000</td>\n",
       "      <td>308.984000</td>\n",
       "      <td>394.988000</td>\n",
       "      <td>183.096000</td>\n",
       "      <td>...</td>\n",
       "      <td>22.036000</td>\n",
       "      <td>0.192000</td>\n",
       "      <td>50.884000</td>\n",
       "      <td>23.308000</td>\n",
       "      <td>0.192000</td>\n",
       "      <td>0.256000</td>\n",
       "      <td>0.160000</td>\n",
       "      <td>60.536000</td>\n",
       "      <td>2.860000</td>\n",
       "      <td>5.952000</td>\n",
       "    </tr>\n",
       "    <tr>\n",
       "      <th>std</th>\n",
       "      <td>8282.337795</td>\n",
       "      <td>3453.650882</td>\n",
       "      <td>5657.397449</td>\n",
       "      <td>766.718881</td>\n",
       "      <td>3422.213185</td>\n",
       "      <td>2109.376474</td>\n",
       "      <td>1837.399974</td>\n",
       "      <td>592.950034</td>\n",
       "      <td>564.259514</td>\n",
       "      <td>470.374582</td>\n",
       "      <td>...</td>\n",
       "      <td>43.250493</td>\n",
       "      <td>2.000787</td>\n",
       "      <td>69.729761</td>\n",
       "      <td>36.415015</td>\n",
       "      <td>1.309195</td>\n",
       "      <td>2.001622</td>\n",
       "      <td>1.167842</td>\n",
       "      <td>75.647093</td>\n",
       "      <td>8.839056</td>\n",
       "      <td>21.649028</td>\n",
       "    </tr>\n",
       "    <tr>\n",
       "      <th>min</th>\n",
       "      <td>0.000000</td>\n",
       "      <td>0.000000</td>\n",
       "      <td>0.000000</td>\n",
       "      <td>0.000000</td>\n",
       "      <td>0.000000</td>\n",
       "      <td>0.000000</td>\n",
       "      <td>0.000000</td>\n",
       "      <td>0.000000</td>\n",
       "      <td>0.000000</td>\n",
       "      <td>0.000000</td>\n",
       "      <td>...</td>\n",
       "      <td>0.000000</td>\n",
       "      <td>0.000000</td>\n",
       "      <td>0.000000</td>\n",
       "      <td>0.000000</td>\n",
       "      <td>0.000000</td>\n",
       "      <td>0.000000</td>\n",
       "      <td>0.000000</td>\n",
       "      <td>0.000000</td>\n",
       "      <td>0.000000</td>\n",
       "      <td>0.000000</td>\n",
       "    </tr>\n",
       "    <tr>\n",
       "      <th>25%</th>\n",
       "      <td>200.750000</td>\n",
       "      <td>85.000000</td>\n",
       "      <td>0.000000</td>\n",
       "      <td>1.000000</td>\n",
       "      <td>96.000000</td>\n",
       "      <td>71.000000</td>\n",
       "      <td>8.250000</td>\n",
       "      <td>0.000000</td>\n",
       "      <td>0.000000</td>\n",
       "      <td>0.000000</td>\n",
       "      <td>...</td>\n",
       "      <td>0.000000</td>\n",
       "      <td>0.000000</td>\n",
       "      <td>13.250000</td>\n",
       "      <td>0.000000</td>\n",
       "      <td>0.000000</td>\n",
       "      <td>0.000000</td>\n",
       "      <td>0.000000</td>\n",
       "      <td>11.250000</td>\n",
       "      <td>0.000000</td>\n",
       "      <td>0.000000</td>\n",
       "    </tr>\n",
       "    <tr>\n",
       "      <th>50%</th>\n",
       "      <td>795.000000</td>\n",
       "      <td>321.500000</td>\n",
       "      <td>0.000000</td>\n",
       "      <td>222.500000</td>\n",
       "      <td>1198.500000</td>\n",
       "      <td>369.500000</td>\n",
       "      <td>139.500000</td>\n",
       "      <td>18.000000</td>\n",
       "      <td>123.500000</td>\n",
       "      <td>0.000000</td>\n",
       "      <td>...</td>\n",
       "      <td>8.000000</td>\n",
       "      <td>0.000000</td>\n",
       "      <td>37.000000</td>\n",
       "      <td>1.000000</td>\n",
       "      <td>0.000000</td>\n",
       "      <td>0.000000</td>\n",
       "      <td>0.000000</td>\n",
       "      <td>38.500000</td>\n",
       "      <td>0.000000</td>\n",
       "      <td>0.000000</td>\n",
       "    </tr>\n",
       "    <tr>\n",
       "      <th>75%</th>\n",
       "      <td>8180.500000</td>\n",
       "      <td>3348.500000</td>\n",
       "      <td>284.500000</td>\n",
       "      <td>1077.500000</td>\n",
       "      <td>3720.000000</td>\n",
       "      <td>2180.750000</td>\n",
       "      <td>1008.000000</td>\n",
       "      <td>371.000000</td>\n",
       "      <td>629.000000</td>\n",
       "      <td>74.500000</td>\n",
       "      <td>...</td>\n",
       "      <td>30.000000</td>\n",
       "      <td>0.000000</td>\n",
       "      <td>63.000000</td>\n",
       "      <td>41.000000</td>\n",
       "      <td>0.000000</td>\n",
       "      <td>0.000000</td>\n",
       "      <td>0.000000</td>\n",
       "      <td>77.000000</td>\n",
       "      <td>0.000000</td>\n",
       "      <td>0.000000</td>\n",
       "    </tr>\n",
       "    <tr>\n",
       "      <th>max</th>\n",
       "      <td>44406.000000</td>\n",
       "      <td>17673.000000</td>\n",
       "      <td>58717.000000</td>\n",
       "      <td>3884.000000</td>\n",
       "      <td>21994.000000</td>\n",
       "      <td>12078.000000</td>\n",
       "      <td>16625.000000</td>\n",
       "      <td>3496.000000</td>\n",
       "      <td>3108.000000</td>\n",
       "      <td>3586.000000</td>\n",
       "      <td>...</td>\n",
       "      <td>509.000000</td>\n",
       "      <td>28.000000</td>\n",
       "      <td>816.000000</td>\n",
       "      <td>196.000000</td>\n",
       "      <td>14.000000</td>\n",
       "      <td>26.000000</td>\n",
       "      <td>11.000000</td>\n",
       "      <td>639.000000</td>\n",
       "      <td>62.000000</td>\n",
       "      <td>288.000000</td>\n",
       "    </tr>\n",
       "  </tbody>\n",
       "</table>\n",
       "<p>8 rows × 2999 columns</p>\n",
       "</div>"
      ],
      "text/plain": [
       "             CYP1B1    CYP1B1-AS1        CYP1A1        NDRG1         DDIT4  \\\n",
       "count    250.000000    250.000000    250.000000   250.000000    250.000000   \n",
       "mean    5454.536000   2258.572000   1604.580000   606.380000   2487.000000   \n",
       "std     8282.337795   3453.650882   5657.397449   766.718881   3422.213185   \n",
       "min        0.000000      0.000000      0.000000     0.000000      0.000000   \n",
       "25%      200.750000     85.000000      0.000000     1.000000     96.000000   \n",
       "50%      795.000000    321.500000      0.000000   222.500000   1198.500000   \n",
       "75%     8180.500000   3348.500000    284.500000  1077.500000   3720.000000   \n",
       "max    44406.000000  17673.000000  58717.000000  3884.000000  21994.000000   \n",
       "\n",
       "             PFKFB3           HK2         AREG        MYBL2          ADM  ...  \\\n",
       "count    250.000000    250.000000   250.000000   250.000000   250.000000  ...   \n",
       "mean    1495.920000    868.424000   308.984000   394.988000   183.096000  ...   \n",
       "std     2109.376474   1837.399974   592.950034   564.259514   470.374582  ...   \n",
       "min        0.000000      0.000000     0.000000     0.000000     0.000000  ...   \n",
       "25%       71.000000      8.250000     0.000000     0.000000     0.000000  ...   \n",
       "50%      369.500000    139.500000    18.000000   123.500000     0.000000  ...   \n",
       "75%     2180.750000   1008.000000   371.000000   629.000000    74.500000  ...   \n",
       "max    12078.000000  16625.000000  3496.000000  3108.000000  3586.000000  ...   \n",
       "\n",
       "         CD27-AS1       DNAI7        MAFG       LZTR1        BCO2       GRIK5  \\\n",
       "count  250.000000  250.000000  250.000000  250.000000  250.000000  250.000000   \n",
       "mean    22.036000    0.192000   50.884000   23.308000    0.192000    0.256000   \n",
       "std     43.250493    2.000787   69.729761   36.415015    1.309195    2.001622   \n",
       "min      0.000000    0.000000    0.000000    0.000000    0.000000    0.000000   \n",
       "25%      0.000000    0.000000   13.250000    0.000000    0.000000    0.000000   \n",
       "50%      8.000000    0.000000   37.000000    1.000000    0.000000    0.000000   \n",
       "75%     30.000000    0.000000   63.000000   41.000000    0.000000    0.000000   \n",
       "max    509.000000   28.000000  816.000000  196.000000   14.000000   26.000000   \n",
       "\n",
       "         SLC25A27     DENND5A      CDK5R1  FAM13A-AS1  \n",
       "count  250.000000  250.000000  250.000000  250.000000  \n",
       "mean     0.160000   60.536000    2.860000    5.952000  \n",
       "std      1.167842   75.647093    8.839056   21.649028  \n",
       "min      0.000000    0.000000    0.000000    0.000000  \n",
       "25%      0.000000   11.250000    0.000000    0.000000  \n",
       "50%      0.000000   38.500000    0.000000    0.000000  \n",
       "75%      0.000000   77.000000    0.000000    0.000000  \n",
       "max     11.000000  639.000000   62.000000  288.000000  \n",
       "\n",
       "[8 rows x 2999 columns]"
      ]
     },
     "metadata": {},
     "output_type": "display_data"
    }
   ],
   "source": [
    "print(\"Summary statistics:\")\n",
    "display(dfs_mcf_train.describe())"
   ]
  },
  {
   "cell_type": "markdown",
   "id": "e98aea30",
   "metadata": {},
   "source": [
    "### ***DropSeq***"
   ]
  },
  {
   "cell_type": "code",
   "execution_count": 10,
   "id": "32da027c",
   "metadata": {},
   "outputs": [
    {
     "name": "stdout",
     "output_type": "stream",
     "text": [
      "(21626, 3000)\n"
     ]
    }
   ],
   "source": [
    "dfd_mcf_train = pd.read_csv(\"../Data/DropSeq/MCF7_Filtered_Normalised_3000_Data_train.txt\", sep=r\"\\s+\", engine= \"python\", index_col=0).rename(index=lambda x: x.strip('\"')).rename(columns=lambda x: x.strip('\"')).T\n",
    "print(dfd_mcf_train.shape)"
   ]
  },
  {
   "cell_type": "code",
   "execution_count": 11,
   "id": "cf0c0d34",
   "metadata": {},
   "outputs": [
    {
     "name": "stdout",
     "output_type": "stream",
     "text": [
      "MALAT1       0\n",
      "MT-RNR2      0\n",
      "NEAT1        0\n",
      "H1-5         0\n",
      "TFF1         0\n",
      "            ..\n",
      "BRWD1-AS2    0\n",
      "RPS19BP1     0\n",
      "AUNIP        0\n",
      "TNK2         0\n",
      "SUDS3        0\n",
      "Length: 3000, dtype: int64\n"
     ]
    }
   ],
   "source": [
    "print(dfd_mcf_train.isnull().sum())"
   ]
  },
  {
   "cell_type": "code",
   "execution_count": 12,
   "id": "0d3a2b95",
   "metadata": {},
   "outputs": [
    {
     "name": "stdout",
     "output_type": "stream",
     "text": [
      "<class 'pandas.core.frame.DataFrame'>\n",
      "Index: 21626 entries, AAAAACCTATCG_Normoxia to TTTTTTGTATGT_Hypoxia\n",
      "Columns: 3000 entries, MALAT1 to SUDS3\n",
      "dtypes: int64(3000)\n",
      "memory usage: 495.1+ MB\n"
     ]
    }
   ],
   "source": [
    "dfd_mcf_train.info()"
   ]
  },
  {
   "cell_type": "markdown",
   "id": "3b6d7a01",
   "metadata": {},
   "source": [
    "#### - *Check Duplicates*"
   ]
  },
  {
   "cell_type": "code",
   "execution_count": 70,
   "id": "08bfd094",
   "metadata": {},
   "outputs": [
    {
     "name": "stdout",
     "output_type": "stream",
     "text": [
      "Duplicated genes (identical content):\n",
      "None found\n"
     ]
    }
   ],
   "source": [
    "duplicate_genes = find_duplicates(dfd_mcf_train)\n",
    "print(\"Duplicated genes (identical content):\")\n",
    "print(duplicate_genes if duplicate_genes else \"None found\")"
   ]
  },
  {
   "cell_type": "code",
   "execution_count": 14,
   "id": "396bcece",
   "metadata": {},
   "outputs": [
    {
     "name": "stdout",
     "output_type": "stream",
     "text": [
      "Duplicated cells (identical content):\n",
      "None found\n"
     ]
    }
   ],
   "source": [
    "duplicate_cells = find_duplicates(dfs_mcf_train.T)\n",
    "print(\"Duplicated cells (identical content):\")\n",
    "print(duplicate_cells if duplicate_cells else \"None found\")"
   ]
  },
  {
   "cell_type": "markdown",
   "id": "f8f750a1",
   "metadata": {},
   "source": [
    "#### - *Check Distribution*"
   ]
  },
  {
   "cell_type": "code",
   "execution_count": 15,
   "id": "0fe505bd",
   "metadata": {},
   "outputs": [
    {
     "name": "stdout",
     "output_type": "stream",
     "text": [
      "Summary statistics:\n"
     ]
    },
    {
     "data": {
      "text/html": [
       "<div>\n",
       "<style scoped>\n",
       "    .dataframe tbody tr th:only-of-type {\n",
       "        vertical-align: middle;\n",
       "    }\n",
       "\n",
       "    .dataframe tbody tr th {\n",
       "        vertical-align: top;\n",
       "    }\n",
       "\n",
       "    .dataframe thead th {\n",
       "        text-align: right;\n",
       "    }\n",
       "</style>\n",
       "<table border=\"1\" class=\"dataframe\">\n",
       "  <thead>\n",
       "    <tr style=\"text-align: right;\">\n",
       "      <th></th>\n",
       "      <th>CYP1B1</th>\n",
       "      <th>CYP1B1-AS1</th>\n",
       "      <th>CYP1A1</th>\n",
       "      <th>NDRG1</th>\n",
       "      <th>DDIT4</th>\n",
       "      <th>PFKFB3</th>\n",
       "      <th>HK2</th>\n",
       "      <th>AREG</th>\n",
       "      <th>MYBL2</th>\n",
       "      <th>ADM</th>\n",
       "      <th>...</th>\n",
       "      <th>CD27-AS1</th>\n",
       "      <th>DNAI7</th>\n",
       "      <th>MAFG</th>\n",
       "      <th>LZTR1</th>\n",
       "      <th>BCO2</th>\n",
       "      <th>GRIK5</th>\n",
       "      <th>SLC25A27</th>\n",
       "      <th>DENND5A</th>\n",
       "      <th>CDK5R1</th>\n",
       "      <th>FAM13A-AS1</th>\n",
       "    </tr>\n",
       "  </thead>\n",
       "  <tbody>\n",
       "    <tr>\n",
       "      <th>count</th>\n",
       "      <td>250.000000</td>\n",
       "      <td>250.000000</td>\n",
       "      <td>250.000000</td>\n",
       "      <td>250.000000</td>\n",
       "      <td>250.000000</td>\n",
       "      <td>250.000000</td>\n",
       "      <td>250.000000</td>\n",
       "      <td>250.000000</td>\n",
       "      <td>250.000000</td>\n",
       "      <td>250.000000</td>\n",
       "      <td>...</td>\n",
       "      <td>250.000000</td>\n",
       "      <td>250.000000</td>\n",
       "      <td>250.000000</td>\n",
       "      <td>250.000000</td>\n",
       "      <td>250.000000</td>\n",
       "      <td>250.000000</td>\n",
       "      <td>250.000000</td>\n",
       "      <td>250.000000</td>\n",
       "      <td>250.000000</td>\n",
       "      <td>250.000000</td>\n",
       "    </tr>\n",
       "    <tr>\n",
       "      <th>mean</th>\n",
       "      <td>5454.536000</td>\n",
       "      <td>2258.572000</td>\n",
       "      <td>1604.580000</td>\n",
       "      <td>606.380000</td>\n",
       "      <td>2487.000000</td>\n",
       "      <td>1495.920000</td>\n",
       "      <td>868.424000</td>\n",
       "      <td>308.984000</td>\n",
       "      <td>394.988000</td>\n",
       "      <td>183.096000</td>\n",
       "      <td>...</td>\n",
       "      <td>22.036000</td>\n",
       "      <td>0.192000</td>\n",
       "      <td>50.884000</td>\n",
       "      <td>23.308000</td>\n",
       "      <td>0.192000</td>\n",
       "      <td>0.256000</td>\n",
       "      <td>0.160000</td>\n",
       "      <td>60.536000</td>\n",
       "      <td>2.860000</td>\n",
       "      <td>5.952000</td>\n",
       "    </tr>\n",
       "    <tr>\n",
       "      <th>std</th>\n",
       "      <td>8282.337795</td>\n",
       "      <td>3453.650882</td>\n",
       "      <td>5657.397449</td>\n",
       "      <td>766.718881</td>\n",
       "      <td>3422.213185</td>\n",
       "      <td>2109.376474</td>\n",
       "      <td>1837.399974</td>\n",
       "      <td>592.950034</td>\n",
       "      <td>564.259514</td>\n",
       "      <td>470.374582</td>\n",
       "      <td>...</td>\n",
       "      <td>43.250493</td>\n",
       "      <td>2.000787</td>\n",
       "      <td>69.729761</td>\n",
       "      <td>36.415015</td>\n",
       "      <td>1.309195</td>\n",
       "      <td>2.001622</td>\n",
       "      <td>1.167842</td>\n",
       "      <td>75.647093</td>\n",
       "      <td>8.839056</td>\n",
       "      <td>21.649028</td>\n",
       "    </tr>\n",
       "    <tr>\n",
       "      <th>min</th>\n",
       "      <td>0.000000</td>\n",
       "      <td>0.000000</td>\n",
       "      <td>0.000000</td>\n",
       "      <td>0.000000</td>\n",
       "      <td>0.000000</td>\n",
       "      <td>0.000000</td>\n",
       "      <td>0.000000</td>\n",
       "      <td>0.000000</td>\n",
       "      <td>0.000000</td>\n",
       "      <td>0.000000</td>\n",
       "      <td>...</td>\n",
       "      <td>0.000000</td>\n",
       "      <td>0.000000</td>\n",
       "      <td>0.000000</td>\n",
       "      <td>0.000000</td>\n",
       "      <td>0.000000</td>\n",
       "      <td>0.000000</td>\n",
       "      <td>0.000000</td>\n",
       "      <td>0.000000</td>\n",
       "      <td>0.000000</td>\n",
       "      <td>0.000000</td>\n",
       "    </tr>\n",
       "    <tr>\n",
       "      <th>25%</th>\n",
       "      <td>200.750000</td>\n",
       "      <td>85.000000</td>\n",
       "      <td>0.000000</td>\n",
       "      <td>1.000000</td>\n",
       "      <td>96.000000</td>\n",
       "      <td>71.000000</td>\n",
       "      <td>8.250000</td>\n",
       "      <td>0.000000</td>\n",
       "      <td>0.000000</td>\n",
       "      <td>0.000000</td>\n",
       "      <td>...</td>\n",
       "      <td>0.000000</td>\n",
       "      <td>0.000000</td>\n",
       "      <td>13.250000</td>\n",
       "      <td>0.000000</td>\n",
       "      <td>0.000000</td>\n",
       "      <td>0.000000</td>\n",
       "      <td>0.000000</td>\n",
       "      <td>11.250000</td>\n",
       "      <td>0.000000</td>\n",
       "      <td>0.000000</td>\n",
       "    </tr>\n",
       "    <tr>\n",
       "      <th>50%</th>\n",
       "      <td>795.000000</td>\n",
       "      <td>321.500000</td>\n",
       "      <td>0.000000</td>\n",
       "      <td>222.500000</td>\n",
       "      <td>1198.500000</td>\n",
       "      <td>369.500000</td>\n",
       "      <td>139.500000</td>\n",
       "      <td>18.000000</td>\n",
       "      <td>123.500000</td>\n",
       "      <td>0.000000</td>\n",
       "      <td>...</td>\n",
       "      <td>8.000000</td>\n",
       "      <td>0.000000</td>\n",
       "      <td>37.000000</td>\n",
       "      <td>1.000000</td>\n",
       "      <td>0.000000</td>\n",
       "      <td>0.000000</td>\n",
       "      <td>0.000000</td>\n",
       "      <td>38.500000</td>\n",
       "      <td>0.000000</td>\n",
       "      <td>0.000000</td>\n",
       "    </tr>\n",
       "    <tr>\n",
       "      <th>75%</th>\n",
       "      <td>8180.500000</td>\n",
       "      <td>3348.500000</td>\n",
       "      <td>284.500000</td>\n",
       "      <td>1077.500000</td>\n",
       "      <td>3720.000000</td>\n",
       "      <td>2180.750000</td>\n",
       "      <td>1008.000000</td>\n",
       "      <td>371.000000</td>\n",
       "      <td>629.000000</td>\n",
       "      <td>74.500000</td>\n",
       "      <td>...</td>\n",
       "      <td>30.000000</td>\n",
       "      <td>0.000000</td>\n",
       "      <td>63.000000</td>\n",
       "      <td>41.000000</td>\n",
       "      <td>0.000000</td>\n",
       "      <td>0.000000</td>\n",
       "      <td>0.000000</td>\n",
       "      <td>77.000000</td>\n",
       "      <td>0.000000</td>\n",
       "      <td>0.000000</td>\n",
       "    </tr>\n",
       "    <tr>\n",
       "      <th>max</th>\n",
       "      <td>44406.000000</td>\n",
       "      <td>17673.000000</td>\n",
       "      <td>58717.000000</td>\n",
       "      <td>3884.000000</td>\n",
       "      <td>21994.000000</td>\n",
       "      <td>12078.000000</td>\n",
       "      <td>16625.000000</td>\n",
       "      <td>3496.000000</td>\n",
       "      <td>3108.000000</td>\n",
       "      <td>3586.000000</td>\n",
       "      <td>...</td>\n",
       "      <td>509.000000</td>\n",
       "      <td>28.000000</td>\n",
       "      <td>816.000000</td>\n",
       "      <td>196.000000</td>\n",
       "      <td>14.000000</td>\n",
       "      <td>26.000000</td>\n",
       "      <td>11.000000</td>\n",
       "      <td>639.000000</td>\n",
       "      <td>62.000000</td>\n",
       "      <td>288.000000</td>\n",
       "    </tr>\n",
       "  </tbody>\n",
       "</table>\n",
       "<p>8 rows × 2999 columns</p>\n",
       "</div>"
      ],
      "text/plain": [
       "             CYP1B1    CYP1B1-AS1        CYP1A1        NDRG1         DDIT4  \\\n",
       "count    250.000000    250.000000    250.000000   250.000000    250.000000   \n",
       "mean    5454.536000   2258.572000   1604.580000   606.380000   2487.000000   \n",
       "std     8282.337795   3453.650882   5657.397449   766.718881   3422.213185   \n",
       "min        0.000000      0.000000      0.000000     0.000000      0.000000   \n",
       "25%      200.750000     85.000000      0.000000     1.000000     96.000000   \n",
       "50%      795.000000    321.500000      0.000000   222.500000   1198.500000   \n",
       "75%     8180.500000   3348.500000    284.500000  1077.500000   3720.000000   \n",
       "max    44406.000000  17673.000000  58717.000000  3884.000000  21994.000000   \n",
       "\n",
       "             PFKFB3           HK2         AREG        MYBL2          ADM  ...  \\\n",
       "count    250.000000    250.000000   250.000000   250.000000   250.000000  ...   \n",
       "mean    1495.920000    868.424000   308.984000   394.988000   183.096000  ...   \n",
       "std     2109.376474   1837.399974   592.950034   564.259514   470.374582  ...   \n",
       "min        0.000000      0.000000     0.000000     0.000000     0.000000  ...   \n",
       "25%       71.000000      8.250000     0.000000     0.000000     0.000000  ...   \n",
       "50%      369.500000    139.500000    18.000000   123.500000     0.000000  ...   \n",
       "75%     2180.750000   1008.000000   371.000000   629.000000    74.500000  ...   \n",
       "max    12078.000000  16625.000000  3496.000000  3108.000000  3586.000000  ...   \n",
       "\n",
       "         CD27-AS1       DNAI7        MAFG       LZTR1        BCO2       GRIK5  \\\n",
       "count  250.000000  250.000000  250.000000  250.000000  250.000000  250.000000   \n",
       "mean    22.036000    0.192000   50.884000   23.308000    0.192000    0.256000   \n",
       "std     43.250493    2.000787   69.729761   36.415015    1.309195    2.001622   \n",
       "min      0.000000    0.000000    0.000000    0.000000    0.000000    0.000000   \n",
       "25%      0.000000    0.000000   13.250000    0.000000    0.000000    0.000000   \n",
       "50%      8.000000    0.000000   37.000000    1.000000    0.000000    0.000000   \n",
       "75%     30.000000    0.000000   63.000000   41.000000    0.000000    0.000000   \n",
       "max    509.000000   28.000000  816.000000  196.000000   14.000000   26.000000   \n",
       "\n",
       "         SLC25A27     DENND5A      CDK5R1  FAM13A-AS1  \n",
       "count  250.000000  250.000000  250.000000  250.000000  \n",
       "mean     0.160000   60.536000    2.860000    5.952000  \n",
       "std      1.167842   75.647093    8.839056   21.649028  \n",
       "min      0.000000    0.000000    0.000000    0.000000  \n",
       "25%      0.000000   11.250000    0.000000    0.000000  \n",
       "50%      0.000000   38.500000    0.000000    0.000000  \n",
       "75%      0.000000   77.000000    0.000000    0.000000  \n",
       "max     11.000000  639.000000   62.000000  288.000000  \n",
       "\n",
       "[8 rows x 2999 columns]"
      ]
     },
     "metadata": {},
     "output_type": "display_data"
    }
   ],
   "source": [
    "print(\"Summary statistics:\")\n",
    "display(dfs_mcf_train.describe())"
   ]
  },
  {
   "cell_type": "markdown",
   "id": "1ffedc22",
   "metadata": {},
   "source": []
  },
  {
   "cell_type": "markdown",
   "id": "cd2b69d4",
   "metadata": {},
   "source": [
    "## **2.** Align Labels\n",
    "---"
   ]
  },
  {
   "cell_type": "markdown",
   "id": "283ceab4",
   "metadata": {},
   "source": [
    "### ***SmartSeq***"
   ]
  },
  {
   "cell_type": "code",
   "execution_count": 16,
   "id": "86a276d0",
   "metadata": {},
   "outputs": [
    {
     "data": {
      "text/html": [
       "<div>\n",
       "<style scoped>\n",
       "    .dataframe tbody tr th:only-of-type {\n",
       "        vertical-align: middle;\n",
       "    }\n",
       "\n",
       "    .dataframe tbody tr th {\n",
       "        vertical-align: top;\n",
       "    }\n",
       "\n",
       "    .dataframe thead th {\n",
       "        text-align: right;\n",
       "    }\n",
       "</style>\n",
       "<table border=\"1\" class=\"dataframe\">\n",
       "  <thead>\n",
       "    <tr style=\"text-align: right;\">\n",
       "      <th></th>\n",
       "      <th>CYP1B1</th>\n",
       "      <th>CYP1B1-AS1</th>\n",
       "      <th>CYP1A1</th>\n",
       "      <th>NDRG1</th>\n",
       "      <th>DDIT4</th>\n",
       "      <th>PFKFB3</th>\n",
       "      <th>HK2</th>\n",
       "      <th>AREG</th>\n",
       "      <th>MYBL2</th>\n",
       "      <th>ADM</th>\n",
       "      <th>...</th>\n",
       "      <th>CD27-AS1</th>\n",
       "      <th>DNAI7</th>\n",
       "      <th>MAFG</th>\n",
       "      <th>LZTR1</th>\n",
       "      <th>BCO2</th>\n",
       "      <th>GRIK5</th>\n",
       "      <th>SLC25A27</th>\n",
       "      <th>DENND5A</th>\n",
       "      <th>CDK5R1</th>\n",
       "      <th>FAM13A-AS1</th>\n",
       "    </tr>\n",
       "  </thead>\n",
       "  <tbody>\n",
       "    <tr>\n",
       "      <th>output.STAR.2_B3_Norm_S57_Aligned.sortedByCoord.out.bam</th>\n",
       "      <td>343</td>\n",
       "      <td>140</td>\n",
       "      <td>0</td>\n",
       "      <td>0</td>\n",
       "      <td>386</td>\n",
       "      <td>75</td>\n",
       "      <td>0</td>\n",
       "      <td>0</td>\n",
       "      <td>476</td>\n",
       "      <td>0</td>\n",
       "      <td>...</td>\n",
       "      <td>63</td>\n",
       "      <td>0</td>\n",
       "      <td>17</td>\n",
       "      <td>59</td>\n",
       "      <td>0</td>\n",
       "      <td>0</td>\n",
       "      <td>0</td>\n",
       "      <td>51</td>\n",
       "      <td>0</td>\n",
       "      <td>0</td>\n",
       "    </tr>\n",
       "    <tr>\n",
       "      <th>output.STAR.2_B4_Norm_S58_Aligned.sortedByCoord.out.bam</th>\n",
       "      <td>131</td>\n",
       "      <td>59</td>\n",
       "      <td>0</td>\n",
       "      <td>1</td>\n",
       "      <td>289</td>\n",
       "      <td>42</td>\n",
       "      <td>0</td>\n",
       "      <td>856</td>\n",
       "      <td>1586</td>\n",
       "      <td>0</td>\n",
       "      <td>...</td>\n",
       "      <td>0</td>\n",
       "      <td>0</td>\n",
       "      <td>1</td>\n",
       "      <td>25</td>\n",
       "      <td>0</td>\n",
       "      <td>0</td>\n",
       "      <td>0</td>\n",
       "      <td>34</td>\n",
       "      <td>0</td>\n",
       "      <td>0</td>\n",
       "    </tr>\n",
       "    <tr>\n",
       "      <th>output.STAR.2_B5_Norm_S59_Aligned.sortedByCoord.out.bam</th>\n",
       "      <td>452</td>\n",
       "      <td>203</td>\n",
       "      <td>0</td>\n",
       "      <td>0</td>\n",
       "      <td>0</td>\n",
       "      <td>0</td>\n",
       "      <td>0</td>\n",
       "      <td>0</td>\n",
       "      <td>775</td>\n",
       "      <td>0</td>\n",
       "      <td>...</td>\n",
       "      <td>15</td>\n",
       "      <td>0</td>\n",
       "      <td>23</td>\n",
       "      <td>0</td>\n",
       "      <td>0</td>\n",
       "      <td>0</td>\n",
       "      <td>0</td>\n",
       "      <td>0</td>\n",
       "      <td>0</td>\n",
       "      <td>0</td>\n",
       "    </tr>\n",
       "    <tr>\n",
       "      <th>output.STAR.2_B6_Norm_S60_Aligned.sortedByCoord.out.bam</th>\n",
       "      <td>27</td>\n",
       "      <td>7</td>\n",
       "      <td>0</td>\n",
       "      <td>0</td>\n",
       "      <td>288</td>\n",
       "      <td>214</td>\n",
       "      <td>15</td>\n",
       "      <td>242</td>\n",
       "      <td>1191</td>\n",
       "      <td>0</td>\n",
       "      <td>...</td>\n",
       "      <td>1</td>\n",
       "      <td>0</td>\n",
       "      <td>3</td>\n",
       "      <td>10</td>\n",
       "      <td>0</td>\n",
       "      <td>0</td>\n",
       "      <td>0</td>\n",
       "      <td>4</td>\n",
       "      <td>0</td>\n",
       "      <td>0</td>\n",
       "    </tr>\n",
       "    <tr>\n",
       "      <th>output.STAR.2_B7_Hypo_S79_Aligned.sortedByCoord.out.bam</th>\n",
       "      <td>5817</td>\n",
       "      <td>2669</td>\n",
       "      <td>0</td>\n",
       "      <td>654</td>\n",
       "      <td>2484</td>\n",
       "      <td>1603</td>\n",
       "      <td>748</td>\n",
       "      <td>436</td>\n",
       "      <td>0</td>\n",
       "      <td>0</td>\n",
       "      <td>...</td>\n",
       "      <td>0</td>\n",
       "      <td>0</td>\n",
       "      <td>63</td>\n",
       "      <td>0</td>\n",
       "      <td>0</td>\n",
       "      <td>0</td>\n",
       "      <td>0</td>\n",
       "      <td>60</td>\n",
       "      <td>0</td>\n",
       "      <td>0</td>\n",
       "    </tr>\n",
       "  </tbody>\n",
       "</table>\n",
       "<p>5 rows × 2999 columns</p>\n",
       "</div>"
      ],
      "text/plain": [
       "                                                    CYP1B1  CYP1B1-AS1  \\\n",
       "output.STAR.2_B3_Norm_S57_Aligned.sortedByCoord...     343         140   \n",
       "output.STAR.2_B4_Norm_S58_Aligned.sortedByCoord...     131          59   \n",
       "output.STAR.2_B5_Norm_S59_Aligned.sortedByCoord...     452         203   \n",
       "output.STAR.2_B6_Norm_S60_Aligned.sortedByCoord...      27           7   \n",
       "output.STAR.2_B7_Hypo_S79_Aligned.sortedByCoord...    5817        2669   \n",
       "\n",
       "                                                    CYP1A1  NDRG1  DDIT4  \\\n",
       "output.STAR.2_B3_Norm_S57_Aligned.sortedByCoord...       0      0    386   \n",
       "output.STAR.2_B4_Norm_S58_Aligned.sortedByCoord...       0      1    289   \n",
       "output.STAR.2_B5_Norm_S59_Aligned.sortedByCoord...       0      0      0   \n",
       "output.STAR.2_B6_Norm_S60_Aligned.sortedByCoord...       0      0    288   \n",
       "output.STAR.2_B7_Hypo_S79_Aligned.sortedByCoord...       0    654   2484   \n",
       "\n",
       "                                                    PFKFB3  HK2  AREG  MYBL2  \\\n",
       "output.STAR.2_B3_Norm_S57_Aligned.sortedByCoord...      75    0     0    476   \n",
       "output.STAR.2_B4_Norm_S58_Aligned.sortedByCoord...      42    0   856   1586   \n",
       "output.STAR.2_B5_Norm_S59_Aligned.sortedByCoord...       0    0     0    775   \n",
       "output.STAR.2_B6_Norm_S60_Aligned.sortedByCoord...     214   15   242   1191   \n",
       "output.STAR.2_B7_Hypo_S79_Aligned.sortedByCoord...    1603  748   436      0   \n",
       "\n",
       "                                                    ADM  ...  CD27-AS1  DNAI7  \\\n",
       "output.STAR.2_B3_Norm_S57_Aligned.sortedByCoord...    0  ...        63      0   \n",
       "output.STAR.2_B4_Norm_S58_Aligned.sortedByCoord...    0  ...         0      0   \n",
       "output.STAR.2_B5_Norm_S59_Aligned.sortedByCoord...    0  ...        15      0   \n",
       "output.STAR.2_B6_Norm_S60_Aligned.sortedByCoord...    0  ...         1      0   \n",
       "output.STAR.2_B7_Hypo_S79_Aligned.sortedByCoord...    0  ...         0      0   \n",
       "\n",
       "                                                    MAFG  LZTR1  BCO2  GRIK5  \\\n",
       "output.STAR.2_B3_Norm_S57_Aligned.sortedByCoord...    17     59     0      0   \n",
       "output.STAR.2_B4_Norm_S58_Aligned.sortedByCoord...     1     25     0      0   \n",
       "output.STAR.2_B5_Norm_S59_Aligned.sortedByCoord...    23      0     0      0   \n",
       "output.STAR.2_B6_Norm_S60_Aligned.sortedByCoord...     3     10     0      0   \n",
       "output.STAR.2_B7_Hypo_S79_Aligned.sortedByCoord...    63      0     0      0   \n",
       "\n",
       "                                                    SLC25A27  DENND5A  CDK5R1  \\\n",
       "output.STAR.2_B3_Norm_S57_Aligned.sortedByCoord...         0       51       0   \n",
       "output.STAR.2_B4_Norm_S58_Aligned.sortedByCoord...         0       34       0   \n",
       "output.STAR.2_B5_Norm_S59_Aligned.sortedByCoord...         0        0       0   \n",
       "output.STAR.2_B6_Norm_S60_Aligned.sortedByCoord...         0        4       0   \n",
       "output.STAR.2_B7_Hypo_S79_Aligned.sortedByCoord...         0       60       0   \n",
       "\n",
       "                                                    FAM13A-AS1  \n",
       "output.STAR.2_B3_Norm_S57_Aligned.sortedByCoord...           0  \n",
       "output.STAR.2_B4_Norm_S58_Aligned.sortedByCoord...           0  \n",
       "output.STAR.2_B5_Norm_S59_Aligned.sortedByCoord...           0  \n",
       "output.STAR.2_B6_Norm_S60_Aligned.sortedByCoord...           0  \n",
       "output.STAR.2_B7_Hypo_S79_Aligned.sortedByCoord...           0  \n",
       "\n",
       "[5 rows x 2999 columns]"
      ]
     },
     "execution_count": 16,
     "metadata": {},
     "output_type": "execute_result"
    }
   ],
   "source": [
    "X_mcf_smart = dfs_mcf_train\n",
    "X_mcf_smart.head()"
   ]
  },
  {
   "cell_type": "code",
   "execution_count": 17,
   "id": "cc564fcf",
   "metadata": {},
   "outputs": [
    {
     "name": "stdout",
     "output_type": "stream",
     "text": [
      "Condition\n",
      "Norm    192\n",
      "Hypo    191\n",
      "Name: count, dtype: int64\n"
     ]
    }
   ],
   "source": [
    "print(mcf_meta[\"Condition\"].value_counts())"
   ]
  },
  {
   "cell_type": "code",
   "execution_count": 18,
   "id": "baae9b51",
   "metadata": {},
   "outputs": [
    {
     "name": "stdout",
     "output_type": "stream",
     "text": [
      "Label\n",
      "0    192\n",
      "1    191\n",
      "Name: count, dtype: int64\n"
     ]
    }
   ],
   "source": [
    "mcf_meta[\"Label\"] = mcf_meta[\"Condition\"].map({\"Norm\": 0, \"Hypo\": 1})\n",
    "print(mcf_meta[\"Label\"].value_counts())"
   ]
  },
  {
   "cell_type": "code",
   "execution_count": 19,
   "id": "943910bb",
   "metadata": {},
   "outputs": [],
   "source": [
    "mcf_meta = mcf_meta.loc[X_mcf_smart.index]\n",
    "assert all(X_mcf_smart.index == mcf_meta.index), \"Index mismatch!\"\n",
    "\n",
    "X_mcfs_merged = X_mcf_smart.copy()\n",
    "X_mcfs_merged[\"Label\"] = mcf_meta[\"Label\"]\n",
    "\n",
    "y_mcf_smart = mcf_meta[\"Label\"].values"
   ]
  },
  {
   "cell_type": "code",
   "execution_count": 20,
   "id": "9b5783cc",
   "metadata": {},
   "outputs": [
    {
     "name": "stdout",
     "output_type": "stream",
     "text": [
      "(250, 2999)\n",
      "(250,)\n",
      "Normoxic: 126\n",
      "Hypoxic : 124\n"
     ]
    }
   ],
   "source": [
    "print(X_mcf_smart.shape)\n",
    "print(y_mcf_smart.shape)\n",
    "print(\"Normoxic:\", sum(y_mcf_smart == 0))\n",
    "print(\"Hypoxic :\", sum(y_mcf_smart == 1))"
   ]
  },
  {
   "cell_type": "markdown",
   "id": "75816688",
   "metadata": {},
   "source": [
    "### ***DropSeq***"
   ]
  },
  {
   "cell_type": "code",
   "execution_count": 21,
   "id": "adc4cfdb",
   "metadata": {},
   "outputs": [
    {
     "data": {
      "text/html": [
       "<div>\n",
       "<style scoped>\n",
       "    .dataframe tbody tr th:only-of-type {\n",
       "        vertical-align: middle;\n",
       "    }\n",
       "\n",
       "    .dataframe tbody tr th {\n",
       "        vertical-align: top;\n",
       "    }\n",
       "\n",
       "    .dataframe thead th {\n",
       "        text-align: right;\n",
       "    }\n",
       "</style>\n",
       "<table border=\"1\" class=\"dataframe\">\n",
       "  <thead>\n",
       "    <tr style=\"text-align: right;\">\n",
       "      <th></th>\n",
       "      <th>MALAT1</th>\n",
       "      <th>MT-RNR2</th>\n",
       "      <th>NEAT1</th>\n",
       "      <th>H1-5</th>\n",
       "      <th>TFF1</th>\n",
       "      <th>MT-RNR1</th>\n",
       "      <th>H4C3</th>\n",
       "      <th>GDF15</th>\n",
       "      <th>KRT81</th>\n",
       "      <th>MT-CO3</th>\n",
       "      <th>...</th>\n",
       "      <th>MROH1</th>\n",
       "      <th>SKIDA1</th>\n",
       "      <th>MICALL1</th>\n",
       "      <th>RARG</th>\n",
       "      <th>MYO1F</th>\n",
       "      <th>BRWD1-AS2</th>\n",
       "      <th>RPS19BP1</th>\n",
       "      <th>AUNIP</th>\n",
       "      <th>TNK2</th>\n",
       "      <th>SUDS3</th>\n",
       "    </tr>\n",
       "  </thead>\n",
       "  <tbody>\n",
       "    <tr>\n",
       "      <th>AAAAACCTATCG_Normoxia</th>\n",
       "      <td>1</td>\n",
       "      <td>0</td>\n",
       "      <td>0</td>\n",
       "      <td>0</td>\n",
       "      <td>4</td>\n",
       "      <td>0</td>\n",
       "      <td>0</td>\n",
       "      <td>0</td>\n",
       "      <td>0</td>\n",
       "      <td>0</td>\n",
       "      <td>...</td>\n",
       "      <td>0</td>\n",
       "      <td>0</td>\n",
       "      <td>0</td>\n",
       "      <td>0</td>\n",
       "      <td>0</td>\n",
       "      <td>0</td>\n",
       "      <td>0</td>\n",
       "      <td>0</td>\n",
       "      <td>0</td>\n",
       "      <td>0</td>\n",
       "    </tr>\n",
       "    <tr>\n",
       "      <th>AAAACAACCCTA_Normoxia</th>\n",
       "      <td>3</td>\n",
       "      <td>0</td>\n",
       "      <td>0</td>\n",
       "      <td>0</td>\n",
       "      <td>1</td>\n",
       "      <td>0</td>\n",
       "      <td>1</td>\n",
       "      <td>0</td>\n",
       "      <td>0</td>\n",
       "      <td>0</td>\n",
       "      <td>...</td>\n",
       "      <td>0</td>\n",
       "      <td>0</td>\n",
       "      <td>0</td>\n",
       "      <td>0</td>\n",
       "      <td>0</td>\n",
       "      <td>0</td>\n",
       "      <td>0</td>\n",
       "      <td>0</td>\n",
       "      <td>0</td>\n",
       "      <td>0</td>\n",
       "    </tr>\n",
       "    <tr>\n",
       "      <th>AAAACACTCTCA_Normoxia</th>\n",
       "      <td>3</td>\n",
       "      <td>0</td>\n",
       "      <td>0</td>\n",
       "      <td>0</td>\n",
       "      <td>1</td>\n",
       "      <td>0</td>\n",
       "      <td>0</td>\n",
       "      <td>0</td>\n",
       "      <td>0</td>\n",
       "      <td>0</td>\n",
       "      <td>...</td>\n",
       "      <td>0</td>\n",
       "      <td>0</td>\n",
       "      <td>0</td>\n",
       "      <td>0</td>\n",
       "      <td>0</td>\n",
       "      <td>0</td>\n",
       "      <td>0</td>\n",
       "      <td>0</td>\n",
       "      <td>0</td>\n",
       "      <td>0</td>\n",
       "    </tr>\n",
       "    <tr>\n",
       "      <th>AAAACCAGGCAC_Normoxia</th>\n",
       "      <td>6</td>\n",
       "      <td>2</td>\n",
       "      <td>0</td>\n",
       "      <td>0</td>\n",
       "      <td>1</td>\n",
       "      <td>0</td>\n",
       "      <td>1</td>\n",
       "      <td>0</td>\n",
       "      <td>0</td>\n",
       "      <td>0</td>\n",
       "      <td>...</td>\n",
       "      <td>0</td>\n",
       "      <td>0</td>\n",
       "      <td>0</td>\n",
       "      <td>0</td>\n",
       "      <td>0</td>\n",
       "      <td>0</td>\n",
       "      <td>0</td>\n",
       "      <td>0</td>\n",
       "      <td>0</td>\n",
       "      <td>0</td>\n",
       "    </tr>\n",
       "    <tr>\n",
       "      <th>AAAACCTAGCTC_Normoxia</th>\n",
       "      <td>4</td>\n",
       "      <td>0</td>\n",
       "      <td>0</td>\n",
       "      <td>0</td>\n",
       "      <td>0</td>\n",
       "      <td>0</td>\n",
       "      <td>0</td>\n",
       "      <td>0</td>\n",
       "      <td>0</td>\n",
       "      <td>1</td>\n",
       "      <td>...</td>\n",
       "      <td>0</td>\n",
       "      <td>0</td>\n",
       "      <td>0</td>\n",
       "      <td>0</td>\n",
       "      <td>0</td>\n",
       "      <td>0</td>\n",
       "      <td>0</td>\n",
       "      <td>0</td>\n",
       "      <td>0</td>\n",
       "      <td>0</td>\n",
       "    </tr>\n",
       "  </tbody>\n",
       "</table>\n",
       "<p>5 rows × 3000 columns</p>\n",
       "</div>"
      ],
      "text/plain": [
       "                       MALAT1  MT-RNR2  NEAT1  H1-5  TFF1  MT-RNR1  H4C3  \\\n",
       "AAAAACCTATCG_Normoxia       1        0      0     0     4        0     0   \n",
       "AAAACAACCCTA_Normoxia       3        0      0     0     1        0     1   \n",
       "AAAACACTCTCA_Normoxia       3        0      0     0     1        0     0   \n",
       "AAAACCAGGCAC_Normoxia       6        2      0     0     1        0     1   \n",
       "AAAACCTAGCTC_Normoxia       4        0      0     0     0        0     0   \n",
       "\n",
       "                       GDF15  KRT81  MT-CO3  ...  MROH1  SKIDA1  MICALL1  \\\n",
       "AAAAACCTATCG_Normoxia      0      0       0  ...      0       0        0   \n",
       "AAAACAACCCTA_Normoxia      0      0       0  ...      0       0        0   \n",
       "AAAACACTCTCA_Normoxia      0      0       0  ...      0       0        0   \n",
       "AAAACCAGGCAC_Normoxia      0      0       0  ...      0       0        0   \n",
       "AAAACCTAGCTC_Normoxia      0      0       1  ...      0       0        0   \n",
       "\n",
       "                       RARG  MYO1F  BRWD1-AS2  RPS19BP1  AUNIP  TNK2  SUDS3  \n",
       "AAAAACCTATCG_Normoxia     0      0          0         0      0     0      0  \n",
       "AAAACAACCCTA_Normoxia     0      0          0         0      0     0      0  \n",
       "AAAACACTCTCA_Normoxia     0      0          0         0      0     0      0  \n",
       "AAAACCAGGCAC_Normoxia     0      0          0         0      0     0      0  \n",
       "AAAACCTAGCTC_Normoxia     0      0          0         0      0     0      0  \n",
       "\n",
       "[5 rows x 3000 columns]"
      ]
     },
     "execution_count": 21,
     "metadata": {},
     "output_type": "execute_result"
    }
   ],
   "source": [
    "X_mcf_drop = dfd_mcf_train\n",
    "X_mcf_drop.head()"
   ]
  },
  {
   "cell_type": "code",
   "execution_count": 22,
   "id": "b10851a5",
   "metadata": {},
   "outputs": [],
   "source": [
    "labels = X_mcf_drop.index.str.split(\"_\").str[-1]"
   ]
  },
  {
   "cell_type": "code",
   "execution_count": 23,
   "id": "40bdb432",
   "metadata": {},
   "outputs": [],
   "source": [
    "labels = labels.map({'Normoxia': 0, 'Hypoxia': 1})"
   ]
  },
  {
   "cell_type": "code",
   "execution_count": 24,
   "id": "211f7cea",
   "metadata": {},
   "outputs": [
    {
     "name": "stdout",
     "output_type": "stream",
     "text": [
      "Label distribution:\n",
      "0    12705\n",
      "1     8921\n",
      "Name: count, dtype: int64\n"
     ]
    }
   ],
   "source": [
    "print(\"Label distribution:\")\n",
    "print(labels.value_counts(dropna=False))"
   ]
  },
  {
   "cell_type": "code",
   "execution_count": 25,
   "id": "ed6d67ae",
   "metadata": {},
   "outputs": [],
   "source": [
    "X_mcfd_merged = X_mcf_drop.copy()\n",
    "X_mcfd_merged[\"Label\"] = labels\n",
    "y_mcf_drop = labels.values"
   ]
  },
  {
   "cell_type": "code",
   "execution_count": 26,
   "id": "21043942",
   "metadata": {},
   "outputs": [
    {
     "name": "stdout",
     "output_type": "stream",
     "text": [
      "(21626, 3000)\n",
      "(21626,)\n",
      "Normoxic: 12705\n",
      "Hypoxic : 8921\n"
     ]
    }
   ],
   "source": [
    "print(X_mcf_drop.shape)\n",
    "print(y_mcf_drop.shape)\n",
    "print(\"Normoxic:\", sum(y_mcf_drop == 0))\n",
    "print(\"Hypoxic :\", sum(y_mcf_drop == 1))"
   ]
  },
  {
   "cell_type": "markdown",
   "id": "2bc48afb",
   "metadata": {},
   "source": []
  },
  {
   "cell_type": "markdown",
   "id": "ab22894d",
   "metadata": {},
   "source": [
    "## **3.** Preprocessing\n",
    "---"
   ]
  },
  {
   "cell_type": "markdown",
   "id": "92a89aad",
   "metadata": {},
   "source": [
    "### ***SmartSeq***"
   ]
  },
  {
   "cell_type": "markdown",
   "id": "cf4c9898",
   "metadata": {},
   "source": [
    "The first step is a train-validation split using stratified sampling to preserve the proportion of hypoxic and normoxic cells in both subsets. The held out testing subset will be used only for evaluation purposes."
   ]
  },
  {
   "cell_type": "code",
   "execution_count": 27,
   "id": "6017cb2f",
   "metadata": {},
   "outputs": [],
   "source": [
    "# Splitting with stratification\n",
    "Xs_train, Xs_val, ys_train, ys_val = train_test_split(\n",
    "    X_mcf_smart, y_mcf_smart, test_size=0.2, stratify=y_mcf_smart, random_state=42\n",
    ")"
   ]
  },
  {
   "cell_type": "markdown",
   "id": "a539bb93",
   "metadata": {},
   "source": [
    "Then we apply a log-transformation which compress the right‐hand tail of the distribution. It is a $ \\log(1p) $ transformation which converts each raw value $x$ into $\\log(1+x)$, preserving 0s."
   ]
  },
  {
   "cell_type": "code",
   "execution_count": 28,
   "id": "df3001eb",
   "metadata": {},
   "outputs": [],
   "source": [
    "Xs_train_log = np.log1p(Xs_train)\n",
    "Xs_val_log = np.log1p(Xs_val)"
   ]
  },
  {
   "cell_type": "markdown",
   "id": "5ee1e919",
   "metadata": {},
   "source": [
    "Then we create a standardized (Z-Score) version of the data, that will be needed for distance-based classifiers, which are sensible to scale."
   ]
  },
  {
   "cell_type": "code",
   "execution_count": 29,
   "id": "e1f214ca",
   "metadata": {},
   "outputs": [],
   "source": [
    "# Standardize on the log-transformed data\n",
    "scaler = StandardScaler()\n",
    "Xs_train_scaled = scaler.fit_transform(Xs_train_log)\n",
    "Xs_val_scaled = scaler.transform(Xs_val_log)"
   ]
  },
  {
   "cell_type": "code",
   "execution_count": 30,
   "id": "f1b03fe2",
   "metadata": {},
   "outputs": [],
   "source": [
    "Xs_train_scaled_df = pd.DataFrame(Xs_train_scaled, columns=Xs_train.columns, index=Xs_train.index)\n",
    "Xs_val_scaled_df = pd.DataFrame(Xs_val_scaled, columns=Xs_val.columns, index=Xs_val.index)"
   ]
  },
  {
   "cell_type": "markdown",
   "id": "756cfea7",
   "metadata": {},
   "source": [
    "### **DropSeq**"
   ]
  },
  {
   "cell_type": "code",
   "execution_count": 31,
   "id": "6fac765c",
   "metadata": {},
   "outputs": [],
   "source": [
    "Xd_train, Xd_val, yd_train, yd_val = train_test_split(\n",
    "    X_mcf_drop, y_mcf_drop, test_size=0.2, stratify=y_mcf_drop, random_state=42\n",
    ")"
   ]
  },
  {
   "cell_type": "markdown",
   "id": "36ed4009",
   "metadata": {},
   "source": [
    "Since the DropSeq dataset is way larger than SmartSeq's one, we apply a pre-filter startegy to reduce dimensionality from 3000 genes to 300 by **Mutual Information**.  \n",
    "This allows us to identify genes that are most informative about the target labels."
   ]
  },
  {
   "cell_type": "code",
   "execution_count": 32,
   "id": "e7b9c651",
   "metadata": {},
   "outputs": [
    {
     "name": "stdout",
     "output_type": "stream",
     "text": [
      "Shape after filtering: (17300, 300)\n"
     ]
    }
   ],
   "source": [
    "#Mutual Information (only on train set)\n",
    "k_top_genes = 300\n",
    "mi_selector = SelectKBest(score_func=mutual_info_classif, k=k_top_genes)\n",
    "X_train_mi = mi_selector.fit_transform(Xd_train, yd_train)\n",
    "\n",
    "selected_mi_genes = Xd_train.columns[mi_selector.get_support()]\n",
    "print(\"Shape after filtering:\", X_train_mi.shape)"
   ]
  },
  {
   "cell_type": "code",
   "execution_count": 33,
   "id": "eac6a0da",
   "metadata": {},
   "outputs": [],
   "source": [
    "# Extract only the 300 MI-selected genes\n",
    "Xd_train_mi = Xd_train[selected_mi_genes]\n",
    "Xd_val_mi   = Xd_val[selected_mi_genes]"
   ]
  },
  {
   "cell_type": "markdown",
   "id": "69a484a0",
   "metadata": {},
   "source": [
    "Now we can proceed with the log-stransformation and the standardization (Z-score)."
   ]
  },
  {
   "cell_type": "code",
   "execution_count": 34,
   "id": "765d0ebd",
   "metadata": {},
   "outputs": [],
   "source": [
    "# Log-transform\n",
    "Xd_train_log = np.log1p(Xd_train_mi)\n",
    "Xd_val_log   = np.log1p(Xd_val_mi)"
   ]
  },
  {
   "cell_type": "code",
   "execution_count": 35,
   "id": "c3f23f46",
   "metadata": {},
   "outputs": [],
   "source": [
    "# Standardization\n",
    "scaler = StandardScaler()\n",
    "Xd_train_scaled = scaler.fit_transform(Xd_train_log)\n",
    "Xd_val_scaled   = scaler.transform(Xd_val_log)"
   ]
  },
  {
   "cell_type": "markdown",
   "id": "5dc05d69",
   "metadata": {},
   "source": []
  },
  {
   "cell_type": "markdown",
   "id": "6c9a4610",
   "metadata": {},
   "source": [
    "## **4.** Feature Selection\n",
    "---"
   ]
  },
  {
   "cell_type": "markdown",
   "id": "b2f95e64",
   "metadata": {},
   "source": [
    "This section aims to reduce the number of genes to mitigate overfitting, enhance interpretability, and improve generalization performance.\n",
    "\n",
    "We leverage **embedded methods** that exploit the learning algorithm to automatically rank and select features. The pipeline consists of:\n",
    "\n",
    "1. **Elastic Net logistic regression**  \n",
    "   - Perform an inner 5-fold `GridSearchCV` over the regularization strength (`C`) and mixing parameter (`l1_ratio`) using the `saga` solver.  \n",
    "   - Fit the best model on each training split and select genes with non-zero coefficients.\n",
    "\n",
    "2. **Random Forest ranking**  \n",
    "   - Tune `n_estimators`, `max_depth`, and `min_samples_leaf` via grid search on the same training splits.  \n",
    "   - Rank genes by `feature_importances_` and retain the top 20 per seed.\n",
    "\n",
    "3. **Stability analysis across seeds**  \n",
    "   - Repeat steps 1–2 over 5 different random seeds.  \n",
    "   - Define a gene as **stable** if it appears in all Elastic Net selections **and** in ≥ 2/5 RF top-20 lists.\n",
    "\n",
    "4. **Final signature**  \n",
    "   - Take the intersection of the stable Elastic Net and RF gene sets to form the robust, predictive signature."
   ]
  },
  {
   "cell_type": "markdown",
   "id": "3e826f9c",
   "metadata": {},
   "source": [
    "### **4.1.** ***SmartSeq***\n",
    "In this section, we perform feature selection on the Smart-seq dataset, which consists of 3000 pre-filtered genes measured across 250 single cells."
   ]
  },
  {
   "cell_type": "markdown",
   "id": "896d256d",
   "metadata": {},
   "source": [
    "### **4.1.1.** Elastic Net Logistic Regression\n",
    "To reduce dimensionality and improve both predictive performance and interpretability, we use **Elastic Net**–regularized logistic regression. Elastic Net combines L₁ (Lasso) and L₂ (Ridge) penalties, which\n",
    "\n",
    "- **Promotes sparsity** through the L₁ term, zeroing out uninformative gene coefficients  \n",
    "- **Groups correlated features** via the L₂ term, yielding more stable and biologically coherent signatures   \n",
    "\n",
    "**Implementation details**  \n",
    "1. **Pipeline**  \n",
    "   - `StandardScaler()` → `LogisticRegression(penalty='elasticnet', solver='saga')`  \n",
    "2. **Hyperparameter tuning**  \n",
    "   - Wrap the pipeline in `GridSearchCV` with 5-fold CV (scoring=`roc_auc`)  \n",
    "   - Tune  \n",
    "     - **`clf__C`** ∈ [0.01, 0.1, 1, 10] (inverse regularization strength)  \n",
    "     - **`clf__l1_ratio`** ∈ [0.1, 0.5, 0.9] (L₁ vs. L₂ mix)  \n",
    "3. **Feature selection**  \n",
    "   - After grid search, fit the best model on each training fold  \n",
    "   - **Select genes** whose coefficients `coef_` ≠ 0  \n",
    "\n",
    "This embedded selection step yields a sparse, interpretable set of genes that capture the strongest signals distinguishing normoxia from hypoxia, while mitigating instability in the presence of co-expressed gene modules.\n"
   ]
  },
  {
   "cell_type": "code",
   "execution_count": 36,
   "id": "80bd4da3",
   "metadata": {},
   "outputs": [
    {
     "name": "stdout",
     "output_type": "stream",
     "text": [
      "Best C: 0.0018\n",
      "Best l1_ratio: 0.10\n",
      "Selected 64 genes from full training set using Elastic Net.\n"
     ]
    }
   ],
   "source": [
    "# Train LASSO with internal CV\n",
    "elastic_net = LogisticRegressionCV(\n",
    "    Cs=20,                   # 20 inverse‐regularization values\n",
    "    cv=5,                    # 5‐fold internal CV\n",
    "    penalty='elasticnet',    \n",
    "    solver='saga',            \n",
    "    l1_ratios=[0.1, 0.5, 0.9], # sweep over α = 0.1, 0.5, 0.9\n",
    "    scoring='roc_auc',        # use AUC for model selection\n",
    "    max_iter=10000,\n",
    "    random_state=42,\n",
    "    n_jobs=-1\n",
    ")\n",
    "elastic_net.fit(Xs_train_scaled, ys_train)\n",
    "\n",
    "best_C = elastic_net.C_[0]\n",
    "best_l1 = elastic_net.l1_ratio_[0]\n",
    "print(f\"Best C: {best_C:.4f}\")\n",
    "print(f\"Best l1_ratio: {best_l1:.2f}\")\n",
    "\n",
    "# Extract selected genes\n",
    "selector = SelectFromModel(elastic_net, prefit=True)\n",
    "selected_mask = selector.get_support()\n",
    "elastic_net_genes = Xs_train.columns[selected_mask]\n",
    "\n",
    "print(f\"Selected {len(elastic_net_genes)} genes from full training set using Elastic Net.\")"
   ]
  },
  {
   "cell_type": "code",
   "execution_count": 37,
   "id": "2b865d50",
   "metadata": {},
   "outputs": [
    {
     "data": {
      "image/png": "[encoded data removed]",
      "text/plain": [
       "<Figure size 1200x400 with 1 Axes>"
      ]
     },
     "metadata": {},
     "output_type": "display_data"
    }
   ],
   "source": [
    "plt.figure(figsize=(12, 4))\n",
    "sns.histplot(elastic_net.coef_.flatten(), bins=50, color='navy', kde=True)\n",
    "plt.title(\"Coefficient Distribution (MCF7)\")\n",
    "plt.xlabel(\"Coefficient Value\")\n",
    "plt.ylabel(\"Frequency\")\n",
    "plt.show()"
   ]
  },
  {
   "cell_type": "code",
   "execution_count": 38,
   "id": "07b04900",
   "metadata": {},
   "outputs": [
    {
     "name": "stdout",
     "output_type": "stream",
     "text": [
      "Selected genes: ['CYP1B1', 'CYP1B1-AS1', 'NDRG1', 'DDIT4', 'PFKFB3', 'HK2', 'VEGFA', 'BNIP3', 'SLC2A1', 'PFKFB4', 'ASF1B', 'HILPDA', 'UHRF1', 'ENO2', 'KDM3A', 'MT-CYB', 'SLC9A3R1', 'RECQL4', 'SFXN2', 'UBC', 'MT-CO3', 'GPI', 'PGK1', 'LDHA', 'IFITM3', 'ERO1A', 'DSP', 'IRF2BP2', 'TUBG1', 'MT-ATP6', 'FUT11', 'IFITM1', 'P4HA1', 'FAM162A', 'PDK1', 'SLC27A4', 'RIMKLA', 'SLC29A1', 'BNIP3L', 'MOV10', 'HLA-C', 'IFITM2', 'ELOVL2', 'ELOVL5', 'ACTG1', 'PYCR3', 'MFSD3', 'PFKP', 'GAPDH', 'HNRNPA2B1', 'FDPS', 'TST', 'CRELD2', 'MT-ATP8', 'IL27RA', 'PSME2', 'SNRNP25', 'HLA-B', 'SLC9A3R1-AS1', 'MTATP6P1', 'NECAB1', 'NME1-NME2', 'ALDOA', 'PCLAF']\n"
     ]
    }
   ],
   "source": [
    "selected_genes = Xs_train.columns[selected_mask]\n",
    "print(\"Selected genes:\", selected_genes.tolist())"
   ]
  },
  {
   "cell_type": "markdown",
   "id": "410ff8ec",
   "metadata": {},
   "source": [
    "### **4.1.2.** Random Forest Importance\n",
    "\n",
    "To capture non-linear gene–gene interactions and complement the linear Elastic Net selection, we apply a **Random Forest** classifier:\n",
    "\n",
    "1. **Pipeline**  \n",
    "   - Use `RandomForestClassifier()` (trees handle unscaled features directly).\n",
    "\n",
    "2. **Hyperparameter tuning**  \n",
    "   - Wrap the pipeline in `GridSearchCV` with 5-fold CV (scoring=`roc_auc`).  \n",
    "   - Tune key parameters:  \n",
    "     - **`n_estimators`** ∈ [100, 400, 600, 1000]  \n",
    "     - **`max_depth`** ∈ [None, 10, 20]  \n",
    "     - **`min_samples_leaf`** ∈ [1, 5]  \n",
    "\n",
    "3. **Feature importance**  \n",
    "   - Fit the best estimator on each training fold.  \n",
    "   - Rank genes by `feature_importances_`.  \n",
    "   - **Select the top 20 genes** per seed for downstream stability analysis.\n",
    "\n",
    "This non-linear ranking allows us to:\n",
    "- Verify which genes are important beyond the Elastic Net selection  \n",
    "- Ensure that high cross-validated performance is not driven solely by linear effects  \n",
    "- Provide a complementary perspective on gene relevance in the hypoxia vs. normoxia classification task  \n"
   ]
  },
  {
   "cell_type": "code",
   "execution_count": 39,
   "id": "7b55545c",
   "metadata": {},
   "outputs": [
    {
     "name": "stdout",
     "output_type": "stream",
     "text": [
      "Fitting 3 folds for each of 24 candidates, totalling 72 fits\n",
      "Best RF params: {'max_depth': None, 'min_samples_leaf': 1, 'n_estimators': 100}\n",
      "CV AUC: 1.0\n",
      "RF ROC AUC on val (full genes): 1.0000\n",
      "Top 20 RF genes:\n",
      "HK2\n",
      "MT-ATP8\n",
      "PDK1\n",
      "FDPS\n",
      "BNIP3\n",
      "NDRG1\n",
      "MT-CO3\n",
      "MT-CYB\n",
      "GPI\n",
      "TUBG1\n",
      "FASN\n",
      "UBC\n",
      "MT-ATP6\n",
      "DDIT4\n",
      "TES\n",
      "LDHA\n",
      "FDFT1\n",
      "P4HA1\n",
      "BNIP3L\n",
      "SDF2L1\n"
     ]
    }
   ],
   "source": [
    "param_grid = {\n",
    "  'n_estimators': [100, 400, 600, 1000],\n",
    "  'max_depth': [None, 10, 20],\n",
    "  'min_samples_leaf': [1, 5]\n",
    "}\n",
    "rf = RandomForestClassifier(random_state=0)\n",
    "\n",
    "grid = GridSearchCV(\n",
    "    rf,\n",
    "    param_grid,\n",
    "    cv=3,                    # small inner CV on the training split\n",
    "    scoring='roc_auc',\n",
    "    n_jobs=-1,\n",
    "    verbose=1\n",
    ")\n",
    "grid.fit(Xs_train_log, ys_train)\n",
    "\n",
    "print(\"Best RF params:\", grid.best_params_)\n",
    "print(\"CV AUC:\", grid.best_score_)\n",
    "\n",
    "rf.fit(Xs_train_log, ys_train)\n",
    "\n",
    "# Evaluate AUC on val\n",
    "ys_val_proba_rf = rf.predict_proba(Xs_val_log)[:, 1]\n",
    "auc_rf = roc_auc_score(ys_val, ys_val_proba_rf)\n",
    "print(f\"RF ROC AUC on val (full genes): {auc_rf:.4f}\")\n",
    "\n",
    "# Compute importances only for LASSO-selected genes\n",
    "importances = rf.feature_importances_\n",
    "gene_names = np.array(Xs_train.columns)\n",
    "top_indices = np.argsort(importances)[::-1][:20]\n",
    "top_rf_genes = gene_names[top_indices]\n",
    "\n",
    "print(\"Top 20 RF genes:\")\n",
    "for g in top_rf_genes[:20]:\n",
    "    print(g)"
   ]
  },
  {
   "cell_type": "markdown",
   "id": "9bf0fbda",
   "metadata": {},
   "source": [
    "### **4.1.3.** Stability Across Seeds\n",
    "Embedded selection methods can be sensitive to random initialization and the particular train–validation split. To ensure our final gene signature is **robust** and **reproducible**, we repeat the Elastic Net + Random Forest pipeline over multiple random seeds.  \n",
    "\n",
    "For each `seed`:\n",
    "   - **Train–validation split**: stratified 80/20 split with `random_state=seed`.  \n",
    "   - **Elastic Net**: fit the tuned model (`C=best_C`, `l1_ratio=best_l1_ratio`) on the scaled train fold → select non-zero genes.  \n",
    "   - **Random Forest**: fit the tuned RF (`n_estimators`, `max_depth`, `min_samples_leaf` from grid search) on the log-transformed train fold → pick top 20 genes by `feature_importances_`.\n",
    "\n",
    "This approach filters out genes that appear spuriously due to a particular split or random seed, enhancing reproducibility and ensuring that our downstream biological interpretations rest on a stable foundation."
   ]
  },
  {
   "cell_type": "code",
   "execution_count": 40,
   "id": "7806363e",
   "metadata": {},
   "outputs": [
    {
     "name": "stdout",
     "output_type": "stream",
     "text": [
      "\n",
      " Seed 7\n",
      "Top RF genes (sample): ['PSME2', 'VEGFA', 'MTATP6P1', 'PFKP', 'BNIP3L']\n",
      "\n",
      " Seed 21\n",
      "Top RF genes (sample): ['GAPDH', 'FDFT1', 'MT-ATP6', 'DSP', 'IFITM3']\n",
      "\n",
      " Seed 42\n",
      "Top RF genes (sample): ['SDF2L1', 'FASN', 'SLC2A1', 'PGP', 'ALDOA']\n",
      "\n",
      " Seed 123\n",
      "Top RF genes (sample): ['ITGA5', 'HK2', 'MT-ATP6', 'FDPS', 'ACTG1']\n",
      "\n",
      " Seed 999\n",
      "Top RF genes (sample): ['P4HA1', 'SLC25A39', 'GPI', 'ACTG1', 'MT-ATP8']\n"
     ]
    }
   ],
   "source": [
    "best_C = elastic_net.C_[0]\n",
    "best_l1_ratio = elastic_net.l1_ratio_[0]\n",
    "rf_params = grid.best_params_\n",
    "seeds = [7, 21, 42, 123, 999]\n",
    "\n",
    "en_sets = []\n",
    "rf_sets = []\n",
    "\n",
    "for seed in seeds:\n",
    "    print(f\"\\n Seed {seed}\")\n",
    "\n",
    "    # Stratified train/val split\n",
    "    X_train, _, y_train, _ = train_test_split(\n",
    "        Xs_train, ys_train, test_size=0.2,\n",
    "        stratify=ys_train, random_state=seed\n",
    "    )\n",
    "    #Normalize\n",
    "    X_train_log = np.log1p(X_train)\n",
    "\n",
    "    # Scaling on training set only\n",
    "    scaler = StandardScaler()\n",
    "    X_train_scaled = scaler.fit_transform(X_train_log)\n",
    "    X_train_scaled_df = pd.DataFrame(X_train_scaled, columns=X_train.columns)\n",
    "\n",
    "    # Elastic Net\n",
    "    en = LogisticRegression(\n",
    "        penalty='elasticnet', solver='saga',\n",
    "        C=best_C, l1_ratio=best_l1_ratio,\n",
    "        max_iter=10000, random_state=seed, n_jobs=-1\n",
    "    )\n",
    "    en.fit(X_train_scaled, y_train)\n",
    "\n",
    "    # Select non-zero genes\n",
    "    selector = SelectFromModel(en, prefit=True)\n",
    "    selected_en = X_train.columns[selector.get_support()]\n",
    "    en_sets.append(set(selected_en))\n",
    "\n",
    "    # RF for nonlinear ranking (Log Only)\n",
    "    rf = RandomForestClassifier(\n",
    "        n_estimators=rf_params['n_estimators'],\n",
    "        max_depth=rf_params['max_depth'],\n",
    "        min_samples_leaf=rf_params['min_samples_leaf'],\n",
    "        random_state=seed, n_jobs=-1\n",
    "    )\n",
    "    rf.fit(X_train_log, y_train)\n",
    "    importances = rf.feature_importances_\n",
    "    top_rf_genes_smart = X_train.columns[np.argsort(importances)[-20:]]\n",
    "    rf_sets.append(set(top_rf_genes_smart))\n",
    "    print(f\"Top RF genes (sample): {list(top_rf_genes_smart)[:5]}\")"
   ]
  },
  {
   "cell_type": "code",
   "execution_count": 41,
   "id": "057946d2",
   "metadata": {},
   "outputs": [
    {
     "name": "stdout",
     "output_type": "stream",
     "text": [
      "\n",
      "Final stable genes (18):\n",
      "['DSP', 'MT-ATP8', 'PFKP', 'IFITM2', 'VEGFA', 'MT-ATP6', 'P4HA1', 'MTATP6P1', 'MT-CYB', 'FAM162A', 'HK2', 'ENO2', 'NDRG1', 'MT-CO3', 'GAPDH', 'BNIP3', 'ALDOA', 'GPI']\n"
     ]
    }
   ],
   "source": [
    "en_counter_smart = Counter(g for s in en_sets for g in s)\n",
    "rf_counter_smart = Counter(g for s in rf_sets for g in s)\n",
    "\n",
    "stable_genes_smart = [g for g,c in en_counter_smart.items() if c >= 5 and rf_counter_smart[g] >= 2]\n",
    "print(f\"\\nFinal stable genes ({len(stable_genes_smart)}):\\n{stable_genes_smart}\")"
   ]
  },
  {
   "cell_type": "code",
   "execution_count": 42,
   "id": "19ced05a",
   "metadata": {},
   "outputs": [],
   "source": [
    "# Save as txt file\n",
    "with open(\"stable_genes_mcf_smart.txt\", \"w\") as f:\n",
    "    for g in stable_genes_smart:\n",
    "        f.write(g + \"\\n\")"
   ]
  },
  {
   "cell_type": "markdown",
   "id": "3b59f50b",
   "metadata": {},
   "source": []
  },
  {
   "cell_type": "markdown",
   "id": "e5fc21d3",
   "metadata": {},
   "source": [
    "### **4.2.** ***DropSeq***  \n",
    "This section performs feature selection on the Drop-seq dataset, which consists of the 300 pre-filtered genes and about $\\sim$ 17000 cells.\n"
   ]
  },
  {
   "cell_type": "markdown",
   "id": "07d49ec6",
   "metadata": {},
   "source": [
    "### **4.2.1.** Elastic Net Logistic Regression  \n",
    "After MI filtering, we\n",
    "1. **Apply Elastic Net logistic regression** (embedded selection)  \n",
    "2. **Tune** both the inverse‐regularization strength `C` and the elastic‐net mix `l1_ratio` via 5-fold `GridSearchCV` (scoring=`roc_auc`)  \n",
    "3. **Extract** top genes  \n",
    "\n",
    "This combination of sparsity (L₁) and grouping (L₂) penalties helps guard against noisy, correlated predictors while ensuring we capture the strongest, most reproducible signals."
   ]
  },
  {
   "cell_type": "code",
   "execution_count": 43,
   "id": "65561a48",
   "metadata": {},
   "outputs": [
    {
     "name": "stdout",
     "output_type": "stream",
     "text": [
      "Fitting 5 folds for each of 15 candidates, totalling 75 fits\n",
      "Best hyperparameters: {'clf__C': 0.05, 'clf__l1_ratio': 0.5}\n",
      "Number of genes retained by Elastic Net: 233\n",
      "Shape of selected feature matrix: (17300, 233)\n",
      "Selected genes: ['MALAT1', 'MT-RNR2', 'TFF1', 'MT-RNR1', 'H4C3', 'MT-CO3', 'MT-ND4', 'MT-ND3', 'MT-CYB', 'TMSB10', 'MT-ATP6', 'MT-CO2', 'MT-TS1', 'MT-ND6', 'MT-CO1', 'MT-ND2', 'MTND1P23', 'MT-ND4L', 'MT-ND5', 'MT-ND1', 'BCYRN1', 'MT-TA', 'RPS5', 'MT-TQ', 'HES1', 'LGALS1', 'TMEM64', 'MT-TE', 'RPL12', 'MUC5B', 'H1-2', 'TOB1', 'RPL39', 'ANKRD52', 'MT-TD', 'RPS16', 'GPM6A', 'ATP1A1', 'TFF3', 'IRF7', 'FGF23', 'CSK', 'ZNF441', 'CLCN7', 'PLBD2', 'NEB', 'RPL35', 'GOLGA4', 'TMEM191C', 'PTP4A2', 'CARD10', 'HNRNPA2B1', 'SOX4', 'RPS19', 'HNRNPAB', 'LINC02913', 'RPLP2', 'RPL36', 'PARD6B', 'TSHZ2', 'ZNF2', 'RPL13', 'TPI1', 'SKI', 'NCL', 'S100A10', 'PURPL', 'CAPZA1', 'FTL', 'HCN2', 'CERS2', 'RPL35A', 'ENO1', 'NIN', 'RHOD', 'KRT19', 'RPS14', 'RPL34', 'FAM102A', 'DSP', 'UQCRQ', 'CAMTA2', 'KCNJ2', 'NBN', 'RPS15A', 'ROCK2', 'TPD52L1', 'SEPTIN9', 'HSPH1', 'NCOA3', 'HDGF', 'PACS1', 'ROMO1', 'FBXO30', 'CARM1', 'ELOB', 'PPM1G', 'KRT8', 'DNAJA1', 'ZIC2', 'RPS6KB1', 'MFAP3', 'TRIM37', 'TCHP', 'ITGB8-AS1', 'RPS15', 'FLOT2', 'AFG3L1P', 'ATP5ME', 'BCAS3', 'POLR2J', 'NSD1', 'SOCS4', 'BAZ1B', 'HNRNPUL1', 'LINC00271', 'DLX3', 'CEP55', 'PYGO2', 'BAP1', 'SOS1', 'ARPP19', 'S100A11', 'ATP5MK', 'ZNF317', 'MEGF6', 'PRDM4', 'SIAH2', 'PTPN11', 'RPL15', 'C9orf78', 'WNK1', 'SNRPD2', 'SLC25A24', 'RPS27', 'CFAP97', 'SAMD8', 'MT2A', 'SET', 'ATXN1L', 'ZNF703', 'ZNF329', 'DUS4L', 'UBA52', 'EIF4G2', 'LXN', 'RPL37A', 'METTL21A', 'C4orf48', 'SENP6', 'MIS12', 'MAP4K4', 'DNAJC21', 'FAM104A', 'BCCIP', 'POLR2I', 'EIF2AK2', 'HCG18', 'S100P', 'KRT18', 'GAPDH', 'TMEM258', 'PGK1', 'ZNF134', 'PKM', 'RPL30', 'TPM3', 'PRRC2C', 'ABCF2', 'ZNF843', 'ARHGEF37', 'PFDN4', 'LPP', 'SPAG1', 'SLC29A3', 'XBP1', 'PPM1K', 'AGAP2-AS1', 'MYD88', 'CKS2', 'MYO9A', 'CRNDE', 'TPM4', 'ANKIB1', 'RRP9', 'DEK', 'NRIP1', 'MAP3K13', 'IPO4', 'SAPCD2', 'MNT', 'HCFC1', 'ACTB', 'GATA3', 'NAA50', 'RPL11', 'NEDD8', 'KIF21A', 'IWS1', 'GNL3L', 'WDR43', 'PSMA7', 'FDX2', 'RSRC2', 'AHCYL1', 'BAZ2A', 'TIAL1', 'COPS9', 'PITX1', 'NFIC', 'HOMER2', 'POLB', 'ARIH1', 'ZBTB7A', 'HSPB1', 'TBCA', 'ARHGAP21', 'PAK2', 'HSPD1', 'B3GALT5', 'RPLP1', 'EHBP1', 'GADD45GIP1', 'C6orf62', 'DTX3', 'SERF2', 'COX7A2', 'COX7C', 'RPL23', 'TNPO2', 'CCM2', 'KIAA0753', 'TNK2']\n"
     ]
    }
   ],
   "source": [
    "pipe_en = Pipeline([\n",
    "    ('scaler', StandardScaler()),\n",
    "    ('clf', LogisticRegression(\n",
    "        penalty='elasticnet',\n",
    "        solver='saga',\n",
    "        max_iter=10000,\n",
    "        random_state=42\n",
    "    ))\n",
    "])\n",
    "\n",
    "# 2) Define hyperparameter grid\n",
    "param_grid = {\n",
    "    'clf__C':        [0.0005, 0.001, 0.005, 0.01, 0.05],\n",
    "    'clf__l1_ratio': [0.1, 0.5, 0.9]\n",
    "}\n",
    "\n",
    "# 3) GridSearchCV on Drop-seq training data\n",
    "search = GridSearchCV(\n",
    "    pipe_en,\n",
    "    param_grid,\n",
    "    cv=5,\n",
    "    scoring='roc_auc',\n",
    "    n_jobs=-1,\n",
    "    verbose=1\n",
    ")\n",
    "search.fit(Xd_train_log, yd_train)   # Xd_train: cells×300 genes, yd_train: labels\n",
    "\n",
    "best_model = search.best_estimator_\n",
    "# Extract scaled training data (pipeline includes StandardScaler)\n",
    "X_scaled = best_model.named_steps['scaler'].transform(Xd_train_log)\n",
    "\n",
    "# Get coefficient array from the LogisticRegression step\n",
    "coefs = best_model.named_steps['clf'].coef_.ravel()\n",
    "\n",
    "# Build a boolean mask of which coefficients are nonzero\n",
    "selected_mask = np.abs(coefs) > 1e-8\n",
    "\n",
    "# Subset the gene names and the data\n",
    "selected_genes = list(Xd_train_log.columns[selected_mask])\n",
    "X_selected = Xd_train_log.loc[:, selected_mask]\n",
    "\n",
    "# Output results\n",
    "print(\"Best hyperparameters:\", search.best_params_)\n",
    "print(f\"Number of genes retained by Elastic Net: {len(selected_genes)}\")\n",
    "print(\"Shape of selected feature matrix:\", X_selected.shape)\n",
    "print(\"Selected genes:\", selected_genes)"
   ]
  },
  {
   "cell_type": "markdown",
   "id": "2cec0b47",
   "metadata": {},
   "source": [
    "### **4.2.2** Random Forest Validation  \n",
    "To validate the informativeness of the selected genes, we train a **Random Forest classifier** on the top MI-filtered genes.\n",
    "\n",
    "This non-linear ensemble method provides an alternative perspective on gene importance, complementary to Elastic Net.  \n",
    "We extract the top genes by importance score.\n",
    "\n",
    "This step ensures that the selected features are not only sparse but also robust across model types.\n"
   ]
  },
  {
   "cell_type": "code",
   "execution_count": 44,
   "id": "5b404ed6",
   "metadata": {},
   "outputs": [
    {
     "name": "stdout",
     "output_type": "stream",
     "text": [
      "Fitting 5 folds for each of 24 candidates, totalling 120 fits\n"
     ]
    },
    {
     "name": "stderr",
     "output_type": "stream",
     "text": [
      "/opt/anaconda3/envs/ai_lab/lib/python3.12/site-packages/joblib/externals/loky/process_executor.py:752: UserWarning: A worker stopped while some jobs were given to the executor. This can be caused by a too short worker timeout or by a memory leak.\n",
      "  warnings.warn(\n"
     ]
    },
    {
     "name": "stdout",
     "output_type": "stream",
     "text": [
      "Best RF params: {'clf__max_depth': None, 'clf__min_samples_leaf': 1, 'clf__n_estimators': 600}\n",
      "Top 20 genes by RF importance:\n",
      "TFF1: 0.07157\n",
      "MT-RNR2: 0.06170\n",
      "GAPDH: 0.04395\n",
      "KRT19: 0.04334\n",
      "TMSB10: 0.04295\n",
      "LGALS1: 0.04279\n",
      "PGK1: 0.03863\n",
      "RPL13: 0.02844\n",
      "RPS19: 0.02783\n",
      "MT-RNR1: 0.02781\n",
      "RPS14: 0.02457\n",
      "TPI1: 0.02335\n",
      "ENO1: 0.02074\n",
      "RPL35: 0.01733\n",
      "PKM: 0.01675\n",
      "RPL15: 0.01491\n",
      "RPL34: 0.01383\n",
      "RPL12: 0.01297\n",
      "BCYRN1: 0.01288\n",
      "MALAT1: 0.01088\n"
     ]
    }
   ],
   "source": [
    "# Random Forest validation on selected genes\n",
    "pipe_rf = Pipeline([\n",
    "    ('clf', RandomForestClassifier(random_state=42))\n",
    "])\n",
    "\n",
    "param_grid_rf = {\n",
    "    'clf__n_estimators':    [100, 400, 600, 1000],\n",
    "    'clf__max_depth':       [None, 10, 20],\n",
    "    'clf__min_samples_leaf':[1, 5]\n",
    "}\n",
    "search_rf = GridSearchCV(\n",
    "    pipe_rf,\n",
    "    param_grid_rf,\n",
    "    cv=5,\n",
    "    scoring='roc_auc',\n",
    "    n_jobs=-1,\n",
    "    verbose=1\n",
    ")\n",
    "search_rf.fit(Xd_train_log, yd_train)\n",
    "\n",
    "best_rf = search_rf.best_estimator_\n",
    "print(\"Best RF params:\", search_rf.best_params_)\n",
    "\n",
    "# Feature importances\n",
    "importances = best_rf.named_steps['clf'].feature_importances_\n",
    "gene_names = np.array(selected_mi_genes)\n",
    "top_rf_indices = np.argsort(importances)[::-1][:20]\n",
    "\n",
    "print(\"Top 20 genes by RF importance:\")\n",
    "for i in top_rf_indices:\n",
    "    print(f\"{gene_names[i]}: {importances[i]:.5f}\")"
   ]
  },
  {
   "cell_type": "markdown",
   "id": "adb552bb",
   "metadata": {},
   "source": [
    "### **4.2.3.** Stability Analysis Across Seeds  \n",
    "To ensure robustness, we repeat Elastic Net and Random Forest selection across multiple random seeds.  \n",
    "\n",
    "For each seed, we extract the top genes selected by each method. Then, we count how often each gene is selected across runs.  \n",
    "This allows us to identify **stable genes** that consistently appear regardless of random initialization — a proxy for reliability.\n"
   ]
  },
  {
   "cell_type": "code",
   "execution_count": 45,
   "id": "2960f41a",
   "metadata": {},
   "outputs": [],
   "source": [
    "X_train_mi_df = pd.DataFrame(Xd_train_scaled, columns=selected_mi_genes, index=Xd_train.index)\n",
    "\n",
    "seeds = [7, 21, 42, 123, 999]\n",
    "drop_en_sets = []\n",
    "drop_rf_sets = []\n",
    "\n",
    "for seed in seeds:\n",
    "    # 1) Stratified split on MI-filtered features\n",
    "    X_tr_mi, _, y_tr, _ = train_test_split(\n",
    "        X_train_mi_df, yd_train, \n",
    "        test_size=0.2, stratify=yd_train, random_state=seed\n",
    "    )\n",
    "    # Corresponding log data for RF (same train indices)\n",
    "    train_idx = X_tr_mi.index\n",
    "    X_tr_log = Xd_train_log.loc[train_idx, selected_mi_genes]\n",
    "    \n",
    "    # 2) Elastic Net selection\n",
    "    en = LogisticRegression(\n",
    "        penalty='elasticnet', solver='saga',\n",
    "        C=best_C, l1_ratio=best_l1_ratio,\n",
    "        max_iter=10000, random_state=seed, n_jobs=-1\n",
    "    )\n",
    "    en.fit(X_tr_mi, y_tr)\n",
    "    selector_en = SelectFromModel(en, threshold=1e-8, prefit=True)\n",
    "    en_genes = X_tr_mi.columns[selector_en.get_support()]\n",
    "    drop_en_sets.append(set(en_genes))\n",
    "    \n",
    "    # 3) Random Forest ranking\n",
    "    rf = RandomForestClassifier(\n",
    "        n_estimators=rf_params['n_estimators'],\n",
    "        max_depth=rf_params['max_depth'],\n",
    "        min_samples_leaf=rf_params['min_samples_leaf'],\n",
    "        random_state=seed, n_jobs=-1\n",
    "    )\n",
    "    rf.fit(X_tr_log, y_tr)\n",
    "    importances = rf.feature_importances_\n",
    "    top20 = X_tr_mi.columns[np.argsort(importances)[-20:]]\n",
    "    drop_rf_sets.append(set(top20))\n"
   ]
  },
  {
   "cell_type": "code",
   "execution_count": 46,
   "id": "07fe8e68",
   "metadata": {},
   "outputs": [
    {
     "name": "stdout",
     "output_type": "stream",
     "text": [
      "Stable Drop-seq Genes (20):\n",
      "['RPS14', 'KRT19', 'PKM', 'GAPDH', 'RPL13', 'MT-RNR2', 'RPS19', 'ENO1', 'RPL15', 'BCYRN1', 'TFF1', 'PGK1', 'RPS5', 'TPI1', 'RPL35', 'RPL12', 'LGALS1', 'RPL34', 'MT-RNR1', 'TMSB10']\n"
     ]
    }
   ],
   "source": [
    "en_counter = Counter(g for s in drop_en_sets for g in s)\n",
    "rf_counter = Counter(g for s in drop_rf_sets for g in s)\n",
    "\n",
    "stable_genes_drop = [\n",
    "    g for g, c in en_counter.items()\n",
    "    if c >= 5 and rf_counter[g] >= 2\n",
    "]\n",
    "\n",
    "print(f\"Stable Drop-seq Genes ({len(stable_genes_drop)}):\")\n",
    "print(stable_genes_drop)"
   ]
  },
  {
   "cell_type": "code",
   "execution_count": 47,
   "id": "ec15455b",
   "metadata": {},
   "outputs": [],
   "source": [
    "# Save stable genes for Drop-seq\n",
    "with open(\"stable_genes_mcf_drop.txt\", \"w\") as f:\n",
    "    for g in stable_genes_drop:\n",
    "        f.write(g + \"\\n\")"
   ]
  },
  {
   "cell_type": "markdown",
   "id": "63db0c95",
   "metadata": {},
   "source": []
  },
  {
   "cell_type": "markdown",
   "id": "80f00157",
   "metadata": {},
   "source": [
    "## **5.** Biological Enrichment\n",
    "---"
   ]
  },
  {
   "cell_type": "markdown",
   "id": "6caa724b",
   "metadata": {},
   "source": [
    "To provide a clear biological interpretation of the selected gene set (`stable_genes_smart`), we performed a **Gene Set Over-Representation Analysis** (ORA). It tests whether our selected list of genes significantly overlaps predefined curated gene sets related to biological processes.  \n",
    "\n",
    "We specifically focused on two distinct curated gene set resources to better interpret our results:\n",
    " - **MSigDB Hallmark**:  \n",
    "    Hallmark gene sets are high-quality, curated gene signatures clearly associated with specific biological states or conditions—in this case, hypoxia (low oxygen levels).\n",
    "\n",
    "- **Gene Ontology (GO) Biological Process (BP)**:  \n",
    "    GO provides a broad, structured vocabulary describing biological processes. Using GO BP gene sets, we can more comprehensively understand the general biological processes linked with hypoxia.\n",
    "\n",
    "We tested our selected genes against these two hypoxia-specific gene sets using the `gseapy` Python library. "
   ]
  },
  {
   "cell_type": "markdown",
   "id": "3cb382ae",
   "metadata": {},
   "source": [
    "> **Note:** We’re not experts in biology, so we’ll keep this to the key takeaways without over‐interpreting."
   ]
  },
  {
   "cell_type": "markdown",
   "id": "d101d34d",
   "metadata": {},
   "source": [
    "### **5.1.** ***SmartSeq***"
   ]
  },
  {
   "cell_type": "markdown",
   "id": "0dd05b95",
   "metadata": {},
   "source": [
    "#### **5.1.1.** Over - Representation Analysis (ORA)"
   ]
  },
  {
   "cell_type": "markdown",
   "id": "e7c92207",
   "metadata": {},
   "source": [
    "We are asking: “Of the pathways or GO terms in that gene set database, which ones contain more of my genes than you’d expect by random chance?”"
   ]
  },
  {
   "cell_type": "code",
   "execution_count": 48,
   "id": "1ddac0d3",
   "metadata": {},
   "outputs": [
    {
     "name": "stdout",
     "output_type": "stream",
     "text": [
      "\n",
      "=== MSigDB_Hallmark ===\n"
     ]
    },
    {
     "data": {
      "text/html": [
       "<div>\n",
       "<style scoped>\n",
       "    .dataframe tbody tr th:only-of-type {\n",
       "        vertical-align: middle;\n",
       "    }\n",
       "\n",
       "    .dataframe tbody tr th {\n",
       "        vertical-align: top;\n",
       "    }\n",
       "\n",
       "    .dataframe thead th {\n",
       "        text-align: right;\n",
       "    }\n",
       "</style>\n",
       "<table border=\"1\" class=\"dataframe\">\n",
       "  <thead>\n",
       "    <tr style=\"text-align: right;\">\n",
       "      <th></th>\n",
       "      <th>Term</th>\n",
       "      <th>Overlap</th>\n",
       "      <th>Adjusted P-value</th>\n",
       "      <th>Genes</th>\n",
       "    </tr>\n",
       "  </thead>\n",
       "  <tbody>\n",
       "    <tr>\n",
       "      <th>8</th>\n",
       "      <td>HALLMARK_HYPOXIA</td>\n",
       "      <td>10/200</td>\n",
       "      <td>4.013509e-11</td>\n",
       "      <td>HK2;GAPDH;ENO2;PFKP;ALDOA;FAM162A;VEGFA;NDRG1;...</td>\n",
       "    </tr>\n",
       "    <tr>\n",
       "      <th>6</th>\n",
       "      <td>HALLMARK_GLYCOLYSIS</td>\n",
       "      <td>7/200</td>\n",
       "      <td>2.538903e-06</td>\n",
       "      <td>HK2;ENO2;PFKP;ALDOA;FAM162A;VEGFA;P4HA1</td>\n",
       "    </tr>\n",
       "    <tr>\n",
       "      <th>12</th>\n",
       "      <td>HALLMARK_MTORC1_SIGNALING</td>\n",
       "      <td>5/200</td>\n",
       "      <td>8.018561e-04</td>\n",
       "      <td>HK2;GAPDH;ALDOA;GPI;P4HA1</td>\n",
       "    </tr>\n",
       "    <tr>\n",
       "      <th>9</th>\n",
       "      <td>HALLMARK_IL2_STAT5_SIGNALING</td>\n",
       "      <td>3/199</td>\n",
       "      <td>7.852962e-02</td>\n",
       "      <td>HK2;NDRG1;P4HA1</td>\n",
       "    </tr>\n",
       "    <tr>\n",
       "      <th>20</th>\n",
       "      <td>HALLMARK_UV_RESPONSE_UP</td>\n",
       "      <td>2/158</td>\n",
       "      <td>1.932290e-01</td>\n",
       "      <td>ALDOA;ENO2</td>\n",
       "    </tr>\n",
       "  </tbody>\n",
       "</table>\n",
       "</div>"
      ],
      "text/plain": [
       "                            Term Overlap  Adjusted P-value  \\\n",
       "8               HALLMARK_HYPOXIA  10/200      4.013509e-11   \n",
       "6            HALLMARK_GLYCOLYSIS   7/200      2.538903e-06   \n",
       "12     HALLMARK_MTORC1_SIGNALING   5/200      8.018561e-04   \n",
       "9   HALLMARK_IL2_STAT5_SIGNALING   3/199      7.852962e-02   \n",
       "20       HALLMARK_UV_RESPONSE_UP   2/158      1.932290e-01   \n",
       "\n",
       "                                                Genes  \n",
       "8   HK2;GAPDH;ENO2;PFKP;ALDOA;FAM162A;VEGFA;NDRG1;...  \n",
       "6             HK2;ENO2;PFKP;ALDOA;FAM162A;VEGFA;P4HA1  \n",
       "12                          HK2;GAPDH;ALDOA;GPI;P4HA1  \n",
       "9                                     HK2;NDRG1;P4HA1  \n",
       "20                                         ALDOA;ENO2  "
      ]
     },
     "metadata": {},
     "output_type": "display_data"
    },
    {
     "name": "stdout",
     "output_type": "stream",
     "text": [
      "\n",
      "=== GO_BP ===\n"
     ]
    },
    {
     "data": {
      "text/html": [
       "<div>\n",
       "<style scoped>\n",
       "    .dataframe tbody tr th:only-of-type {\n",
       "        vertical-align: middle;\n",
       "    }\n",
       "\n",
       "    .dataframe tbody tr th {\n",
       "        vertical-align: top;\n",
       "    }\n",
       "\n",
       "    .dataframe thead th {\n",
       "        text-align: right;\n",
       "    }\n",
       "</style>\n",
       "<table border=\"1\" class=\"dataframe\">\n",
       "  <thead>\n",
       "    <tr style=\"text-align: right;\">\n",
       "      <th></th>\n",
       "      <th>Term</th>\n",
       "      <th>Overlap</th>\n",
       "      <th>Adjusted P-value</th>\n",
       "      <th>Genes</th>\n",
       "    </tr>\n",
       "  </thead>\n",
       "  <tbody>\n",
       "    <tr>\n",
       "      <th>196</th>\n",
       "      <td>GOBP_GENERATION_OF_PRECURSOR_METABOLITES_AND_E...</td>\n",
       "      <td>10/481</td>\n",
       "      <td>2.232352e-09</td>\n",
       "      <td>MT-ATP8;HK2;MT-CO3;GAPDH;ENO2;PFKP;MT-CYB;ALDO...</td>\n",
       "    </tr>\n",
       "    <tr>\n",
       "      <th>22</th>\n",
       "      <td>GOBP_ATP_METABOLIC_PROCESS</td>\n",
       "      <td>8/236</td>\n",
       "      <td>6.829337e-09</td>\n",
       "      <td>MT-ATP8;HK2;GAPDH;ENO2;PFKP;ALDOA;MT-ATP6;GPI</td>\n",
       "    </tr>\n",
       "    <tr>\n",
       "      <th>378</th>\n",
       "      <td>GOBP_NUCLEOSIDE_TRIPHOSPHATE_METABOLIC_PROCESS</td>\n",
       "      <td>8/283</td>\n",
       "      <td>1.944598e-08</td>\n",
       "      <td>MT-ATP8;HK2;GAPDH;ENO2;PFKP;ALDOA;MT-ATP6;GPI</td>\n",
       "    </tr>\n",
       "    <tr>\n",
       "      <th>536</th>\n",
       "      <td>GOBP_PYRIDINE_CONTAINING_COMPOUND_CATABOLIC_PR...</td>\n",
       "      <td>6/106</td>\n",
       "      <td>8.068333e-08</td>\n",
       "      <td>HK2;GAPDH;ENO2;PFKP;ALDOA;GPI</td>\n",
       "    </tr>\n",
       "    <tr>\n",
       "      <th>373</th>\n",
       "      <td>GOBP_NUCLEOSIDE_DIPHOSPHATE_CATABOLIC_PROCESS</td>\n",
       "      <td>6/109</td>\n",
       "      <td>8.068333e-08</td>\n",
       "      <td>HK2;GAPDH;ENO2;PFKP;ALDOA;GPI</td>\n",
       "    </tr>\n",
       "  </tbody>\n",
       "</table>\n",
       "</div>"
      ],
      "text/plain": [
       "                                                  Term Overlap  \\\n",
       "196  GOBP_GENERATION_OF_PRECURSOR_METABOLITES_AND_E...  10/481   \n",
       "22                          GOBP_ATP_METABOLIC_PROCESS   8/236   \n",
       "378     GOBP_NUCLEOSIDE_TRIPHOSPHATE_METABOLIC_PROCESS   8/283   \n",
       "536  GOBP_PYRIDINE_CONTAINING_COMPOUND_CATABOLIC_PR...   6/106   \n",
       "373      GOBP_NUCLEOSIDE_DIPHOSPHATE_CATABOLIC_PROCESS   6/109   \n",
       "\n",
       "     Adjusted P-value                                              Genes  \n",
       "196      2.232352e-09  MT-ATP8;HK2;MT-CO3;GAPDH;ENO2;PFKP;MT-CYB;ALDO...  \n",
       "22       6.829337e-09      MT-ATP8;HK2;GAPDH;ENO2;PFKP;ALDOA;MT-ATP6;GPI  \n",
       "378      1.944598e-08      MT-ATP8;HK2;GAPDH;ENO2;PFKP;ALDOA;MT-ATP6;GPI  \n",
       "536      8.068333e-08                      HK2;GAPDH;ENO2;PFKP;ALDOA;GPI  \n",
       "373      8.068333e-08                      HK2;GAPDH;ENO2;PFKP;ALDOA;GPI  "
      ]
     },
     "metadata": {},
     "output_type": "display_data"
    }
   ],
   "source": [
    "paths = {\n",
    "    \"MSigDB_Hallmark\": \"../Data/MSigDB_Hallmark.gmt\",\n",
    "    \"GO_BP\":  \"../Data/GO_BP.gmt\",\n",
    "}\n",
    "\n",
    "for name, p in paths.items():\n",
    "    enr = gp.enrichr(\n",
    "        gene_list=stable_genes_smart,\n",
    "        gene_sets=p,          # point to one local GMT file\n",
    "        organism='Human',\n",
    "        outdir=None,\n",
    "        cutoff=0.05\n",
    "    )\n",
    "    df_smart = enr.results.sort_values(\"Adjusted P-value\")\n",
    "    print(f\"\\n=== {name} ===\")\n",
    "    display(df_smart[['Term','Overlap','Adjusted P-value','Genes']].head(5))"
   ]
  },
  {
   "cell_type": "markdown",
   "id": "fe7700aa",
   "metadata": {},
   "source": [
    "##### *Hallmark Gene Sets*\n",
    "\n",
    "- **HALLMARK_HYPOXIA (p ≈ 4 × 10⁻¹¹)**  \n",
    "  - **Overlap:** 11 of our 23 genes belong to this set.  \n",
    "  - **Interpretation:** These genes are strongly associated with low‐oxygen response—exactly what we’re trying to distinguish.\n",
    "\n",
    "- **HALLMARK_GLYCOLYSIS (p ≈ 2.5 × 10⁻⁶)**  \n",
    "  - **Overlap:** 7 of 23 genes.  \n",
    "  - **Takeaway:** Glycolysis is an anaerobic metabolic pathway strongly induced by hypoxic conditions. This enrichment supports the hypoxia finding, emphasizing a metabolic shift toward glycolysis.\n",
    "\n",
    "##### *GO Biological Processes*\n",
    "\n",
    "- **Energy & Metabolite Generation (p ≈ 2.2 × 10⁻⁹)**  \n",
    "  - **Overlap:** 10 of our genes.  \n",
    "  - **Simple takeaway:** Many genes relate to making or using cellular “energy currency” (ATP), which is critical when cells face oxygen shortage.\n",
    "\n",
    "- **ATP Metabolic Process & Nucleotide Metabolism (p < 10⁻⁸)**  \n",
    "  - **Overlap:** 7–8 genes in each category.  \n",
    "  - **Why it’s relevant:** Highlights that our gene set isn’t just random—it zooms in on the machinery cells use to produce and manage energy molecules.\n",
    "  Suggests alterations in ATP production and usage, closely linked to hypoxic and glycolytic activity.\n",
    "\n",
    "These enrichment results consistently highlight a robust biological signature related to **hypoxia** and a pronounced shift in glycolysis and energy metabolism, reflecting typical cellular adaptations to low oxygen conditions. This biological coherence strongly supports the validity and biological relevance of the gene set (`stable_genes_smart`) identified through your analysis.\n"
   ]
  },
  {
   "cell_type": "markdown",
   "id": "70ea3e66",
   "metadata": {},
   "source": [
    "#### **5.1.2.** Comparison with Buffa's signature"
   ]
  },
  {
   "cell_type": "markdown",
   "id": "f80b72dc",
   "metadata": {},
   "source": [
    "To provide external validation, we compared our 12‐gene core list against the published Buffa signature of hypoxia."
   ]
  },
  {
   "cell_type": "code",
   "execution_count": 49,
   "id": "97ffcb3e",
   "metadata": {},
   "outputs": [
    {
     "name": "stdout",
     "output_type": "stream",
     "text": [
      "Extracted 50 BUFFA genes.\n",
      "['ACOT7', 'ADM', 'AK4', 'ANKRD37', 'ANLN', 'BNIP3', 'CA9', 'CDKN3', 'CHCHD2', 'CORO1C', 'CTSV', 'DDIT4', 'ENO1', 'ESRP1', 'GAPDH', 'GPI', 'HILPDA', 'HK2', 'KIF20A', 'KIF4A', 'LDHA', 'LRRC42', 'MAD2L2', 'MAP7D1', 'MCTS1', 'MIF', 'MRGBP', 'MRPL13', 'MRPL15', 'MRPS17', 'NDRG1', 'P4HA1', 'PFKP', 'PGAM1', 'PGK1', 'PNP', 'PSMA7', 'PSRC1', 'SEC61G', 'SHCBP1', 'SLC16A1', 'SLC25A32', 'SLC2A1', 'TPI1', 'TUBA1A', 'TUBA1C', 'TUBB6', 'UTP11', 'VEGFA', 'YKT6']\n"
     ]
    }
   ],
   "source": [
    "# Load the BUFFA GMT file\n",
    "with open(\"../Data/buffa_hypoxia.gmt\", \"r\") as f:\n",
    "    lines = f.readlines()\n",
    "\n",
    "# Parse the first (and only) line: format is [name, description, gene1, gene2, ...]\n",
    "buffa_line = lines[0].strip().split(\"\\t\")\n",
    "buffa_genes = buffa_line[2:]  # skip 'name' and 'description'\n",
    "\n",
    "print(f\"Extracted {len(buffa_genes)} BUFFA genes.\")\n",
    "print(buffa_genes)  # View them"
   ]
  },
  {
   "cell_type": "code",
   "execution_count": 50,
   "id": "6b58b336",
   "metadata": {},
   "outputs": [
    {
     "name": "stdout",
     "output_type": "stream",
     "text": [
      "Overlap of 8 genes between our selected genes and Buffa genes:\n",
      "['BNIP3', 'GAPDH', 'GPI', 'HK2', 'NDRG1', 'P4HA1', 'PFKP', 'VEGFA']\n"
     ]
    }
   ],
   "source": [
    "gene_names_in_dataset = set(stable_genes_smart)\n",
    "\n",
    "# Convert BUFFA gene list to a set\n",
    "buffa_set = set(buffa_genes)\n",
    "\n",
    "# Compute intersection with your dataset\n",
    "found_genes = list(buffa_set & gene_names_in_dataset)\n",
    "\n",
    "\n",
    "print(f\"Overlap of {len(found_genes)} genes between our selected genes and Buffa genes:\")\n",
    "print(sorted(found_genes))"
   ]
  },
  {
   "cell_type": "markdown",
   "id": "9c53d3f3",
   "metadata": {},
   "source": [
    "#### **5.1.3.** Expression Patterns of Top Stable Genes\n",
    "To evaluate the biological interpretability of the features selected for classification, we visualized the expression distribution of the top 6 stable genes. "
   ]
  },
  {
   "cell_type": "code",
   "execution_count": 51,
   "id": "61769b3c",
   "metadata": {},
   "outputs": [
    {
     "data": {
      "image/png": "[encoded data removed]",
      "text/plain": [
       "<Figure size 1500x800 with 6 Axes>"
      ]
     },
     "metadata": {},
     "output_type": "display_data"
    }
   ],
   "source": [
    "# Prepare merged DataFrame\n",
    "Xs_vis = X_mcf_smart[stable_genes_smart].copy()\n",
    "Xs_vis[\"Label\"] = y_mcf_smart\n",
    "\n",
    "# Choose top N genes to visualize\n",
    "top_genes_smart = stable_genes_smart[:6]  # or sort by RF importance\n",
    "\n",
    "# Plot\n",
    "fig, axes = plt.subplots(nrows=2, ncols=3, figsize=(15, 8))\n",
    "for i, gene in enumerate(top_genes_smart):\n",
    "    ax = axes.flat[i]\n",
    "    sns.violinplot(x=\"Label\", y=gene, hue=\"Label\", data=Xs_vis, ax=ax,\n",
    "                   inner=\"box\", palette=\"coolwarm\", legend=False)\n",
    "    ax.set_title(gene)\n",
    "    ax.set_xlabel(\"Condition\")\n",
    "    ax.set_ylabel(\"Expression\")\n",
    "\n",
    "# Remove unused subplots if any\n",
    "for j in range(i + 1, len(axes.flat)):\n",
    "    fig.delaxes(axes.flat[j])\n",
    "\n",
    "fig.suptitle(\"Expression of Top Stable Genes by Condition (Smart-seq)\", fontsize=14, y=1.02)\n",
    "plt.tight_layout()\n",
    "plt.show()"
   ]
  },
  {
   "cell_type": "markdown",
   "id": "8238d306",
   "metadata": {},
   "source": [
    "Each violin plot shows the expression of a gene across the two conditions: **Normoxia (0)** and **Hypoxia (1)**. The inner boxplot indicates the interquartile range and median.\n",
    "\n",
    "Several genes exhibit strong differential expression between the two conditions — for instance, some genes display clear shifts in expression levels, supporting their discriminative power. This validates their inclusion in the model and highlights their potential biological relevance in hypoxia response mechanisms.\n",
    "\n",
    "The consistency of these patterns reinforces confidence in the robustness of the supervised model and the biological validity of the selected features."
   ]
  },
  {
   "cell_type": "markdown",
   "id": "0760d375",
   "metadata": {},
   "source": [
    "### **5.2.** ***DropSeq***"
   ]
  },
  {
   "cell_type": "markdown",
   "id": "6e60aa86",
   "metadata": {},
   "source": [
    "#### **5.2.1.** Over - Representation Analysis"
   ]
  },
  {
   "cell_type": "code",
   "execution_count": 52,
   "id": "af52c006",
   "metadata": {},
   "outputs": [
    {
     "name": "stdout",
     "output_type": "stream",
     "text": [
      "\n",
      "=== MSigDB_Hallmark ===\n"
     ]
    },
    {
     "data": {
      "text/html": [
       "<div>\n",
       "<style scoped>\n",
       "    .dataframe tbody tr th:only-of-type {\n",
       "        vertical-align: middle;\n",
       "    }\n",
       "\n",
       "    .dataframe tbody tr th {\n",
       "        vertical-align: top;\n",
       "    }\n",
       "\n",
       "    .dataframe thead th {\n",
       "        text-align: right;\n",
       "    }\n",
       "</style>\n",
       "<table border=\"1\" class=\"dataframe\">\n",
       "  <thead>\n",
       "    <tr style=\"text-align: right;\">\n",
       "      <th></th>\n",
       "      <th>Term</th>\n",
       "      <th>Overlap</th>\n",
       "      <th>Adjusted P-value</th>\n",
       "      <th>Genes</th>\n",
       "    </tr>\n",
       "  </thead>\n",
       "  <tbody>\n",
       "    <tr>\n",
       "      <th>6</th>\n",
       "      <td>HALLMARK_GLYCOLYSIS</td>\n",
       "      <td>4/200</td>\n",
       "      <td>0.005714</td>\n",
       "      <td>TPI1;PKM;PGK1;ENO1</td>\n",
       "    </tr>\n",
       "    <tr>\n",
       "      <th>7</th>\n",
       "      <td>HALLMARK_HYPOXIA</td>\n",
       "      <td>4/200</td>\n",
       "      <td>0.005714</td>\n",
       "      <td>GAPDH;TPI1;PGK1;ENO1</td>\n",
       "    </tr>\n",
       "    <tr>\n",
       "      <th>8</th>\n",
       "      <td>HALLMARK_MTORC1_SIGNALING</td>\n",
       "      <td>4/200</td>\n",
       "      <td>0.005714</td>\n",
       "      <td>GAPDH;TPI1;PGK1;ENO1</td>\n",
       "    </tr>\n",
       "    <tr>\n",
       "      <th>9</th>\n",
       "      <td>HALLMARK_MYC_TARGETS_V1</td>\n",
       "      <td>3/200</td>\n",
       "      <td>0.041696</td>\n",
       "      <td>RPL34;RPS5;PGK1</td>\n",
       "    </tr>\n",
       "    <tr>\n",
       "      <th>3</th>\n",
       "      <td>HALLMARK_ESTROGEN_RESPONSE_EARLY</td>\n",
       "      <td>2/200</td>\n",
       "      <td>0.185561</td>\n",
       "      <td>KRT19;TFF1</td>\n",
       "    </tr>\n",
       "  </tbody>\n",
       "</table>\n",
       "</div>"
      ],
      "text/plain": [
       "                               Term Overlap  Adjusted P-value  \\\n",
       "6               HALLMARK_GLYCOLYSIS   4/200          0.005714   \n",
       "7                  HALLMARK_HYPOXIA   4/200          0.005714   \n",
       "8         HALLMARK_MTORC1_SIGNALING   4/200          0.005714   \n",
       "9           HALLMARK_MYC_TARGETS_V1   3/200          0.041696   \n",
       "3  HALLMARK_ESTROGEN_RESPONSE_EARLY   2/200          0.185561   \n",
       "\n",
       "                  Genes  \n",
       "6    TPI1;PKM;PGK1;ENO1  \n",
       "7  GAPDH;TPI1;PGK1;ENO1  \n",
       "8  GAPDH;TPI1;PGK1;ENO1  \n",
       "9       RPL34;RPS5;PGK1  \n",
       "3            KRT19;TFF1  "
      ]
     },
     "metadata": {},
     "output_type": "display_data"
    },
    {
     "name": "stdout",
     "output_type": "stream",
     "text": [
      "\n",
      "=== GO_BP ===\n"
     ]
    },
    {
     "data": {
      "text/html": [
       "<div>\n",
       "<style scoped>\n",
       "    .dataframe tbody tr th:only-of-type {\n",
       "        vertical-align: middle;\n",
       "    }\n",
       "\n",
       "    .dataframe tbody tr th {\n",
       "        vertical-align: top;\n",
       "    }\n",
       "\n",
       "    .dataframe thead th {\n",
       "        text-align: right;\n",
       "    }\n",
       "</style>\n",
       "<table border=\"1\" class=\"dataframe\">\n",
       "  <thead>\n",
       "    <tr style=\"text-align: right;\">\n",
       "      <th></th>\n",
       "      <th>Term</th>\n",
       "      <th>Overlap</th>\n",
       "      <th>Adjusted P-value</th>\n",
       "      <th>Genes</th>\n",
       "    </tr>\n",
       "  </thead>\n",
       "  <tbody>\n",
       "    <tr>\n",
       "      <th>69</th>\n",
       "      <td>GOBP_CYTOPLASMIC_TRANSLATION</td>\n",
       "      <td>9/171</td>\n",
       "      <td>5.120977e-12</td>\n",
       "      <td>RPS19;RPL15;RPL13;RPS14;RPL12;RPS5;PKM;RPL34;R...</td>\n",
       "    </tr>\n",
       "    <tr>\n",
       "      <th>423</th>\n",
       "      <td>GOBP_TRANSLATION</td>\n",
       "      <td>10/753</td>\n",
       "      <td>5.084974e-08</td>\n",
       "      <td>RPS19;RPL15;RPL13;GAPDH;RPS14;RPL12;RPS5;PKM;R...</td>\n",
       "    </tr>\n",
       "    <tr>\n",
       "      <th>94</th>\n",
       "      <td>GOBP_GLYCOLYTIC_PROCESS_THROUGH_GLUCOSE_6_PHOS...</td>\n",
       "      <td>4/22</td>\n",
       "      <td>5.792350e-07</td>\n",
       "      <td>TPI1;PKM;PGK1;ENO1</td>\n",
       "    </tr>\n",
       "    <tr>\n",
       "      <th>93</th>\n",
       "      <td>GOBP_GLYCOLYTIC_PROCESS_THROUGH_FRUCTOSE_6_PHO...</td>\n",
       "      <td>4/26</td>\n",
       "      <td>8.858053e-07</td>\n",
       "      <td>TPI1;PKM;PGK1;ENO1</td>\n",
       "    </tr>\n",
       "    <tr>\n",
       "      <th>90</th>\n",
       "      <td>GOBP_GLUCOSE_CATABOLIC_PROCESS</td>\n",
       "      <td>4/30</td>\n",
       "      <td>1.296021e-06</td>\n",
       "      <td>TPI1;PKM;PGK1;ENO1</td>\n",
       "    </tr>\n",
       "  </tbody>\n",
       "</table>\n",
       "</div>"
      ],
      "text/plain": [
       "                                                  Term Overlap  \\\n",
       "69                        GOBP_CYTOPLASMIC_TRANSLATION   9/171   \n",
       "423                                   GOBP_TRANSLATION  10/753   \n",
       "94   GOBP_GLYCOLYTIC_PROCESS_THROUGH_GLUCOSE_6_PHOS...    4/22   \n",
       "93   GOBP_GLYCOLYTIC_PROCESS_THROUGH_FRUCTOSE_6_PHO...    4/26   \n",
       "90                      GOBP_GLUCOSE_CATABOLIC_PROCESS    4/30   \n",
       "\n",
       "     Adjusted P-value                                              Genes  \n",
       "69       5.120977e-12  RPS19;RPL15;RPL13;RPS14;RPL12;RPS5;PKM;RPL34;R...  \n",
       "423      5.084974e-08  RPS19;RPL15;RPL13;GAPDH;RPS14;RPL12;RPS5;PKM;R...  \n",
       "94       5.792350e-07                                 TPI1;PKM;PGK1;ENO1  \n",
       "93       8.858053e-07                                 TPI1;PKM;PGK1;ENO1  \n",
       "90       1.296021e-06                                 TPI1;PKM;PGK1;ENO1  "
      ]
     },
     "metadata": {},
     "output_type": "display_data"
    }
   ],
   "source": [
    "paths = {\n",
    "    \"MSigDB_Hallmark\": \"../Data/MSigDB_Hallmark.gmt\",\n",
    "    \"GO_BP\":  \"../Data/GO_BP.gmt\",\n",
    "}\n",
    "\n",
    "for name, p in paths.items():\n",
    "    enr = gp.enrichr(\n",
    "        gene_list=stable_genes_drop,\n",
    "        gene_sets=p,          # point to one local GMT file\n",
    "        organism='Human',\n",
    "        outdir=None,\n",
    "        cutoff=0.05\n",
    "    )\n",
    "    df_drop = enr.results.sort_values(\"Adjusted P-value\")\n",
    "    print(f\"\\n=== {name} ===\")\n",
    "    display(df_drop[['Term','Overlap','Adjusted P-value','Genes']].head(5))"
   ]
  },
  {
   "cell_type": "markdown",
   "id": "e0e63118",
   "metadata": {},
   "source": [
    "The enrichment results revealed a **strong and coherent biological signal**, with the most significant terms involving **glycolysis and related metabolic pathways**, all highly relevant to cellular adaptation to hypoxia.\n",
    "\n",
    "These results validate that the genes identified through statistical and machine learning-based selection:\n",
    "\n",
    "- Are **biologically coherent** and not arbitrarily selected.\n",
    "- Reflect **hypoxia-driven metabolic rewiring**, consistent with the cell line context.\n",
    "- Overlap meaningfully with key metabolic and stress-response pathways, just like in the Smart-seq dataset.\n"
   ]
  },
  {
   "cell_type": "markdown",
   "id": "70c50875",
   "metadata": {},
   "source": [
    "#### **5.2.2.** Comparison with Buffa's Signature"
   ]
  },
  {
   "cell_type": "code",
   "execution_count": 53,
   "id": "47de7b88",
   "metadata": {},
   "outputs": [
    {
     "name": "stdout",
     "output_type": "stream",
     "text": [
      "Overlap of 4 genes between our selected genes and Buffa genes:\n",
      "['ENO1', 'GAPDH', 'PGK1', 'TPI1']\n"
     ]
    }
   ],
   "source": [
    "gene_names_in_dataset = set(stable_genes_drop)\n",
    "\n",
    "# Convert BUFFA gene list to a set\n",
    "buffa_set = set(buffa_genes)\n",
    "\n",
    "# Compute intersection with your dataset\n",
    "found_genes = list(buffa_set & gene_names_in_dataset)\n",
    "\n",
    "print(f\"Overlap of {len(found_genes)} genes between our selected genes and Buffa genes:\")\n",
    "print(sorted(found_genes))"
   ]
  },
  {
   "cell_type": "markdown",
   "id": "31b2c448",
   "metadata": {},
   "source": [
    "#### **5.2.3.** Expression Patterns of Top Stable Genes\n",
    "The violin plots below show the expression of the top 6 genes selected by the Drop-seq feature selection pipeline."
   ]
  },
  {
   "cell_type": "code",
   "execution_count": 54,
   "id": "bd0c11e4",
   "metadata": {},
   "outputs": [
    {
     "data": {
      "image/png": "[encoded data removed]",
      "text/plain": [
       "<Figure size 1200x800 with 6 Axes>"
      ]
     },
     "metadata": {},
     "output_type": "display_data"
    }
   ],
   "source": [
    "# Prepare merged DataFrame\n",
    "Xd_vis = X_mcf_drop[stable_genes_drop].copy()\n",
    "Xd_vis[\"Label\"] = y_mcf_drop\n",
    "\n",
    "# Choose top N genes to visualize\n",
    "top_genes_drop = stable_genes_drop[:6]  # or sort by RF importance\n",
    "\n",
    "# Plot\n",
    "ncols = 3\n",
    "nrows = -(-len(top_genes_drop) // ncols)  # ceiling division\n",
    "fig, axes = plt.subplots(nrows=nrows, ncols=ncols, figsize=(4*ncols, 4*nrows))\n",
    "\n",
    "for i, gene in enumerate(top_genes_drop):\n",
    "    ax = axes.flat[i]\n",
    "    sns.violinplot(x=\"Label\", y=gene, hue=\"Label\", data=Xd_vis,\n",
    "                   ax=ax, inner=\"box\", palette=\"Set2\", legend=False)\n",
    "    ax.set_title(gene)\n",
    "    ax.set_xlabel(\"Condition\")\n",
    "    ax.set_ylabel(\"Expression\")\n",
    "\n",
    "# Remove any unused subplots\n",
    "for j in range(i + 1, len(axes.flat)):\n",
    "    fig.delaxes(axes.flat[j])\n",
    "\n",
    "fig.suptitle(\"Expression of Top Stable Genes by Condition (Drop-seq)\", fontsize=14, y=1.02)\n",
    "plt.tight_layout()\n",
    "plt.show()"
   ]
  },
  {
   "cell_type": "markdown",
   "id": "41ce8db6",
   "metadata": {},
   "source": [
    "Each violin plot visualizes the expression distribution of a top stable gene across the two conditions: **Normoxia (0)** and **Hypoxia (1)**. The shaded violins illustrate density, while the inner boxplots capture median and interquartile range.\n",
    "\n",
    "These patterns align with the model’s feature selection and support the stability-based strategy used, highlighting genes with consistent and biologically interpretable shifts between conditions.\n"
   ]
  },
  {
   "cell_type": "markdown",
   "id": "59168f46",
   "metadata": {},
   "source": [
    "## **6.** Model Training and Evaluation\n",
    "---"
   ]
  },
  {
   "cell_type": "markdown",
   "id": "cab1837f",
   "metadata": {},
   "source": [
    "We benchmark five supervised classifiers on our final gene signature:\n",
    "\n",
    "- **Logistic Regression**  \n",
    "- **Support Vector Machine (SVM)**  \n",
    "- **K‐Nearest Neighbors (KNN)**  \n",
    "- **Multi‐Layer Perceptron (MLP)**  \n",
    "- **XGBoost**\n",
    "\n",
    "Each model is evaluated with **5-fold stratified cross-validation** on the training set, then assessed once on the held-out validation set.  Our evaluation criteria include:\n",
    "\n",
    "- **ROC AUC** (discrimination capacity)  \n",
    "  - ROC AUC remains valuable because it is threshold-independent and robust to class imbalance.  \n",
    "- **Accuracy, Precision, Recall, F1 Score**  \n",
    "  - Provide complementary views on overall correctness (Accuracy), positive-class focus (Precision), sensitivity (Recall), and their harmonic mean (F1).  \n",
    "- **Confusion Matrix**  \n",
    "  - Illustrates class-specific error patterns for deeper error analysis.\n",
    "\n",
    "**Implementation details**  \n",
    "- Models that are sensitive to feature scale (Logistic, SVM, KNN, MLP) are wrapped in a `Pipeline` with `StandardScaler()`.  \n",
    "- Hyperparameters for each model are tuned via inner 5-fold `GridSearchCV` (scoring=`roc_auc`).  \n",
    "- After cross-validation, the best hyperparameter setting is used to retrain each model on the full training set and then saved for downstream application.\n",
    "\n",
    "This unified framework ensures a fair comparison across linear, distance-based, neural, and tree-based models, allowing us to select the classifier with the strongest and most reliable performance.  \n"
   ]
  },
  {
   "cell_type": "markdown",
   "id": "09831b95",
   "metadata": {},
   "source": [
    "### **6.1.** ***SmartSeq***"
   ]
  },
  {
   "cell_type": "code",
   "execution_count": 55,
   "id": "38b25457",
   "metadata": {},
   "outputs": [],
   "source": [
    "\n",
    "def evaluate_model(model, param_grid, X, y, name=\"Model\", scale=False,\n",
    "                   save=False, refit=True, save_path=\"Models_smart\", cv_folds=5):\n",
    "\n",
    "    print(f\"\\n Evaluating: {name}\")\n",
    "\n",
    "    # Build pipeline\n",
    "    steps = []\n",
    "    if scale:\n",
    "        steps.append((\"scaler\", StandardScaler()))\n",
    "    steps.append((\"clf\", model))\n",
    "    base_pipe = Pipeline(steps)\n",
    "\n",
    "    # Hyperparameter tuning on full CV folds\n",
    "    grid = GridSearchCV(base_pipe, param_grid, cv=cv_folds,\n",
    "                        scoring=\"roc_auc\", n_jobs=-1, verbose=1, refit=True)\n",
    "    grid.fit(X, y)\n",
    "    best_model = grid.best_estimator_\n",
    "    print(f\" Best params: {grid.best_params_}\")\n",
    "\n",
    "    # Nested CV: outer CV for metrics, inner CV for tuning\n",
    "    skf = StratifiedKFold(n_splits=cv_folds, shuffle=True, random_state=42)\n",
    "\n",
    "    # Cross-validated predictions\n",
    "    y_pred = cross_val_predict(best_model, X, y, cv=skf)\n",
    "    y_proba = cross_val_predict(best_model, X, y, cv=skf, method='predict_proba')[:, 1]\n",
    "\n",
    "    # Metrics\n",
    "    metrics = {\n",
    "        \"Model\": name,\n",
    "        \"Best Params\": grid.best_params_,\n",
    "        \"F1 Score\": f1_score(y, y_pred),\n",
    "        \"Accuracy\": accuracy_score(y, y_pred),\n",
    "        \"Precision\": precision_score(y, y_pred),\n",
    "        \"Recall\": recall_score(y, y_pred),\n",
    "        \"ROC AUC\": roc_auc_score(y, y_proba),\n",
    "        \"Confusion Matrix\": confusion_matrix(y, y_pred)\n",
    "    }\n",
    "\n",
    "    # Display results\n",
    "    for k, v in metrics.items():\n",
    "        if k != \"Confusion Matrix\":\n",
    "            if isinstance(v, (float, int)):\n",
    "                print(f\"{k:15}: {v:.4f}\")\n",
    "            else:\n",
    "                print(f\"{k:15}: {v}\")\n",
    "                \n",
    "    # Refit and save the model\n",
    "    suffix = \"MCF\"\n",
    "    if refit:\n",
    "        best_model.fit(X, y)\n",
    "        if save:\n",
    "            os.makedirs(save_path, exist_ok=True)\n",
    "            filename = f\"{name}.{suffix}.pkl\"\n",
    "            filepath = Path(save_path) / filename\n",
    "            with open(filepath, \"wb\") as f:\n",
    "                pickle.dump(best_model, f)\n",
    "            print(f\"Model saved to {filepath}\")\n",
    "\n",
    "    return best_model, metrics"
   ]
  },
  {
   "cell_type": "code",
   "execution_count": 56,
   "id": "177d9305",
   "metadata": {},
   "outputs": [
    {
     "name": "stdout",
     "output_type": "stream",
     "text": [
      "\n",
      " Evaluating: Logistic\n",
      "Fitting 5 folds for each of 4 candidates, totalling 20 fits\n",
      " Best params: {'clf__C': 0.01}\n",
      "Model          : Logistic\n",
      "Best Params    : {'clf__C': 0.01}\n",
      "F1 Score       : 0.9950\n",
      "Accuracy       : 0.9950\n",
      "Precision      : 0.9900\n",
      "Recall         : 1.0000\n",
      "ROC AUC        : 1.0000\n",
      "Model saved to Models_smart/Logistic.MCF.pkl\n",
      "\n",
      " Evaluating: SVM\n",
      "Fitting 5 folds for each of 6 candidates, totalling 30 fits\n",
      " Best params: {'clf__C': 0.1, 'clf__kernel': 'linear'}\n",
      "Model          : SVM\n",
      "Best Params    : {'clf__C': 0.1, 'clf__kernel': 'linear'}\n",
      "F1 Score       : 1.0000\n",
      "Accuracy       : 1.0000\n",
      "Precision      : 1.0000\n",
      "Recall         : 1.0000\n",
      "ROC AUC        : 1.0000\n",
      "Model saved to Models_smart/SVM.MCF.pkl\n",
      "\n",
      " Evaluating: KNN\n",
      "Fitting 5 folds for each of 4 candidates, totalling 20 fits\n",
      " Best params: {'clf__n_neighbors': 3}\n",
      "Model          : KNN\n",
      "Best Params    : {'clf__n_neighbors': 3}\n",
      "F1 Score       : 1.0000\n",
      "Accuracy       : 1.0000\n",
      "Precision      : 1.0000\n",
      "Recall         : 1.0000\n",
      "ROC AUC        : 1.0000\n",
      "Model saved to Models_smart/KNN.MCF.pkl\n",
      "\n",
      " Evaluating: MLP\n",
      "Fitting 5 folds for each of 6 candidates, totalling 30 fits\n",
      " Best params: {'clf__alpha': 0.0001, 'clf__hidden_layer_sizes': (16,)}\n",
      "Model          : MLP\n",
      "Best Params    : {'clf__alpha': 0.0001, 'clf__hidden_layer_sizes': (16,)}\n",
      "F1 Score       : 1.0000\n",
      "Accuracy       : 1.0000\n",
      "Precision      : 1.0000\n",
      "Recall         : 1.0000\n",
      "ROC AUC        : 1.0000\n",
      "Model saved to Models_smart/MLP.MCF.pkl\n",
      "\n",
      " Evaluating: XGBoost\n",
      "Fitting 5 folds for each of 9 candidates, totalling 45 fits\n",
      " Best params: {'clf__max_depth': 3, 'clf__n_estimators': 50}\n",
      "Model          : XGBoost\n",
      "Best Params    : {'clf__max_depth': 3, 'clf__n_estimators': 50}\n",
      "F1 Score       : 0.9798\n",
      "Accuracy       : 0.9800\n",
      "Precision      : 0.9798\n",
      "Recall         : 0.9798\n",
      "ROC AUC        : 0.9990\n",
      "Model saved to Models_smart/XGBoost.MCF.pkl\n",
      "\n",
      " Summary of All Model Results:\n"
     ]
    },
    {
     "data": {
      "text/html": [
       "<style type=\"text/css\">\n",
       "#T_c440e_row0_col5, #T_c440e_row0_col6, #T_c440e_row1_col2, #T_c440e_row1_col3, #T_c440e_row1_col4 {\n",
       "  background-color: #7bc800;\n",
       "}\n",
       "</style>\n",
       "<table id=\"T_c440e\">\n",
       "  <thead>\n",
       "    <tr>\n",
       "      <th class=\"blank level0\" >&nbsp;</th>\n",
       "      <th id=\"T_c440e_level0_col0\" class=\"col_heading level0 col0\" >Model</th>\n",
       "      <th id=\"T_c440e_level0_col1\" class=\"col_heading level0 col1\" >Best Params</th>\n",
       "      <th id=\"T_c440e_level0_col2\" class=\"col_heading level0 col2\" >F1 Score</th>\n",
       "      <th id=\"T_c440e_level0_col3\" class=\"col_heading level0 col3\" >Accuracy</th>\n",
       "      <th id=\"T_c440e_level0_col4\" class=\"col_heading level0 col4\" >Precision</th>\n",
       "      <th id=\"T_c440e_level0_col5\" class=\"col_heading level0 col5\" >Recall</th>\n",
       "      <th id=\"T_c440e_level0_col6\" class=\"col_heading level0 col6\" >ROC AUC</th>\n",
       "    </tr>\n",
       "  </thead>\n",
       "  <tbody>\n",
       "    <tr>\n",
       "      <th id=\"T_c440e_level0_row0\" class=\"row_heading level0 row0\" >0</th>\n",
       "      <td id=\"T_c440e_row0_col0\" class=\"data row0 col0\" >Logistic</td>\n",
       "      <td id=\"T_c440e_row0_col1\" class=\"data row0 col1\" >{'clf__C': 0.01}</td>\n",
       "      <td id=\"T_c440e_row0_col2\" class=\"data row0 col2\" >0.994975</td>\n",
       "      <td id=\"T_c440e_row0_col3\" class=\"data row0 col3\" >0.995000</td>\n",
       "      <td id=\"T_c440e_row0_col4\" class=\"data row0 col4\" >0.990000</td>\n",
       "      <td id=\"T_c440e_row0_col5\" class=\"data row0 col5\" >1.000000</td>\n",
       "      <td id=\"T_c440e_row0_col6\" class=\"data row0 col6\" >1.000000</td>\n",
       "    </tr>\n",
       "    <tr>\n",
       "      <th id=\"T_c440e_level0_row1\" class=\"row_heading level0 row1\" >1</th>\n",
       "      <td id=\"T_c440e_row1_col0\" class=\"data row1 col0\" >SVM</td>\n",
       "      <td id=\"T_c440e_row1_col1\" class=\"data row1 col1\" >{'clf__C': 0.1, 'clf__kernel': 'linear'}</td>\n",
       "      <td id=\"T_c440e_row1_col2\" class=\"data row1 col2\" >1.000000</td>\n",
       "      <td id=\"T_c440e_row1_col3\" class=\"data row1 col3\" >1.000000</td>\n",
       "      <td id=\"T_c440e_row1_col4\" class=\"data row1 col4\" >1.000000</td>\n",
       "      <td id=\"T_c440e_row1_col5\" class=\"data row1 col5\" >1.000000</td>\n",
       "      <td id=\"T_c440e_row1_col6\" class=\"data row1 col6\" >1.000000</td>\n",
       "    </tr>\n",
       "    <tr>\n",
       "      <th id=\"T_c440e_level0_row2\" class=\"row_heading level0 row2\" >2</th>\n",
       "      <td id=\"T_c440e_row2_col0\" class=\"data row2 col0\" >KNN</td>\n",
       "      <td id=\"T_c440e_row2_col1\" class=\"data row2 col1\" >{'clf__n_neighbors': 3}</td>\n",
       "      <td id=\"T_c440e_row2_col2\" class=\"data row2 col2\" >1.000000</td>\n",
       "      <td id=\"T_c440e_row2_col3\" class=\"data row2 col3\" >1.000000</td>\n",
       "      <td id=\"T_c440e_row2_col4\" class=\"data row2 col4\" >1.000000</td>\n",
       "      <td id=\"T_c440e_row2_col5\" class=\"data row2 col5\" >1.000000</td>\n",
       "      <td id=\"T_c440e_row2_col6\" class=\"data row2 col6\" >1.000000</td>\n",
       "    </tr>\n",
       "    <tr>\n",
       "      <th id=\"T_c440e_level0_row3\" class=\"row_heading level0 row3\" >3</th>\n",
       "      <td id=\"T_c440e_row3_col0\" class=\"data row3 col0\" >MLP</td>\n",
       "      <td id=\"T_c440e_row3_col1\" class=\"data row3 col1\" >{'clf__alpha': 0.0001, 'clf__hidden_layer_sizes': (16,)}</td>\n",
       "      <td id=\"T_c440e_row3_col2\" class=\"data row3 col2\" >1.000000</td>\n",
       "      <td id=\"T_c440e_row3_col3\" class=\"data row3 col3\" >1.000000</td>\n",
       "      <td id=\"T_c440e_row3_col4\" class=\"data row3 col4\" >1.000000</td>\n",
       "      <td id=\"T_c440e_row3_col5\" class=\"data row3 col5\" >1.000000</td>\n",
       "      <td id=\"T_c440e_row3_col6\" class=\"data row3 col6\" >1.000000</td>\n",
       "    </tr>\n",
       "    <tr>\n",
       "      <th id=\"T_c440e_level0_row4\" class=\"row_heading level0 row4\" >4</th>\n",
       "      <td id=\"T_c440e_row4_col0\" class=\"data row4 col0\" >XGBoost</td>\n",
       "      <td id=\"T_c440e_row4_col1\" class=\"data row4 col1\" >{'clf__max_depth': 3, 'clf__n_estimators': 50}</td>\n",
       "      <td id=\"T_c440e_row4_col2\" class=\"data row4 col2\" >0.979798</td>\n",
       "      <td id=\"T_c440e_row4_col3\" class=\"data row4 col3\" >0.980000</td>\n",
       "      <td id=\"T_c440e_row4_col4\" class=\"data row4 col4\" >0.979798</td>\n",
       "      <td id=\"T_c440e_row4_col5\" class=\"data row4 col5\" >0.979798</td>\n",
       "      <td id=\"T_c440e_row4_col6\" class=\"data row4 col6\" >0.999000</td>\n",
       "    </tr>\n",
       "  </tbody>\n",
       "</table>\n"
      ],
      "text/plain": [
       "<pandas.io.formats.style.Styler at 0x34bfce300>"
      ]
     },
     "metadata": {},
     "output_type": "display_data"
    }
   ],
   "source": [
    "# Define models and whether to scale\n",
    "models = {\n",
    "    \"Logistic\": LogisticRegression(solver=\"saga\", max_iter=5000),\n",
    "    \"SVM\": SVC(probability=True),\n",
    "    \"KNN\": KNeighborsClassifier(),\n",
    "    \"MLP\": MLPClassifier(max_iter=1000),\n",
    "    \"XGBoost\": XGBClassifier(eval_metric='logloss'),\n",
    "}\n",
    "\n",
    "param_grids = {\n",
    "    \"Logistic\": {\"clf__C\": [0.01, 0.1, 1, 10]},\n",
    "    \"SVM\":      {\"clf__C\": [0.1, 1, 10], \"clf__kernel\": [\"linear\", \"rbf\"]},\n",
    "    \"KNN\":      {\"clf__n_neighbors\": [3, 5, 7, 9]},\n",
    "    \"MLP\":      {\"clf__hidden_layer_sizes\": [(16,), (32,), (64,)], \"clf__alpha\": [1e-4, 1e-3]},\n",
    "    \"XGBoost\":  {\"clf__n_estimators\": [50, 100, 200], \"clf__max_depth\": [3, 5, 7]}\n",
    "}\n",
    "\n",
    "results_smart = []\n",
    "fitted_models = {}\n",
    "for name, model in models.items():\n",
    "    scale = name != \"XGBoost\"\n",
    "    best_clf, metrics = evaluate_model(\n",
    "        model=model,\n",
    "        param_grid=param_grids[name],\n",
    "        X=Xs_train_log[stable_genes_smart],  # or final_transferable_genes\n",
    "        y=ys_train,\n",
    "        name=name,\n",
    "        scale=scale,\n",
    "        save=True,\n",
    "        refit=True,\n",
    "        save_path=\"Models_smart\",\n",
    "        cv_folds=5\n",
    "    )\n",
    "    results_smart.append(metrics)\n",
    "    fitted_models[name] = best_clf\n",
    "\n",
    "# Display summary\n",
    "dfs_results = pd.DataFrame(results_smart).drop(columns=[\"Confusion Matrix\"])\n",
    "print(\"\\n Summary of All Model Results:\")\n",
    "def highlight_single_best(col):\n",
    "    max_idx = col.values.argmax()\n",
    "    return ['background-color: #7bc800' if i == max_idx else '' for i in range(len(col))]\n",
    "\n",
    "styled = dfs_results.style.apply(\n",
    "    highlight_single_best,\n",
    "    subset=[\"F1 Score\", \"Accuracy\", \"Precision\", \"Recall\", \"ROC AUC\"],\n",
    "    axis=0  # apply column-wise\n",
    ")\n",
    "\n",
    "display(styled)"
   ]
  },
  {
   "cell_type": "code",
   "execution_count": 57,
   "id": "e545a564",
   "metadata": {},
   "outputs": [
    {
     "name": "stdout",
     "output_type": "stream",
     "text": [
      "\n",
      "\n",
      "--- Final Evaluation on Held-Out Validation Set ---\n",
      "\n",
      "Logistic:\n",
      "F1 Score      : 1.0000\n",
      "Accuracy      : 1.0000\n",
      "Precision     : 1.0000\n",
      "Recall        : 1.0000\n",
      "ROC AUC       : 1.0000\n",
      "Confusion Mat :\n",
      "[[25  0]\n",
      " [ 0 25]]\n",
      "\n",
      "SVM:\n",
      "F1 Score      : 0.9796\n",
      "Accuracy      : 0.9800\n",
      "Precision     : 1.0000\n",
      "Recall        : 0.9600\n",
      "ROC AUC       : 1.0000\n",
      "Confusion Mat :\n",
      "[[25  0]\n",
      " [ 1 24]]\n",
      "\n",
      "KNN:\n",
      "F1 Score      : 1.0000\n",
      "Accuracy      : 1.0000\n",
      "Precision     : 1.0000\n",
      "Recall        : 1.0000\n",
      "ROC AUC       : 1.0000\n",
      "Confusion Mat :\n",
      "[[25  0]\n",
      " [ 0 25]]\n",
      "\n",
      "MLP:\n",
      "F1 Score      : 0.9796\n",
      "Accuracy      : 0.9800\n",
      "Precision     : 1.0000\n",
      "Recall        : 0.9600\n",
      "ROC AUC       : 1.0000\n",
      "Confusion Mat :\n",
      "[[25  0]\n",
      " [ 1 24]]\n",
      "\n",
      "XGBoost:\n",
      "F1 Score      : 1.0000\n",
      "Accuracy      : 1.0000\n",
      "Precision     : 1.0000\n",
      "Recall        : 1.0000\n",
      "ROC AUC       : 1.0000\n",
      "Confusion Mat :\n",
      "[[25  0]\n",
      " [ 0 25]]\n"
     ]
    }
   ],
   "source": [
    "print(\"\\n\\n--- Final Evaluation on Held-Out Validation Set ---\")\n",
    "for name, pipeline in fitted_models.items():\n",
    "    print(f\"\\n{name}:\")\n",
    "    # pipeline includes scaler if needed\n",
    "    X_val = Xs_val_log[stable_genes_smart]\n",
    "    y_pred = pipeline.predict(X_val)\n",
    "    y_proba = pipeline.predict_proba(X_val)[:, 1]\n",
    "\n",
    "    print(f\"F1 Score      : {f1_score(ys_val, y_pred):.4f}\")\n",
    "    print(f\"Accuracy      : {accuracy_score(ys_val, y_pred):.4f}\")\n",
    "    print(f\"Precision     : {precision_score(ys_val, y_pred):.4f}\")\n",
    "    print(f\"Recall        : {recall_score(ys_val, y_pred):.4f}\")\n",
    "    print(f\"ROC AUC       : {roc_auc_score(ys_val, y_proba):.4f}\")\n",
    "    print(f\"Confusion Mat :\\n{confusion_matrix(ys_val, y_pred)}\")"
   ]
  },
  {
   "cell_type": "code",
   "execution_count": 58,
   "id": "8e2bab55",
   "metadata": {},
   "outputs": [
    {
     "data": {
      "image/png": "[encoded data removed]",
      "text/plain": [
       "<Figure size 400x300 with 2 Axes>"
      ]
     },
     "metadata": {},
     "output_type": "display_data"
    },
    {
     "data": {
      "image/png": "[encoded data removed]",
      "text/plain": [
       "<Figure size 400x300 with 2 Axes>"
      ]
     },
     "metadata": {},
     "output_type": "display_data"
    },
    {
     "data": {
      "image/png": "[encoded data removed]",
      "text/plain": [
       "<Figure size 400x300 with 2 Axes>"
      ]
     },
     "metadata": {},
     "output_type": "display_data"
    },
    {
     "data": {
      "image/png": "[encoded data removed]",
      "text/plain": [
       "<Figure size 400x300 with 2 Axes>"
      ]
     },
     "metadata": {},
     "output_type": "display_data"
    },
    {
     "data": {
      "image/png": "[encoded data removed]",
      "text/plain": [
       "<Figure size 400x300 with 2 Axes>"
      ]
     },
     "metadata": {},
     "output_type": "display_data"
    }
   ],
   "source": [
    "# Show confusion matrices after evaluation\n",
    "for result in results_smart:\n",
    "    cm = result[\"Confusion Matrix\"]\n",
    "    model_name = result[\"Model\"]\n",
    "    \n",
    "    plt.figure(figsize=(4, 3))\n",
    "    sns.heatmap(cm, annot=True, fmt='d', cmap='Blues')\n",
    "    plt.title(f\"{model_name} - Confusion Matrix\")\n",
    "    plt.xlabel(\"Predicted\")\n",
    "    plt.ylabel(\"True\")\n",
    "    plt.tight_layout()\n",
    "    plt.show()"
   ]
  },
  {
   "cell_type": "markdown",
   "id": "e2d0a1ab",
   "metadata": {},
   "source": [
    "#### - *Further Checks*\n",
    "To ensure that this high accuracy did not result from overfitting or unintended data leakage, we performed two negative‐control experiments:"
   ]
  },
  {
   "cell_type": "markdown",
   "id": "4b502b1b",
   "metadata": {},
   "source": [
    " - **Full Label Shuffling (Permutation Test)**:\n",
    "  We permuted the training labels at random—i.e. replaced the true hypoxia/normoxia assignments with a randomly shuffled version—and reran 5-fold cross‐validation. If our model were simply memorizing idiosyncratic patterns in the features (rather than learning a genuine gene–label relationship), it would still achieve high AUC even on random labels."
   ]
  },
  {
   "cell_type": "code",
   "execution_count": 59,
   "id": "06c5efce",
   "metadata": {},
   "outputs": [
    {
     "name": "stdout",
     "output_type": "stream",
     "text": [
      "\n",
      " Evaluating: Shuffled_Logistic\n",
      "Fitting 5 folds for each of 4 candidates, totalling 20 fits\n",
      " Best params: {'clf__C': 0.01}\n",
      "Model          : Shuffled_Logistic\n",
      "Best Params    : {'clf__C': 0.01}\n",
      "F1 Score       : 0.4916\n",
      "Accuracy       : 0.5450\n",
      "Precision      : 0.5500\n",
      "Recall         : 0.4444\n",
      "ROC AUC        : 0.5492\n"
     ]
    }
   ],
   "source": [
    "# 1. Shuffle the labels\n",
    "y_shuffled = np.random.permutation(ys_train)\n",
    "\n",
    "# 2. Evaluate on shuffled labels (no save, no refit)\n",
    "shuffled_clf, shuffled_metrics = evaluate_model(\n",
    "    model=LogisticRegression(solver=\"saga\", max_iter=5000),\n",
    "    param_grid=param_grids[\"Logistic\"],            # your Logistic grid\n",
    "    X=Xs_train_log[stable_genes_smart],\n",
    "    y=y_shuffled,\n",
    "    name=\"Shuffled_Logistic\",\n",
    "    scale=True,\n",
    "    refit=False,\n",
    "    save=False,\n",
    "    save_path=\"Models_smart\",\n",
    "    cv_folds=5\n",
    ")"
   ]
  },
  {
   "cell_type": "markdown",
   "id": "cf8b62d5",
   "metadata": {},
   "source": [
    " - **Partial Label Corruption (Flip 10% and 30%)**. We next randomly flipped 10% of the training labels and re-evaluated the classifier.  \n",
    " We observed a marked drop in AUC and F1 once only 10% of labels were corrupted, and a further collapse when 30% were flipped. This graded degradation confirms that the model is genuinely fitting to the underlying biology (hypoxic gene‐expression patterns) rather than spurious noise."
   ]
  },
  {
   "cell_type": "code",
   "execution_count": 60,
   "id": "68e6eaf1",
   "metadata": {},
   "outputs": [
    {
     "name": "stdout",
     "output_type": "stream",
     "text": [
      "\n",
      "Performance with 10% label corruption:\n",
      "\n",
      " Evaluating: Logistic_Flipped\n",
      "Fitting 5 folds for each of 4 candidates, totalling 20 fits\n",
      " Best params: {'clf__C': 0.01}\n",
      "Model          : Logistic_Flipped\n",
      "Best Params    : {'clf__C': 0.01}\n",
      "F1 Score       : 0.8945\n",
      "Accuracy       : 0.8950\n",
      "Precision      : 0.8900\n",
      "Recall         : 0.8990\n",
      "ROC AUC        : 0.9218\n"
     ]
    }
   ],
   "source": [
    "def flip_labels(y, fraction=0.1, seed=42):\n",
    "    np.random.seed(seed)\n",
    "    y_flipped = y.copy()\n",
    "    n_flip = int(len(y) * fraction)\n",
    "    indices = np.random.choice(len(y), size=n_flip, replace=False)\n",
    "    y_flipped[indices] = 1 - y_flipped[indices]  \n",
    "    return y_flipped\n",
    "\n",
    "# Flip 10% of ys_train\n",
    "ys_train_flipped = flip_labels(ys_train, fraction=0.1)\n",
    "\n",
    "# Evaluate performance again with flipped labels\n",
    "model = LogisticRegression(max_iter=5000)\n",
    "\n",
    "print(\"\\nPerformance with 10% label corruption:\")\n",
    "clf_flipped, metrics_flipped = evaluate_model(\n",
    "    model=model,\n",
    "    param_grid=param_grids[\"Logistic\"],\n",
    "    X=Xs_train_log[stable_genes_smart],\n",
    "    y=ys_train_flipped,\n",
    "    name=\"Logistic_Flipped\",\n",
    "    scale=True,\n",
    "    save=False,\n",
    "    refit=False\n",
    ")"
   ]
  },
  {
   "cell_type": "code",
   "execution_count": 61,
   "id": "5852b10d",
   "metadata": {},
   "outputs": [
    {
     "name": "stdout",
     "output_type": "stream",
     "text": [
      "\n",
      " Evaluating: Logistic_Flipped_30\n",
      "Fitting 5 folds for each of 4 candidates, totalling 20 fits\n",
      " Best params: {'clf__C': 0.01}\n",
      "Model          : Logistic_Flipped_30\n",
      "Best Params    : {'clf__C': 0.01}\n",
      "F1 Score       : 0.7030\n",
      "Accuracy       : 0.7000\n",
      "Precision      : 0.7030\n",
      "Recall         : 0.7030\n",
      "ROC AUC        : 0.7093\n"
     ]
    }
   ],
   "source": [
    "ys_train_flipped_30 = flip_labels(ys_train, fraction=0.3)\n",
    "clf30, metrics30 = evaluate_model(\n",
    "    model=LogisticRegression(max_iter=5000),\n",
    "    param_grid=param_grids[\"Logistic\"],\n",
    "    X=Xs_train_log[stable_genes_smart],\n",
    "    y=ys_train_flipped_30,\n",
    "    name=\"Logistic_Flipped_30\",\n",
    "    scale=True,\n",
    "    save=False,\n",
    "    refit=False\n",
    ")"
   ]
  },
  {
   "cell_type": "code",
   "execution_count": 62,
   "id": "36a8846f",
   "metadata": {},
   "outputs": [],
   "source": [
    "del result  # avoid conflict with next loop"
   ]
  },
  {
   "cell_type": "markdown",
   "id": "e91c010a",
   "metadata": {},
   "source": [
    "### **6.2.** ***DropSeq***"
   ]
  },
  {
   "cell_type": "code",
   "execution_count": 63,
   "id": "338d6f7e",
   "metadata": {},
   "outputs": [],
   "source": [
    "\n",
    "def evaluate_model_drop(model, param_grid, X, y, name=\"Model\", scale=False,\n",
    "                   save=False, refit=True, save_path=\"Models_drop\", cv_folds=5):\n",
    "\n",
    "    print(f\"\\n Evaluating: {name}\")\n",
    "\n",
    "    # Build pipeline\n",
    "    steps = []\n",
    "    if scale:\n",
    "        steps.append((\"scaler\", StandardScaler()))\n",
    "    steps.append((\"clf\", model))\n",
    "    base_pipe = Pipeline(steps)\n",
    "\n",
    "    # Hyperparameter tuning on full CV folds\n",
    "    grid = GridSearchCV(base_pipe, param_grid, cv=cv_folds,\n",
    "                        scoring=\"roc_auc\", n_jobs=-1, verbose=1, refit=True)\n",
    "    grid.fit(X, y)\n",
    "    best_model = grid.best_estimator_\n",
    "    print(f\" Best params: {grid.best_params_}\")\n",
    "\n",
    "    # Nested CV: outer CV for metrics, inner CV for tuning\n",
    "    skf = StratifiedKFold(n_splits=cv_folds, shuffle=True, random_state=42)\n",
    "\n",
    "    # Cross-validated predictions\n",
    "    y_pred = cross_val_predict(best_model, X, y, cv=skf)\n",
    "    y_proba = cross_val_predict(best_model, X, y, cv=skf, method='predict_proba')[:, 1]\n",
    "\n",
    "    # Metrics\n",
    "    metrics = {\n",
    "        \"Model\": name,\n",
    "        \"Best Params\": grid.best_params_,\n",
    "        \"F1 Score\": f1_score(y, y_pred),\n",
    "        \"Accuracy\": accuracy_score(y, y_pred),\n",
    "        \"Precision\": precision_score(y, y_pred),\n",
    "        \"Recall\": recall_score(y, y_pred),\n",
    "        \"ROC AUC\": roc_auc_score(y, y_proba),\n",
    "        \"Confusion Matrix\": confusion_matrix(y, y_pred)\n",
    "    }\n",
    "\n",
    "    # Display results\n",
    "    for k, v in metrics.items():\n",
    "        if k != \"Confusion Matrix\":\n",
    "            if isinstance(v, (float, int)):\n",
    "                print(f\"{k:15}: {v:.4f}\")\n",
    "            else:\n",
    "                print(f\"{k:15}: {v}\")\n",
    "                \n",
    "    # Refit and save the model\n",
    "    suffix = \"MCF\"\n",
    "    if refit:\n",
    "        best_model.fit(X, y)\n",
    "        if save:\n",
    "            os.makedirs(save_path, exist_ok=True)\n",
    "            filename = f\"{name}.{suffix}.pkl\"\n",
    "            filepath = Path(save_path) / filename\n",
    "            with open(filepath, \"wb\") as f:\n",
    "                pickle.dump(best_model, f)\n",
    "            print(f\"Model saved to {filepath}\")\n",
    "\n",
    "    return best_model, metrics"
   ]
  },
  {
   "cell_type": "code",
   "execution_count": 64,
   "id": "0cecc824",
   "metadata": {},
   "outputs": [
    {
     "name": "stdout",
     "output_type": "stream",
     "text": [
      "\n",
      " Evaluating: Logistic\n",
      "Fitting 5 folds for each of 4 candidates, totalling 20 fits\n",
      " Best params: {'clf__C': 10}\n",
      "Model          : Logistic\n",
      "Best Params    : {'clf__C': 10}\n",
      "F1 Score       : 0.9410\n",
      "Accuracy       : 0.9518\n",
      "Precision      : 0.9509\n",
      "Recall         : 0.9313\n",
      "ROC AUC        : 0.9871\n",
      "Model saved to Models_drop/Logistic.MCF.pkl\n",
      "\n",
      " Evaluating: SVM\n",
      "Fitting 5 folds for each of 6 candidates, totalling 30 fits\n",
      " Best params: {'clf__C': 1, 'clf__kernel': 'rbf'}\n",
      "Model          : SVM\n",
      "Best Params    : {'clf__C': 1, 'clf__kernel': 'rbf'}\n",
      "F1 Score       : 0.9454\n",
      "Accuracy       : 0.9558\n",
      "Precision      : 0.9628\n",
      "Recall         : 0.9287\n",
      "ROC AUC        : 0.9892\n",
      "Model saved to Models_drop/SVM.MCF.pkl\n",
      "\n",
      " Evaluating: KNN\n",
      "Fitting 5 folds for each of 4 candidates, totalling 20 fits\n",
      " Best params: {'clf__n_neighbors': 9}\n",
      "Model          : KNN\n",
      "Best Params    : {'clf__n_neighbors': 9}\n",
      "F1 Score       : 0.9255\n",
      "Accuracy       : 0.9414\n",
      "Precision      : 0.9744\n",
      "Recall         : 0.8812\n",
      "ROC AUC        : 0.9775\n",
      "Model saved to Models_drop/KNN.MCF.pkl\n",
      "\n",
      " Evaluating: MLP\n",
      "Fitting 5 folds for each of 6 candidates, totalling 30 fits\n",
      " Best params: {'clf__alpha': 0.001, 'clf__hidden_layer_sizes': (16,)}\n",
      "Model          : MLP\n",
      "Best Params    : {'clf__alpha': 0.001, 'clf__hidden_layer_sizes': (16,)}\n",
      "F1 Score       : 0.9436\n",
      "Accuracy       : 0.9540\n",
      "Precision      : 0.9561\n",
      "Recall         : 0.9313\n",
      "ROC AUC        : 0.9889\n",
      "Model saved to Models_drop/MLP.MCF.pkl\n",
      "\n",
      " Evaluating: XGBoost\n",
      "Fitting 5 folds for each of 9 candidates, totalling 45 fits\n",
      " Best params: {'clf__max_depth': 3, 'clf__n_estimators': 200}\n",
      "Model          : XGBoost\n",
      "Best Params    : {'clf__max_depth': 3, 'clf__n_estimators': 200}\n",
      "F1 Score       : 0.9470\n",
      "Accuracy       : 0.9566\n",
      "Precision      : 0.9548\n",
      "Recall         : 0.9393\n",
      "ROC AUC        : 0.9902\n",
      "Model saved to Models_drop/XGBoost.MCF.pkl\n",
      "\n",
      " Summary of All Model Results:\n"
     ]
    },
    {
     "data": {
      "text/html": [
       "<style type=\"text/css\">\n",
       "#T_9d213_row2_col4, #T_9d213_row4_col2, #T_9d213_row4_col3, #T_9d213_row4_col5, #T_9d213_row4_col6 {\n",
       "  background-color: #7bc800;\n",
       "}\n",
       "</style>\n",
       "<table id=\"T_9d213\">\n",
       "  <thead>\n",
       "    <tr>\n",
       "      <th class=\"blank level0\" >&nbsp;</th>\n",
       "      <th id=\"T_9d213_level0_col0\" class=\"col_heading level0 col0\" >Model</th>\n",
       "      <th id=\"T_9d213_level0_col1\" class=\"col_heading level0 col1\" >Best Params</th>\n",
       "      <th id=\"T_9d213_level0_col2\" class=\"col_heading level0 col2\" >F1 Score</th>\n",
       "      <th id=\"T_9d213_level0_col3\" class=\"col_heading level0 col3\" >Accuracy</th>\n",
       "      <th id=\"T_9d213_level0_col4\" class=\"col_heading level0 col4\" >Precision</th>\n",
       "      <th id=\"T_9d213_level0_col5\" class=\"col_heading level0 col5\" >Recall</th>\n",
       "      <th id=\"T_9d213_level0_col6\" class=\"col_heading level0 col6\" >ROC AUC</th>\n",
       "    </tr>\n",
       "  </thead>\n",
       "  <tbody>\n",
       "    <tr>\n",
       "      <th id=\"T_9d213_level0_row0\" class=\"row_heading level0 row0\" >0</th>\n",
       "      <td id=\"T_9d213_row0_col0\" class=\"data row0 col0\" >Logistic</td>\n",
       "      <td id=\"T_9d213_row0_col1\" class=\"data row0 col1\" >{'clf__C': 10}</td>\n",
       "      <td id=\"T_9d213_row0_col2\" class=\"data row0 col2\" >0.941027</td>\n",
       "      <td id=\"T_9d213_row0_col3\" class=\"data row0 col3\" >0.951850</td>\n",
       "      <td id=\"T_9d213_row0_col4\" class=\"data row0 col4\" >0.950923</td>\n",
       "      <td id=\"T_9d213_row0_col5\" class=\"data row0 col5\" >0.931334</td>\n",
       "      <td id=\"T_9d213_row0_col6\" class=\"data row0 col6\" >0.987052</td>\n",
       "    </tr>\n",
       "    <tr>\n",
       "      <th id=\"T_9d213_level0_row1\" class=\"row_heading level0 row1\" >1</th>\n",
       "      <td id=\"T_9d213_row1_col0\" class=\"data row1 col0\" >SVM</td>\n",
       "      <td id=\"T_9d213_row1_col1\" class=\"data row1 col1\" >{'clf__C': 1, 'clf__kernel': 'rbf'}</td>\n",
       "      <td id=\"T_9d213_row1_col2\" class=\"data row1 col2\" >0.945431</td>\n",
       "      <td id=\"T_9d213_row1_col3\" class=\"data row1 col3\" >0.955780</td>\n",
       "      <td id=\"T_9d213_row1_col4\" class=\"data row1 col4\" >0.962807</td>\n",
       "      <td id=\"T_9d213_row1_col5\" class=\"data row1 col5\" >0.928672</td>\n",
       "      <td id=\"T_9d213_row1_col6\" class=\"data row1 col6\" >0.989245</td>\n",
       "    </tr>\n",
       "    <tr>\n",
       "      <th id=\"T_9d213_level0_row2\" class=\"row_heading level0 row2\" >2</th>\n",
       "      <td id=\"T_9d213_row2_col0\" class=\"data row2 col0\" >KNN</td>\n",
       "      <td id=\"T_9d213_row2_col1\" class=\"data row2 col1\" >{'clf__n_neighbors': 9}</td>\n",
       "      <td id=\"T_9d213_row2_col2\" class=\"data row2 col2\" >0.925454</td>\n",
       "      <td id=\"T_9d213_row2_col3\" class=\"data row2 col3\" >0.941445</td>\n",
       "      <td id=\"T_9d213_row2_col4\" class=\"data row2 col4\" >0.974430</td>\n",
       "      <td id=\"T_9d213_row2_col5\" class=\"data row2 col5\" >0.881166</td>\n",
       "      <td id=\"T_9d213_row2_col6\" class=\"data row2 col6\" >0.977520</td>\n",
       "    </tr>\n",
       "    <tr>\n",
       "      <th id=\"T_9d213_level0_row3\" class=\"row_heading level0 row3\" >3</th>\n",
       "      <td id=\"T_9d213_row3_col0\" class=\"data row3 col0\" >MLP</td>\n",
       "      <td id=\"T_9d213_row3_col1\" class=\"data row3 col1\" >{'clf__alpha': 0.001, 'clf__hidden_layer_sizes': (16,)}</td>\n",
       "      <td id=\"T_9d213_row3_col2\" class=\"data row3 col2\" >0.943565</td>\n",
       "      <td id=\"T_9d213_row3_col3\" class=\"data row3 col3\" >0.954046</td>\n",
       "      <td id=\"T_9d213_row3_col4\" class=\"data row3 col4\" >0.956121</td>\n",
       "      <td id=\"T_9d213_row3_col5\" class=\"data row3 col5\" >0.931334</td>\n",
       "      <td id=\"T_9d213_row3_col6\" class=\"data row3 col6\" >0.988899</td>\n",
       "    </tr>\n",
       "    <tr>\n",
       "      <th id=\"T_9d213_level0_row4\" class=\"row_heading level0 row4\" >4</th>\n",
       "      <td id=\"T_9d213_row4_col0\" class=\"data row4 col0\" >XGBoost</td>\n",
       "      <td id=\"T_9d213_row4_col1\" class=\"data row4 col1\" >{'clf__max_depth': 3, 'clf__n_estimators': 200}</td>\n",
       "      <td id=\"T_9d213_row4_col2\" class=\"data row4 col2\" >0.947019</td>\n",
       "      <td id=\"T_9d213_row4_col3\" class=\"data row4 col3\" >0.956647</td>\n",
       "      <td id=\"T_9d213_row4_col4\" class=\"data row4 col4\" >0.954843</td>\n",
       "      <td id=\"T_9d213_row4_col5\" class=\"data row4 col5\" >0.939322</td>\n",
       "      <td id=\"T_9d213_row4_col6\" class=\"data row4 col6\" >0.990246</td>\n",
       "    </tr>\n",
       "  </tbody>\n",
       "</table>\n"
      ],
      "text/plain": [
       "<pandas.io.formats.style.Styler at 0x17c511a30>"
      ]
     },
     "metadata": {},
     "output_type": "display_data"
    }
   ],
   "source": [
    "# Define models and whether to scale\n",
    "models = {\n",
    "    \"Logistic\": LogisticRegression(solver=\"saga\", max_iter=5000),\n",
    "    \"SVM\": SVC(probability=True),\n",
    "    \"KNN\": KNeighborsClassifier(),\n",
    "    \"MLP\": MLPClassifier(max_iter=1000),\n",
    "    \"XGBoost\": XGBClassifier(eval_metric='logloss'),\n",
    "}\n",
    "\n",
    "param_grids = {\n",
    "    \"Logistic\": {\"clf__C\": [0.01, 0.1, 1, 10]},\n",
    "    \"SVM\":      {\"clf__C\": [0.1, 1, 10], \"clf__kernel\": [\"linear\", \"rbf\"]},\n",
    "    \"KNN\":      {\"clf__n_neighbors\": [3, 5, 7, 9]},\n",
    "    \"MLP\":      {\"clf__hidden_layer_sizes\": [(16,), (32,), (64,)], \"clf__alpha\": [1e-4, 1e-3]},\n",
    "    \"XGBoost\":  {\"clf__n_estimators\": [50, 100, 200], \"clf__max_depth\": [3, 5, 7]}\n",
    "}\n",
    "\n",
    "results_drop = []\n",
    "fitted_models_drop = {}\n",
    "for name, model in models.items():\n",
    "    scale = name != \"XGBoost\"\n",
    "    best_clf, metrics = evaluate_model_drop(\n",
    "        model=model,\n",
    "        param_grid=param_grids[name],\n",
    "        X=Xd_train_log[stable_genes_drop],  # or final_transferable_genes\n",
    "        y=yd_train,\n",
    "        name=name,\n",
    "        scale=scale,\n",
    "        save=True,\n",
    "        refit=True,\n",
    "        save_path=\"Models_drop\",\n",
    "        cv_folds=5\n",
    "    )\n",
    "    results_drop.append(metrics)\n",
    "    fitted_models_drop[name] = best_clf\n",
    "\n",
    "# Display summary\n",
    "dfd_results = pd.DataFrame(results_drop).drop(columns=[\"Confusion Matrix\"])\n",
    "print(\"\\n Summary of All Model Results:\")\n",
    "\n",
    "styled = dfd_results.style.apply(\n",
    "    highlight_single_best,\n",
    "    subset=[\"F1 Score\", \"Accuracy\", \"Precision\", \"Recall\", \"ROC AUC\"],\n",
    "    axis=0  # apply column-wise\n",
    ")\n",
    "\n",
    "display(styled)"
   ]
  },
  {
   "cell_type": "code",
   "execution_count": 65,
   "id": "ca912d0d",
   "metadata": {},
   "outputs": [
    {
     "name": "stdout",
     "output_type": "stream",
     "text": [
      "\n",
      "\n",
      "--- Final Evaluation on Held-Out Validation Set ---\n",
      "\n",
      "Logistic:\n",
      "F1 Score      : 0.9428\n",
      "Accuracy      : 0.9531\n",
      "Precision     : 0.9479\n",
      "Recall        : 0.9378\n",
      "ROC AUC       : 0.9864\n",
      "Confusion Mat :\n",
      "[[2449   92]\n",
      " [ 111 1674]]\n",
      "\n",
      "SVM:\n",
      "F1 Score      : 0.9449\n",
      "Accuracy      : 0.9552\n",
      "Precision     : 0.9590\n",
      "Recall        : 0.9311\n",
      "ROC AUC       : 0.9877\n",
      "Confusion Mat :\n",
      "[[2470   71]\n",
      " [ 123 1662]]\n",
      "\n",
      "KNN:\n",
      "F1 Score      : 0.9274\n",
      "Accuracy      : 0.9427\n",
      "Precision     : 0.9718\n",
      "Recall        : 0.8868\n",
      "ROC AUC       : 0.9781\n",
      "Confusion Mat :\n",
      "[[2495   46]\n",
      " [ 202 1583]]\n",
      "\n",
      "MLP:\n",
      "F1 Score      : 0.9472\n",
      "Accuracy      : 0.9568\n",
      "Precision     : 0.9540\n",
      "Recall        : 0.9406\n",
      "ROC AUC       : 0.9885\n",
      "Confusion Mat :\n",
      "[[2460   81]\n",
      " [ 106 1679]]\n",
      "\n",
      "XGBoost:\n",
      "F1 Score      : 0.9453\n",
      "Accuracy      : 0.9552\n",
      "Precision     : 0.9522\n",
      "Recall        : 0.9384\n",
      "ROC AUC       : 0.9886\n",
      "Confusion Mat :\n",
      "[[2457   84]\n",
      " [ 110 1675]]\n"
     ]
    }
   ],
   "source": [
    "print(\"\\n\\n--- Final Evaluation on Held-Out Validation Set ---\")\n",
    "for name, pipeline in fitted_models_drop.items():\n",
    "    print(f\"\\n{name}:\")\n",
    "    # pipeline includes scaler if needed\n",
    "    X_val = Xd_val_log[stable_genes_drop]\n",
    "    y_pred = pipeline.predict(X_val)\n",
    "    y_proba = pipeline.predict_proba(X_val)[:, 1]\n",
    "\n",
    "    print(f\"F1 Score      : {f1_score(yd_val, y_pred):.4f}\")\n",
    "    print(f\"Accuracy      : {accuracy_score(yd_val, y_pred):.4f}\")\n",
    "    print(f\"Precision     : {precision_score(yd_val, y_pred):.4f}\")\n",
    "    print(f\"Recall        : {recall_score(yd_val, y_pred):.4f}\")\n",
    "    print(f\"ROC AUC       : {roc_auc_score(yd_val, y_proba):.4f}\")\n",
    "    print(f\"Confusion Mat :\\n{confusion_matrix(yd_val, y_pred)}\")"
   ]
  },
  {
   "cell_type": "code",
   "execution_count": 66,
   "id": "ae892c2c",
   "metadata": {},
   "outputs": [
    {
     "data": {
      "image/png": "[encoded data removed]",
      "text/plain": [
       "<Figure size 400x300 with 2 Axes>"
      ]
     },
     "metadata": {},
     "output_type": "display_data"
    },
    {
     "data": {
      "image/png": "[encoded data removed]",
      "text/plain": [
       "<Figure size 400x300 with 2 Axes>"
      ]
     },
     "metadata": {},
     "output_type": "display_data"
    },
    {
     "data": {
      "image/png": "[encoded data removed]",
      "text/plain": [
       "<Figure size 400x300 with 2 Axes>"
      ]
     },
     "metadata": {},
     "output_type": "display_data"
    },
    {
     "data": {
      "image/png": "[encoded data removed]",
      "text/plain": [
       "<Figure size 400x300 with 2 Axes>"
      ]
     },
     "metadata": {},
     "output_type": "display_data"
    },
    {
     "data": {
      "image/png": "[encoded data removed]",
      "text/plain": [
       "<Figure size 400x300 with 2 Axes>"
      ]
     },
     "metadata": {},
     "output_type": "display_data"
    }
   ],
   "source": [
    "# Show confusion matrices after evaluation\n",
    "for result in results_drop:\n",
    "    cm = result[\"Confusion Matrix\"]\n",
    "    model_name = result[\"Model\"]\n",
    "    \n",
    "    plt.figure(figsize=(4, 3))\n",
    "    sns.heatmap(cm, annot=True, fmt='d', cmap='Blues')\n",
    "    plt.title(f\"{model_name} - Confusion Matrix\")\n",
    "    plt.xlabel(\"Predicted\")\n",
    "    plt.ylabel(\"True\")\n",
    "    plt.tight_layout()\n",
    "    plt.show()"
   ]
  },
  {
   "cell_type": "markdown",
   "id": "fd5eb3d9",
   "metadata": {},
   "source": [
    "#### - *Further Checks*"
   ]
  },
  {
   "cell_type": "code",
   "execution_count": 67,
   "id": "21eaa3d9",
   "metadata": {},
   "outputs": [
    {
     "name": "stdout",
     "output_type": "stream",
     "text": [
      "\n",
      " Evaluating: Shuffled_XGBoost\n",
      "Fitting 5 folds for each of 9 candidates, totalling 45 fits\n",
      " Best params: {'clf__max_depth': 7, 'clf__n_estimators': 100}\n",
      "Model          : Shuffled_XGBoost\n",
      "Best Params    : {'clf__max_depth': 7, 'clf__n_estimators': 100}\n",
      "F1 Score       : 0.2697\n",
      "Accuracy       : 0.5483\n",
      "Precision      : 0.4048\n",
      "Recall         : 0.2022\n",
      "ROC AUC        : 0.4956\n"
     ]
    }
   ],
   "source": [
    "# 1. Shuffle the labels\n",
    "y_shuffled_drop = np.random.permutation(yd_train)\n",
    "\n",
    "# 2. Evaluate on shuffled labels (no save, no refit)\n",
    "shuffled_clf, shuffled_metrics = evaluate_model_drop(\n",
    "    model= XGBClassifier(eval_metric='logloss'),\n",
    "    param_grid=param_grids[\"XGBoost\"],            \n",
    "    X=Xd_train_log[stable_genes_drop],\n",
    "    y=y_shuffled_drop,\n",
    "    name=\"Shuffled_XGBoost\",\n",
    "    scale=True,\n",
    "    refit=False,\n",
    "    save=False,\n",
    "    save_path=\"Models_drop\",\n",
    "    cv_folds=5\n",
    ")"
   ]
  },
  {
   "cell_type": "code",
   "execution_count": 68,
   "id": "25988f6d",
   "metadata": {},
   "outputs": [
    {
     "name": "stdout",
     "output_type": "stream",
     "text": [
      "\n",
      "Performance with 10% label corruption:\n",
      "\n",
      " Evaluating: XGBoost_Flipped\n",
      "Fitting 5 folds for each of 9 candidates, totalling 45 fits\n",
      " Best params: {'clf__max_depth': 3, 'clf__n_estimators': 100}\n",
      "Model          : XGBoost_Flipped\n",
      "Best Params    : {'clf__max_depth': 3, 'clf__n_estimators': 100}\n",
      "F1 Score       : 0.8320\n",
      "Accuracy       : 0.8615\n",
      "Precision      : 0.8604\n",
      "Recall         : 0.8055\n",
      "ROC AUC        : 0.8842\n"
     ]
    }
   ],
   "source": [
    "yd_train_flipped = flip_labels(yd_train, fraction=0.1)\n",
    "\n",
    "# Evaluate performance again with flipped labels\n",
    "model = XGBClassifier(eval_metric='logloss')\n",
    "\n",
    "print(\"\\nPerformance with 10% label corruption:\")\n",
    "clf_flipped, metrics_flipped = evaluate_model_drop(\n",
    "    model=model,\n",
    "    param_grid=param_grids[\"XGBoost\"],\n",
    "    X=Xd_train_log[stable_genes_drop],\n",
    "    y=yd_train_flipped,\n",
    "    name=\"XGBoost_Flipped\",\n",
    "    scale=True,\n",
    "    save=False,\n",
    "    refit=False\n",
    ")"
   ]
  },
  {
   "cell_type": "code",
   "execution_count": 69,
   "id": "e145d740",
   "metadata": {},
   "outputs": [
    {
     "name": "stdout",
     "output_type": "stream",
     "text": [
      "\n",
      " Evaluating: XGBoost_Flipped_30\n",
      "Fitting 5 folds for each of 9 candidates, totalling 45 fits\n",
      " Best params: {'clf__max_depth': 3, 'clf__n_estimators': 50}\n",
      "Model          : XGBoost_Flipped_30\n",
      "Best Params    : {'clf__max_depth': 3, 'clf__n_estimators': 50}\n",
      "F1 Score       : 0.6169\n",
      "Accuracy       : 0.6717\n",
      "Precision      : 0.6701\n",
      "Recall         : 0.5716\n",
      "ROC AUC        : 0.6875\n"
     ]
    }
   ],
   "source": [
    "yd_train_flipped_30 = flip_labels(yd_train, fraction=0.3)\n",
    "clf30, metrics30 = evaluate_model_drop(\n",
    "    model=XGBClassifier(eval_metric='logloss'),\n",
    "    param_grid=param_grids[\"XGBoost\"],\n",
    "    X=Xd_train_log[stable_genes_drop],\n",
    "    y=yd_train_flipped_30,\n",
    "    name=\"XGBoost_Flipped_30\",\n",
    "    scale=True,\n",
    "    save=False,\n",
    "    refit=False\n",
    ")"
   ]
  }
 ],
 "metadata": {
  "kernelspec": {
   "display_name": "ai_lab",
   "language": "python",
   "name": "python3"
  },
  "language_info": {
   "codemirror_mode": {
    "name": "ipython",
    "version": 3
   },
   "file_extension": ".py",
   "mimetype": "text/x-python",
   "name": "python",
   "nbconvert_exporter": "python",
   "pygments_lexer": "ipython3",
   "version": "3.12.2"
  }
 },
 "nbformat": 4,
 "nbformat_minor": 5
}
