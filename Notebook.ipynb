{
 "cells": [
  {
   "cell_type": "markdown",
   "metadata": {},
   "source": [
    "# **Machine Learning Across Breast Cancer Cell Lines**\n",
    "*Katia Russo, Enrico Adamo, Matteo Colantoni, Sofia Lambro, Andrea Porta*"
   ]
  },
  {
   "cell_type": "markdown",
   "metadata": {},
   "source": [
    "## - Introduction : background / aim / objective \n"
   ]
  },
  {
   "cell_type": "markdown",
   "metadata": {},
   "source": [
    "## - Material and Methods : "
   ]
  },
  {
   "cell_type": "markdown",
   "metadata": {},
   "source": [
    "## **Step 1** : Dataset Overview – *Understanding the Files*\n"
   ]
  },
  {
   "cell_type": "code",
   "execution_count": 12,
   "metadata": {},
   "outputs": [],
   "source": [
    "import sys\n",
    "import sklearn\n",
    "import pandas as pd\n",
    "import numpy as np\n",
    "import matplotlib.pyplot as plt\n",
    "import seaborn as sns"
   ]
  },
  {
   "cell_type": "markdown",
   "metadata": {},
   "source": [
    "Before diving into data exploration or modeling, it’s critical to understand what data is available, its origin, and how it’s structured.\n",
    "We are working with two different single-cell RNA sequencing technologies applied to two breast cancer cell lines, *MCF7* and *HCC1806*:\n",
    "- SmartSeq datasets:\n",
    "    - Metadata files\n",
    "    - Unfiltered raw data\n",
    "    - Filtered and normalised data both for training and testing\n",
    "- DropSeq datasets:\n",
    "    - Filtered and normalised data both for training and testing"
   ]
  },
  {
   "cell_type": "markdown",
   "metadata": {},
   "source": [
    "#### SmartSeq - metadata files:\n",
    "These files provide information about the cells that have been analyzed with the SmartSeq technology, such as their position or their condition (normoxia/hypoxia). The rows are the files representing each single cell, while the columns are the features."
   ]
  },
  {
   "cell_type": "code",
   "execution_count": 45,
   "metadata": {},
   "outputs": [
    {
     "name": "stdout",
     "output_type": "stream",
     "text": [
      "MCF7 Metadata\n",
      "Shape: (383, 8)\n",
      "First 5 rows:\n"
     ]
    },
    {
     "data": {
      "text/html": [
       "<div>\n",
       "<style scoped>\n",
       "    .dataframe tbody tr th:only-of-type {\n",
       "        vertical-align: middle;\n",
       "    }\n",
       "\n",
       "    .dataframe tbody tr th {\n",
       "        vertical-align: top;\n",
       "    }\n",
       "\n",
       "    .dataframe thead th {\n",
       "        text-align: right;\n",
       "    }\n",
       "</style>\n",
       "<table border=\"1\" class=\"dataframe\">\n",
       "  <thead>\n",
       "    <tr style=\"text-align: right;\">\n",
       "      <th></th>\n",
       "      <th>Cell Line</th>\n",
       "      <th>Lane</th>\n",
       "      <th>Pos</th>\n",
       "      <th>Condition</th>\n",
       "      <th>Hours</th>\n",
       "      <th>Cell name</th>\n",
       "      <th>PreprocessingTag</th>\n",
       "      <th>ProcessingComments</th>\n",
       "    </tr>\n",
       "    <tr>\n",
       "      <th>Filename</th>\n",
       "      <th></th>\n",
       "      <th></th>\n",
       "      <th></th>\n",
       "      <th></th>\n",
       "      <th></th>\n",
       "      <th></th>\n",
       "      <th></th>\n",
       "      <th></th>\n",
       "    </tr>\n",
       "  </thead>\n",
       "  <tbody>\n",
       "    <tr>\n",
       "      <th>output.STAR.1_A10_Hypo_S28_Aligned.sortedByCoord.out.bam</th>\n",
       "      <td>MCF7</td>\n",
       "      <td>output.STAR.1</td>\n",
       "      <td>A10</td>\n",
       "      <td>Hypo</td>\n",
       "      <td>72</td>\n",
       "      <td>S28</td>\n",
       "      <td>Aligned.sortedByCoord.out.bam</td>\n",
       "      <td>STAR,FeatureCounts</td>\n",
       "    </tr>\n",
       "    <tr>\n",
       "      <th>output.STAR.1_A11_Hypo_S29_Aligned.sortedByCoord.out.bam</th>\n",
       "      <td>MCF7</td>\n",
       "      <td>output.STAR.1</td>\n",
       "      <td>A11</td>\n",
       "      <td>Hypo</td>\n",
       "      <td>72</td>\n",
       "      <td>S29</td>\n",
       "      <td>Aligned.sortedByCoord.out.bam</td>\n",
       "      <td>STAR,FeatureCounts</td>\n",
       "    </tr>\n",
       "    <tr>\n",
       "      <th>output.STAR.1_A12_Hypo_S30_Aligned.sortedByCoord.out.bam</th>\n",
       "      <td>MCF7</td>\n",
       "      <td>output.STAR.1</td>\n",
       "      <td>A12</td>\n",
       "      <td>Hypo</td>\n",
       "      <td>72</td>\n",
       "      <td>S30</td>\n",
       "      <td>Aligned.sortedByCoord.out.bam</td>\n",
       "      <td>STAR,FeatureCounts</td>\n",
       "    </tr>\n",
       "    <tr>\n",
       "      <th>output.STAR.1_A1_Norm_S1_Aligned.sortedByCoord.out.bam</th>\n",
       "      <td>MCF7</td>\n",
       "      <td>output.STAR.1</td>\n",
       "      <td>A1</td>\n",
       "      <td>Norm</td>\n",
       "      <td>72</td>\n",
       "      <td>S1</td>\n",
       "      <td>Aligned.sortedByCoord.out.bam</td>\n",
       "      <td>STAR,FeatureCounts</td>\n",
       "    </tr>\n",
       "    <tr>\n",
       "      <th>output.STAR.1_A2_Norm_S2_Aligned.sortedByCoord.out.bam</th>\n",
       "      <td>MCF7</td>\n",
       "      <td>output.STAR.1</td>\n",
       "      <td>A2</td>\n",
       "      <td>Norm</td>\n",
       "      <td>72</td>\n",
       "      <td>S2</td>\n",
       "      <td>Aligned.sortedByCoord.out.bam</td>\n",
       "      <td>STAR,FeatureCounts</td>\n",
       "    </tr>\n",
       "  </tbody>\n",
       "</table>\n",
       "</div>"
      ],
      "text/plain": [
       "                                                   Cell Line           Lane  \\\n",
       "Filename                                                                      \n",
       "output.STAR.1_A10_Hypo_S28_Aligned.sortedByCoor...      MCF7  output.STAR.1   \n",
       "output.STAR.1_A11_Hypo_S29_Aligned.sortedByCoor...      MCF7  output.STAR.1   \n",
       "output.STAR.1_A12_Hypo_S30_Aligned.sortedByCoor...      MCF7  output.STAR.1   \n",
       "output.STAR.1_A1_Norm_S1_Aligned.sortedByCoord....      MCF7  output.STAR.1   \n",
       "output.STAR.1_A2_Norm_S2_Aligned.sortedByCoord....      MCF7  output.STAR.1   \n",
       "\n",
       "                                                    Pos Condition  Hours  \\\n",
       "Filename                                                                   \n",
       "output.STAR.1_A10_Hypo_S28_Aligned.sortedByCoor...  A10      Hypo     72   \n",
       "output.STAR.1_A11_Hypo_S29_Aligned.sortedByCoor...  A11      Hypo     72   \n",
       "output.STAR.1_A12_Hypo_S30_Aligned.sortedByCoor...  A12      Hypo     72   \n",
       "output.STAR.1_A1_Norm_S1_Aligned.sortedByCoord....   A1      Norm     72   \n",
       "output.STAR.1_A2_Norm_S2_Aligned.sortedByCoord....   A2      Norm     72   \n",
       "\n",
       "                                                   Cell name  \\\n",
       "Filename                                                       \n",
       "output.STAR.1_A10_Hypo_S28_Aligned.sortedByCoor...       S28   \n",
       "output.STAR.1_A11_Hypo_S29_Aligned.sortedByCoor...       S29   \n",
       "output.STAR.1_A12_Hypo_S30_Aligned.sortedByCoor...       S30   \n",
       "output.STAR.1_A1_Norm_S1_Aligned.sortedByCoord....        S1   \n",
       "output.STAR.1_A2_Norm_S2_Aligned.sortedByCoord....        S2   \n",
       "\n",
       "                                                                 PreprocessingTag  \\\n",
       "Filename                                                                            \n",
       "output.STAR.1_A10_Hypo_S28_Aligned.sortedByCoor...  Aligned.sortedByCoord.out.bam   \n",
       "output.STAR.1_A11_Hypo_S29_Aligned.sortedByCoor...  Aligned.sortedByCoord.out.bam   \n",
       "output.STAR.1_A12_Hypo_S30_Aligned.sortedByCoor...  Aligned.sortedByCoord.out.bam   \n",
       "output.STAR.1_A1_Norm_S1_Aligned.sortedByCoord....  Aligned.sortedByCoord.out.bam   \n",
       "output.STAR.1_A2_Norm_S2_Aligned.sortedByCoord....  Aligned.sortedByCoord.out.bam   \n",
       "\n",
       "                                                    ProcessingComments  \n",
       "Filename                                                                \n",
       "output.STAR.1_A10_Hypo_S28_Aligned.sortedByCoor...  STAR,FeatureCounts  \n",
       "output.STAR.1_A11_Hypo_S29_Aligned.sortedByCoor...  STAR,FeatureCounts  \n",
       "output.STAR.1_A12_Hypo_S30_Aligned.sortedByCoor...  STAR,FeatureCounts  \n",
       "output.STAR.1_A1_Norm_S1_Aligned.sortedByCoord....  STAR,FeatureCounts  \n",
       "output.STAR.1_A2_Norm_S2_Aligned.sortedByCoord....  STAR,FeatureCounts  "
      ]
     },
     "execution_count": 45,
     "metadata": {},
     "output_type": "execute_result"
    }
   ],
   "source": [
    "# Load the metadata files\n",
    "mcf_meta = pd.read_csv(\"SmartSeq/MCF7_SmartS_MetaData.tsv\", sep=\"\\t\", engine= \"python\", index_col=0)\n",
    "\n",
    "# Inspect the shape and structure for MCF7\n",
    "print(\"MCF7 Metadata\")\n",
    "print(\"Shape:\", mcf_meta.shape)\n",
    "print(\"First 5 rows:\")\n",
    "mcf_meta.head(5)"
   ]
  },
  {
   "cell_type": "code",
   "execution_count": 46,
   "metadata": {},
   "outputs": [
    {
     "name": "stdout",
     "output_type": "stream",
     "text": [
      "\n",
      "HCC1806 Metadata\n",
      "Shape: (243, 8)\n",
      "First 5 rows:\n"
     ]
    },
    {
     "data": {
      "text/html": [
       "<div>\n",
       "<style scoped>\n",
       "    .dataframe tbody tr th:only-of-type {\n",
       "        vertical-align: middle;\n",
       "    }\n",
       "\n",
       "    .dataframe tbody tr th {\n",
       "        vertical-align: top;\n",
       "    }\n",
       "\n",
       "    .dataframe thead th {\n",
       "        text-align: right;\n",
       "    }\n",
       "</style>\n",
       "<table border=\"1\" class=\"dataframe\">\n",
       "  <thead>\n",
       "    <tr style=\"text-align: right;\">\n",
       "      <th></th>\n",
       "      <th>Cell Line</th>\n",
       "      <th>PCR Plate</th>\n",
       "      <th>Pos</th>\n",
       "      <th>Condition</th>\n",
       "      <th>Hours</th>\n",
       "      <th>Cell name</th>\n",
       "      <th>PreprocessingTag</th>\n",
       "      <th>ProcessingComments</th>\n",
       "    </tr>\n",
       "    <tr>\n",
       "      <th>Filename</th>\n",
       "      <th></th>\n",
       "      <th></th>\n",
       "      <th></th>\n",
       "      <th></th>\n",
       "      <th></th>\n",
       "      <th></th>\n",
       "      <th></th>\n",
       "      <th></th>\n",
       "    </tr>\n",
       "  </thead>\n",
       "  <tbody>\n",
       "    <tr>\n",
       "      <th>output.STAR.PCRPlate1A10_Normoxia_S123_Aligned.sortedByCoord.out.bam</th>\n",
       "      <td>HCC1806</td>\n",
       "      <td>1</td>\n",
       "      <td>A10</td>\n",
       "      <td>Normo</td>\n",
       "      <td>24</td>\n",
       "      <td>S123</td>\n",
       "      <td>Aligned.sortedByCoord.out.bam</td>\n",
       "      <td>STAR,FeatureCounts</td>\n",
       "    </tr>\n",
       "    <tr>\n",
       "      <th>output.STAR.PCRPlate1A12_Normoxia_S26_Aligned.sortedByCoord.out.bam</th>\n",
       "      <td>HCC1806</td>\n",
       "      <td>1</td>\n",
       "      <td>A12</td>\n",
       "      <td>Normo</td>\n",
       "      <td>24</td>\n",
       "      <td>S26</td>\n",
       "      <td>Aligned.sortedByCoord.out.bam</td>\n",
       "      <td>STAR,FeatureCounts</td>\n",
       "    </tr>\n",
       "    <tr>\n",
       "      <th>output.STAR.PCRPlate1A1_Hypoxia_S97_Aligned.sortedByCoord.out.bam</th>\n",
       "      <td>HCC1806</td>\n",
       "      <td>1</td>\n",
       "      <td>A1</td>\n",
       "      <td>Hypo</td>\n",
       "      <td>24</td>\n",
       "      <td>S97</td>\n",
       "      <td>Aligned.sortedByCoord.out.bam</td>\n",
       "      <td>STAR,FeatureCounts</td>\n",
       "    </tr>\n",
       "    <tr>\n",
       "      <th>output.STAR.PCRPlate1A2_Hypoxia_S104_Aligned.sortedByCoord.out.bam</th>\n",
       "      <td>HCC1806</td>\n",
       "      <td>1</td>\n",
       "      <td>A2</td>\n",
       "      <td>Hypo</td>\n",
       "      <td>24</td>\n",
       "      <td>S104</td>\n",
       "      <td>Aligned.sortedByCoord.out.bam</td>\n",
       "      <td>STAR,FeatureCounts</td>\n",
       "    </tr>\n",
       "    <tr>\n",
       "      <th>output.STAR.PCRPlate1A3_Hypoxia_S4_Aligned.sortedByCoord.out.bam</th>\n",
       "      <td>HCC1806</td>\n",
       "      <td>1</td>\n",
       "      <td>A3</td>\n",
       "      <td>Hypo</td>\n",
       "      <td>24</td>\n",
       "      <td>S4</td>\n",
       "      <td>Aligned.sortedByCoord.out.bam</td>\n",
       "      <td>STAR,FeatureCounts</td>\n",
       "    </tr>\n",
       "  </tbody>\n",
       "</table>\n",
       "</div>"
      ],
      "text/plain": [
       "                                                   Cell Line  PCR Plate  Pos  \\\n",
       "Filename                                                                       \n",
       "output.STAR.PCRPlate1A10_Normoxia_S123_Aligned....   HCC1806          1  A10   \n",
       "output.STAR.PCRPlate1A12_Normoxia_S26_Aligned.s...   HCC1806          1  A12   \n",
       "output.STAR.PCRPlate1A1_Hypoxia_S97_Aligned.sor...   HCC1806          1   A1   \n",
       "output.STAR.PCRPlate1A2_Hypoxia_S104_Aligned.so...   HCC1806          1   A2   \n",
       "output.STAR.PCRPlate1A3_Hypoxia_S4_Aligned.sort...   HCC1806          1   A3   \n",
       "\n",
       "                                                   Condition  Hours Cell name  \\\n",
       "Filename                                                                        \n",
       "output.STAR.PCRPlate1A10_Normoxia_S123_Aligned....     Normo     24      S123   \n",
       "output.STAR.PCRPlate1A12_Normoxia_S26_Aligned.s...     Normo     24       S26   \n",
       "output.STAR.PCRPlate1A1_Hypoxia_S97_Aligned.sor...      Hypo     24       S97   \n",
       "output.STAR.PCRPlate1A2_Hypoxia_S104_Aligned.so...      Hypo     24      S104   \n",
       "output.STAR.PCRPlate1A3_Hypoxia_S4_Aligned.sort...      Hypo     24        S4   \n",
       "\n",
       "                                                                 PreprocessingTag  \\\n",
       "Filename                                                                            \n",
       "output.STAR.PCRPlate1A10_Normoxia_S123_Aligned....  Aligned.sortedByCoord.out.bam   \n",
       "output.STAR.PCRPlate1A12_Normoxia_S26_Aligned.s...  Aligned.sortedByCoord.out.bam   \n",
       "output.STAR.PCRPlate1A1_Hypoxia_S97_Aligned.sor...  Aligned.sortedByCoord.out.bam   \n",
       "output.STAR.PCRPlate1A2_Hypoxia_S104_Aligned.so...  Aligned.sortedByCoord.out.bam   \n",
       "output.STAR.PCRPlate1A3_Hypoxia_S4_Aligned.sort...  Aligned.sortedByCoord.out.bam   \n",
       "\n",
       "                                                    ProcessingComments  \n",
       "Filename                                                                \n",
       "output.STAR.PCRPlate1A10_Normoxia_S123_Aligned....  STAR,FeatureCounts  \n",
       "output.STAR.PCRPlate1A12_Normoxia_S26_Aligned.s...  STAR,FeatureCounts  \n",
       "output.STAR.PCRPlate1A1_Hypoxia_S97_Aligned.sor...  STAR,FeatureCounts  \n",
       "output.STAR.PCRPlate1A2_Hypoxia_S104_Aligned.so...  STAR,FeatureCounts  \n",
       "output.STAR.PCRPlate1A3_Hypoxia_S4_Aligned.sort...  STAR,FeatureCounts  "
      ]
     },
     "execution_count": 46,
     "metadata": {},
     "output_type": "execute_result"
    }
   ],
   "source": [
    "# Load the metadata files\n",
    "hcc_meta = pd.read_csv(\"SmartSeq/HCC1806_SmartS_MetaData.tsv\", sep=\"\\t\", engine= \"python\", index_col=0)\n",
    "\n",
    "# Inspect the shape and structure for HCC1806\n",
    "print(\"\\nHCC1806 Metadata\")\n",
    "print(\"Shape:\", hcc_meta.shape)\n",
    "print(\"First 5 rows:\")\n",
    "hcc_meta.head(5)"
   ]
  },
  {
   "cell_type": "markdown",
   "metadata": {},
   "source": [
    "Now we download the actual sequencing data. Understanding the shape and the content of the data will give us insights on the structure of the datasets we are going to use."
   ]
  },
  {
   "cell_type": "markdown",
   "metadata": {},
   "source": [
    "#### SmartSeq - MCF7:"
   ]
  },
  {
   "cell_type": "code",
   "execution_count": 47,
   "metadata": {},
   "outputs": [
    {
     "name": "stdout",
     "output_type": "stream",
     "text": [
      "MCF7 Unfiltered\n",
      "Dataframe dimension: (22934, 383)\n",
      "First column:  \"WASH7P\"       0\n",
      "\"MIR6859-1\"    0\n",
      "\"WASH9P\"       1\n",
      "\"OR4F29\"       0\n",
      "\"MTND1P23\"     0\n",
      "Name: \"output.STAR.1_A10_Hypo_S28_Aligned.sortedByCoord.out.bam\", dtype: int64\n",
      "\n",
      "MCF7 Filtered\n",
      "Dataframe dimension: (18945, 313)\n",
      "First column:  \"WASH7P\"       0\n",
      "\"MIR6859-1\"    0\n",
      "\"WASH9P\"       1\n",
      "\"OR4F29\"       0\n",
      "\"MTND1P23\"     0\n",
      "Name: \"output.STAR.1_A10_Hypo_S28_Aligned.sortedByCoord.out.bam\", dtype: int64\n",
      "\n",
      "MCF7 Training Dataset\n",
      "Dataframe dimension: (3000, 250)\n",
      "First column:  \"CYP1B1\"        343\n",
      "\"CYP1B1-AS1\"    140\n",
      "\"CYP1A1\"          0\n",
      "\"NDRG1\"           0\n",
      "\"DDIT4\"         386\n",
      "Name: \"output.STAR.2_B3_Norm_S57_Aligned.sortedByCoord.out.bam\", dtype: int64\n",
      "\n",
      "MCF7 Testing Dataset\n",
      "Dataframe dimension: (3000, 63)\n",
      "First column: \"CYP1B1\"         492\n",
      "\"CYP1B1-AS1\"     253\n",
      "\"CYP1A1\"           0\n",
      "\"NDRG1\"         1157\n",
      "\"DDIT4\"         6805\n",
      "Name: \"1\", dtype: int64\n"
     ]
    }
   ],
   "source": [
    "# Load the filtered dataset with the SmartSeq technology\n",
    "dfs_mcf_unfiltered = pd.read_csv(\"SmartSeq/MCF7_SmartS_Unfiltered_Data.txt\", sep=r\"\\s+\", engine= \"python\", index_col=0)\n",
    "dfs_mcf_filtered = pd.read_csv(\"SmartSeq/MCF7_SmartS_Filtered_Data.txt\", sep=r\"\\s+\", engine= \"python\", index_col=0)\n",
    "dfs_mcf_train = pd.read_csv(\"SmartSeq/MCF7_SmartS_Filtered_Normalised_3000_Data_train.txt\", sep=r\"\\s+\", engine= \"python\", index_col=0)\n",
    "dfs_mcf_test = pd.read_csv(\"SmartSeq/MCF7_SmartS_Filtered_Normalised_3000_Data_test_anonim.txt\", sep=r\"\\s+\", engine= \"python\", index_col=0)\n",
    "\n",
    "# Inspect the shape and structure for MCF7\n",
    "print(\"MCF7 Unfiltered\")\n",
    "print(\"Dataframe dimension:\", dfs_mcf_unfiltered.shape)\n",
    "print(\"First column: \", dfs_mcf_unfiltered.iloc[ : , 0].head())\n",
    "\n",
    "print(\"\\nMCF7 Filtered\")\n",
    "print(\"Dataframe dimension:\", dfs_mcf_filtered.shape)\n",
    "print(\"First column: \", dfs_mcf_filtered.iloc[ : , 0].head())\n",
    "\n",
    "print(\"\\nMCF7 Training Dataset\")\n",
    "print(\"Dataframe dimension:\", dfs_mcf_train.shape)\n",
    "print(\"First column: \", dfs_mcf_train.iloc[ : , 0].head())\n",
    "\n",
    "print(\"\\nMCF7 Testing Dataset\")\n",
    "print(\"Dataframe dimension:\", dfs_mcf_test.shape)\n",
    "print(\"First column:\", dfs_mcf_test.iloc[ : , 0].head())"
   ]
  },
  {
   "cell_type": "markdown",
   "metadata": {},
   "source": [
    "#### SmartSeq - HCC1806"
   ]
  },
  {
   "cell_type": "code",
   "execution_count": 48,
   "metadata": {},
   "outputs": [
    {
     "name": "stdout",
     "output_type": "stream",
     "text": [
      "HCC1806 Unfiltered\n",
      "Dataframe dimension: (23396, 243)\n",
      "First column:  \"WASH7P\"      0\n",
      "\"CICP27\"      0\n",
      "\"DDX11L17\"    0\n",
      "\"WASH9P\"      0\n",
      "\"OR4F29\"      2\n",
      "Name: \"output.STAR.PCRPlate1A10_Normoxia_S123_Aligned.sortedByCoord.out.bam\", dtype: int64\n",
      "\n",
      "HCC1806 Filtered\n",
      "Dataframe dimension: (19503, 227)\n",
      "First column:  \"CICP27\"        0\n",
      "\"DDX11L17\"      0\n",
      "\"WASH9P\"        0\n",
      "\"OR4F29\"        2\n",
      "\"MTND1P23\"    250\n",
      "Name: \"output.STAR.PCRPlate1A10_Normoxia_S123_Aligned.sortedByCoord.out.bam\", dtype: int64\n",
      "\n",
      "HCC1806 Training Dataset\n",
      "Dataframe dimension: (3000, 182)\n",
      "First column:  \"DDIT4\"        0\n",
      "\"ANGPTL4\"     48\n",
      "\"CALML5\"       0\n",
      "\"KRT14\"      321\n",
      "\"CCNB1\"      298\n",
      "Name: \"output.STAR.PCRPlate1G12_Normoxia_S32_Aligned.sortedByCoord.out.bam\", dtype: int64\n",
      "\n",
      "HCC1806 Testing Dataset\n",
      "Dataframe dimension: (3000, 45)\n",
      "First column:  \"DDIT4\"        0\n",
      "\"ANGPTL4\"      0\n",
      "\"CALML5\"       0\n",
      "\"KRT14\"      169\n",
      "\"CCNB1\"      233\n",
      "Name: \"1\", dtype: int64\n"
     ]
    }
   ],
   "source": [
    "# Load the filtered dataset with the SmartSeq technology\n",
    "dfs_hcc_unfiltered = pd.read_csv(\"SmartSeq/HCC1806_SmartS_Unfiltered_Data.txt\", sep=r\"\\s+\", engine= \"python\", index_col=0)\n",
    "dfs_hcc_filtered = pd.read_csv(\"SmartSeq/HCC1806_SmartS_Filtered_Data.txt\", sep=r\"\\s+\", engine= \"python\", index_col=0)\n",
    "dfs_hcc_train = pd.read_csv(\"SmartSeq/HCC1806_SmartS_Filtered_Normalised_3000_Data_train.txt\", sep=r\"\\s+\", engine= \"python\", index_col=0)\n",
    "dfs_hcc_test = pd.read_csv(\"SmartSeq/HCC1806_SmartS_Filtered_Normalised_3000_Data_test_anonim.txt\", sep=r\"\\s+\", engine= \"python\", index_col=0)\n",
    "\n",
    "# Inspect the shape and structure for HCC1806\n",
    "print(\"HCC1806 Unfiltered\")\n",
    "print(\"Dataframe dimension:\", dfs_hcc_unfiltered.shape)\n",
    "print(\"First column: \", dfs_hcc_unfiltered.iloc[ : , 0].head())\n",
    "\n",
    "print(\"\\nHCC1806 Filtered\")\n",
    "print(\"Dataframe dimension:\", dfs_hcc_filtered.shape)\n",
    "print(\"First column: \", dfs_hcc_filtered.iloc[ : , 0].head())\n",
    "\n",
    "print(\"\\nHCC1806 Training Dataset\")\n",
    "print(\"Dataframe dimension:\", dfs_hcc_train.shape)\n",
    "print(\"First column: \", dfs_hcc_train.iloc[ : , 0].head())\n",
    "\n",
    "print(\"\\nHCC1806 Testing Dataset\")\n",
    "print(\"Dataframe dimension:\", dfs_hcc_test.shape)\n",
    "print(\"First column: \", dfs_hcc_test.iloc[ : , 0].head())"
   ]
  },
  {
   "cell_type": "markdown",
   "metadata": {},
   "source": [
    "We checked content and dimension of all the datasets we had for the SmartSeq technology. We can notice that we have the cells on the columns, while the rows are the genes, in this way the datasets give us information on the gene expression profiles in the cells. Moreover, the number of columns of the unfiltered data matches the number of rows of the metadatas, so we have information on the condition of each cell."
   ]
  },
  {
   "cell_type": "markdown",
   "metadata": {},
   "source": [
    "#### DropSeq - MCF7:"
   ]
  },
  {
   "cell_type": "code",
   "execution_count": 49,
   "metadata": {},
   "outputs": [
    {
     "name": "stdout",
     "output_type": "stream",
     "text": [
      "MCF7 Training Dataset\n",
      "Dataframe dimension: (3000, 14682)\n",
      "First column:  \"H1-5\"       2\n",
      "\"MALAT1\"     3\n",
      "\"MT-RNR2\"    0\n",
      "\"ARVCF\"      0\n",
      "\"BCYRN1\"     0\n",
      "Name: \"AAAAAACCCGGC_Normoxia\", dtype: int64\n",
      "\n",
      "MCF7 Testing Dataset\n",
      "Dataframe dimension: (3000, 3671)\n",
      "First column:  \"H1-5\"       0\n",
      "\"MALAT1\"     3\n",
      "\"MT-RNR2\"    1\n",
      "\"ARVCF\"      0\n",
      "\"BCYRN1\"     2\n",
      "Name: \"1\", dtype: int64\n"
     ]
    }
   ],
   "source": [
    "# Load the filtered dataset with the DropSeqSeq technology\n",
    "dfd_mtf_train = pd.read_csv(\"DropSeq/HCC1806_Filtered_Normalised_3000_Data_train.txt\", sep=r\"\\s+\", engine= \"python\", index_col=0)\n",
    "dfd_mtf_test = pd.read_csv(\"DropSeq/HCC1806_Filtered_Normalised_3000_Data_test_anonim.txt\", sep=r\"\\s+\", engine= \"python\", index_col=0)\n",
    "\n",
    "# Inspect the shape and structure for MCF7\n",
    "print(\"MCF7 Training Dataset\")\n",
    "print(\"Dataframe dimension:\", dfd_mtf_train.shape)\n",
    "print(\"First column: \", dfd_mtf_train.iloc[ : , 0].head())\n",
    "\n",
    "print(\"\\nMCF7 Testing Dataset\")\n",
    "print(\"Dataframe dimension:\", dfd_mtf_test.shape)\n",
    "print(\"First column: \", dfd_mtf_test.iloc[ : , 0].head())\n"
   ]
  },
  {
   "cell_type": "markdown",
   "metadata": {},
   "source": [
    "#### DropSeq - HCC1806"
   ]
  },
  {
   "cell_type": "code",
   "execution_count": 50,
   "metadata": {},
   "outputs": [
    {
     "name": "stdout",
     "output_type": "stream",
     "text": [
      "\n",
      "HCC1806 Training Dataset\n",
      "Dataframe dimension: (3000, 21626)\n",
      "First column:  \"MALAT1\"     1\n",
      "\"MT-RNR2\"    0\n",
      "\"NEAT1\"      0\n",
      "\"H1-5\"       0\n",
      "\"TFF1\"       4\n",
      "Name: \"AAAAACCTATCG_Normoxia\", dtype: int64\n",
      "\n",
      "HCC1806 Testing Dataset\n",
      "Dataframe dimension: (3000, 5406)\n",
      "First column:  \"MALAT1\"     0\n",
      "\"MT-RNR2\"    0\n",
      "\"NEAT1\"      0\n",
      "\"H1-5\"       0\n",
      "\"TFF1\"       3\n",
      "Name: \"1\", dtype: int64\n"
     ]
    }
   ],
   "source": [
    "# Load the filtered dataset with the DropSeqSeq technology\n",
    "dfd_hcc_train = pd.read_csv(\"DropSeq/MCF7_Filtered_Normalised_3000_Data_train.txt\", sep=r\"\\s+\", engine= \"python\", index_col=0)\n",
    "dfd_hcc_test = pd.read_csv(\"DropSeq/MCF7_Filtered_Normalised_3000_Data_test_anonim.txt\", sep=r\"\\s+\", engine= \"python\", index_col=0)\n",
    "\n",
    "\n",
    "# Inspect the shape and structure for HCC1806\n",
    "print(\"\\nHCC1806 Training Dataset\")\n",
    "print(\"Dataframe dimension:\", dfd_hcc_train.shape)\n",
    "print(\"First column: \", dfd_hcc_train.iloc[ : , 0].head())\n",
    "\n",
    "print(\"\\nHCC1806 Testing Dataset\")\n",
    "print(\"Dataframe dimension:\", dfd_hcc_test.shape)\n",
    "print(\"First column: \", dfd_hcc_test.iloc[ : , 0].head())"
   ]
  },
  {
   "cell_type": "markdown",
   "metadata": {},
   "source": [
    "At first sight we can immediately notice the difference in dimension between SmartSeq and DropSeq datasets, given by how each technology works."
   ]
  },
  {
   "cell_type": "markdown",
   "metadata": {},
   "source": [
    "For both technologies we have the training and testing datasets where have been retained exactly 3000 genes, probably the most variable ones. We are going to use them for training and testing our model."
   ]
  },
  {
   "cell_type": "markdown",
   "metadata": {},
   "source": [
    "The absence of metadata files for the DropSeq experiment make us think that we need two different approach when analyzing the different techniques, probably requiring unsupervised learning for the latter."
   ]
  },
  {
   "cell_type": "markdown",
   "metadata": {},
   "source": [
    "---"
   ]
  },
  {
   "cell_type": "markdown",
   "metadata": {},
   "source": [
    "## **Step 2** : Exploratory Data Analysis"
   ]
  },
  {
   "cell_type": "markdown",
   "metadata": {},
   "source": [
    "We now will go deeper in the analysis of the row data, exploring both cell lines independently."
   ]
  },
  {
   "cell_type": "markdown",
   "metadata": {},
   "source": [
    "### **MCF7 Cell Line**"
   ]
  },
  {
   "cell_type": "markdown",
   "metadata": {},
   "source": [
    "### **2.1** Data Integrity Checks"
   ]
  },
  {
   "cell_type": "markdown",
   "metadata": {},
   "source": [
    "#### - *Check Data Type*\n",
    "We are going to verify that data is all numeric where needed and that the gene identifier are of consistent type."
   ]
  },
  {
   "cell_type": "code",
   "execution_count": 51,
   "metadata": {},
   "outputs": [
    {
     "data": {
      "text/plain": [
       "\"output.STAR.1_A10_Hypo_S28_Aligned.sortedByCoord.out.bam\"    int64\n",
       "\"output.STAR.1_A11_Hypo_S29_Aligned.sortedByCoord.out.bam\"    int64\n",
       "\"output.STAR.1_A12_Hypo_S30_Aligned.sortedByCoord.out.bam\"    int64\n",
       "\"output.STAR.1_A1_Norm_S1_Aligned.sortedByCoord.out.bam\"      int64\n",
       "\"output.STAR.1_A2_Norm_S2_Aligned.sortedByCoord.out.bam\"      int64\n",
       "                                                              ...  \n",
       "\"output.STAR.4_H5_Norm_S359_Aligned.sortedByCoord.out.bam\"    int64\n",
       "\"output.STAR.4_H6_Norm_S360_Aligned.sortedByCoord.out.bam\"    int64\n",
       "\"output.STAR.4_H7_Hypo_S379_Aligned.sortedByCoord.out.bam\"    int64\n",
       "\"output.STAR.4_H8_Hypo_S380_Aligned.sortedByCoord.out.bam\"    int64\n",
       "\"output.STAR.4_H9_Hypo_S381_Aligned.sortedByCoord.out.bam\"    int64\n",
       "Length: 383, dtype: object"
      ]
     },
     "execution_count": 51,
     "metadata": {},
     "output_type": "execute_result"
    }
   ],
   "source": [
    "dfs_mcf_unfiltered.dtypes"
   ]
  },
  {
   "cell_type": "code",
   "execution_count": 52,
   "metadata": {},
   "outputs": [
    {
     "name": "stdout",
     "output_type": "stream",
     "text": [
      "Non-numeric columns: []\n"
     ]
    }
   ],
   "source": [
    "non_numeric_cols = dfs_mcf_unfiltered.select_dtypes(exclude=['number']).columns\n",
    "print(\"Non-numeric columns:\", non_numeric_cols.tolist())"
   ]
  },
  {
   "cell_type": "markdown",
   "metadata": {},
   "source": [
    "#### - *Check Missing Values*"
   ]
  },
  {
   "cell_type": "code",
   "execution_count": 55,
   "metadata": {},
   "outputs": [
    {
     "name": "stdout",
     "output_type": "stream",
     "text": [
      "Cells with missing values: 0\n",
      "Genes with missing values: 0\n"
     ]
    }
   ],
   "source": [
    "# Per cell\n",
    "missing_per_cell = dfs_mcf_unfiltered.isna().sum(axis=0)\n",
    "print(\"Cells with missing values:\", (missing_per_cell > 0).sum())\n",
    "\n",
    "# Per gene\n",
    "missing_per_gene = dfs_mcf_unfiltered.isna().sum(axis=1)\n",
    "print(\"Genes with missing values:\", (missing_per_gene > 0).sum())"
   ]
  },
  {
   "cell_type": "markdown",
   "metadata": {},
   "source": [
    "#### - *Check for Duplicate Genes*"
   ]
  },
  {
   "cell_type": "code",
   "execution_count": 56,
   "metadata": {},
   "outputs": [
    {
     "name": "stdout",
     "output_type": "stream",
     "text": [
      "Number of duplicated genes: 0\n"
     ]
    }
   ],
   "source": [
    "duplicates = dfs_mcf_unfiltered.index.duplicated()\n",
    "print(f\"Number of duplicated genes: {duplicates.sum()}\")"
   ]
  },
  {
   "cell_type": "markdown",
   "metadata": {},
   "source": [
    "### **HCC1806 Cell line**"
   ]
  }
 ],
 "metadata": {
  "kernelspec": {
   "display_name": "ai_lab",
   "language": "python",
   "name": "python3"
  },
  "language_info": {
   "codemirror_mode": {
    "name": "ipython",
    "version": 3
   },
   "file_extension": ".py",
   "mimetype": "text/x-python",
   "name": "python",
   "nbconvert_exporter": "python",
   "pygments_lexer": "ipython3",
   "version": "3.12.9"
  }
 },
 "nbformat": 4,
 "nbformat_minor": 2
}
